{
 "cells": [
  {
   "cell_type": "markdown",
   "metadata": {},
   "source": [
    "# Sentiment Analysis\n",
    "\n",
    "## Using XGBoost in SageMaker\n",
    "\n",
    "_Deep Learning Nanodegree Program | Deployment_\n",
    "\n",
    "---\n",
    "\n",
    "In this example of using Amazon's SageMaker service we will construct a random tree model to predict the sentiment of a movie review. You may have seen a version of this example in a pervious lesson although it would have been done using the sklearn package. Instead, we will be using the XGBoost package as it is provided to us by Amazon.\n",
    "\n",
    "## Instructions\n",
    "\n",
    "Some template code has already been provided for you, and you will need to implement additional functionality to successfully complete this notebook. You will not need to modify the included code beyond what is requested. Sections that begin with '**TODO**' in the header indicate that you need to complete or implement some portion within them. Instructions will be provided for each section and the specifics of the implementation are marked in the code block with a `# TODO: ...` comment. Please be sure to read the instructions carefully!\n",
    "\n",
    "In addition to implementing code, there will be questions for you to answer which relate to the task and your implementation. Each section where you will answer a question is preceded by a '**Question:**' header. Carefully read each question and provide your answer below the '**Answer:**' header by editing the Markdown cell.\n",
    "\n",
    "> **Note**: Code and Markdown cells can be executed using the **Shift+Enter** keyboard shortcut. In addition, a cell can be edited by typically clicking it (double-click for Markdown cells) or by pressing **Enter** while it is highlighted."
   ]
  },
  {
   "cell_type": "markdown",
   "metadata": {},
   "source": [
    "## Step 1: Downloading the data\n",
    "\n",
    "The dataset we are going to use is very popular among researchers in Natural Language Processing, usually referred to as the [IMDb dataset](http://ai.stanford.edu/~amaas/data/sentiment/). It consists of movie reviews from the website [imdb.com](http://www.imdb.com/), each labeled as either '**pos**itive', if the reviewer enjoyed the film, or '**neg**ative' otherwise.\n",
    "\n",
    "> Maas, Andrew L., et al. [Learning Word Vectors for Sentiment Analysis](http://ai.stanford.edu/~amaas/data/sentiment/). In _Proceedings of the 49th Annual Meeting of the Association for Computational Linguistics: Human Language Technologies_. Association for Computational Linguistics, 2011.\n",
    "\n",
    "We begin by using some Jupyter Notebook magic to download and extract the dataset."
   ]
  },
  {
   "cell_type": "code",
   "execution_count": 1,
   "metadata": {},
   "outputs": [
    {
     "name": "stdout",
     "output_type": "stream",
     "text": [
      "mkdir: cannot create directory ‘../data’: File exists\n",
      "--2020-06-24 08:32:54--  http://ai.stanford.edu/~amaas/data/sentiment/aclImdb_v1.tar.gz\n",
      "Resolving ai.stanford.edu (ai.stanford.edu)... 171.64.68.10\n",
      "Connecting to ai.stanford.edu (ai.stanford.edu)|171.64.68.10|:80... connected.\n",
      "HTTP request sent, awaiting response... 200 OK\n",
      "Length: 84125825 (80M) [application/x-gzip]\n",
      "Saving to: ‘../data/aclImdb_v1.tar.gz’\n",
      "\n",
      "../data/aclImdb_v1. 100%[===================>]  80.23M  9.79MB/s    in 11s     \n",
      "\n",
      "2020-06-24 08:33:06 (6.99 MB/s) - ‘../data/aclImdb_v1.tar.gz’ saved [84125825/84125825]\n",
      "\n"
     ]
    }
   ],
   "source": [
    "%mkdir ../data\n",
    "!wget -O ../data/aclImdb_v1.tar.gz http://ai.stanford.edu/~amaas/data/sentiment/aclImdb_v1.tar.gz\n",
    "!tar -zxf ../data/aclImdb_v1.tar.gz -C ../data"
   ]
  },
  {
   "cell_type": "markdown",
   "metadata": {},
   "source": [
    "## Step 2: Preparing the data\n",
    "\n",
    "The data we have downloaded is split into various files, each of which contains a single review. It will be much easier going forward if we combine these individual files into two large files, one for training and one for testing."
   ]
  },
  {
   "cell_type": "code",
   "execution_count": 2,
   "metadata": {},
   "outputs": [],
   "source": [
    "import os\n",
    "import glob\n",
    "\n",
    "def read_imdb_data(data_dir='../data/aclImdb'):\n",
    "    data = {}\n",
    "    labels = {}\n",
    "    \n",
    "    for data_type in ['train', 'test']:\n",
    "        data[data_type] = {}\n",
    "        labels[data_type] = {}\n",
    "        \n",
    "        for sentiment in ['pos', 'neg']:\n",
    "            data[data_type][sentiment] = []\n",
    "            labels[data_type][sentiment] = []\n",
    "            \n",
    "            path = os.path.join(data_dir, data_type, sentiment, '*.txt')\n",
    "            files = glob.glob(path)\n",
    "            \n",
    "            for f in files:\n",
    "                with open(f) as review:\n",
    "                    data[data_type][sentiment].append(review.read())\n",
    "                    # Here we represent a positive review by '1' and a negative review by '0'\n",
    "                    labels[data_type][sentiment].append(1 if sentiment == 'pos' else 0)\n",
    "                    \n",
    "            assert len(data[data_type][sentiment]) == len(labels[data_type][sentiment]), \\\n",
    "                    \"{}/{} data size does not match labels size\".format(data_type, sentiment)\n",
    "                \n",
    "    return data, labels"
   ]
  },
  {
   "cell_type": "code",
   "execution_count": 3,
   "metadata": {},
   "outputs": [
    {
     "name": "stdout",
     "output_type": "stream",
     "text": [
      "IMDB reviews: train = 12500 pos / 12500 neg, test = 12500 pos / 12500 neg\n"
     ]
    }
   ],
   "source": [
    "data, labels = read_imdb_data()\n",
    "print(\"IMDB reviews: train = {} pos / {} neg, test = {} pos / {} neg\".format(\n",
    "            len(data['train']['pos']), len(data['train']['neg']),\n",
    "            len(data['test']['pos']), len(data['test']['neg'])))"
   ]
  },
  {
   "cell_type": "code",
   "execution_count": 4,
   "metadata": {},
   "outputs": [],
   "source": [
    "from sklearn.utils import shuffle\n",
    "\n",
    "def prepare_imdb_data(data, labels):\n",
    "    \"\"\"Prepare training and test sets from IMDb movie reviews.\"\"\"\n",
    "    \n",
    "    #Combine positive and negative reviews and labels\n",
    "    data_train = data['train']['pos'] + data['train']['neg']\n",
    "    data_test = data['test']['pos'] + data['test']['neg']\n",
    "    labels_train = labels['train']['pos'] + labels['train']['neg']\n",
    "    labels_test = labels['test']['pos'] + labels['test']['neg']\n",
    "    \n",
    "    #Shuffle reviews and corresponding labels within training and test sets\n",
    "    data_train, labels_train = shuffle(data_train, labels_train)\n",
    "    data_test, labels_test = shuffle(data_test, labels_test)\n",
    "    \n",
    "    # Return a unified training data, test data, training labels, test labets\n",
    "    return data_train, data_test, labels_train, labels_test"
   ]
  },
  {
   "cell_type": "code",
   "execution_count": 5,
   "metadata": {},
   "outputs": [
    {
     "name": "stdout",
     "output_type": "stream",
     "text": [
      "IMDb reviews (combined): train = 25000, test = 25000\n"
     ]
    }
   ],
   "source": [
    "train_X, test_X, train_y, test_y = prepare_imdb_data(data, labels)\n",
    "print(\"IMDb reviews (combined): train = {}, test = {}\".format(len(train_X), len(test_X)))"
   ]
  },
  {
   "cell_type": "code",
   "execution_count": 6,
   "metadata": {},
   "outputs": [
    {
     "data": {
      "text/plain": [
       "'I, also having endured hundreds of children\\'s movies in the past, consider this to be one of the worst I have ever seen.<br /><br />1) I resent in this day and age having to explain to my children that Russia is not \"the bad guys\". Also, that mocking Russian names like \"Poopchev\" is inappropriate.<br /><br />2) The grandfather fly\\'s birthday party scene contained a quasi-sexist joke in which he implied that males drink beer and women talk on the phone. Two other flies also needlessly use the word \"crap\" twice.<br /><br />3) The whole movie largely smacks of 1950\\'s stereotypes and propaganda that I thought we, as a nation, were proud to have risen above.<br /><br />In all it\\'s just crude, badly animated, even more badly written and not worth wasting the time to view.'"
      ]
     },
     "execution_count": 6,
     "metadata": {},
     "output_type": "execute_result"
    }
   ],
   "source": [
    "train_X[100]"
   ]
  },
  {
   "cell_type": "markdown",
   "metadata": {},
   "source": [
    "## Step 3: Processing the data\n",
    "\n",
    "Now that we have our training and testing datasets merged and ready to use, we need to start processing the raw data into something that will be useable by our machine learning algorithm. To begin with, we remove any html formatting that may appear in the reviews and perform some standard natural language processing in order to homogenize the data."
   ]
  },
  {
   "cell_type": "code",
   "execution_count": 7,
   "metadata": {},
   "outputs": [
    {
     "name": "stdout",
     "output_type": "stream",
     "text": [
      "[nltk_data] Downloading package stopwords to\n",
      "[nltk_data]     /home/ec2-user/nltk_data...\n",
      "[nltk_data]   Unzipping corpora/stopwords.zip.\n"
     ]
    }
   ],
   "source": [
    "import nltk\n",
    "nltk.download(\"stopwords\")\n",
    "from nltk.corpus import stopwords\n",
    "from nltk.stem.porter import *\n",
    "stemmer = PorterStemmer()"
   ]
  },
  {
   "cell_type": "code",
   "execution_count": 8,
   "metadata": {},
   "outputs": [],
   "source": [
    "import re\n",
    "from bs4 import BeautifulSoup\n",
    "\n",
    "def review_to_words(review):\n",
    "    text = BeautifulSoup(review, \"html.parser\").get_text() # Remove HTML tags\n",
    "    text = re.sub(r\"[^a-zA-Z0-9]\", \" \", text.lower()) # Convert to lower case\n",
    "    words = text.split() # Split string into words\n",
    "    words = [w for w in words if w not in stopwords.words(\"english\")] # Remove stopwords\n",
    "    words = [PorterStemmer().stem(w) for w in words] # stem\n",
    "    \n",
    "    return words"
   ]
  },
  {
   "cell_type": "code",
   "execution_count": 9,
   "metadata": {},
   "outputs": [],
   "source": [
    "import pickle\n",
    "\n",
    "cache_dir = os.path.join(\"../cache\", \"sentiment_analysis\")  # where to store cache files\n",
    "os.makedirs(cache_dir, exist_ok=True)  # ensure cache directory exists\n",
    "\n",
    "def preprocess_data(data_train, data_test, labels_train, labels_test,\n",
    "                    cache_dir=cache_dir, cache_file=\"preprocessed_data.pkl\"):\n",
    "    \"\"\"Convert each review to words; read from cache if available.\"\"\"\n",
    "\n",
    "    # If cache_file is not None, try to read from it first\n",
    "    cache_data = None\n",
    "    if cache_file is not None:\n",
    "        try:\n",
    "            with open(os.path.join(cache_dir, cache_file), \"rb\") as f:\n",
    "                cache_data = pickle.load(f)\n",
    "            print(\"Read preprocessed data from cache file:\", cache_file)\n",
    "        except:\n",
    "            pass  # unable to read from cache, but that's okay\n",
    "    \n",
    "    # If cache is missing, then do the heavy lifting\n",
    "    if cache_data is None:\n",
    "        # Preprocess training and test data to obtain words for each review\n",
    "        #words_train = list(map(review_to_words, data_train))\n",
    "        #words_test = list(map(review_to_words, data_test))\n",
    "        words_train = [review_to_words(review) for review in data_train]\n",
    "        words_test = [review_to_words(review) for review in data_test]\n",
    "        \n",
    "        # Write to cache file for future runs\n",
    "        if cache_file is not None:\n",
    "            cache_data = dict(words_train=words_train, words_test=words_test,\n",
    "                              labels_train=labels_train, labels_test=labels_test)\n",
    "            with open(os.path.join(cache_dir, cache_file), \"wb\") as f:\n",
    "                pickle.dump(cache_data, f)\n",
    "            print(\"Wrote preprocessed data to cache file:\", cache_file)\n",
    "    else:\n",
    "        # Unpack data loaded from cache file\n",
    "        words_train, words_test, labels_train, labels_test = (cache_data['words_train'],\n",
    "                cache_data['words_test'], cache_data['labels_train'], cache_data['labels_test'])\n",
    "    \n",
    "    return words_train, words_test, labels_train, labels_test"
   ]
  },
  {
   "cell_type": "code",
   "execution_count": 10,
   "metadata": {},
   "outputs": [
    {
     "name": "stdout",
     "output_type": "stream",
     "text": [
      "Wrote preprocessed data to cache file: preprocessed_data.pkl\n"
     ]
    }
   ],
   "source": [
    "# Preprocess data\n",
    "train_X, test_X, train_y, test_y = preprocess_data(train_X, test_X, train_y, test_y)"
   ]
  },
  {
   "cell_type": "markdown",
   "metadata": {},
   "source": [
    "### Extract Bag-of-Words features\n",
    "\n",
    "For the model we will be implementing, rather than using the reviews directly, we are going to transform each review into a Bag-of-Words feature representation. Keep in mind that 'in the wild' we will only have access to the training set so our transformer can only use the training set to construct a representation."
   ]
  },
  {
   "cell_type": "code",
   "execution_count": 11,
   "metadata": {},
   "outputs": [],
   "source": [
    "import numpy as np\n",
    "from sklearn.feature_extraction.text import CountVectorizer\n",
    "from sklearn.externals import joblib\n",
    "# joblib is an enhanced version of pickle that is more efficient for storing NumPy arrays\n",
    "\n",
    "def extract_BoW_features(words_train, words_test, vocabulary_size=5000,\n",
    "                         cache_dir=cache_dir, cache_file=\"bow_features.pkl\"):\n",
    "    \"\"\"Extract Bag-of-Words for a given set of documents, already preprocessed into words.\"\"\"\n",
    "    \n",
    "    # If cache_file is not None, try to read from it first\n",
    "    cache_data = None\n",
    "    if cache_file is not None:\n",
    "        try:\n",
    "            with open(os.path.join(cache_dir, cache_file), \"rb\") as f:\n",
    "                cache_data = joblib.load(f)\n",
    "            print(\"Read features from cache file:\", cache_file)\n",
    "        except:\n",
    "            pass  # unable to read from cache, but that's okay\n",
    "    \n",
    "    # If cache is missing, then do the heavy lifting\n",
    "    if cache_data is None:\n",
    "        # Fit a vectorizer to training documents and use it to transform them\n",
    "        # NOTE: Training documents have already been preprocessed and tokenized into words;\n",
    "        #       pass in dummy functions to skip those steps, e.g. preprocessor=lambda x: x\n",
    "        vectorizer = CountVectorizer(max_features=vocabulary_size,\n",
    "                preprocessor=lambda x: x, tokenizer=lambda x: x)  # already preprocessed\n",
    "        features_train = vectorizer.fit_transform(words_train).toarray()\n",
    "\n",
    "        # Apply the same vectorizer to transform the test documents (ignore unknown words)\n",
    "        features_test = vectorizer.transform(words_test).toarray()\n",
    "        \n",
    "        # NOTE: Remember to convert the features using .toarray() for a compact representation\n",
    "        \n",
    "        # Write to cache file for future runs (store vocabulary as well)\n",
    "        if cache_file is not None:\n",
    "            vocabulary = vectorizer.vocabulary_\n",
    "            cache_data = dict(features_train=features_train, features_test=features_test,\n",
    "                             vocabulary=vocabulary)\n",
    "            with open(os.path.join(cache_dir, cache_file), \"wb\") as f:\n",
    "                joblib.dump(cache_data, f)\n",
    "            print(\"Wrote features to cache file:\", cache_file)\n",
    "    else:\n",
    "        # Unpack data loaded from cache file\n",
    "        features_train, features_test, vocabulary = (cache_data['features_train'],\n",
    "                cache_data['features_test'], cache_data['vocabulary'])\n",
    "    \n",
    "    # Return both the extracted features as well as the vocabulary\n",
    "    return features_train, features_test, vocabulary"
   ]
  },
  {
   "cell_type": "code",
   "execution_count": 12,
   "metadata": {},
   "outputs": [
    {
     "name": "stdout",
     "output_type": "stream",
     "text": [
      "Wrote features to cache file: bow_features.pkl\n"
     ]
    }
   ],
   "source": [
    "# Extract Bag of Words features for both training and test datasets\n",
    "train_X, test_X, vocabulary = extract_BoW_features(train_X, test_X)"
   ]
  },
  {
   "cell_type": "markdown",
   "metadata": {},
   "source": [
    "## Step 4: Classification using XGBoost\n",
    "\n",
    "Now that we have created the feature representation of our training (and testing) data, it is time to start setting up and using the XGBoost classifier provided by SageMaker.\n",
    "\n",
    "### Writing the dataset\n",
    "\n",
    "The XGBoost classifier that we will be using requires the dataset to be written to a file and stored using Amazon S3. To do this, we will start by splitting the training dataset into two parts, the data we will train the model with and a validation set. Then, we will write those datasets to a file and upload the files to S3. In addition, we will write the test set input to a file and upload the file to S3. This is so that we can use SageMakers Batch Transform functionality to test our model once we've fit it."
   ]
  },
  {
   "cell_type": "code",
   "execution_count": 13,
   "metadata": {},
   "outputs": [],
   "source": [
    "import pandas as pd\n",
    "\n",
    "val_X = pd.DataFrame(train_X[:10000])\n",
    "train_X = pd.DataFrame(train_X[10000:])\n",
    "\n",
    "val_y = pd.DataFrame(train_y[:10000])\n",
    "train_y = pd.DataFrame(train_y[10000:])\n",
    "\n",
    "test_y = pd.DataFrame(test_y)\n",
    "test_X = pd.DataFrame(test_X)"
   ]
  },
  {
   "cell_type": "markdown",
   "metadata": {},
   "source": [
    "The documentation for the XGBoost algorithm in SageMaker requires that the saved datasets should contain no headers or index and that for the training and validation data, the label should occur first for each sample.\n",
    "\n",
    "For more information about this and other algorithms, the SageMaker developer documentation can be found on __[Amazon's website.](https://docs.aws.amazon.com/sagemaker/latest/dg/)__"
   ]
  },
  {
   "cell_type": "code",
   "execution_count": 14,
   "metadata": {},
   "outputs": [],
   "source": [
    "# First we make sure that the local directory in which we'd like to store the training and validation csv files exists.\n",
    "data_dir = '../data/xgboost'\n",
    "if not os.path.exists(data_dir):\n",
    "    os.makedirs(data_dir)"
   ]
  },
  {
   "cell_type": "code",
   "execution_count": 49,
   "metadata": {},
   "outputs": [],
   "source": [
    "# First, save the test data to test.csv in the data_dir directory. Note that we do not save the associated ground truth\n",
    "# labels, instead we will use them later to compare with our model output.\n",
    "\n",
    "# pd.concat([test_y, test_X], axis=1).to_csv(os.path.join(data_dir, 'test.csv'), header=False, index=False)\n",
    "pd.DataFrame(test_X).to_csv(os.path.join(data_dir, 'test.csv'), header=False, index=False)\n",
    "\n",
    "# pd.concat([val_y, val_X], axis=1).to_csv(os.path.join(data_dir, 'validation.csv'), header=False, index=False)\n",
    "# pd.concat([train_y, train_X], axis=1).to_csv(os.path.join(data_dir, 'train.csv'), header=False, index=False)"
   ]
  },
  {
   "cell_type": "code",
   "execution_count": 16,
   "metadata": {},
   "outputs": [],
   "source": [
    "# To save a bit of memory we can set text_X, train_X, val_X, train_y and val_y to None.\n",
    "\n",
    "train_X = val_X = train_y = val_y = None"
   ]
  },
  {
   "cell_type": "markdown",
   "metadata": {},
   "source": [
    "### Uploading Training / Validation files to S3\n",
    "\n",
    "Amazon's S3 service allows us to store files that can be access by both the built-in training models such as the XGBoost model we will be using as well as custom models such as the one we will see a little later.\n",
    "\n",
    "For this, and most other tasks we will be doing using SageMaker, there are two methods we could use. The first is to use the low level functionality of SageMaker which requires knowing each of the objects involved in the SageMaker environment. The second is to use the high level functionality in which certain choices have been made on the user's behalf. The low level approach benefits from allowing the user a great deal of flexibility while the high level approach makes development much quicker. For our purposes we will opt to use the high level approach although using the low-level approach is certainly an option.\n",
    "\n",
    "Recall the method `upload_data()` which is a member of object representing our current SageMaker session. What this method does is upload the data to the default bucket (which is created if it does not exist) into the path described by the key_prefix variable. To see this for yourself, once you have uploaded the data files, go to the S3 console and look to see where the files have been uploaded.\n",
    "\n",
    "For additional resources, see the __[SageMaker API documentation](http://sagemaker.readthedocs.io/en/latest/)__ and in addition the __[SageMaker Developer Guide.](https://docs.aws.amazon.com/sagemaker/latest/dg/)__"
   ]
  },
  {
   "cell_type": "code",
   "execution_count": 52,
   "metadata": {},
   "outputs": [],
   "source": [
    "import sagemaker\n",
    "\n",
    "session = sagemaker.Session() # Store the current SageMaker session\n",
    "\n",
    "# S3 prefix (which folder will we use)\n",
    "prefix = 'sentiment-xgboost'\n",
    "\n",
    "test_location = session.upload_data(os.path.join(data_dir, 'test.csv'), key_prefix=prefix)\n",
    "val_location = session.upload_data(os.path.join(data_dir, 'validation.csv'), key_prefix=prefix)\n",
    "train_location = session.upload_data(os.path.join(data_dir, 'train.csv'), key_prefix=prefix)"
   ]
  },
  {
   "cell_type": "markdown",
   "metadata": {},
   "source": [
    "### (TODO) Creating a hypertuned XGBoost model\n",
    "\n",
    "Now that the data has been uploaded it is time to create the XGBoost model. As in the Boston Housing notebook, the first step is to create an estimator object which will be used as the *base* of your hyperparameter tuning job."
   ]
  },
  {
   "cell_type": "code",
   "execution_count": 18,
   "metadata": {},
   "outputs": [],
   "source": [
    "from sagemaker import get_execution_role\n",
    "\n",
    "# Our current execution role is require when creating the model as the training\n",
    "# and inference code will need to access the model artifacts.\n",
    "role = get_execution_role()"
   ]
  },
  {
   "cell_type": "code",
   "execution_count": 19,
   "metadata": {},
   "outputs": [
    {
     "name": "stderr",
     "output_type": "stream",
     "text": [
      "WARNING:root:There is a more up to date SageMaker XGBoost image. To use the newer image, please set 'repo_version'='0.90-1'. For example:\n",
      "\tget_image_uri(region, 'xgboost', '0.90-1').\n"
     ]
    }
   ],
   "source": [
    "# We need to retrieve the location of the container which is provided by Amazon for using XGBoost.\n",
    "# As a matter of convenience, the training and inference code both use the same container.\n",
    "from sagemaker.amazon.amazon_estimator import get_image_uri\n",
    "\n",
    "container = get_image_uri(session.boto_region_name, 'xgboost')"
   ]
  },
  {
   "cell_type": "code",
   "execution_count": 20,
   "metadata": {},
   "outputs": [],
   "source": [
    "# TODO: Create a SageMaker estimator using the container location determined in the previous cell.\n",
    "#       It is recommended that you use a single training instance of type ml.m4.xlarge. It is also\n",
    "#       recommended that you use 's3://{}/{}/output'.format(session.default_bucket(), prefix) as the\n",
    "#       output path.\n",
    "\n",
    "xgb = None\n",
    "\n",
    "xgb = sagemaker.estimator.Estimator(container,\n",
    "                                    role,\n",
    "                                    train_instance_count=1, \n",
    "                                    train_instance_type='ml.m4.xlarge',\n",
    "                                    output_path='s3://{}/{}/output'.format(session.default_bucket(), prefix),\n",
    "                                    sagemaker_session=session)\n",
    "\n",
    "# TODO: Set the XGBoost hyperparameters in the xgb object. Don't forget that in this case we have a binary\n",
    "#       label so we should be using the 'binary:logistic' objective.\n",
    "\n",
    "xgb.set_hyperparameters(max_depth=5,\n",
    "                        eta=0.2,\n",
    "                        gamma=4,\n",
    "                        min_child_weight=6,\n",
    "                        subsample=0.8,\n",
    "                        objective='binary:logistic',\n",
    "                        early_stopping_rounds=10,\n",
    "                        num_round=200)"
   ]
  },
  {
   "cell_type": "markdown",
   "metadata": {},
   "source": [
    "### (TODO) Create the hyperparameter tuner\n",
    "\n",
    "Now that the base estimator has been set up we need to construct a hyperparameter tuner object which we will use to request SageMaker construct a hyperparameter tuning job.\n",
    "\n",
    "**Note:** Training a single sentiment analysis XGBoost model takes longer than training a Boston Housing XGBoost model so if you don't want the hyperparameter tuning job to take too long, make sure to not set the total number of models (jobs) too high."
   ]
  },
  {
   "cell_type": "code",
   "execution_count": 31,
   "metadata": {},
   "outputs": [],
   "source": [
    "# First, make sure to import the relevant objects used to construct the tuner\n",
    "from sagemaker.tuner import IntegerParameter, ContinuousParameter, HyperparameterTuner\n",
    "\n",
    "# TODO: Create the hyperparameter tuner object\n",
    "\n",
    "xgb_hyperparameter_tuner = None\n",
    "\n",
    "hyperparameter_ranges = {'max_depth': IntegerParameter(3, 12),\n",
    "                         'eta': ContinuousParameter(0.05, 0.5),\n",
    "                         'gamma': ContinuousParameter(0, 10),\n",
    "                         'min_child_weight': IntegerParameter(2, 8),\n",
    "                         'subsample': ContinuousParameter(0.5, 0.9),\n",
    "                        }\n",
    "\n",
    "xgb_hyperparameter_tuner = sagemaker.tuner.HyperparameterTuner(estimator=xgb, \n",
    "                                                               objective_metric_name='validation:rmse',\n",
    "                                                               objective_type='Minimize', \n",
    "                                                               max_jobs=20, \n",
    "                                                               max_parallel_jobs=3,\n",
    "                                                               hyperparameter_ranges=hyperparameter_ranges)"
   ]
  },
  {
   "cell_type": "markdown",
   "metadata": {},
   "source": [
    "### Fit the hyperparameter tuner\n",
    "\n",
    "Now that the hyperparameter tuner object has been constructed, it is time to fit the various models and find the best performing model."
   ]
  },
  {
   "cell_type": "code",
   "execution_count": 32,
   "metadata": {},
   "outputs": [],
   "source": [
    "s3_input_train = sagemaker.s3_input(s3_data=train_location, content_type='csv')\n",
    "s3_input_validation = sagemaker.s3_input(s3_data=val_location, content_type='csv')"
   ]
  },
  {
   "cell_type": "code",
   "execution_count": 33,
   "metadata": {},
   "outputs": [],
   "source": [
    "xgb_hyperparameter_tuner.fit({'train': s3_input_train, 'validation': s3_input_validation})"
   ]
  },
  {
   "cell_type": "markdown",
   "metadata": {},
   "source": [
    "Remember that the tuning job is constructed and run in the background so if we want to see the progress of our training job we need to call the `wait()` method."
   ]
  },
  {
   "cell_type": "code",
   "execution_count": 34,
   "metadata": {},
   "outputs": [
    {
     "name": "stdout",
     "output_type": "stream",
     "text": [
      "...................................................................................................................................................................................................................................................................................................................................................................................................................................................................................................................................................................................................................................................................................................................................................................................................................................................!\n"
     ]
    }
   ],
   "source": [
    "xgb_hyperparameter_tuner.wait()"
   ]
  },
  {
   "cell_type": "markdown",
   "metadata": {},
   "source": [
    "### (TODO) Testing the model\n",
    "\n",
    "Now that we've run our hyperparameter tuning job, it's time to see how well the best performing model actually performs. To do this we will use SageMaker's Batch Transform functionality. Batch Transform is a convenient way to perform inference on a large dataset in a way that is not realtime. That is, we don't necessarily need to use our model's results immediately and instead we can peform inference on a large number of samples. An example of this in industry might be peforming an end of month report. This method of inference can also be useful to us as it means to can perform inference on our entire test set. \n",
    "\n",
    "Remember that in order to create a transformer object to perform the batch transform job, we need a trained estimator object. We can do that using the `attach()` method, creating an estimator object which is attached to the best trained job."
   ]
  },
  {
   "cell_type": "code",
   "execution_count": 37,
   "metadata": {},
   "outputs": [
    {
     "data": {
      "text/plain": [
       "'xgboost-200624-1139-016-0bb896c7'"
      ]
     },
     "execution_count": 37,
     "metadata": {},
     "output_type": "execute_result"
    }
   ],
   "source": [
    "xgb_hyperparameter_tuner.best_training_job()"
   ]
  },
  {
   "cell_type": "code",
   "execution_count": 39,
   "metadata": {},
   "outputs": [
    {
     "name": "stdout",
     "output_type": "stream",
     "text": [
      "2020-06-24 12:31:09 Starting - Preparing the instances for training\n",
      "2020-06-24 12:31:09 Downloading - Downloading input data\n",
      "2020-06-24 12:31:09 Training - Training image download completed. Training in progress.\n",
      "2020-06-24 12:31:09 Uploading - Uploading generated training model\n",
      "2020-06-24 12:31:09 Completed - Training job completed\u001b[34mArguments: train\u001b[0m\n",
      "\u001b[34m[2020-06-24:12:22:21:INFO] Running standalone xgboost training.\u001b[0m\n",
      "\u001b[34m[2020-06-24:12:22:21:INFO] Setting up HPO optimized metric to be : rmse\u001b[0m\n",
      "\u001b[34m[2020-06-24:12:22:21:INFO] File size need to be processed in the node: 238.47mb. Available memory size in the node: 8472.5mb\u001b[0m\n",
      "\u001b[34m[2020-06-24:12:22:21:INFO] Determined delimiter of CSV input is ','\u001b[0m\n",
      "\u001b[34m[12:22:21] S3DistributionType set as FullyReplicated\u001b[0m\n",
      "\u001b[34m[12:22:23] 15000x5000 matrix with 75000000 entries loaded from /opt/ml/input/data/train?format=csv&label_column=0&delimiter=,\u001b[0m\n",
      "\u001b[34m[2020-06-24:12:22:23:INFO] Determined delimiter of CSV input is ','\u001b[0m\n",
      "\u001b[34m[12:22:23] S3DistributionType set as FullyReplicated\u001b[0m\n",
      "\u001b[34m[12:22:24] 10000x5000 matrix with 50000000 entries loaded from /opt/ml/input/data/validation?format=csv&label_column=0&delimiter=,\u001b[0m\n",
      "\u001b[34m[12:22:29] src/tree/updater_prune.cc:74: tree pruning end, 1 roots, 296 extra nodes, 36 pruned nodes, max_depth=12\u001b[0m\n",
      "\u001b[34m[0]#011train-rmse:0.462968#011validation-rmse:0.468524\u001b[0m\n",
      "\u001b[34mMultiple eval metrics have been passed: 'validation-rmse' will be used for early stopping.\n",
      "\u001b[0m\n",
      "\u001b[34mWill train until validation-rmse hasn't improved in 10 rounds.\u001b[0m\n",
      "\u001b[34m[12:22:32] src/tree/updater_prune.cc:74: tree pruning end, 1 roots, 238 extra nodes, 40 pruned nodes, max_depth=12\u001b[0m\n",
      "\u001b[34m[1]#011train-rmse:0.437452#011validation-rmse:0.44789\u001b[0m\n",
      "\u001b[34m[12:22:35] src/tree/updater_prune.cc:74: tree pruning end, 1 roots, 264 extra nodes, 26 pruned nodes, max_depth=12\u001b[0m\n",
      "\u001b[34m[2]#011train-rmse:0.417334#011validation-rmse:0.433522\u001b[0m\n",
      "\u001b[34m[12:22:37] src/tree/updater_prune.cc:74: tree pruning end, 1 roots, 232 extra nodes, 26 pruned nodes, max_depth=12\u001b[0m\n",
      "\u001b[34m[3]#011train-rmse:0.402384#011validation-rmse:0.422426\u001b[0m\n",
      "\u001b[34m[12:22:40] src/tree/updater_prune.cc:74: tree pruning end, 1 roots, 244 extra nodes, 48 pruned nodes, max_depth=12\u001b[0m\n",
      "\u001b[34m[4]#011train-rmse:0.389702#011validation-rmse:0.41423\u001b[0m\n",
      "\u001b[34m[12:22:42] src/tree/updater_prune.cc:74: tree pruning end, 1 roots, 220 extra nodes, 18 pruned nodes, max_depth=12\u001b[0m\n",
      "\u001b[34m[5]#011train-rmse:0.37838#011validation-rmse:0.40639\u001b[0m\n",
      "\u001b[34m[12:22:45] src/tree/updater_prune.cc:74: tree pruning end, 1 roots, 196 extra nodes, 22 pruned nodes, max_depth=12\u001b[0m\n",
      "\u001b[34m[6]#011train-rmse:0.369526#011validation-rmse:0.400279\u001b[0m\n",
      "\u001b[34m[12:22:47] src/tree/updater_prune.cc:74: tree pruning end, 1 roots, 184 extra nodes, 32 pruned nodes, max_depth=12\u001b[0m\n",
      "\u001b[34m[7]#011train-rmse:0.361061#011validation-rmse:0.394533\u001b[0m\n",
      "\u001b[34m[12:22:50] src/tree/updater_prune.cc:74: tree pruning end, 1 roots, 194 extra nodes, 20 pruned nodes, max_depth=12\u001b[0m\n",
      "\u001b[34m[8]#011train-rmse:0.353194#011validation-rmse:0.389708\u001b[0m\n",
      "\u001b[34m[12:22:53] src/tree/updater_prune.cc:74: tree pruning end, 1 roots, 162 extra nodes, 26 pruned nodes, max_depth=12\u001b[0m\n",
      "\u001b[34m[9]#011train-rmse:0.346845#011validation-rmse:0.385773\u001b[0m\n",
      "\u001b[34m[12:22:55] src/tree/updater_prune.cc:74: tree pruning end, 1 roots, 146 extra nodes, 30 pruned nodes, max_depth=12\u001b[0m\n",
      "\u001b[34m[10]#011train-rmse:0.340189#011validation-rmse:0.381476\u001b[0m\n",
      "\u001b[34m[12:22:58] src/tree/updater_prune.cc:74: tree pruning end, 1 roots, 186 extra nodes, 42 pruned nodes, max_depth=12\u001b[0m\n",
      "\u001b[34m[11]#011train-rmse:0.333948#011validation-rmse:0.378042\u001b[0m\n",
      "\u001b[34m[12:23:00] src/tree/updater_prune.cc:74: tree pruning end, 1 roots, 158 extra nodes, 16 pruned nodes, max_depth=12\u001b[0m\n",
      "\u001b[34m[12]#011train-rmse:0.328242#011validation-rmse:0.374647\u001b[0m\n",
      "\u001b[34m[12:23:03] src/tree/updater_prune.cc:74: tree pruning end, 1 roots, 148 extra nodes, 44 pruned nodes, max_depth=12\u001b[0m\n",
      "\u001b[34m[13]#011train-rmse:0.323495#011validation-rmse:0.372432\u001b[0m\n",
      "\u001b[34m[12:23:05] src/tree/updater_prune.cc:74: tree pruning end, 1 roots, 160 extra nodes, 44 pruned nodes, max_depth=12\u001b[0m\n",
      "\u001b[34m[14]#011train-rmse:0.318595#011validation-rmse:0.370336\u001b[0m\n",
      "\u001b[34m[12:23:08] src/tree/updater_prune.cc:74: tree pruning end, 1 roots, 112 extra nodes, 24 pruned nodes, max_depth=12\u001b[0m\n",
      "\u001b[34m[15]#011train-rmse:0.314762#011validation-rmse:0.367761\u001b[0m\n",
      "\u001b[34m[12:23:10] src/tree/updater_prune.cc:74: tree pruning end, 1 roots, 188 extra nodes, 40 pruned nodes, max_depth=12\u001b[0m\n",
      "\u001b[34m[16]#011train-rmse:0.309632#011validation-rmse:0.365388\u001b[0m\n",
      "\u001b[34m[12:23:13] src/tree/updater_prune.cc:74: tree pruning end, 1 roots, 180 extra nodes, 20 pruned nodes, max_depth=12\u001b[0m\n",
      "\u001b[34m[17]#011train-rmse:0.304655#011validation-rmse:0.363275\u001b[0m\n",
      "\u001b[34m[12:23:15] src/tree/updater_prune.cc:74: tree pruning end, 1 roots, 172 extra nodes, 26 pruned nodes, max_depth=12\u001b[0m\n",
      "\u001b[34m[18]#011train-rmse:0.299594#011validation-rmse:0.361485\u001b[0m\n",
      "\u001b[34m[12:23:18] src/tree/updater_prune.cc:74: tree pruning end, 1 roots, 150 extra nodes, 18 pruned nodes, max_depth=12\u001b[0m\n",
      "\u001b[34m[19]#011train-rmse:0.295949#011validation-rmse:0.359792\u001b[0m\n",
      "\u001b[34m[12:23:20] src/tree/updater_prune.cc:74: tree pruning end, 1 roots, 100 extra nodes, 26 pruned nodes, max_depth=12\u001b[0m\n",
      "\u001b[34m[20]#011train-rmse:0.292762#011validation-rmse:0.357942\u001b[0m\n",
      "\u001b[34m[12:23:23] src/tree/updater_prune.cc:74: tree pruning end, 1 roots, 132 extra nodes, 30 pruned nodes, max_depth=12\u001b[0m\n",
      "\u001b[34m[21]#011train-rmse:0.289304#011validation-rmse:0.356473\u001b[0m\n",
      "\u001b[34m[12:23:26] src/tree/updater_prune.cc:74: tree pruning end, 1 roots, 104 extra nodes, 32 pruned nodes, max_depth=12\u001b[0m\n",
      "\u001b[34m[22]#011train-rmse:0.286652#011validation-rmse:0.355457\u001b[0m\n",
      "\u001b[34m[12:23:28] src/tree/updater_prune.cc:74: tree pruning end, 1 roots, 204 extra nodes, 22 pruned nodes, max_depth=12\u001b[0m\n",
      "\u001b[34m[23]#011train-rmse:0.28233#011validation-rmse:0.353826\u001b[0m\n",
      "\u001b[34m[12:23:31] src/tree/updater_prune.cc:74: tree pruning end, 1 roots, 178 extra nodes, 30 pruned nodes, max_depth=12\u001b[0m\n",
      "\u001b[34m[24]#011train-rmse:0.277984#011validation-rmse:0.35223\u001b[0m\n",
      "\u001b[34m[12:23:33] src/tree/updater_prune.cc:74: tree pruning end, 1 roots, 156 extra nodes, 24 pruned nodes, max_depth=12\u001b[0m\n",
      "\u001b[34m[25]#011train-rmse:0.274287#011validation-rmse:0.351449\u001b[0m\n",
      "\u001b[34m[12:23:36] src/tree/updater_prune.cc:74: tree pruning end, 1 roots, 114 extra nodes, 22 pruned nodes, max_depth=12\u001b[0m\n",
      "\u001b[34m[26]#011train-rmse:0.271556#011validation-rmse:0.349936\u001b[0m\n",
      "\u001b[34m[12:23:38] src/tree/updater_prune.cc:74: tree pruning end, 1 roots, 114 extra nodes, 30 pruned nodes, max_depth=12\u001b[0m\n",
      "\u001b[34m[27]#011train-rmse:0.268525#011validation-rmse:0.348754\u001b[0m\n",
      "\u001b[34m[12:23:41] src/tree/updater_prune.cc:74: tree pruning end, 1 roots, 92 extra nodes, 40 pruned nodes, max_depth=12\u001b[0m\n",
      "\u001b[34m[28]#011train-rmse:0.266497#011validation-rmse:0.347631\u001b[0m\n",
      "\u001b[34m[12:23:43] src/tree/updater_prune.cc:74: tree pruning end, 1 roots, 144 extra nodes, 46 pruned nodes, max_depth=12\u001b[0m\n",
      "\u001b[34m[29]#011train-rmse:0.263444#011validation-rmse:0.346656\u001b[0m\n",
      "\u001b[34m[12:23:46] src/tree/updater_prune.cc:74: tree pruning end, 1 roots, 80 extra nodes, 24 pruned nodes, max_depth=12\u001b[0m\n",
      "\u001b[34m[30]#011train-rmse:0.261373#011validation-rmse:0.346139\u001b[0m\n",
      "\u001b[34m[12:23:48] src/tree/updater_prune.cc:74: tree pruning end, 1 roots, 100 extra nodes, 34 pruned nodes, max_depth=12\u001b[0m\n",
      "\u001b[34m[31]#011train-rmse:0.259184#011validation-rmse:0.345553\u001b[0m\n",
      "\u001b[34m[12:23:51] src/tree/updater_prune.cc:74: tree pruning end, 1 roots, 106 extra nodes, 24 pruned nodes, max_depth=12\u001b[0m\n",
      "\u001b[34m[32]#011train-rmse:0.257129#011validation-rmse:0.34479\u001b[0m\n",
      "\u001b[34m[12:23:53] src/tree/updater_prune.cc:74: tree pruning end, 1 roots, 92 extra nodes, 28 pruned nodes, max_depth=12\u001b[0m\n",
      "\u001b[34m[33]#011train-rmse:0.255249#011validation-rmse:0.343957\u001b[0m\n",
      "\u001b[34m[12:23:56] src/tree/updater_prune.cc:74: tree pruning end, 1 roots, 74 extra nodes, 20 pruned nodes, max_depth=12\u001b[0m\n",
      "\u001b[34m[34]#011train-rmse:0.25371#011validation-rmse:0.343356\u001b[0m\n",
      "\u001b[34m[12:23:59] src/tree/updater_prune.cc:74: tree pruning end, 1 roots, 92 extra nodes, 12 pruned nodes, max_depth=12\u001b[0m\n",
      "\u001b[34m[35]#011train-rmse:0.251939#011validation-rmse:0.34224\u001b[0m\n",
      "\u001b[34m[12:24:01] src/tree/updater_prune.cc:74: tree pruning end, 1 roots, 62 extra nodes, 24 pruned nodes, max_depth=12\u001b[0m\n",
      "\u001b[34m[36]#011train-rmse:0.250452#011validation-rmse:0.341332\u001b[0m\n",
      "\u001b[34m[12:24:04] src/tree/updater_prune.cc:74: tree pruning end, 1 roots, 68 extra nodes, 20 pruned nodes, max_depth=12\u001b[0m\n",
      "\u001b[34m[37]#011train-rmse:0.248997#011validation-rmse:0.340361\u001b[0m\n",
      "\u001b[34m[12:24:06] src/tree/updater_prune.cc:74: tree pruning end, 1 roots, 112 extra nodes, 44 pruned nodes, max_depth=12\u001b[0m\n",
      "\u001b[34m[38]#011train-rmse:0.246684#011validation-rmse:0.339563\u001b[0m\n",
      "\u001b[34m[12:24:09] src/tree/updater_prune.cc:74: tree pruning end, 1 roots, 76 extra nodes, 22 pruned nodes, max_depth=12\u001b[0m\n",
      "\u001b[34m[39]#011train-rmse:0.245176#011validation-rmse:0.339031\u001b[0m\n",
      "\u001b[34m[12:24:11] src/tree/updater_prune.cc:74: tree pruning end, 1 roots, 118 extra nodes, 24 pruned nodes, max_depth=12\u001b[0m\n",
      "\u001b[34m[40]#011train-rmse:0.243107#011validation-rmse:0.338506\u001b[0m\n",
      "\u001b[34m[12:24:14] src/tree/updater_prune.cc:74: tree pruning end, 1 roots, 136 extra nodes, 32 pruned nodes, max_depth=12\u001b[0m\n",
      "\u001b[34m[41]#011train-rmse:0.240388#011validation-rmse:0.33788\u001b[0m\n",
      "\u001b[34m[12:24:16] src/tree/updater_prune.cc:74: tree pruning end, 1 roots, 70 extra nodes, 28 pruned nodes, max_depth=12\u001b[0m\n",
      "\u001b[34m[42]#011train-rmse:0.238898#011validation-rmse:0.337458\u001b[0m\n",
      "\u001b[34m[12:24:19] src/tree/updater_prune.cc:74: tree pruning end, 1 roots, 70 extra nodes, 12 pruned nodes, max_depth=12\u001b[0m\n",
      "\u001b[34m[43]#011train-rmse:0.237407#011validation-rmse:0.336934\u001b[0m\n",
      "\u001b[34m[12:24:21] src/tree/updater_prune.cc:74: tree pruning end, 1 roots, 116 extra nodes, 24 pruned nodes, max_depth=12\u001b[0m\n",
      "\u001b[34m[44]#011train-rmse:0.235316#011validation-rmse:0.336455\u001b[0m\n",
      "\u001b[34m[12:24:24] src/tree/updater_prune.cc:74: tree pruning end, 1 roots, 78 extra nodes, 26 pruned nodes, max_depth=12\u001b[0m\n",
      "\u001b[34m[45]#011train-rmse:0.233837#011validation-rmse:0.336162\u001b[0m\n",
      "\u001b[34m[12:24:26] src/tree/updater_prune.cc:74: tree pruning end, 1 roots, 110 extra nodes, 38 pruned nodes, max_depth=12\u001b[0m\n",
      "\u001b[34m[46]#011train-rmse:0.231896#011validation-rmse:0.335706\u001b[0m\n",
      "\u001b[34m[12:24:29] src/tree/updater_prune.cc:74: tree pruning end, 1 roots, 90 extra nodes, 18 pruned nodes, max_depth=12\u001b[0m\n",
      "\u001b[34m[47]#011train-rmse:0.230307#011validation-rmse:0.335184\u001b[0m\n",
      "\u001b[34m[12:24:32] src/tree/updater_prune.cc:74: tree pruning end, 1 roots, 76 extra nodes, 22 pruned nodes, max_depth=12\u001b[0m\n",
      "\u001b[34m[48]#011train-rmse:0.228841#011validation-rmse:0.334774\u001b[0m\n",
      "\u001b[34m[12:24:34] src/tree/updater_prune.cc:74: tree pruning end, 1 roots, 100 extra nodes, 42 pruned nodes, max_depth=12\u001b[0m\n",
      "\u001b[34m[49]#011train-rmse:0.226673#011validation-rmse:0.333453\u001b[0m\n",
      "\u001b[34m[12:24:37] src/tree/updater_prune.cc:74: tree pruning end, 1 roots, 82 extra nodes, 18 pruned nodes, max_depth=12\u001b[0m\n",
      "\u001b[34m[50]#011train-rmse:0.225217#011validation-rmse:0.333066\u001b[0m\n",
      "\u001b[34m[12:24:39] src/tree/updater_prune.cc:74: tree pruning end, 1 roots, 118 extra nodes, 54 pruned nodes, max_depth=12\u001b[0m\n",
      "\u001b[34m[51]#011train-rmse:0.222906#011validation-rmse:0.332541\u001b[0m\n",
      "\u001b[34m[12:24:42] src/tree/updater_prune.cc:74: tree pruning end, 1 roots, 68 extra nodes, 20 pruned nodes, max_depth=12\u001b[0m\n",
      "\u001b[34m[52]#011train-rmse:0.221802#011validation-rmse:0.332242\u001b[0m\n",
      "\u001b[34m[12:24:44] src/tree/updater_prune.cc:74: tree pruning end, 1 roots, 50 extra nodes, 16 pruned nodes, max_depth=12\u001b[0m\n",
      "\u001b[34m[53]#011train-rmse:0.220922#011validation-rmse:0.331696\u001b[0m\n",
      "\u001b[34m[12:24:47] src/tree/updater_prune.cc:74: tree pruning end, 1 roots, 56 extra nodes, 22 pruned nodes, max_depth=12\u001b[0m\n",
      "\u001b[34m[54]#011train-rmse:0.219884#011validation-rmse:0.331253\u001b[0m\n",
      "\u001b[34m[12:24:49] src/tree/updater_prune.cc:74: tree pruning end, 1 roots, 92 extra nodes, 26 pruned nodes, max_depth=12\u001b[0m\n",
      "\u001b[34m[55]#011train-rmse:0.21837#011validation-rmse:0.330703\u001b[0m\n",
      "\u001b[34m[12:24:52] src/tree/updater_prune.cc:74: tree pruning end, 1 roots, 58 extra nodes, 22 pruned nodes, max_depth=12\u001b[0m\n",
      "\u001b[34m[56]#011train-rmse:0.217049#011validation-rmse:0.330337\u001b[0m\n",
      "\u001b[34m[12:24:54] src/tree/updater_prune.cc:74: tree pruning end, 1 roots, 96 extra nodes, 28 pruned nodes, max_depth=12\u001b[0m\n",
      "\u001b[34m[57]#011train-rmse:0.215339#011validation-rmse:0.329968\u001b[0m\n",
      "\u001b[34m[12:24:57] src/tree/updater_prune.cc:74: tree pruning end, 1 roots, 56 extra nodes, 28 pruned nodes, max_depth=12\u001b[0m\n",
      "\u001b[34m[58]#011train-rmse:0.214542#011validation-rmse:0.329454\u001b[0m\n",
      "\u001b[34m[12:25:00] src/tree/updater_prune.cc:74: tree pruning end, 1 roots, 32 extra nodes, 16 pruned nodes, max_depth=12\u001b[0m\n",
      "\u001b[34m[59]#011train-rmse:0.213836#011validation-rmse:0.329029\u001b[0m\n",
      "\u001b[34m[12:25:02] src/tree/updater_prune.cc:74: tree pruning end, 1 roots, 74 extra nodes, 20 pruned nodes, max_depth=12\u001b[0m\n",
      "\u001b[34m[60]#011train-rmse:0.212483#011validation-rmse:0.328712\u001b[0m\n",
      "\u001b[34m[12:25:05] src/tree/updater_prune.cc:74: tree pruning end, 1 roots, 78 extra nodes, 24 pruned nodes, max_depth=12\u001b[0m\n",
      "\u001b[34m[61]#011train-rmse:0.211173#011validation-rmse:0.328329\u001b[0m\n",
      "\u001b[34m[12:25:07] src/tree/updater_prune.cc:74: tree pruning end, 1 roots, 76 extra nodes, 20 pruned nodes, max_depth=12\u001b[0m\n",
      "\u001b[34m[62]#011train-rmse:0.209944#011validation-rmse:0.328156\u001b[0m\n",
      "\u001b[34m[12:25:10] src/tree/updater_prune.cc:74: tree pruning end, 1 roots, 38 extra nodes, 32 pruned nodes, max_depth=12\u001b[0m\n",
      "\u001b[34m[63]#011train-rmse:0.209261#011validation-rmse:0.327853\u001b[0m\n",
      "\u001b[34m[12:25:13] src/tree/updater_prune.cc:74: tree pruning end, 1 roots, 34 extra nodes, 16 pruned nodes, max_depth=12\u001b[0m\n",
      "\u001b[34m[64]#011train-rmse:0.208662#011validation-rmse:0.327611\u001b[0m\n",
      "\u001b[34m[12:25:15] src/tree/updater_prune.cc:74: tree pruning end, 1 roots, 44 extra nodes, 16 pruned nodes, max_depth=12\u001b[0m\n",
      "\u001b[34m[65]#011train-rmse:0.207942#011validation-rmse:0.327378\u001b[0m\n",
      "\u001b[34m[12:25:18] src/tree/updater_prune.cc:74: tree pruning end, 1 roots, 38 extra nodes, 14 pruned nodes, max_depth=12\u001b[0m\n",
      "\u001b[34m[66]#011train-rmse:0.207207#011validation-rmse:0.327197\u001b[0m\n",
      "\u001b[34m[12:25:20] src/tree/updater_prune.cc:74: tree pruning end, 1 roots, 56 extra nodes, 34 pruned nodes, max_depth=12\u001b[0m\n",
      "\u001b[34m[67]#011train-rmse:0.206332#011validation-rmse:0.326843\u001b[0m\n",
      "\u001b[34m[12:25:23] src/tree/updater_prune.cc:74: tree pruning end, 1 roots, 54 extra nodes, 6 pruned nodes, max_depth=12\u001b[0m\n",
      "\u001b[34m[68]#011train-rmse:0.205435#011validation-rmse:0.326666\u001b[0m\n",
      "\u001b[34m[12:25:25] src/tree/updater_prune.cc:74: tree pruning end, 1 roots, 80 extra nodes, 30 pruned nodes, max_depth=12\u001b[0m\n",
      "\u001b[34m[69]#011train-rmse:0.20419#011validation-rmse:0.326457\u001b[0m\n",
      "\u001b[34m[12:25:28] src/tree/updater_prune.cc:74: tree pruning end, 1 roots, 58 extra nodes, 24 pruned nodes, max_depth=12\u001b[0m\n",
      "\u001b[34m[70]#011train-rmse:0.203364#011validation-rmse:0.326003\u001b[0m\n",
      "\u001b[34m[12:25:30] src/tree/updater_prune.cc:74: tree pruning end, 1 roots, 68 extra nodes, 28 pruned nodes, max_depth=12\u001b[0m\n",
      "\u001b[34m[71]#011train-rmse:0.202239#011validation-rmse:0.325711\u001b[0m\n",
      "\u001b[34m[12:25:33] src/tree/updater_prune.cc:74: tree pruning end, 1 roots, 64 extra nodes, 22 pruned nodes, max_depth=12\u001b[0m\n",
      "\u001b[34m[72]#011train-rmse:0.201154#011validation-rmse:0.325487\u001b[0m\n",
      "\u001b[34m[12:25:36] src/tree/updater_prune.cc:74: tree pruning end, 1 roots, 50 extra nodes, 26 pruned nodes, max_depth=12\u001b[0m\n",
      "\u001b[34m[73]#011train-rmse:0.200406#011validation-rmse:0.325105\u001b[0m\n",
      "\u001b[34m[12:25:38] src/tree/updater_prune.cc:74: tree pruning end, 1 roots, 54 extra nodes, 34 pruned nodes, max_depth=12\u001b[0m\n",
      "\u001b[34m[74]#011train-rmse:0.199697#011validation-rmse:0.325075\u001b[0m\n",
      "\u001b[34m[12:25:41] src/tree/updater_prune.cc:74: tree pruning end, 1 roots, 64 extra nodes, 28 pruned nodes, max_depth=12\u001b[0m\n",
      "\u001b[34m[75]#011train-rmse:0.198747#011validation-rmse:0.324736\u001b[0m\n",
      "\u001b[34m[12:25:43] src/tree/updater_prune.cc:74: tree pruning end, 1 roots, 54 extra nodes, 16 pruned nodes, max_depth=12\u001b[0m\n",
      "\u001b[34m[76]#011train-rmse:0.197897#011validation-rmse:0.324313\u001b[0m\n",
      "\u001b[34m[12:25:46] src/tree/updater_prune.cc:74: tree pruning end, 1 roots, 48 extra nodes, 14 pruned nodes, max_depth=12\u001b[0m\n",
      "\u001b[34m[77]#011train-rmse:0.197207#011validation-rmse:0.324123\u001b[0m\n",
      "\u001b[34m[12:25:48] src/tree/updater_prune.cc:74: tree pruning end, 1 roots, 66 extra nodes, 32 pruned nodes, max_depth=12\u001b[0m\n",
      "\u001b[34m[78]#011train-rmse:0.196067#011validation-rmse:0.323862\u001b[0m\n",
      "\u001b[34m[12:25:51] src/tree/updater_prune.cc:74: tree pruning end, 1 roots, 110 extra nodes, 34 pruned nodes, max_depth=12\u001b[0m\n",
      "\u001b[34m[79]#011train-rmse:0.19412#011validation-rmse:0.323762\u001b[0m\n",
      "\u001b[34m[12:25:53] src/tree/updater_prune.cc:74: tree pruning end, 1 roots, 82 extra nodes, 30 pruned nodes, max_depth=12\u001b[0m\n",
      "\u001b[34m[80]#011train-rmse:0.19291#011validation-rmse:0.323563\u001b[0m\n",
      "\u001b[34m[12:25:56] src/tree/updater_prune.cc:74: tree pruning end, 1 roots, 38 extra nodes, 12 pruned nodes, max_depth=12\u001b[0m\n",
      "\u001b[34m[81]#011train-rmse:0.192323#011validation-rmse:0.323384\u001b[0m\n",
      "\u001b[34m[12:25:58] src/tree/updater_prune.cc:74: tree pruning end, 1 roots, 70 extra nodes, 30 pruned nodes, max_depth=12\u001b[0m\n",
      "\u001b[34m[82]#011train-rmse:0.191299#011validation-rmse:0.323119\u001b[0m\n",
      "\u001b[34m[12:26:01] src/tree/updater_prune.cc:74: tree pruning end, 1 roots, 62 extra nodes, 26 pruned nodes, max_depth=12\u001b[0m\n",
      "\u001b[34m[83]#011train-rmse:0.19023#011validation-rmse:0.322842\u001b[0m\n",
      "\u001b[34m[12:26:04] src/tree/updater_prune.cc:74: tree pruning end, 1 roots, 78 extra nodes, 34 pruned nodes, max_depth=12\u001b[0m\n",
      "\u001b[34m[84]#011train-rmse:0.18905#011validation-rmse:0.32261\u001b[0m\n",
      "\u001b[34m[12:26:06] src/tree/updater_prune.cc:74: tree pruning end, 1 roots, 50 extra nodes, 14 pruned nodes, max_depth=12\u001b[0m\n",
      "\u001b[34m[85]#011train-rmse:0.18837#011validation-rmse:0.322421\u001b[0m\n",
      "\u001b[34m[12:26:09] src/tree/updater_prune.cc:74: tree pruning end, 1 roots, 66 extra nodes, 26 pruned nodes, max_depth=12\u001b[0m\n",
      "\u001b[34m[86]#011train-rmse:0.18747#011validation-rmse:0.322489\u001b[0m\n",
      "\u001b[34m[12:26:11] src/tree/updater_prune.cc:74: tree pruning end, 1 roots, 36 extra nodes, 14 pruned nodes, max_depth=12\u001b[0m\n",
      "\u001b[34m[87]#011train-rmse:0.186939#011validation-rmse:0.322436\u001b[0m\n",
      "\u001b[34m[12:26:14] src/tree/updater_prune.cc:74: tree pruning end, 1 roots, 54 extra nodes, 36 pruned nodes, max_depth=12\u001b[0m\n",
      "\u001b[34m[88]#011train-rmse:0.186103#011validation-rmse:0.321873\u001b[0m\n",
      "\u001b[34m[12:26:17] src/tree/updater_prune.cc:74: tree pruning end, 1 roots, 80 extra nodes, 30 pruned nodes, max_depth=12\u001b[0m\n",
      "\u001b[34m[89]#011train-rmse:0.184894#011validation-rmse:0.321622\u001b[0m\n",
      "\u001b[34m[12:26:19] src/tree/updater_prune.cc:74: tree pruning end, 1 roots, 62 extra nodes, 44 pruned nodes, max_depth=12\u001b[0m\n",
      "\u001b[34m[90]#011train-rmse:0.184005#011validation-rmse:0.321647\u001b[0m\n",
      "\u001b[34m[12:26:22] src/tree/updater_prune.cc:74: tree pruning end, 1 roots, 60 extra nodes, 24 pruned nodes, max_depth=12\u001b[0m\n",
      "\u001b[34m[91]#011train-rmse:0.183006#011validation-rmse:0.321577\u001b[0m\n",
      "\u001b[34m[12:26:24] src/tree/updater_prune.cc:74: tree pruning end, 1 roots, 36 extra nodes, 14 pruned nodes, max_depth=12\u001b[0m\n",
      "\u001b[34m[92]#011train-rmse:0.182457#011validation-rmse:0.321376\u001b[0m\n",
      "\u001b[34m[12:26:27] src/tree/updater_prune.cc:74: tree pruning end, 1 roots, 32 extra nodes, 14 pruned nodes, max_depth=12\u001b[0m\n",
      "\u001b[34m[93]#011train-rmse:0.181988#011validation-rmse:0.321375\u001b[0m\n",
      "\u001b[34m[12:26:29] src/tree/updater_prune.cc:74: tree pruning end, 1 roots, 44 extra nodes, 18 pruned nodes, max_depth=12\u001b[0m\n",
      "\u001b[34m[94]#011train-rmse:0.181421#011validation-rmse:0.32115\u001b[0m\n",
      "\u001b[34m[12:26:32] src/tree/updater_prune.cc:74: tree pruning end, 1 roots, 44 extra nodes, 20 pruned nodes, max_depth=12\u001b[0m\n",
      "\u001b[34m[95]#011train-rmse:0.180818#011validation-rmse:0.320796\u001b[0m\n",
      "\u001b[34m[12:26:35] src/tree/updater_prune.cc:74: tree pruning end, 1 roots, 44 extra nodes, 38 pruned nodes, max_depth=12\u001b[0m\n",
      "\u001b[34m[96]#011train-rmse:0.180226#011validation-rmse:0.320743\u001b[0m\n",
      "\u001b[34m[12:26:37] src/tree/updater_prune.cc:74: tree pruning end, 1 roots, 66 extra nodes, 30 pruned nodes, max_depth=12\u001b[0m\n",
      "\u001b[34m[97]#011train-rmse:0.179302#011validation-rmse:0.320605\u001b[0m\n",
      "\u001b[34m[12:26:40] src/tree/updater_prune.cc:74: tree pruning end, 1 roots, 48 extra nodes, 20 pruned nodes, max_depth=12\u001b[0m\n",
      "\u001b[34m[98]#011train-rmse:0.178691#011validation-rmse:0.320467\u001b[0m\n",
      "\u001b[34m[12:26:42] src/tree/updater_prune.cc:74: tree pruning end, 1 roots, 66 extra nodes, 32 pruned nodes, max_depth=12\u001b[0m\n",
      "\u001b[34m[99]#011train-rmse:0.177822#011validation-rmse:0.320299\u001b[0m\n",
      "\u001b[34m[12:26:45] src/tree/updater_prune.cc:74: tree pruning end, 1 roots, 88 extra nodes, 34 pruned nodes, max_depth=12\u001b[0m\n",
      "\u001b[34m[100]#011train-rmse:0.176526#011validation-rmse:0.32002\u001b[0m\n",
      "\u001b[34m[12:26:47] src/tree/updater_prune.cc:74: tree pruning end, 1 roots, 68 extra nodes, 16 pruned nodes, max_depth=12\u001b[0m\n",
      "\u001b[34m[101]#011train-rmse:0.175633#011validation-rmse:0.319756\u001b[0m\n",
      "\u001b[34m[12:26:50] src/tree/updater_prune.cc:74: tree pruning end, 1 roots, 40 extra nodes, 36 pruned nodes, max_depth=12\u001b[0m\n",
      "\u001b[34m[102]#011train-rmse:0.175143#011validation-rmse:0.319612\u001b[0m\n",
      "\u001b[34m[12:26:53] src/tree/updater_prune.cc:74: tree pruning end, 1 roots, 56 extra nodes, 30 pruned nodes, max_depth=12\u001b[0m\n",
      "\u001b[34m[103]#011train-rmse:0.174446#011validation-rmse:0.319591\u001b[0m\n",
      "\u001b[34m[12:26:55] src/tree/updater_prune.cc:74: tree pruning end, 1 roots, 48 extra nodes, 24 pruned nodes, max_depth=12\u001b[0m\n",
      "\u001b[34m[104]#011train-rmse:0.173866#011validation-rmse:0.319551\u001b[0m\n",
      "\u001b[34m[12:26:58] src/tree/updater_prune.cc:74: tree pruning end, 1 roots, 52 extra nodes, 24 pruned nodes, max_depth=12\u001b[0m\n",
      "\u001b[34m[105]#011train-rmse:0.173233#011validation-rmse:0.319313\u001b[0m\n",
      "\u001b[34m[12:27:00] src/tree/updater_prune.cc:74: tree pruning end, 1 roots, 40 extra nodes, 14 pruned nodes, max_depth=12\u001b[0m\n",
      "\u001b[34m[106]#011train-rmse:0.17274#011validation-rmse:0.31923\u001b[0m\n",
      "\u001b[34m[12:27:03] src/tree/updater_prune.cc:74: tree pruning end, 1 roots, 32 extra nodes, 18 pruned nodes, max_depth=12\u001b[0m\n",
      "\u001b[34m[107]#011train-rmse:0.172328#011validation-rmse:0.319211\u001b[0m\n",
      "\u001b[34m[12:27:05] src/tree/updater_prune.cc:74: tree pruning end, 1 roots, 44 extra nodes, 38 pruned nodes, max_depth=12\u001b[0m\n",
      "\u001b[34m[108]#011train-rmse:0.171748#011validation-rmse:0.318986\u001b[0m\n",
      "\u001b[34m[12:27:08] src/tree/updater_prune.cc:74: tree pruning end, 1 roots, 44 extra nodes, 26 pruned nodes, max_depth=12\u001b[0m\n",
      "\u001b[34m[109]#011train-rmse:0.171261#011validation-rmse:0.318711\u001b[0m\n",
      "\u001b[34m[12:27:10] src/tree/updater_prune.cc:74: tree pruning end, 1 roots, 36 extra nodes, 42 pruned nodes, max_depth=12\u001b[0m\n",
      "\u001b[34m[110]#011train-rmse:0.170827#011validation-rmse:0.318584\u001b[0m\n",
      "\u001b[34m[12:27:13] src/tree/updater_prune.cc:74: tree pruning end, 1 roots, 40 extra nodes, 36 pruned nodes, max_depth=12\u001b[0m\n",
      "\u001b[34m[111]#011train-rmse:0.170375#011validation-rmse:0.318617\u001b[0m\n",
      "\u001b[34m[12:27:16] src/tree/updater_prune.cc:74: tree pruning end, 1 roots, 54 extra nodes, 14 pruned nodes, max_depth=12\u001b[0m\n",
      "\u001b[34m[112]#011train-rmse:0.169692#011validation-rmse:0.318739\u001b[0m\n",
      "\u001b[34m[12:27:18] src/tree/updater_prune.cc:74: tree pruning end, 1 roots, 40 extra nodes, 40 pruned nodes, max_depth=12\u001b[0m\n",
      "\u001b[34m[113]#011train-rmse:0.169191#011validation-rmse:0.318563\u001b[0m\n",
      "\u001b[34m[12:27:21] src/tree/updater_prune.cc:74: tree pruning end, 1 roots, 26 extra nodes, 10 pruned nodes, max_depth=12\u001b[0m\n",
      "\u001b[34m[114]#011train-rmse:0.168932#011validation-rmse:0.318363\u001b[0m\n",
      "\u001b[34m[12:27:23] src/tree/updater_prune.cc:74: tree pruning end, 1 roots, 32 extra nodes, 8 pruned nodes, max_depth=12\u001b[0m\n",
      "\u001b[34m[115]#011train-rmse:0.168644#011validation-rmse:0.318388\u001b[0m\n",
      "\u001b[34m[12:27:26] src/tree/updater_prune.cc:74: tree pruning end, 1 roots, 32 extra nodes, 24 pruned nodes, max_depth=12\u001b[0m\n",
      "\u001b[34m[116]#011train-rmse:0.168307#011validation-rmse:0.318421\u001b[0m\n",
      "\u001b[34m[12:27:28] src/tree/updater_prune.cc:74: tree pruning end, 1 roots, 56 extra nodes, 20 pruned nodes, max_depth=12\u001b[0m\n",
      "\u001b[34m[117]#011train-rmse:0.167751#011validation-rmse:0.31835\u001b[0m\n",
      "\u001b[34m[12:27:31] src/tree/updater_prune.cc:74: tree pruning end, 1 roots, 40 extra nodes, 22 pruned nodes, max_depth=12\u001b[0m\n",
      "\u001b[34m[118]#011train-rmse:0.167228#011validation-rmse:0.318407\u001b[0m\n",
      "\u001b[34m[12:27:33] src/tree/updater_prune.cc:74: tree pruning end, 1 roots, 40 extra nodes, 22 pruned nodes, max_depth=12\u001b[0m\n",
      "\u001b[34m[119]#011train-rmse:0.166689#011validation-rmse:0.318213\u001b[0m\n",
      "\u001b[34m[12:27:36] src/tree/updater_prune.cc:74: tree pruning end, 1 roots, 64 extra nodes, 30 pruned nodes, max_depth=12\u001b[0m\n",
      "\u001b[34m[120]#011train-rmse:0.165752#011validation-rmse:0.318083\u001b[0m\n",
      "\u001b[34m[12:27:39] src/tree/updater_prune.cc:74: tree pruning end, 1 roots, 62 extra nodes, 46 pruned nodes, max_depth=12\u001b[0m\n",
      "\u001b[34m[121]#011train-rmse:0.164781#011validation-rmse:0.317971\u001b[0m\n",
      "\u001b[34m[12:27:41] src/tree/updater_prune.cc:74: tree pruning end, 1 roots, 32 extra nodes, 26 pruned nodes, max_depth=12\u001b[0m\n",
      "\u001b[34m[122]#011train-rmse:0.164432#011validation-rmse:0.317932\u001b[0m\n",
      "\u001b[34m[12:27:44] src/tree/updater_prune.cc:74: tree pruning end, 1 roots, 34 extra nodes, 18 pruned nodes, max_depth=12\u001b[0m\n",
      "\u001b[34m[123]#011train-rmse:0.163954#011validation-rmse:0.317784\u001b[0m\n",
      "\u001b[34m[12:27:46] src/tree/updater_prune.cc:74: tree pruning end, 1 roots, 30 extra nodes, 30 pruned nodes, max_depth=12\u001b[0m\n",
      "\u001b[34m[124]#011train-rmse:0.163691#011validation-rmse:0.317665\u001b[0m\n",
      "\u001b[34m[12:27:49] src/tree/updater_prune.cc:74: tree pruning end, 1 roots, 42 extra nodes, 18 pruned nodes, max_depth=12\u001b[0m\n",
      "\u001b[34m[125]#011train-rmse:0.163159#011validation-rmse:0.317689\u001b[0m\n",
      "\u001b[34m[12:27:51] src/tree/updater_prune.cc:74: tree pruning end, 1 roots, 44 extra nodes, 26 pruned nodes, max_depth=12\u001b[0m\n",
      "\u001b[34m[126]#011train-rmse:0.162619#011validation-rmse:0.317622\u001b[0m\n",
      "\u001b[34m[12:27:54] src/tree/updater_prune.cc:74: tree pruning end, 1 roots, 62 extra nodes, 40 pruned nodes, max_depth=12\u001b[0m\n",
      "\u001b[34m[127]#011train-rmse:0.161774#011validation-rmse:0.317631\u001b[0m\n",
      "\u001b[34m[12:27:57] src/tree/updater_prune.cc:74: tree pruning end, 1 roots, 30 extra nodes, 22 pruned nodes, max_depth=12\u001b[0m\n",
      "\u001b[34m[128]#011train-rmse:0.161475#011validation-rmse:0.317523\u001b[0m\n",
      "\u001b[34m[12:27:59] src/tree/updater_prune.cc:74: tree pruning end, 1 roots, 24 extra nodes, 20 pruned nodes, max_depth=12\u001b[0m\n",
      "\u001b[34m[129]#011train-rmse:0.161259#011validation-rmse:0.317324\u001b[0m\n",
      "\u001b[34m[12:28:02] src/tree/updater_prune.cc:74: tree pruning end, 1 roots, 56 extra nodes, 32 pruned nodes, max_depth=12\u001b[0m\n",
      "\u001b[34m[130]#011train-rmse:0.160475#011validation-rmse:0.317269\u001b[0m\n",
      "\u001b[34m[12:28:04] src/tree/updater_prune.cc:74: tree pruning end, 1 roots, 34 extra nodes, 34 pruned nodes, max_depth=12\u001b[0m\n",
      "\u001b[34m[131]#011train-rmse:0.16002#011validation-rmse:0.317182\u001b[0m\n",
      "\u001b[34m[12:28:07] src/tree/updater_prune.cc:74: tree pruning end, 1 roots, 46 extra nodes, 30 pruned nodes, max_depth=12\u001b[0m\n",
      "\u001b[34m[132]#011train-rmse:0.159504#011validation-rmse:0.317061\u001b[0m\n",
      "\u001b[34m[12:28:09] src/tree/updater_prune.cc:74: tree pruning end, 1 roots, 36 extra nodes, 30 pruned nodes, max_depth=12\u001b[0m\n",
      "\u001b[34m[133]#011train-rmse:0.159105#011validation-rmse:0.317003\u001b[0m\n",
      "\u001b[34m[12:28:12] src/tree/updater_prune.cc:74: tree pruning end, 1 roots, 84 extra nodes, 56 pruned nodes, max_depth=12\u001b[0m\n",
      "\u001b[34m[134]#011train-rmse:0.157883#011validation-rmse:0.316951\u001b[0m\n",
      "\u001b[34m[12:28:15] src/tree/updater_prune.cc:74: tree pruning end, 1 roots, 42 extra nodes, 24 pruned nodes, max_depth=12\u001b[0m\n",
      "\u001b[34m[135]#011train-rmse:0.157393#011validation-rmse:0.316866\u001b[0m\n",
      "\u001b[34m[12:28:17] src/tree/updater_prune.cc:74: tree pruning end, 1 roots, 46 extra nodes, 38 pruned nodes, max_depth=12\u001b[0m\n",
      "\u001b[34m[136]#011train-rmse:0.156666#011validation-rmse:0.316887\u001b[0m\n",
      "\u001b[34m[12:28:20] src/tree/updater_prune.cc:74: tree pruning end, 1 roots, 74 extra nodes, 42 pruned nodes, max_depth=12\u001b[0m\n",
      "\u001b[34m[137]#011train-rmse:0.15554#011validation-rmse:0.316802\u001b[0m\n",
      "\u001b[34m[12:28:22] src/tree/updater_prune.cc:74: tree pruning end, 1 roots, 30 extra nodes, 20 pruned nodes, max_depth=12\u001b[0m\n",
      "\u001b[34m[138]#011train-rmse:0.15527#011validation-rmse:0.3168\u001b[0m\n",
      "\u001b[34m[12:28:25] src/tree/updater_prune.cc:74: tree pruning end, 1 roots, 42 extra nodes, 42 pruned nodes, max_depth=12\u001b[0m\n",
      "\u001b[34m[139]#011train-rmse:0.154794#011validation-rmse:0.316718\u001b[0m\n",
      "\u001b[34m[12:28:28] src/tree/updater_prune.cc:74: tree pruning end, 1 roots, 44 extra nodes, 28 pruned nodes, max_depth=12\u001b[0m\n",
      "\u001b[34m[140]#011train-rmse:0.154342#011validation-rmse:0.316374\u001b[0m\n",
      "\u001b[34m[12:28:30] src/tree/updater_prune.cc:74: tree pruning end, 1 roots, 26 extra nodes, 20 pruned nodes, max_depth=12\u001b[0m\n",
      "\u001b[34m[141]#011train-rmse:0.154046#011validation-rmse:0.316281\u001b[0m\n",
      "\u001b[34m[12:28:33] src/tree/updater_prune.cc:74: tree pruning end, 1 roots, 56 extra nodes, 38 pruned nodes, max_depth=12\u001b[0m\n",
      "\u001b[34m[142]#011train-rmse:0.153276#011validation-rmse:0.316262\u001b[0m\n",
      "\u001b[34m[12:28:35] src/tree/updater_prune.cc:74: tree pruning end, 1 roots, 38 extra nodes, 36 pruned nodes, max_depth=12\u001b[0m\n",
      "\u001b[34m[143]#011train-rmse:0.15288#011validation-rmse:0.316057\u001b[0m\n",
      "\u001b[34m[12:28:38] src/tree/updater_prune.cc:74: tree pruning end, 1 roots, 54 extra nodes, 16 pruned nodes, max_depth=12\u001b[0m\n",
      "\u001b[34m[144]#011train-rmse:0.15221#011validation-rmse:0.315848\u001b[0m\n",
      "\u001b[34m[12:28:41] src/tree/updater_prune.cc:74: tree pruning end, 1 roots, 36 extra nodes, 30 pruned nodes, max_depth=12\u001b[0m\n",
      "\u001b[34m[145]#011train-rmse:0.151899#011validation-rmse:0.315788\u001b[0m\n",
      "\u001b[34m[12:28:43] src/tree/updater_prune.cc:74: tree pruning end, 1 roots, 28 extra nodes, 44 pruned nodes, max_depth=12\u001b[0m\n",
      "\u001b[34m[146]#011train-rmse:0.151653#011validation-rmse:0.315768\u001b[0m\n",
      "\u001b[34m[12:28:46] src/tree/updater_prune.cc:74: tree pruning end, 1 roots, 46 extra nodes, 24 pruned nodes, max_depth=12\u001b[0m\n",
      "\u001b[34m[147]#011train-rmse:0.151105#011validation-rmse:0.316014\u001b[0m\n",
      "\u001b[34m[12:28:48] src/tree/updater_prune.cc:74: tree pruning end, 1 roots, 24 extra nodes, 6 pruned nodes, max_depth=12\u001b[0m\n",
      "\u001b[34m[148]#011train-rmse:0.150907#011validation-rmse:0.315988\u001b[0m\n",
      "\u001b[34m[12:28:51] src/tree/updater_prune.cc:74: tree pruning end, 1 roots, 38 extra nodes, 26 pruned nodes, max_depth=12\u001b[0m\n",
      "\u001b[34m[149]#011train-rmse:0.15056#011validation-rmse:0.315801\u001b[0m\n",
      "\u001b[34m[12:28:54] src/tree/updater_prune.cc:74: tree pruning end, 1 roots, 50 extra nodes, 28 pruned nodes, max_depth=12\u001b[0m\n",
      "\u001b[34m[150]#011train-rmse:0.150072#011validation-rmse:0.315684\u001b[0m\n",
      "\u001b[34m[12:28:56] src/tree/updater_prune.cc:74: tree pruning end, 1 roots, 32 extra nodes, 44 pruned nodes, max_depth=12\u001b[0m\n",
      "\u001b[34m[151]#011train-rmse:0.149683#011validation-rmse:0.315608\u001b[0m\n",
      "\u001b[34m[12:28:59] src/tree/updater_prune.cc:74: tree pruning end, 1 roots, 44 extra nodes, 20 pruned nodes, max_depth=12\u001b[0m\n",
      "\u001b[34m[152]#011train-rmse:0.149159#011validation-rmse:0.315545\u001b[0m\n",
      "\u001b[34m[12:29:01] src/tree/updater_prune.cc:74: tree pruning end, 1 roots, 36 extra nodes, 18 pruned nodes, max_depth=12\u001b[0m\n",
      "\u001b[34m[153]#011train-rmse:0.148828#011validation-rmse:0.315431\u001b[0m\n",
      "\u001b[34m[12:29:04] src/tree/updater_prune.cc:74: tree pruning end, 1 roots, 50 extra nodes, 18 pruned nodes, max_depth=12\u001b[0m\n",
      "\u001b[34m[154]#011train-rmse:0.14821#011validation-rmse:0.315489\u001b[0m\n",
      "\u001b[34m[12:29:07] src/tree/updater_prune.cc:74: tree pruning end, 1 roots, 28 extra nodes, 16 pruned nodes, max_depth=12\u001b[0m\n",
      "\u001b[34m[155]#011train-rmse:0.147961#011validation-rmse:0.315522\u001b[0m\n",
      "\u001b[34m[12:29:09] src/tree/updater_prune.cc:74: tree pruning end, 1 roots, 34 extra nodes, 24 pruned nodes, max_depth=12\u001b[0m\n",
      "\u001b[34m[156]#011train-rmse:0.14765#011validation-rmse:0.315222\u001b[0m\n",
      "\u001b[34m[12:29:12] src/tree/updater_prune.cc:74: tree pruning end, 1 roots, 44 extra nodes, 32 pruned nodes, max_depth=12\u001b[0m\n",
      "\u001b[34m[157]#011train-rmse:0.147175#011validation-rmse:0.315171\u001b[0m\n",
      "\u001b[34m[12:29:14] src/tree/updater_prune.cc:74: tree pruning end, 1 roots, 36 extra nodes, 24 pruned nodes, max_depth=12\u001b[0m\n",
      "\u001b[34m[158]#011train-rmse:0.14681#011validation-rmse:0.315152\u001b[0m\n",
      "\u001b[34m[12:29:17] src/tree/updater_prune.cc:74: tree pruning end, 1 roots, 24 extra nodes, 18 pruned nodes, max_depth=12\u001b[0m\n",
      "\u001b[34m[159]#011train-rmse:0.146609#011validation-rmse:0.315092\u001b[0m\n",
      "\u001b[34m[12:29:19] src/tree/updater_prune.cc:74: tree pruning end, 1 roots, 34 extra nodes, 22 pruned nodes, max_depth=12\u001b[0m\n",
      "\u001b[34m[160]#011train-rmse:0.146224#011validation-rmse:0.315012\u001b[0m\n",
      "\u001b[34m[12:29:22] src/tree/updater_prune.cc:74: tree pruning end, 1 roots, 52 extra nodes, 42 pruned nodes, max_depth=12\u001b[0m\n",
      "\u001b[34m[161]#011train-rmse:0.145651#011validation-rmse:0.314845\u001b[0m\n",
      "\u001b[34m[12:29:25] src/tree/updater_prune.cc:74: tree pruning end, 1 roots, 34 extra nodes, 22 pruned nodes, max_depth=12\u001b[0m\n",
      "\u001b[34m[162]#011train-rmse:0.145211#011validation-rmse:0.314765\u001b[0m\n",
      "\u001b[34m[12:29:27] src/tree/updater_prune.cc:74: tree pruning end, 1 roots, 38 extra nodes, 34 pruned nodes, max_depth=12\u001b[0m\n",
      "\u001b[34m[163]#011train-rmse:0.14484#011validation-rmse:0.314867\u001b[0m\n",
      "\u001b[34m[12:29:30] src/tree/updater_prune.cc:74: tree pruning end, 1 roots, 28 extra nodes, 22 pruned nodes, max_depth=12\u001b[0m\n",
      "\u001b[34m[164]#011train-rmse:0.14455#011validation-rmse:0.314886\u001b[0m\n",
      "\u001b[34m[12:29:32] src/tree/updater_prune.cc:74: tree pruning end, 1 roots, 36 extra nodes, 18 pruned nodes, max_depth=12\u001b[0m\n",
      "\u001b[34m[165]#011train-rmse:0.144206#011validation-rmse:0.314873\u001b[0m\n",
      "\u001b[34m[12:29:35] src/tree/updater_prune.cc:74: tree pruning end, 1 roots, 24 extra nodes, 20 pruned nodes, max_depth=12\u001b[0m\n",
      "\u001b[34m[166]#011train-rmse:0.144028#011validation-rmse:0.314713\u001b[0m\n",
      "\u001b[34m[12:29:38] src/tree/updater_prune.cc:74: tree pruning end, 1 roots, 28 extra nodes, 32 pruned nodes, max_depth=12\u001b[0m\n",
      "\u001b[34m[167]#011train-rmse:0.143735#011validation-rmse:0.314636\u001b[0m\n",
      "\u001b[34m[12:29:40] src/tree/updater_prune.cc:74: tree pruning end, 1 roots, 32 extra nodes, 30 pruned nodes, max_depth=12\u001b[0m\n",
      "\u001b[34m[168]#011train-rmse:0.143382#011validation-rmse:0.314526\u001b[0m\n",
      "\u001b[34m[12:29:43] src/tree/updater_prune.cc:74: tree pruning end, 1 roots, 24 extra nodes, 26 pruned nodes, max_depth=12\u001b[0m\n",
      "\u001b[34m[169]#011train-rmse:0.143165#011validation-rmse:0.314347\u001b[0m\n",
      "\u001b[34m[12:29:45] src/tree/updater_prune.cc:74: tree pruning end, 1 roots, 48 extra nodes, 42 pruned nodes, max_depth=12\u001b[0m\n",
      "\u001b[34m[170]#011train-rmse:0.142545#011validation-rmse:0.314445\u001b[0m\n",
      "\u001b[34m[12:29:48] src/tree/updater_prune.cc:74: tree pruning end, 1 roots, 32 extra nodes, 36 pruned nodes, max_depth=12\u001b[0m\n",
      "\u001b[34m[171]#011train-rmse:0.142182#011validation-rmse:0.314417\u001b[0m\n",
      "\u001b[34m[12:29:50] src/tree/updater_prune.cc:74: tree pruning end, 1 roots, 34 extra nodes, 18 pruned nodes, max_depth=12\u001b[0m\n",
      "\u001b[34m[172]#011train-rmse:0.141897#011validation-rmse:0.31422\u001b[0m\n",
      "\u001b[34m[12:29:53] src/tree/updater_prune.cc:74: tree pruning end, 1 roots, 32 extra nodes, 42 pruned nodes, max_depth=12\u001b[0m\n",
      "\u001b[34m[173]#011train-rmse:0.141635#011validation-rmse:0.314197\u001b[0m\n",
      "\u001b[34m[12:29:56] src/tree/updater_prune.cc:74: tree pruning end, 1 roots, 28 extra nodes, 46 pruned nodes, max_depth=12\u001b[0m\n",
      "\u001b[34m[174]#011train-rmse:0.141361#011validation-rmse:0.314144\u001b[0m\n",
      "\u001b[34m[12:29:58] src/tree/updater_prune.cc:74: tree pruning end, 1 roots, 56 extra nodes, 34 pruned nodes, max_depth=12\u001b[0m\n",
      "\u001b[34m[175]#011train-rmse:0.140639#011validation-rmse:0.31416\u001b[0m\n",
      "\u001b[34m[12:30:01] src/tree/updater_prune.cc:74: tree pruning end, 1 roots, 56 extra nodes, 46 pruned nodes, max_depth=12\u001b[0m\n",
      "\u001b[34m[176]#011train-rmse:0.139915#011validation-rmse:0.314181\u001b[0m\n",
      "\u001b[34m[12:30:04] src/tree/updater_prune.cc:74: tree pruning end, 1 roots, 46 extra nodes, 34 pruned nodes, max_depth=12\u001b[0m\n",
      "\u001b[34m[177]#011train-rmse:0.139435#011validation-rmse:0.31414\u001b[0m\n",
      "\u001b[34m[12:30:06] src/tree/updater_prune.cc:74: tree pruning end, 1 roots, 48 extra nodes, 30 pruned nodes, max_depth=12\u001b[0m\n",
      "\u001b[34m[178]#011train-rmse:0.138972#011validation-rmse:0.314113\u001b[0m\n",
      "\u001b[34m[12:30:09] src/tree/updater_prune.cc:74: tree pruning end, 1 roots, 26 extra nodes, 20 pruned nodes, max_depth=12\u001b[0m\n",
      "\u001b[34m[179]#011train-rmse:0.138805#011validation-rmse:0.314112\u001b[0m\n",
      "\u001b[34m[12:30:11] src/tree/updater_prune.cc:74: tree pruning end, 1 roots, 28 extra nodes, 18 pruned nodes, max_depth=12\u001b[0m\n",
      "\u001b[34m[180]#011train-rmse:0.138655#011validation-rmse:0.313967\u001b[0m\n",
      "\u001b[34m[12:30:14] src/tree/updater_prune.cc:74: tree pruning end, 1 roots, 40 extra nodes, 34 pruned nodes, max_depth=12\u001b[0m\n",
      "\u001b[34m[181]#011train-rmse:0.138207#011validation-rmse:0.313792\u001b[0m\n",
      "\u001b[34m[12:30:16] src/tree/updater_prune.cc:74: tree pruning end, 1 roots, 36 extra nodes, 20 pruned nodes, max_depth=12\u001b[0m\n",
      "\u001b[34m[182]#011train-rmse:0.137829#011validation-rmse:0.313637\u001b[0m\n",
      "\u001b[34m[12:30:19] src/tree/updater_prune.cc:74: tree pruning end, 1 roots, 26 extra nodes, 28 pruned nodes, max_depth=12\u001b[0m\n",
      "\u001b[34m[183]#011train-rmse:0.137653#011validation-rmse:0.313587\u001b[0m\n",
      "\u001b[34m[12:30:22] src/tree/updater_prune.cc:74: tree pruning end, 1 roots, 52 extra nodes, 42 pruned nodes, max_depth=12\u001b[0m\n",
      "\u001b[34m[184]#011train-rmse:0.13703#011validation-rmse:0.313516\u001b[0m\n",
      "\u001b[34m[12:30:24] src/tree/updater_prune.cc:74: tree pruning end, 1 roots, 46 extra nodes, 46 pruned nodes, max_depth=12\u001b[0m\n",
      "\u001b[34m[185]#011train-rmse:0.136409#011validation-rmse:0.313385\u001b[0m\n",
      "\u001b[34m[12:30:27] src/tree/updater_prune.cc:74: tree pruning end, 1 roots, 26 extra nodes, 34 pruned nodes, max_depth=12\u001b[0m\n",
      "\u001b[34m[186]#011train-rmse:0.136268#011validation-rmse:0.313278\u001b[0m\n",
      "\u001b[34m[12:30:30] src/tree/updater_prune.cc:74: tree pruning end, 1 roots, 50 extra nodes, 32 pruned nodes, max_depth=12\u001b[0m\n",
      "\u001b[34m[187]#011train-rmse:0.135689#011validation-rmse:0.313262\u001b[0m\n",
      "\u001b[34m[12:30:32] src/tree/updater_prune.cc:74: tree pruning end, 1 roots, 24 extra nodes, 8 pruned nodes, max_depth=11\u001b[0m\n",
      "\u001b[34m[188]#011train-rmse:0.13551#011validation-rmse:0.313121\u001b[0m\n",
      "\u001b[34m[12:30:35] src/tree/updater_prune.cc:74: tree pruning end, 1 roots, 28 extra nodes, 18 pruned nodes, max_depth=12\u001b[0m\n",
      "\u001b[34m[189]#011train-rmse:0.135302#011validation-rmse:0.312964\u001b[0m\n",
      "\u001b[34m[12:30:38] src/tree/updater_prune.cc:74: tree pruning end, 1 roots, 38 extra nodes, 42 pruned nodes, max_depth=12\u001b[0m\n",
      "\u001b[34m[190]#011train-rmse:0.134949#011validation-rmse:0.312836\u001b[0m\n",
      "\u001b[34m[12:30:40] src/tree/updater_prune.cc:74: tree pruning end, 1 roots, 26 extra nodes, 24 pruned nodes, max_depth=12\u001b[0m\n",
      "\u001b[34m[191]#011train-rmse:0.134723#011validation-rmse:0.312744\u001b[0m\n",
      "\u001b[34m[12:30:43] src/tree/updater_prune.cc:74: tree pruning end, 1 roots, 38 extra nodes, 34 pruned nodes, max_depth=12\u001b[0m\n",
      "\u001b[34m[192]#011train-rmse:0.134271#011validation-rmse:0.312663\u001b[0m\n",
      "\u001b[34m[12:30:46] src/tree/updater_prune.cc:74: tree pruning end, 1 roots, 36 extra nodes, 24 pruned nodes, max_depth=12\u001b[0m\n",
      "\u001b[34m[193]#011train-rmse:0.133966#011validation-rmse:0.312698\u001b[0m\n",
      "\u001b[34m[12:30:48] src/tree/updater_prune.cc:74: tree pruning end, 1 roots, 22 extra nodes, 22 pruned nodes, max_depth=10\u001b[0m\n",
      "\u001b[34m[194]#011train-rmse:0.133745#011validation-rmse:0.312602\u001b[0m\n",
      "\u001b[34m[12:30:51] src/tree/updater_prune.cc:74: tree pruning end, 1 roots, 34 extra nodes, 18 pruned nodes, max_depth=12\u001b[0m\n",
      "\u001b[34m[195]#011train-rmse:0.13344#011validation-rmse:0.312573\u001b[0m\n",
      "\u001b[34m[12:30:53] src/tree/updater_prune.cc:74: tree pruning end, 1 roots, 0 extra nodes, 40 pruned nodes, max_depth=0\u001b[0m\n",
      "\u001b[34m[196]#011train-rmse:0.13344#011validation-rmse:0.312573\u001b[0m\n",
      "\u001b[34m[12:30:56] src/tree/updater_prune.cc:74: tree pruning end, 1 roots, 0 extra nodes, 40 pruned nodes, max_depth=0\u001b[0m\n",
      "\u001b[34m[197]#011train-rmse:0.13344#011validation-rmse:0.312573\u001b[0m\n",
      "\u001b[34m[12:30:58] src/tree/updater_prune.cc:74: tree pruning end, 1 roots, 0 extra nodes, 40 pruned nodes, max_depth=0\u001b[0m\n",
      "\u001b[34m[198]#011train-rmse:0.13344#011validation-rmse:0.312573\u001b[0m\n",
      "\u001b[34m[12:31:01] src/tree/updater_prune.cc:74: tree pruning end, 1 roots, 0 extra nodes, 40 pruned nodes, max_depth=0\u001b[0m\n",
      "\u001b[34m[199]#011train-rmse:0.13344#011validation-rmse:0.312573\u001b[0m\n",
      "Training seconds: 583\n",
      "Billable seconds: 583\n"
     ]
    }
   ],
   "source": [
    "# TODO: Create a new estimator object attached to the best training job found during hyperparameter tuning\n",
    "\n",
    "xgb_attached = None\n",
    "xgb_attached = sagemaker.estimator.Estimator.attach(xgb_hyperparameter_tuner.best_training_job())\n"
   ]
  },
  {
   "cell_type": "code",
   "execution_count": 40,
   "metadata": {},
   "outputs": [
    {
     "name": "stdout",
     "output_type": "stream",
     "text": [
      "<class 'sagemaker.estimator.Estimator'>\n"
     ]
    }
   ],
   "source": [
    "print(type(xgb_attached))"
   ]
  },
  {
   "cell_type": "markdown",
   "metadata": {},
   "source": [
    "Now that we have an estimator object attached to the correct training job, we can proceed as we normally would and create a transformer object."
   ]
  },
  {
   "cell_type": "code",
   "execution_count": 41,
   "metadata": {},
   "outputs": [],
   "source": [
    "# TODO: Create a transformer object from the attached estimator. \n",
    "# Using an instance count of 1 and an instance type of ml.m4.xlarge\n",
    "#       should be more than enough.\n",
    "\n",
    "xgb_transformer = None\n",
    "xgb_transformer = xgb_attached.transformer(instance_count=1, instance_type='ml.m4.xlarge')"
   ]
  },
  {
   "cell_type": "code",
   "execution_count": 42,
   "metadata": {},
   "outputs": [
    {
     "name": "stdout",
     "output_type": "stream",
     "text": [
      "<class 'sagemaker.transformer.Transformer'>\n"
     ]
    }
   ],
   "source": [
    "print(type(xgb_transformer))"
   ]
  },
  {
   "cell_type": "markdown",
   "metadata": {},
   "source": [
    "Next we actually perform the transform job. When doing so we need to make sure to specify the type of data we are sending so that it is serialized correctly in the background. In our case we are providing our model with csv data so we specify `text/csv`. Also, if the test data that we have provided is too large to process all at once then we need to specify how the data file should be split up. Since each line is a single entry in our data set we tell SageMaker that it can split the input on each line."
   ]
  },
  {
   "cell_type": "code",
   "execution_count": 53,
   "metadata": {},
   "outputs": [],
   "source": [
    "# TODO: Start the transform job. Make sure to specify the content type and the \n",
    "# split type of the test data.\n",
    "\n",
    "xgb_transformer.transform(test_location, content_type='text/csv', split_type='Line')\n"
   ]
  },
  {
   "cell_type": "markdown",
   "metadata": {},
   "source": [
    "Currently the transform job is running but it is doing so in the background. Since we wish to wait until the transform job is done and we would like a bit of feedback we can run the `wait()` method."
   ]
  },
  {
   "cell_type": "code",
   "execution_count": 54,
   "metadata": {},
   "outputs": [
    {
     "name": "stdout",
     "output_type": "stream",
     "text": [
      "...................\u001b[34mArguments: serve\u001b[0m\n",
      "\u001b[34m[2020-06-24 13:23:25 +0000] [1] [INFO] Starting gunicorn 19.7.1\u001b[0m\n",
      "\u001b[34m[2020-06-24 13:23:25 +0000] [1] [INFO] Listening at: http://0.0.0.0:8080 (1)\u001b[0m\n",
      "\u001b[34m[2020-06-24 13:23:25 +0000] [1] [INFO] Using worker: gevent\u001b[0m\n",
      "\u001b[34m[2020-06-24 13:23:25 +0000] [38] [INFO] Booting worker with pid: 38\u001b[0m\n",
      "\u001b[34m[2020-06-24 13:23:25 +0000] [39] [INFO] Booting worker with pid: 39\u001b[0m\n",
      "\u001b[34m[2020-06-24 13:23:25 +0000] [40] [INFO] Booting worker with pid: 40\u001b[0m\n",
      "\u001b[34m[2020-06-24 13:23:25 +0000] [41] [INFO] Booting worker with pid: 41\u001b[0m\n",
      "\u001b[34m[2020-06-24:13:23:26:INFO] Model loaded successfully for worker : 40\u001b[0m\n",
      "\u001b[34m[2020-06-24:13:23:26:INFO] Model loaded successfully for worker : 38\u001b[0m\n",
      "\u001b[34m[2020-06-24:13:23:26:INFO] Model loaded successfully for worker : 39\u001b[0m\n",
      "\u001b[34m[2020-06-24:13:23:26:INFO] Model loaded successfully for worker : 41\u001b[0m\n",
      "\u001b[32m2020-06-24T13:23:55.509:[sagemaker logs]: MaxConcurrentTransforms=4, MaxPayloadInMB=6, BatchStrategy=MULTI_RECORD\u001b[0m\n",
      "\u001b[34m[2020-06-24:13:23:57:INFO] Sniff delimiter as ','\u001b[0m\n",
      "\u001b[34m[2020-06-24:13:23:57:INFO] Determined delimiter of CSV input is ','\u001b[0m\n",
      "\u001b[34m[2020-06-24:13:23:57:INFO] Sniff delimiter as ','\u001b[0m\n",
      "\u001b[34m[2020-06-24:13:23:57:INFO] Determined delimiter of CSV input is ','\u001b[0m\n",
      "\u001b[34m[2020-06-24:13:23:58:INFO] Sniff delimiter as ','\u001b[0m\n",
      "\u001b[34m[2020-06-24:13:23:58:INFO] Determined delimiter of CSV input is ','\u001b[0m\n",
      "\u001b[34m[2020-06-24:13:23:58:INFO] Sniff delimiter as ','\u001b[0m\n",
      "\u001b[34m[2020-06-24:13:23:58:INFO] Determined delimiter of CSV input is ','\u001b[0m\n",
      "\u001b[35m[2020-06-24:13:23:57:INFO] Sniff delimiter as ','\u001b[0m\n",
      "\u001b[35m[2020-06-24:13:23:57:INFO] Determined delimiter of CSV input is ','\u001b[0m\n",
      "\u001b[35m[2020-06-24:13:23:57:INFO] Sniff delimiter as ','\u001b[0m\n",
      "\u001b[35m[2020-06-24:13:23:57:INFO] Determined delimiter of CSV input is ','\u001b[0m\n",
      "\u001b[35m[2020-06-24:13:23:58:INFO] Sniff delimiter as ','\u001b[0m\n",
      "\u001b[35m[2020-06-24:13:23:58:INFO] Determined delimiter of CSV input is ','\u001b[0m\n",
      "\u001b[35m[2020-06-24:13:23:58:INFO] Sniff delimiter as ','\u001b[0m\n",
      "\u001b[35m[2020-06-24:13:23:58:INFO] Determined delimiter of CSV input is ','\u001b[0m\n",
      "\u001b[34m[2020-06-24:13:24:00:INFO] Sniff delimiter as ','\u001b[0m\n",
      "\u001b[34m[2020-06-24:13:24:00:INFO] Determined delimiter of CSV input is ','\u001b[0m\n",
      "\u001b[35m[2020-06-24:13:24:00:INFO] Sniff delimiter as ','\u001b[0m\n",
      "\u001b[35m[2020-06-24:13:24:00:INFO] Determined delimiter of CSV input is ','\u001b[0m\n",
      "\u001b[34m[2020-06-24:13:24:00:INFO] Sniff delimiter as ','\u001b[0m\n",
      "\u001b[34m[2020-06-24:13:24:00:INFO] Determined delimiter of CSV input is ','\u001b[0m\n",
      "\u001b[34m[2020-06-24:13:24:00:INFO] Sniff delimiter as ','\u001b[0m\n",
      "\u001b[34m[2020-06-24:13:24:00:INFO] Determined delimiter of CSV input is ','\u001b[0m\n",
      "\u001b[34m[2020-06-24:13:24:01:INFO] Sniff delimiter as ','\u001b[0m\n",
      "\u001b[34m[2020-06-24:13:24:01:INFO] Determined delimiter of CSV input is ','\u001b[0m\n",
      "\u001b[35m[2020-06-24:13:24:00:INFO] Sniff delimiter as ','\u001b[0m\n",
      "\u001b[35m[2020-06-24:13:24:00:INFO] Determined delimiter of CSV input is ','\u001b[0m\n",
      "\u001b[35m[2020-06-24:13:24:00:INFO] Sniff delimiter as ','\u001b[0m\n",
      "\u001b[35m[2020-06-24:13:24:00:INFO] Determined delimiter of CSV input is ','\u001b[0m\n",
      "\u001b[35m[2020-06-24:13:24:01:INFO] Sniff delimiter as ','\u001b[0m\n",
      "\u001b[35m[2020-06-24:13:24:01:INFO] Determined delimiter of CSV input is ','\u001b[0m\n",
      "\u001b[34m[2020-06-24:13:24:03:INFO] Sniff delimiter as ','\u001b[0m\n",
      "\u001b[34m[2020-06-24:13:24:03:INFO] Determined delimiter of CSV input is ','\u001b[0m\n",
      "\u001b[35m[2020-06-24:13:24:03:INFO] Sniff delimiter as ','\u001b[0m\n",
      "\u001b[35m[2020-06-24:13:24:03:INFO] Determined delimiter of CSV input is ','\u001b[0m\n",
      "\u001b[34m[2020-06-24:13:24:05:INFO] Sniff delimiter as ','\u001b[0m\n",
      "\u001b[35m[2020-06-24:13:24:05:INFO] Sniff delimiter as ','\u001b[0m\n",
      "\u001b[34m[2020-06-24:13:24:05:INFO] Determined delimiter of CSV input is ','\u001b[0m\n",
      "\u001b[34m[2020-06-24:13:24:05:INFO] Sniff delimiter as ','\u001b[0m\n",
      "\u001b[34m[2020-06-24:13:24:05:INFO] Determined delimiter of CSV input is ','\u001b[0m\n",
      "\u001b[35m[2020-06-24:13:24:05:INFO] Determined delimiter of CSV input is ','\u001b[0m\n",
      "\u001b[35m[2020-06-24:13:24:05:INFO] Sniff delimiter as ','\u001b[0m\n",
      "\u001b[35m[2020-06-24:13:24:05:INFO] Determined delimiter of CSV input is ','\u001b[0m\n",
      "\u001b[34m[2020-06-24:13:24:05:INFO] Sniff delimiter as ','\u001b[0m\n",
      "\u001b[34m[2020-06-24:13:24:05:INFO] Determined delimiter of CSV input is ','\u001b[0m\n",
      "\u001b[34m[2020-06-24:13:24:05:INFO] Sniff delimiter as ','\u001b[0m\n",
      "\u001b[34m[2020-06-24:13:24:05:INFO] Determined delimiter of CSV input is ','\u001b[0m\n",
      "\u001b[35m[2020-06-24:13:24:05:INFO] Sniff delimiter as ','\u001b[0m\n",
      "\u001b[35m[2020-06-24:13:24:05:INFO] Determined delimiter of CSV input is ','\u001b[0m\n",
      "\u001b[35m[2020-06-24:13:24:05:INFO] Sniff delimiter as ','\u001b[0m\n",
      "\u001b[35m[2020-06-24:13:24:05:INFO] Determined delimiter of CSV input is ','\u001b[0m\n",
      "\u001b[34m[2020-06-24:13:24:08:INFO] Sniff delimiter as ','\u001b[0m\n",
      "\u001b[34m[2020-06-24:13:24:08:INFO] Determined delimiter of CSV input is ','\u001b[0m\n",
      "\u001b[34m[2020-06-24:13:24:08:INFO] Sniff delimiter as ','\u001b[0m\n",
      "\u001b[34m[2020-06-24:13:24:08:INFO] Determined delimiter of CSV input is ','\u001b[0m\n",
      "\u001b[34m[2020-06-24:13:24:08:INFO] Sniff delimiter as ','\u001b[0m\n",
      "\u001b[34m[2020-06-24:13:24:08:INFO] Determined delimiter of CSV input is ','\u001b[0m\n",
      "\u001b[34m[2020-06-24:13:24:08:INFO] Sniff delimiter as ','\u001b[0m\n",
      "\u001b[34m[2020-06-24:13:24:08:INFO] Determined delimiter of CSV input is ','\u001b[0m\n",
      "\u001b[35m[2020-06-24:13:24:08:INFO] Sniff delimiter as ','\u001b[0m\n",
      "\u001b[35m[2020-06-24:13:24:08:INFO] Determined delimiter of CSV input is ','\u001b[0m\n",
      "\u001b[35m[2020-06-24:13:24:08:INFO] Sniff delimiter as ','\u001b[0m\n",
      "\u001b[35m[2020-06-24:13:24:08:INFO] Determined delimiter of CSV input is ','\u001b[0m\n",
      "\u001b[35m[2020-06-24:13:24:08:INFO] Sniff delimiter as ','\u001b[0m\n",
      "\u001b[35m[2020-06-24:13:24:08:INFO] Determined delimiter of CSV input is ','\u001b[0m\n",
      "\u001b[35m[2020-06-24:13:24:08:INFO] Sniff delimiter as ','\u001b[0m\n",
      "\u001b[35m[2020-06-24:13:24:08:INFO] Determined delimiter of CSV input is ','\u001b[0m\n",
      "\u001b[34m[2020-06-24:13:24:10:INFO] Sniff delimiter as ','\u001b[0m\n",
      "\u001b[34m[2020-06-24:13:24:10:INFO] Determined delimiter of CSV input is ','\u001b[0m\n",
      "\u001b[34m[2020-06-24:13:24:10:INFO] Sniff delimiter as ','\u001b[0m\n",
      "\u001b[34m[2020-06-24:13:24:10:INFO] Determined delimiter of CSV input is ','\u001b[0m\n",
      "\u001b[34m[2020-06-24:13:24:10:INFO] Sniff delimiter as ','\u001b[0m\n",
      "\u001b[34m[2020-06-24:13:24:10:INFO] Determined delimiter of CSV input is ','\u001b[0m\n",
      "\u001b[35m[2020-06-24:13:24:10:INFO] Sniff delimiter as ','\u001b[0m\n",
      "\u001b[35m[2020-06-24:13:24:10:INFO] Determined delimiter of CSV input is ','\u001b[0m\n",
      "\u001b[35m[2020-06-24:13:24:10:INFO] Sniff delimiter as ','\u001b[0m\n",
      "\u001b[35m[2020-06-24:13:24:10:INFO] Determined delimiter of CSV input is ','\u001b[0m\n",
      "\u001b[35m[2020-06-24:13:24:10:INFO] Sniff delimiter as ','\u001b[0m\n",
      "\u001b[35m[2020-06-24:13:24:10:INFO] Determined delimiter of CSV input is ','\u001b[0m\n",
      "\u001b[34m[2020-06-24:13:24:10:INFO] Sniff delimiter as ','\u001b[0m\n",
      "\u001b[35m[2020-06-24:13:24:10:INFO] Sniff delimiter as ','\u001b[0m\n",
      "\u001b[34m[2020-06-24:13:24:10:INFO] Determined delimiter of CSV input is ','\u001b[0m\n",
      "\u001b[35m[2020-06-24:13:24:10:INFO] Determined delimiter of CSV input is ','\u001b[0m\n",
      "\n",
      "\u001b[34m[2020-06-24:13:24:12:INFO] Determined delimiter of CSV input is ','\u001b[0m\n",
      "\u001b[34m[2020-06-24:13:24:12:INFO] Sniff delimiter as ','\u001b[0m\n",
      "\u001b[34m[2020-06-24:13:24:12:INFO] Determined delimiter of CSV input is ','\u001b[0m\n",
      "\u001b[35m[2020-06-24:13:24:12:INFO] Determined delimiter of CSV input is ','\u001b[0m\n",
      "\u001b[35m[2020-06-24:13:24:12:INFO] Sniff delimiter as ','\u001b[0m\n",
      "\u001b[35m[2020-06-24:13:24:12:INFO] Determined delimiter of CSV input is ','\u001b[0m\n",
      "\u001b[34m[2020-06-24:13:24:12:INFO] Sniff delimiter as ','\u001b[0m\n",
      "\u001b[34m[2020-06-24:13:24:12:INFO] Determined delimiter of CSV input is ','\u001b[0m\n",
      "\u001b[34m[2020-06-24:13:24:13:INFO] Sniff delimiter as ','\u001b[0m\n",
      "\u001b[34m[2020-06-24:13:24:13:INFO] Determined delimiter of CSV input is ','\u001b[0m\n",
      "\u001b[35m[2020-06-24:13:24:12:INFO] Sniff delimiter as ','\u001b[0m\n",
      "\u001b[35m[2020-06-24:13:24:12:INFO] Determined delimiter of CSV input is ','\u001b[0m\n",
      "\u001b[35m[2020-06-24:13:24:13:INFO] Sniff delimiter as ','\u001b[0m\n",
      "\u001b[35m[2020-06-24:13:24:13:INFO] Determined delimiter of CSV input is ','\u001b[0m\n",
      "\u001b[34m[2020-06-24:13:24:15:INFO] Sniff delimiter as ','\u001b[0m\n",
      "\u001b[34m[2020-06-24:13:24:15:INFO] Determined delimiter of CSV input is ','\u001b[0m\n",
      "\u001b[34m[2020-06-24:13:24:15:INFO] Sniff delimiter as ','\u001b[0m\n",
      "\u001b[35m[2020-06-24:13:24:15:INFO] Sniff delimiter as ','\u001b[0m\n",
      "\u001b[35m[2020-06-24:13:24:15:INFO] Determined delimiter of CSV input is ','\u001b[0m\n",
      "\u001b[35m[2020-06-24:13:24:15:INFO] Sniff delimiter as ','\u001b[0m\n",
      "\u001b[34m[2020-06-24:13:24:15:INFO] Determined delimiter of CSV input is ','\u001b[0m\n",
      "\u001b[34m[2020-06-24:13:24:15:INFO] Sniff delimiter as ','\u001b[0m\n",
      "\u001b[34m[2020-06-24:13:24:15:INFO] Determined delimiter of CSV input is ','\u001b[0m\n",
      "\u001b[35m[2020-06-24:13:24:15:INFO] Determined delimiter of CSV input is ','\u001b[0m\n",
      "\u001b[35m[2020-06-24:13:24:15:INFO] Sniff delimiter as ','\u001b[0m\n",
      "\u001b[35m[2020-06-24:13:24:15:INFO] Determined delimiter of CSV input is ','\u001b[0m\n",
      "\u001b[34m[2020-06-24:13:24:15:INFO] Sniff delimiter as ','\u001b[0m\n",
      "\u001b[34m[2020-06-24:13:24:15:INFO] Determined delimiter of CSV input is ','\u001b[0m\n",
      "\u001b[35m[2020-06-24:13:24:15:INFO] Sniff delimiter as ','\u001b[0m\n",
      "\u001b[35m[2020-06-24:13:24:15:INFO] Determined delimiter of CSV input is ','\u001b[0m\n",
      "\u001b[34m[2020-06-24:13:24:17:INFO] Sniff delimiter as ','\u001b[0m\n",
      "\u001b[34m[2020-06-24:13:24:17:INFO] Determined delimiter of CSV input is ','\u001b[0m\n",
      "\u001b[34m[2020-06-24:13:24:17:INFO] Sniff delimiter as ','\u001b[0m\n",
      "\u001b[34m[2020-06-24:13:24:17:INFO] Determined delimiter of CSV input is ','\u001b[0m\n",
      "\u001b[34m[2020-06-24:13:24:17:INFO] Sniff delimiter as ','\u001b[0m\n",
      "\u001b[34m[2020-06-24:13:24:17:INFO] Determined delimiter of CSV input is ','\u001b[0m\n",
      "\u001b[34m[2020-06-24:13:24:18:INFO] Sniff delimiter as ','\u001b[0m\n",
      "\u001b[34m[2020-06-24:13:24:18:INFO] Determined delimiter of CSV input is ','\u001b[0m\n",
      "\u001b[35m[2020-06-24:13:24:17:INFO] Sniff delimiter as ','\u001b[0m\n",
      "\u001b[35m[2020-06-24:13:24:17:INFO] Determined delimiter of CSV input is ','\u001b[0m\n",
      "\u001b[35m[2020-06-24:13:24:17:INFO] Sniff delimiter as ','\u001b[0m\n",
      "\u001b[35m[2020-06-24:13:24:17:INFO] Determined delimiter of CSV input is ','\u001b[0m\n",
      "\u001b[35m[2020-06-24:13:24:17:INFO] Sniff delimiter as ','\u001b[0m\n",
      "\u001b[35m[2020-06-24:13:24:17:INFO] Determined delimiter of CSV input is ','\u001b[0m\n",
      "\u001b[35m[2020-06-24:13:24:18:INFO] Sniff delimiter as ','\u001b[0m\n",
      "\u001b[35m[2020-06-24:13:24:18:INFO] Determined delimiter of CSV input is ','\u001b[0m\n",
      "\u001b[34m[2020-06-24:13:24:20:INFO] Sniff delimiter as ','\u001b[0m\n",
      "\u001b[34m[2020-06-24:13:24:20:INFO] Determined delimiter of CSV input is ','\u001b[0m\n",
      "\u001b[34m[2020-06-24:13:24:20:INFO] Sniff delimiter as ','\u001b[0m\n",
      "\u001b[34m[2020-06-24:13:24:20:INFO] Determined delimiter of CSV input is ','\u001b[0m\n",
      "\u001b[34m[2020-06-24:13:24:20:INFO] Sniff delimiter as ','\u001b[0m\n",
      "\u001b[34m[2020-06-24:13:24:20:INFO] Determined delimiter of CSV input is ','\u001b[0m\n",
      "\u001b[34m[2020-06-24:13:24:20:INFO] Sniff delimiter as ','\u001b[0m\n",
      "\u001b[34m[2020-06-24:13:24:20:INFO] Determined delimiter of CSV input is ','\u001b[0m\n",
      "\u001b[35m[2020-06-24:13:24:20:INFO] Sniff delimiter as ','\u001b[0m\n",
      "\u001b[35m[2020-06-24:13:24:20:INFO] Determined delimiter of CSV input is ','\u001b[0m\n",
      "\u001b[35m[2020-06-24:13:24:20:INFO] Sniff delimiter as ','\u001b[0m\n",
      "\u001b[35m[2020-06-24:13:24:20:INFO] Determined delimiter of CSV input is ','\u001b[0m\n",
      "\u001b[35m[2020-06-24:13:24:20:INFO] Sniff delimiter as ','\u001b[0m\n",
      "\u001b[35m[2020-06-24:13:24:20:INFO] Determined delimiter of CSV input is ','\u001b[0m\n",
      "\u001b[35m[2020-06-24:13:24:20:INFO] Sniff delimiter as ','\u001b[0m\n",
      "\u001b[35m[2020-06-24:13:24:20:INFO] Determined delimiter of CSV input is ','\u001b[0m\n"
     ]
    }
   ],
   "source": [
    "xgb_transformer.wait()"
   ]
  },
  {
   "cell_type": "markdown",
   "metadata": {},
   "source": [
    "Now the transform job has executed and the result, the estimated sentiment of each review, has been saved on S3. Since we would rather work on this file locally we can perform a bit of notebook magic to copy the file to the `data_dir`."
   ]
  },
  {
   "cell_type": "code",
   "execution_count": 55,
   "metadata": {},
   "outputs": [
    {
     "name": "stdout",
     "output_type": "stream",
     "text": [
      "Completed 256.0 KiB/374.9 KiB (4.2 MiB/s) with 1 file(s) remaining\r",
      "Completed 374.9 KiB/374.9 KiB (6.0 MiB/s) with 1 file(s) remaining\r",
      "download: s3://sagemaker-eu-central-1-245452871727/xgboost-200624-1139-016-0bb896c7-2020-06-24-13-20-21-830/test.csv.out to ../data/xgboost/test.csv.out\r\n"
     ]
    }
   ],
   "source": [
    "!aws s3 cp --recursive $xgb_transformer.output_path $data_dir"
   ]
  },
  {
   "cell_type": "markdown",
   "metadata": {},
   "source": [
    "The last step is now to read in the output from our model, convert the output to something a little more usable, in this case we want the sentiment to be either `1` (positive) or `0` (negative), and then compare to the ground truth labels."
   ]
  },
  {
   "cell_type": "code",
   "execution_count": 56,
   "metadata": {},
   "outputs": [],
   "source": [
    "predictions = pd.read_csv(os.path.join(data_dir, 'test.csv.out'), header=None)\n",
    "predictions = [round(num) for num in predictions.squeeze().values]"
   ]
  },
  {
   "cell_type": "code",
   "execution_count": 57,
   "metadata": {},
   "outputs": [
    {
     "data": {
      "text/plain": [
       "0.86704"
      ]
     },
     "execution_count": 57,
     "metadata": {},
     "output_type": "execute_result"
    }
   ],
   "source": [
    "from sklearn.metrics import accuracy_score\n",
    "accuracy_score(test_y, predictions)"
   ]
  },
  {
   "cell_type": "markdown",
   "metadata": {},
   "source": [
    "## Optional: Clean up\n",
    "\n",
    "The default notebook instance on SageMaker doesn't have a lot of excess disk space available. As you continue to complete and execute notebooks you will eventually fill up this disk space, leading to errors which can be difficult to diagnose. Once you are completely finished using a notebook it is a good idea to remove the files that you created along the way. Of course, you can do this from the terminal or from the notebook hub if you would like. The cell below contains some commands to clean up the created files from within the notebook."
   ]
  },
  {
   "cell_type": "code",
   "execution_count": 58,
   "metadata": {},
   "outputs": [],
   "source": [
    "# First we will remove all of the files contained in the data_dir directory\n",
    "!rm $data_dir/*\n",
    "\n",
    "# And then we delete the directory itself\n",
    "!rmdir $data_dir\n",
    "\n",
    "# Similarly we will remove the files in the cache_dir directory and the directory itself\n",
    "!rm $cache_dir/*\n",
    "!rmdir $cache_dir"
   ]
  },
  {
   "cell_type": "code",
   "execution_count": null,
   "metadata": {},
   "outputs": [],
   "source": []
  }
 ],
 "metadata": {
  "kernelspec": {
   "display_name": "conda_python3",
   "language": "python",
   "name": "conda_python3"
  },
  "language_info": {
   "codemirror_mode": {
    "name": "ipython",
    "version": 3
   },
   "file_extension": ".py",
   "mimetype": "text/x-python",
   "name": "python",
   "nbconvert_exporter": "python",
   "pygments_lexer": "ipython3",
   "version": "3.6.5"
  }
 },
 "nbformat": 4,
 "nbformat_minor": 2
}
