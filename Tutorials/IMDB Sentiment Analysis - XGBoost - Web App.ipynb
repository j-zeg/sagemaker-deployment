{
 "cells": [
  {
   "cell_type": "markdown",
   "metadata": {},
   "source": [
    "# Sentiment Analysis Web App\n",
    "\n",
    "_Deep Learning Nanodegree Program | Deployment_\n",
    "\n",
    "---\n",
    "\n",
    "In this notebook we will use Amazon's SageMaker service to construct a random tree model to predict the sentiment of a movie review. In addition, we will deploy this model to an endpoint and construct a very simple web app which will interact with our model's deployed endpoint.\n",
    "\n",
    "## General Outline\n",
    "\n",
    "Typically, when using a notebook instance with SageMaker, you will proceed through the following steps. Of course, not every step will need to be done with each project. Also, there is quite a lot of room for variation in many of the steps, as you will see throughout these lessons.\n",
    "\n",
    "1. Download or otherwise retrieve the data.\n",
    "2. Process / Prepare the data.\n",
    "3. Upload the processed data to S3.\n",
    "4. Train a chosen model.\n",
    "5. Test the trained model (typically using a batch transform job).\n",
    "6. Deploy the trained model.\n",
    "7. Use the deployed model.\n",
    "\n",
    "In this notebook we will progress through each of the steps above. We will also see that the final step, using the deployed model, can be quite challenging."
   ]
  },
  {
   "cell_type": "markdown",
   "metadata": {},
   "source": [
    "## Step 1: Downloading the data\n",
    "\n",
    "The dataset we are going to use is very popular among researchers in Natural Language Processing, usually referred to as the [IMDb dataset](http://ai.stanford.edu/~amaas/data/sentiment/). It consists of movie reviews from the website [imdb.com](http://www.imdb.com/), each labeled as either '**pos**itive', if the reviewer enjoyed the film, or '**neg**ative' otherwise.\n",
    "\n",
    "> Maas, Andrew L., et al. [Learning Word Vectors for Sentiment Analysis](http://ai.stanford.edu/~amaas/data/sentiment/). In _Proceedings of the 49th Annual Meeting of the Association for Computational Linguistics: Human Language Technologies_. Association for Computational Linguistics, 2011.\n",
    "\n",
    "We begin by using some Jupyter Notebook magic to download and extract the dataset."
   ]
  },
  {
   "cell_type": "code",
   "execution_count": 1,
   "metadata": {},
   "outputs": [
    {
     "name": "stdout",
     "output_type": "stream",
     "text": [
      "mkdir: cannot create directory ‘../data’: File exists\n",
      "--2020-06-23 08:40:28--  http://ai.stanford.edu/~amaas/data/sentiment/aclImdb_v1.tar.gz\n",
      "Resolving ai.stanford.edu (ai.stanford.edu)... 171.64.68.10\n",
      "Connecting to ai.stanford.edu (ai.stanford.edu)|171.64.68.10|:80... connected.\n",
      "HTTP request sent, awaiting response... 200 OK\n",
      "Length: 84125825 (80M) [application/x-gzip]\n",
      "Saving to: ‘../data/aclImdb_v1.tar.gz’\n",
      "\n",
      "../data/aclImdb_v1. 100%[===================>]  80.23M  10.2MB/s    in 11s     \n",
      "\n",
      "2020-06-23 08:40:39 (7.63 MB/s) - ‘../data/aclImdb_v1.tar.gz’ saved [84125825/84125825]\n",
      "\n"
     ]
    }
   ],
   "source": [
    "%mkdir ../data\n",
    "!wget -O ../data/aclImdb_v1.tar.gz http://ai.stanford.edu/~amaas/data/sentiment/aclImdb_v1.tar.gz\n",
    "!tar -zxf ../data/aclImdb_v1.tar.gz -C ../data"
   ]
  },
  {
   "cell_type": "markdown",
   "metadata": {},
   "source": [
    "## Step 2: Preparing and Processing the data\n",
    "\n",
    "The data we have downloaded is split into various files, each of which contains a single review. It will be much easier going forward if we combine these individual files into two large files, one for training and one for testing."
   ]
  },
  {
   "cell_type": "code",
   "execution_count": 2,
   "metadata": {},
   "outputs": [],
   "source": [
    "import os\n",
    "import glob\n",
    "\n",
    "def read_imdb_data(data_dir='../data/aclImdb'):\n",
    "    data = {}\n",
    "    labels = {}\n",
    "    \n",
    "    for data_type in ['train', 'test']:\n",
    "        data[data_type] = {}\n",
    "        labels[data_type] = {}\n",
    "        \n",
    "        for sentiment in ['pos', 'neg']:\n",
    "            data[data_type][sentiment] = []\n",
    "            labels[data_type][sentiment] = []\n",
    "            \n",
    "            path = os.path.join(data_dir, data_type, sentiment, '*.txt')\n",
    "            files = glob.glob(path)\n",
    "            \n",
    "            for f in files:\n",
    "                with open(f) as review:\n",
    "                    data[data_type][sentiment].append(review.read())\n",
    "                    # Here we represent a positive review by '1' and a negative review by '0'\n",
    "                    labels[data_type][sentiment].append(1 if sentiment == 'pos' else 0)\n",
    "                    \n",
    "            assert len(data[data_type][sentiment]) == len(labels[data_type][sentiment]), \\\n",
    "                    \"{}/{} data size does not match labels size\".format(data_type, sentiment)\n",
    "                \n",
    "    return data, labels"
   ]
  },
  {
   "cell_type": "code",
   "execution_count": 3,
   "metadata": {},
   "outputs": [
    {
     "name": "stdout",
     "output_type": "stream",
     "text": [
      "IMDB reviews: train = 12500 pos / 12500 neg, test = 12500 pos / 12500 neg\n"
     ]
    }
   ],
   "source": [
    "data, labels = read_imdb_data()\n",
    "print(\"IMDB reviews: train = {} pos / {} neg, test = {} pos / {} neg\".format(\n",
    "            len(data['train']['pos']), len(data['train']['neg']),\n",
    "            len(data['test']['pos']), len(data['test']['neg'])))"
   ]
  },
  {
   "cell_type": "code",
   "execution_count": 4,
   "metadata": {},
   "outputs": [],
   "source": [
    "from sklearn.utils import shuffle\n",
    "\n",
    "def prepare_imdb_data(data, labels):\n",
    "    \"\"\"Prepare training and test sets from IMDb movie reviews.\"\"\"\n",
    "    \n",
    "    #Combine positive and negative reviews and labels\n",
    "    data_train = data['train']['pos'] + data['train']['neg']\n",
    "    data_test = data['test']['pos'] + data['test']['neg']\n",
    "    labels_train = labels['train']['pos'] + labels['train']['neg']\n",
    "    labels_test = labels['test']['pos'] + labels['test']['neg']\n",
    "    \n",
    "    #Shuffle reviews and corresponding labels within training and test sets\n",
    "    data_train, labels_train = shuffle(data_train, labels_train)\n",
    "    data_test, labels_test = shuffle(data_test, labels_test)\n",
    "    \n",
    "    # Return a unified training data, test data, training labels, test labets\n",
    "    return data_train, data_test, labels_train, labels_test"
   ]
  },
  {
   "cell_type": "code",
   "execution_count": 5,
   "metadata": {},
   "outputs": [
    {
     "name": "stdout",
     "output_type": "stream",
     "text": [
      "IMDb reviews (combined): train = 25000, test = 25000\n"
     ]
    }
   ],
   "source": [
    "train_X, test_X, train_y, test_y = prepare_imdb_data(data, labels)\n",
    "print(\"IMDb reviews (combined): train = {}, test = {}\".format(len(train_X), len(test_X)))"
   ]
  },
  {
   "cell_type": "code",
   "execution_count": 6,
   "metadata": {},
   "outputs": [
    {
     "data": {
      "text/plain": [
       "\"The movie takes place in a little Swedish town where everybody knows each other. Here Mia visits her parent for the birthday of her father, a which occasionally always have some kind of tragedy, the question is just what will it be this year, and you will be surprised... It is an extremely well composed movie, with a story which has a perfect balance of humor and seriousness, which is rarely seen. You get happy, you get hurt, and basically everything in between. Finally you can't help falling in love with Mia(if you are a boy I guess(the main actress)) She is an extremely well chosen actress, as a lot of the other actors/actresses.<br /><br />Enjoy\""
      ]
     },
     "execution_count": 6,
     "metadata": {},
     "output_type": "execute_result"
    }
   ],
   "source": [
    "train_X[100]"
   ]
  },
  {
   "cell_type": "markdown",
   "metadata": {},
   "source": [
    "## Processing the data\n",
    "\n",
    "Now that we have our training and testing datasets merged and ready to use, we need to start processing the raw data into something that will be useable by our machine learning algorithm. To begin with, we remove any html formatting and any non-alpha numeric characters that may appear in the reviews. We will do this in a very simplistic way using Python's regular expression module. We will discuss the reason for this rather simplistic pre-processing later on."
   ]
  },
  {
   "cell_type": "code",
   "execution_count": 7,
   "metadata": {},
   "outputs": [],
   "source": [
    "import re\n",
    "\n",
    "REPLACE_NO_SPACE = re.compile(\"(\\.)|(\\;)|(\\:)|(\\!)|(\\')|(\\?)|(\\,)|(\\\")|(\\()|(\\))|(\\[)|(\\])\")\n",
    "REPLACE_WITH_SPACE = re.compile(\"(<br\\s*/><br\\s*/>)|(\\-)|(\\/)\")\n",
    "\n",
    "def review_to_words(review):\n",
    "    words = REPLACE_NO_SPACE.sub(\"\", review.lower())\n",
    "    words = REPLACE_WITH_SPACE.sub(\" \", words)\n",
    "    return words"
   ]
  },
  {
   "cell_type": "code",
   "execution_count": 8,
   "metadata": {},
   "outputs": [
    {
     "data": {
      "text/plain": [
       "'the movie takes place in a little swedish town where everybody knows each other here mia visits her parent for the birthday of her father a which occasionally always have some kind of tragedy the question is just what will it be this year and you will be surprised it is an extremely well composed movie with a story which has a perfect balance of humor and seriousness which is rarely seen you get happy you get hurt and basically everything in between finally you cant help falling in love with miaif you are a boy i guessthe main actress she is an extremely well chosen actress as a lot of the other actors actresses enjoy'"
      ]
     },
     "execution_count": 8,
     "metadata": {},
     "output_type": "execute_result"
    }
   ],
   "source": [
    "review_to_words(train_X[100])"
   ]
  },
  {
   "cell_type": "code",
   "execution_count": 3,
   "metadata": {},
   "outputs": [],
   "source": [
    "import pickle\n",
    "\n",
    "cache_dir = os.path.join(\"../cache\", \"sentiment_web_app\")  # where to store cache files\n",
    "os.makedirs(cache_dir, exist_ok=True)  # ensure cache directory exists\n",
    "\n",
    "def preprocess_data(data_train, data_test, labels_train, labels_test,\n",
    "                    cache_dir=cache_dir, cache_file=\"preprocessed_data.pkl\"):\n",
    "    \"\"\"Convert each review to words; read from cache if available.\"\"\"\n",
    "\n",
    "    # If cache_file is not None, try to read from it first\n",
    "    cache_data = None\n",
    "    if cache_file is not None:\n",
    "        try:\n",
    "            with open(os.path.join(cache_dir, cache_file), \"rb\") as f:\n",
    "                cache_data = pickle.load(f)\n",
    "            print(\"Read preprocessed data from cache file:\", cache_file)\n",
    "        except:\n",
    "            pass  # unable to read from cache, but that's okay\n",
    "    \n",
    "    # If cache is missing, then do the heavy lifting\n",
    "    if cache_data is None:\n",
    "        # Preprocess training and test data to obtain words for each review\n",
    "        #words_train = list(map(review_to_words, data_train))\n",
    "        #words_test = list(map(review_to_words, data_test))\n",
    "        words_train = [review_to_words(review) for review in data_train]\n",
    "        words_test = [review_to_words(review) for review in data_test]\n",
    "        \n",
    "        # Write to cache file for future runs\n",
    "        if cache_file is not None:\n",
    "            cache_data = dict(words_train=words_train, words_test=words_test,\n",
    "                              labels_train=labels_train, labels_test=labels_test)\n",
    "            with open(os.path.join(cache_dir, cache_file), \"wb\") as f:\n",
    "                pickle.dump(cache_data, f)\n",
    "            print(\"Wrote preprocessed data to cache file:\", cache_file)\n",
    "    else:\n",
    "        # Unpack data loaded from cache file\n",
    "        words_train, words_test, labels_train, labels_test = (cache_data['words_train'],\n",
    "                cache_data['words_test'], cache_data['labels_train'], cache_data['labels_test'])\n",
    "    \n",
    "    return words_train, words_test, labels_train, labels_test"
   ]
  },
  {
   "cell_type": "code",
   "execution_count": 10,
   "metadata": {},
   "outputs": [
    {
     "name": "stdout",
     "output_type": "stream",
     "text": [
      "Read preprocessed data from cache file: preprocessed_data.pkl\n"
     ]
    }
   ],
   "source": [
    "# Preprocess data\n",
    "train_X, test_X, train_y, test_y = preprocess_data(train_X, test_X, train_y, test_y)"
   ]
  },
  {
   "cell_type": "markdown",
   "metadata": {},
   "source": [
    "### Extract Bag-of-Words features\n",
    "\n",
    "For the model we will be implementing, rather than using the reviews directly, we are going to transform each review into a Bag-of-Words feature representation. Keep in mind that 'in the wild' we will only have access to the training set so our transformer can only use the training set to construct a representation."
   ]
  },
  {
   "cell_type": "code",
   "execution_count": 11,
   "metadata": {},
   "outputs": [],
   "source": [
    "import numpy as np\n",
    "from sklearn.feature_extraction.text import CountVectorizer\n",
    "from sklearn.externals import joblib\n",
    "# joblib is an enhanced version of pickle that is more efficient for storing NumPy arrays\n",
    "\n",
    "def extract_BoW_features(words_train, words_test, vocabulary_size=5000,\n",
    "                         cache_dir=cache_dir, cache_file=\"bow_features.pkl\"):\n",
    "    \"\"\"Extract Bag-of-Words for a given set of documents, already preprocessed into words.\"\"\"\n",
    "    \n",
    "    # If cache_file is not None, try to read from it first\n",
    "    cache_data = None\n",
    "    if cache_file is not None:\n",
    "        try:\n",
    "            with open(os.path.join(cache_dir, cache_file), \"rb\") as f:\n",
    "                cache_data = joblib.load(f)\n",
    "            print(\"Read features from cache file:\", cache_file)\n",
    "        except:\n",
    "            pass  # unable to read from cache, but that's okay\n",
    "    \n",
    "    # If cache is missing, then do the heavy lifting\n",
    "    if cache_data is None:\n",
    "        # Fit a vectorizer to training documents and use it to transform them\n",
    "        # NOTE: Training documents have already been preprocessed and tokenized into words;\n",
    "        #       pass in dummy functions to skip those steps, e.g. preprocessor=lambda x: x\n",
    "        vectorizer = CountVectorizer(max_features=vocabulary_size)\n",
    "        features_train = vectorizer.fit_transform(words_train).toarray()\n",
    "\n",
    "        # Apply the same vectorizer to transform the test documents (ignore unknown words)\n",
    "        features_test = vectorizer.transform(words_test).toarray()\n",
    "        \n",
    "        # NOTE: Remember to convert the features using .toarray() for a compact representation\n",
    "        \n",
    "        # Write to cache file for future runs (store vocabulary as well)\n",
    "        if cache_file is not None:\n",
    "            vocabulary = vectorizer.vocabulary_\n",
    "            cache_data = dict(features_train=features_train, features_test=features_test,\n",
    "                             vocabulary=vocabulary)\n",
    "            with open(os.path.join(cache_dir, cache_file), \"wb\") as f:\n",
    "                joblib.dump(cache_data, f)\n",
    "            print(\"Wrote features to cache file:\", cache_file)\n",
    "    else:\n",
    "        # Unpack data loaded from cache file\n",
    "        features_train, features_test, vocabulary = (cache_data['features_train'],\n",
    "                cache_data['features_test'], cache_data['vocabulary'])\n",
    "    \n",
    "    # Return both the extracted features as well as the vocabulary\n",
    "    return features_train, features_test, vocabulary"
   ]
  },
  {
   "cell_type": "code",
   "execution_count": 12,
   "metadata": {},
   "outputs": [
    {
     "name": "stdout",
     "output_type": "stream",
     "text": [
      "Read features from cache file: bow_features.pkl\n"
     ]
    }
   ],
   "source": [
    "# Extract Bag of Words features for both training and test datasets\n",
    "train_X, test_X, vocabulary = extract_BoW_features(train_X, test_X)"
   ]
  },
  {
   "cell_type": "code",
   "execution_count": 13,
   "metadata": {},
   "outputs": [
    {
     "data": {
      "text/plain": [
       "5000"
      ]
     },
     "execution_count": 13,
     "metadata": {},
     "output_type": "execute_result"
    }
   ],
   "source": [
    "len(train_X[100])"
   ]
  },
  {
   "cell_type": "markdown",
   "metadata": {},
   "source": [
    "## Step 3: Upload data to S3\n",
    "\n",
    "Now that we have created the feature representation of our training (and testing) data, it is time to start setting up and using the XGBoost classifier provided by SageMaker.\n",
    "\n",
    "### Writing the datasets\n",
    "\n",
    "The XGBoost classifier that we will be using requires the dataset to be written to a file and stored using Amazon S3. To do this, we will start by splitting the training dataset into two parts, the data we will train the model with and a validation set. Then, we will write those datasets to a file locally and then upload the files to S3. In addition, we will write the test set to a file and upload that file to S3. This is so that we can use SageMakers Batch Transform functionality to test our model once we've fit it."
   ]
  },
  {
   "cell_type": "code",
   "execution_count": 14,
   "metadata": {},
   "outputs": [],
   "source": [
    "import pandas as pd\n",
    "\n",
    "# Earlier we shuffled the training dataset so to make things simple we can just assign\n",
    "# the first 10 000 reviews to the validation set and use the remaining reviews for training.\n",
    "val_X = pd.DataFrame(train_X[:10000])\n",
    "train_X = pd.DataFrame(train_X[10000:])\n",
    "\n",
    "val_y = pd.DataFrame(train_y[:10000])\n",
    "train_y = pd.DataFrame(train_y[10000:])"
   ]
  },
  {
   "cell_type": "markdown",
   "metadata": {},
   "source": [
    "The documentation for the XGBoost algorithm in SageMaker requires that the training and validation datasets should contain no headers or index and that the label should occur first for each sample.\n",
    "\n",
    "For more information about this and other algorithms, the SageMaker developer documentation can be found on __[Amazon's website.](https://docs.aws.amazon.com/sagemaker/latest/dg/)__"
   ]
  },
  {
   "cell_type": "code",
   "execution_count": 2,
   "metadata": {},
   "outputs": [],
   "source": [
    "# First we make sure that the local directory in which we'd like to store the training and validation csv files exists.\n",
    "data_dir = '../data/sentiment_web_app'\n",
    "if not os.path.exists(data_dir):\n",
    "    os.makedirs(data_dir)"
   ]
  },
  {
   "cell_type": "code",
   "execution_count": 16,
   "metadata": {},
   "outputs": [],
   "source": [
    "pd.DataFrame(test_X).to_csv(os.path.join(data_dir, 'test.csv'), header=False, index=False)\n",
    "\n",
    "pd.concat([val_y, val_X], axis=1).to_csv(os.path.join(data_dir, 'validation.csv'), header=False, index=False)\n",
    "pd.concat([train_y, train_X], axis=1).to_csv(os.path.join(data_dir, 'train.csv'), header=False, index=False)"
   ]
  },
  {
   "cell_type": "code",
   "execution_count": 17,
   "metadata": {},
   "outputs": [],
   "source": [
    "# To save a bit of memory we can set text_X, train_X, val_X, train_y and val_y to None.\n",
    "\n",
    "test_X = train_X = val_X = train_y = val_y = None"
   ]
  },
  {
   "cell_type": "markdown",
   "metadata": {},
   "source": [
    "### Uploading Training / Validation files to S3\n",
    "\n",
    "Amazon's S3 service allows us to store files that can be accessed by both the built-in training models such as the XGBoost model we will be using as well as custom models such as the one we will see a little later.\n",
    "\n",
    "For this and most other tasks we will be doing using SageMaker, there are two methods we could use. The first is to use the low level functionality of SageMaker which requires knowing each of the objects involved in the SageMaker environment. The second is to use the high level functionality in which certain choices have been made on the user's behalf. The low level approach benefits from allowing the user a great deal of flexibility while the high level approach makes development much quicker. For our purposes we will opt to use the high level approach although using the low-level approach is certainly an option.\n",
    "\n",
    "Recall the method `upload_data()` which is a member of the object representing our current SageMaker session. What this method does is upload the data to the default bucket (which is created if it does not exist) into the path described by the key_prefix variable. To see this for yourself, once you have uploaded the data files, go to the S3 console and look to see where the files have been uploaded.\n",
    "\n",
    "For additional resources, see the __[SageMaker API documentation](http://sagemaker.readthedocs.io/en/latest/)__ and in addition the __[SageMaker Developer Guide.](https://docs.aws.amazon.com/sagemaker/latest/dg/)__"
   ]
  },
  {
   "cell_type": "code",
   "execution_count": 18,
   "metadata": {},
   "outputs": [],
   "source": [
    "import sagemaker\n",
    "\n",
    "session = sagemaker.Session() # Store the current SageMaker session\n",
    "\n",
    "# S3 prefix (which folder will we use)\n",
    "prefix = 'sentiment-web-app'\n",
    "\n",
    "test_location = session.upload_data(os.path.join(data_dir, 'test.csv'), key_prefix=prefix)\n",
    "val_location = session.upload_data(os.path.join(data_dir, 'validation.csv'), key_prefix=prefix)\n",
    "train_location = session.upload_data(os.path.join(data_dir, 'train.csv'), key_prefix=prefix)"
   ]
  },
  {
   "cell_type": "markdown",
   "metadata": {},
   "source": [
    "## Step 4: Creating the XGBoost model\n",
    "\n",
    "Now that the data has been uploaded it is time to create the XGBoost model. To begin with, we need to do some setup. At this point it is worth discussing what a model is in SageMaker. It is easiest to think of a model of comprising three different objects in the SageMaker ecosystem, which interact with one another.\n",
    "\n",
    "- Model Artifacts\n",
    "- Training Code (Container)\n",
    "- Inference Code (Container)\n",
    "\n",
    "The Model Artifacts are what you might think of as the actual model itself. For example, if you were building a neural network, the model artifacts would be the weights of the various layers. In our case, for an XGBoost model, the artifacts are the actual trees that are created during training.\n",
    "\n",
    "The other two objects, the training code and the inference code are then used to manipulate the training artifacts. More precisely, the training code uses the training data that is provided and creates the model artifacts, while the inference code uses the model artifacts to make predictions on new data.\n",
    "\n",
    "The way that SageMaker runs the training and inference code is by making use of Docker containers. For now, think of a container as being a way of packaging code up so that dependencies aren't an issue."
   ]
  },
  {
   "cell_type": "code",
   "execution_count": 19,
   "metadata": {},
   "outputs": [],
   "source": [
    "from sagemaker import get_execution_role\n",
    "\n",
    "# Our current execution role is required when creating the model as the training\n",
    "# and inference code will need to access the model artifacts.\n",
    "role = get_execution_role()"
   ]
  },
  {
   "cell_type": "code",
   "execution_count": 20,
   "metadata": {},
   "outputs": [
    {
     "name": "stderr",
     "output_type": "stream",
     "text": [
      "WARNING:root:There is a more up to date SageMaker XGBoost image. To use the newer image, please set 'repo_version'='0.90-1'. For example:\n",
      "\tget_image_uri(region, 'xgboost', '0.90-1').\n"
     ]
    }
   ],
   "source": [
    "# We need to retrieve the location of the container which is provided by Amazon for using XGBoost.\n",
    "# As a matter of convenience, the training and inference code both use the same container.\n",
    "from sagemaker.amazon.amazon_estimator import get_image_uri\n",
    "\n",
    "container = get_image_uri(session.boto_region_name, 'xgboost')"
   ]
  },
  {
   "cell_type": "code",
   "execution_count": 21,
   "metadata": {},
   "outputs": [],
   "source": [
    "# First we create a SageMaker estimator object for our model.\n",
    "xgb = sagemaker.estimator.Estimator(container, # The location of the container we wish to use\n",
    "                                    role,                                    # What is our current IAM Role\n",
    "                                    train_instance_count=1,                  # How many compute instances\n",
    "                                    train_instance_type='ml.m4.xlarge',      # What kind of compute instances\n",
    "                                    output_path='s3://{}/{}/output'.format(session.default_bucket(), prefix),\n",
    "                                    sagemaker_session=session)\n",
    "\n",
    "# And then set the algorithm specific parameters.\n",
    "xgb.set_hyperparameters(max_depth=5,\n",
    "                        eta=0.2,\n",
    "                        gamma=4,\n",
    "                        min_child_weight=6,\n",
    "                        subsample=0.8,\n",
    "                        silent=0,\n",
    "                        objective='binary:logistic',\n",
    "                        early_stopping_rounds=10,\n",
    "                        num_round=500)"
   ]
  },
  {
   "cell_type": "markdown",
   "metadata": {},
   "source": [
    "### Fit the XGBoost model\n",
    "\n",
    "Now that our model has been set up we simply need to attach the training and validation datasets and then ask SageMaker to set up the computation."
   ]
  },
  {
   "cell_type": "code",
   "execution_count": 22,
   "metadata": {},
   "outputs": [],
   "source": [
    "s3_input_train = sagemaker.s3_input(s3_data=train_location, content_type='csv')\n",
    "s3_input_validation = sagemaker.s3_input(s3_data=val_location, content_type='csv')"
   ]
  },
  {
   "cell_type": "code",
   "execution_count": 23,
   "metadata": {},
   "outputs": [
    {
     "name": "stdout",
     "output_type": "stream",
     "text": [
      "2020-06-23 08:46:10 Starting - Starting the training job...\n",
      "2020-06-23 08:46:13 Starting - Launching requested ML instances.........\n",
      "2020-06-23 08:47:44 Starting - Preparing the instances for training......\n",
      "2020-06-23 08:48:54 Downloading - Downloading input data...\n",
      "2020-06-23 08:49:37 Training - Training image download completed. Training in progress..\u001b[34mArguments: train\u001b[0m\n",
      "\u001b[34m[2020-06-23:08:49:37:INFO] Running standalone xgboost training.\u001b[0m\n",
      "\u001b[34m[2020-06-23:08:49:37:INFO] File size need to be processed in the node: 238.5mb. Available memory size in the node: 8480.14mb\u001b[0m\n",
      "\u001b[34m[2020-06-23:08:49:37:INFO] Determined delimiter of CSV input is ','\u001b[0m\n",
      "\u001b[34m[08:49:37] S3DistributionType set as FullyReplicated\u001b[0m\n",
      "\u001b[34m[08:49:39] 15000x5000 matrix with 75000000 entries loaded from /opt/ml/input/data/train?format=csv&label_column=0&delimiter=,\u001b[0m\n",
      "\u001b[34m[2020-06-23:08:49:39:INFO] Determined delimiter of CSV input is ','\u001b[0m\n",
      "\u001b[34m[08:49:39] S3DistributionType set as FullyReplicated\u001b[0m\n",
      "\u001b[34m[08:49:40] 10000x5000 matrix with 50000000 entries loaded from /opt/ml/input/data/validation?format=csv&label_column=0&delimiter=,\u001b[0m\n",
      "\u001b[34m[08:49:44] src/tree/updater_prune.cc:74: tree pruning end, 1 roots, 46 extra nodes, 4 pruned nodes, max_depth=5\u001b[0m\n",
      "\u001b[34m[0]#011train-error:0.298267#011validation-error:0.3165\u001b[0m\n",
      "\u001b[34mMultiple eval metrics have been passed: 'validation-error' will be used for early stopping.\n",
      "\u001b[0m\n",
      "\u001b[34mWill train until validation-error hasn't improved in 10 rounds.\u001b[0m\n",
      "\u001b[34m[08:49:45] src/tree/updater_prune.cc:74: tree pruning end, 1 roots, 42 extra nodes, 4 pruned nodes, max_depth=5\u001b[0m\n",
      "\u001b[34m[1]#011train-error:0.2924#011validation-error:0.3074\u001b[0m\n",
      "\u001b[34m[08:49:47] src/tree/updater_prune.cc:74: tree pruning end, 1 roots, 42 extra nodes, 6 pruned nodes, max_depth=5\u001b[0m\n",
      "\u001b[34m[2]#011train-error:0.278533#011validation-error:0.2933\u001b[0m\n",
      "\u001b[34m[08:49:48] src/tree/updater_prune.cc:74: tree pruning end, 1 roots, 50 extra nodes, 8 pruned nodes, max_depth=5\u001b[0m\n",
      "\u001b[34m[3]#011train-error:0.272067#011validation-error:0.2869\u001b[0m\n",
      "\u001b[34m[08:49:49] src/tree/updater_prune.cc:74: tree pruning end, 1 roots, 38 extra nodes, 4 pruned nodes, max_depth=5\u001b[0m\n",
      "\u001b[34m[4]#011train-error:0.258667#011validation-error:0.2764\u001b[0m\n",
      "\u001b[34m[08:49:51] src/tree/updater_prune.cc:74: tree pruning end, 1 roots, 30 extra nodes, 2 pruned nodes, max_depth=5\u001b[0m\n",
      "\u001b[34m[5]#011train-error:0.258667#011validation-error:0.2762\u001b[0m\n",
      "\u001b[34m[08:49:52] src/tree/updater_prune.cc:74: tree pruning end, 1 roots, 26 extra nodes, 6 pruned nodes, max_depth=5\u001b[0m\n",
      "\u001b[34m[6]#011train-error:0.243933#011validation-error:0.2647\u001b[0m\n",
      "\u001b[34m[08:49:53] src/tree/updater_prune.cc:74: tree pruning end, 1 roots, 38 extra nodes, 4 pruned nodes, max_depth=5\u001b[0m\n",
      "\u001b[34m[7]#011train-error:0.235533#011validation-error:0.257\u001b[0m\n",
      "\u001b[34m[08:49:54] src/tree/updater_prune.cc:74: tree pruning end, 1 roots, 36 extra nodes, 8 pruned nodes, max_depth=5\u001b[0m\n",
      "\u001b[34m[8]#011train-error:0.226733#011validation-error:0.2498\u001b[0m\n",
      "\u001b[34m[08:49:56] src/tree/updater_prune.cc:74: tree pruning end, 1 roots, 40 extra nodes, 4 pruned nodes, max_depth=5\u001b[0m\n",
      "\u001b[34m[9]#011train-error:0.224533#011validation-error:0.2466\u001b[0m\n",
      "\u001b[34m[08:49:57] src/tree/updater_prune.cc:74: tree pruning end, 1 roots, 28 extra nodes, 4 pruned nodes, max_depth=5\u001b[0m\n",
      "\u001b[34m[10]#011train-error:0.218333#011validation-error:0.2406\u001b[0m\n",
      "\u001b[34m[08:49:58] src/tree/updater_prune.cc:74: tree pruning end, 1 roots, 42 extra nodes, 4 pruned nodes, max_depth=5\u001b[0m\n",
      "\u001b[34m[11]#011train-error:0.2132#011validation-error:0.2354\u001b[0m\n",
      "\u001b[34m[08:49:59] src/tree/updater_prune.cc:74: tree pruning end, 1 roots, 42 extra nodes, 8 pruned nodes, max_depth=5\u001b[0m\n",
      "\u001b[34m[12]#011train-error:0.210533#011validation-error:0.2361\u001b[0m\n",
      "\u001b[34m[08:50:01] src/tree/updater_prune.cc:74: tree pruning end, 1 roots, 28 extra nodes, 8 pruned nodes, max_depth=5\u001b[0m\n",
      "\u001b[34m[13]#011train-error:0.206933#011validation-error:0.2323\u001b[0m\n",
      "\u001b[34m[08:50:02] src/tree/updater_prune.cc:74: tree pruning end, 1 roots, 32 extra nodes, 2 pruned nodes, max_depth=5\u001b[0m\n",
      "\u001b[34m[14]#011train-error:0.2024#011validation-error:0.2257\u001b[0m\n",
      "\u001b[34m[08:50:03] src/tree/updater_prune.cc:74: tree pruning end, 1 roots, 20 extra nodes, 16 pruned nodes, max_depth=5\u001b[0m\n",
      "\u001b[34m[15]#011train-error:0.200133#011validation-error:0.2242\u001b[0m\n",
      "\u001b[34m[08:50:05] src/tree/updater_prune.cc:74: tree pruning end, 1 roots, 24 extra nodes, 8 pruned nodes, max_depth=5\u001b[0m\n",
      "\u001b[34m[16]#011train-error:0.197667#011validation-error:0.2214\u001b[0m\n",
      "\u001b[34m[08:50:06] src/tree/updater_prune.cc:74: tree pruning end, 1 roots, 16 extra nodes, 8 pruned nodes, max_depth=5\u001b[0m\n",
      "\u001b[34m[17]#011train-error:0.1948#011validation-error:0.2192\u001b[0m\n",
      "\u001b[34m[08:50:07] src/tree/updater_prune.cc:74: tree pruning end, 1 roots, 32 extra nodes, 6 pruned nodes, max_depth=5\u001b[0m\n",
      "\u001b[34m[18]#011train-error:0.1918#011validation-error:0.2185\u001b[0m\n",
      "\u001b[34m[08:50:08] src/tree/updater_prune.cc:74: tree pruning end, 1 roots, 36 extra nodes, 4 pruned nodes, max_depth=5\u001b[0m\n",
      "\u001b[34m[19]#011train-error:0.188667#011validation-error:0.2153\u001b[0m\n",
      "\u001b[34m[08:50:10] src/tree/updater_prune.cc:74: tree pruning end, 1 roots, 24 extra nodes, 10 pruned nodes, max_depth=5\u001b[0m\n",
      "\u001b[34m[20]#011train-error:0.185667#011validation-error:0.2125\u001b[0m\n",
      "\u001b[34m[08:50:11] src/tree/updater_prune.cc:74: tree pruning end, 1 roots, 26 extra nodes, 8 pruned nodes, max_depth=5\u001b[0m\n",
      "\u001b[34m[21]#011train-error:0.183133#011validation-error:0.2105\u001b[0m\n",
      "\u001b[34m[08:50:12] src/tree/updater_prune.cc:74: tree pruning end, 1 roots, 34 extra nodes, 2 pruned nodes, max_depth=5\u001b[0m\n",
      "\u001b[34m[22]#011train-error:0.1796#011validation-error:0.2101\u001b[0m\n",
      "\u001b[34m[08:50:13] src/tree/updater_prune.cc:74: tree pruning end, 1 roots, 34 extra nodes, 4 pruned nodes, max_depth=5\u001b[0m\n",
      "\u001b[34m[23]#011train-error:0.175467#011validation-error:0.2068\u001b[0m\n",
      "\u001b[34m[08:50:15] src/tree/updater_prune.cc:74: tree pruning end, 1 roots, 34 extra nodes, 8 pruned nodes, max_depth=5\u001b[0m\n",
      "\u001b[34m[24]#011train-error:0.174533#011validation-error:0.2045\u001b[0m\n",
      "\u001b[34m[08:50:16] src/tree/updater_prune.cc:74: tree pruning end, 1 roots, 20 extra nodes, 12 pruned nodes, max_depth=5\u001b[0m\n",
      "\u001b[34m[25]#011train-error:0.172867#011validation-error:0.2029\u001b[0m\n",
      "\u001b[34m[08:50:17] src/tree/updater_prune.cc:74: tree pruning end, 1 roots, 32 extra nodes, 8 pruned nodes, max_depth=5\u001b[0m\n",
      "\u001b[34m[26]#011train-error:0.17#011validation-error:0.1995\u001b[0m\n",
      "\u001b[34m[08:50:18] src/tree/updater_prune.cc:74: tree pruning end, 1 roots, 28 extra nodes, 6 pruned nodes, max_depth=5\u001b[0m\n",
      "\u001b[34m[27]#011train-error:0.166933#011validation-error:0.1972\u001b[0m\n",
      "\u001b[34m[08:50:20] src/tree/updater_prune.cc:74: tree pruning end, 1 roots, 22 extra nodes, 4 pruned nodes, max_depth=5\u001b[0m\n",
      "\u001b[34m[28]#011train-error:0.165133#011validation-error:0.1957\u001b[0m\n",
      "\u001b[34m[08:50:21] src/tree/updater_prune.cc:74: tree pruning end, 1 roots, 26 extra nodes, 4 pruned nodes, max_depth=5\u001b[0m\n",
      "\u001b[34m[29]#011train-error:0.1636#011validation-error:0.1956\u001b[0m\n",
      "\u001b[34m[08:50:22] src/tree/updater_prune.cc:74: tree pruning end, 1 roots, 30 extra nodes, 8 pruned nodes, max_depth=5\u001b[0m\n",
      "\u001b[34m[30]#011train-error:0.163533#011validation-error:0.1954\u001b[0m\n",
      "\u001b[34m[08:50:23] src/tree/updater_prune.cc:74: tree pruning end, 1 roots, 26 extra nodes, 10 pruned nodes, max_depth=5\u001b[0m\n",
      "\u001b[34m[31]#011train-error:0.162933#011validation-error:0.1946\u001b[0m\n",
      "\u001b[34m[08:50:25] src/tree/updater_prune.cc:74: tree pruning end, 1 roots, 28 extra nodes, 6 pruned nodes, max_depth=5\u001b[0m\n",
      "\u001b[34m[32]#011train-error:0.1612#011validation-error:0.1923\u001b[0m\n",
      "\u001b[34m[08:50:26] src/tree/updater_prune.cc:74: tree pruning end, 1 roots, 18 extra nodes, 6 pruned nodes, max_depth=5\u001b[0m\n",
      "\u001b[34m[33]#011train-error:0.160733#011validation-error:0.1912\u001b[0m\n",
      "\u001b[34m[08:50:27] src/tree/updater_prune.cc:74: tree pruning end, 1 roots, 36 extra nodes, 12 pruned nodes, max_depth=5\u001b[0m\n",
      "\u001b[34m[34]#011train-error:0.1586#011validation-error:0.1903\u001b[0m\n",
      "\u001b[34m[08:50:28] src/tree/updater_prune.cc:74: tree pruning end, 1 roots, 30 extra nodes, 8 pruned nodes, max_depth=5\u001b[0m\n",
      "\u001b[34m[35]#011train-error:0.1566#011validation-error:0.19\u001b[0m\n",
      "\u001b[34m[08:50:30] src/tree/updater_prune.cc:74: tree pruning end, 1 roots, 24 extra nodes, 6 pruned nodes, max_depth=5\u001b[0m\n",
      "\u001b[34m[36]#011train-error:0.153667#011validation-error:0.188\u001b[0m\n",
      "\u001b[34m[08:50:31] src/tree/updater_prune.cc:74: tree pruning end, 1 roots, 32 extra nodes, 8 pruned nodes, max_depth=5\u001b[0m\n",
      "\u001b[34m[37]#011train-error:0.152667#011validation-error:0.1861\u001b[0m\n",
      "\u001b[34m[08:50:32] src/tree/updater_prune.cc:74: tree pruning end, 1 roots, 20 extra nodes, 4 pruned nodes, max_depth=5\u001b[0m\n",
      "\u001b[34m[38]#011train-error:0.151733#011validation-error:0.1855\u001b[0m\n",
      "\u001b[34m[08:50:33] src/tree/updater_prune.cc:74: tree pruning end, 1 roots, 22 extra nodes, 18 pruned nodes, max_depth=5\u001b[0m\n",
      "\u001b[34m[39]#011train-error:0.151#011validation-error:0.1848\u001b[0m\n",
      "\u001b[34m[08:50:35] src/tree/updater_prune.cc:74: tree pruning end, 1 roots, 24 extra nodes, 6 pruned nodes, max_depth=5\u001b[0m\n",
      "\u001b[34m[40]#011train-error:0.149#011validation-error:0.1848\u001b[0m\n",
      "\u001b[34m[08:50:36] src/tree/updater_prune.cc:74: tree pruning end, 1 roots, 14 extra nodes, 6 pruned nodes, max_depth=5\u001b[0m\n",
      "\u001b[34m[41]#011train-error:0.148067#011validation-error:0.1847\u001b[0m\n",
      "\u001b[34m[08:50:37] src/tree/updater_prune.cc:74: tree pruning end, 1 roots, 38 extra nodes, 12 pruned nodes, max_depth=5\u001b[0m\n",
      "\u001b[34m[42]#011train-error:0.145#011validation-error:0.1834\u001b[0m\n",
      "\u001b[34m[08:50:39] src/tree/updater_prune.cc:74: tree pruning end, 1 roots, 38 extra nodes, 18 pruned nodes, max_depth=5\u001b[0m\n",
      "\u001b[34m[43]#011train-error:0.1434#011validation-error:0.1826\u001b[0m\n"
     ]
    },
    {
     "name": "stdout",
     "output_type": "stream",
     "text": [
      "\u001b[34m[08:50:40] src/tree/updater_prune.cc:74: tree pruning end, 1 roots, 16 extra nodes, 12 pruned nodes, max_depth=5\u001b[0m\n",
      "\u001b[34m[44]#011train-error:0.142867#011validation-error:0.1817\u001b[0m\n",
      "\u001b[34m[08:50:41] src/tree/updater_prune.cc:74: tree pruning end, 1 roots, 16 extra nodes, 6 pruned nodes, max_depth=5\u001b[0m\n",
      "\u001b[34m[45]#011train-error:0.1424#011validation-error:0.1818\u001b[0m\n",
      "\u001b[34m[08:50:42] src/tree/updater_prune.cc:74: tree pruning end, 1 roots, 34 extra nodes, 10 pruned nodes, max_depth=5\u001b[0m\n",
      "\u001b[34m[46]#011train-error:0.140533#011validation-error:0.1809\u001b[0m\n",
      "\u001b[34m[08:50:44] src/tree/updater_prune.cc:74: tree pruning end, 1 roots, 22 extra nodes, 8 pruned nodes, max_depth=5\u001b[0m\n",
      "\u001b[34m[47]#011train-error:0.138733#011validation-error:0.1804\u001b[0m\n",
      "\u001b[34m[08:50:45] src/tree/updater_prune.cc:74: tree pruning end, 1 roots, 26 extra nodes, 10 pruned nodes, max_depth=5\u001b[0m\n",
      "\u001b[34m[48]#011train-error:0.136667#011validation-error:0.1796\u001b[0m\n",
      "\u001b[34m[08:50:46] src/tree/updater_prune.cc:74: tree pruning end, 1 roots, 20 extra nodes, 8 pruned nodes, max_depth=5\u001b[0m\n",
      "\u001b[34m[49]#011train-error:0.135933#011validation-error:0.1779\u001b[0m\n",
      "\u001b[34m[08:50:47] src/tree/updater_prune.cc:74: tree pruning end, 1 roots, 26 extra nodes, 0 pruned nodes, max_depth=5\u001b[0m\n",
      "\u001b[34m[50]#011train-error:0.134#011validation-error:0.1769\u001b[0m\n",
      "\u001b[34m[08:50:49] src/tree/updater_prune.cc:74: tree pruning end, 1 roots, 18 extra nodes, 4 pruned nodes, max_depth=5\u001b[0m\n",
      "\u001b[34m[51]#011train-error:0.1324#011validation-error:0.1765\u001b[0m\n",
      "\u001b[34m[08:50:50] src/tree/updater_prune.cc:74: tree pruning end, 1 roots, 20 extra nodes, 8 pruned nodes, max_depth=5\u001b[0m\n",
      "\u001b[34m[52]#011train-error:0.1326#011validation-error:0.1766\u001b[0m\n",
      "\u001b[34m[08:50:51] src/tree/updater_prune.cc:74: tree pruning end, 1 roots, 22 extra nodes, 18 pruned nodes, max_depth=5\u001b[0m\n",
      "\u001b[34m[53]#011train-error:0.131467#011validation-error:0.1748\u001b[0m\n",
      "\u001b[34m[08:50:52] src/tree/updater_prune.cc:74: tree pruning end, 1 roots, 26 extra nodes, 14 pruned nodes, max_depth=5\u001b[0m\n",
      "\u001b[34m[54]#011train-error:0.1308#011validation-error:0.1754\u001b[0m\n",
      "\u001b[34m[08:50:54] src/tree/updater_prune.cc:74: tree pruning end, 1 roots, 28 extra nodes, 4 pruned nodes, max_depth=5\u001b[0m\n",
      "\u001b[34m[55]#011train-error:0.129267#011validation-error:0.1755\u001b[0m\n",
      "\u001b[34m[08:50:55] src/tree/updater_prune.cc:74: tree pruning end, 1 roots, 18 extra nodes, 6 pruned nodes, max_depth=5\u001b[0m\n",
      "\u001b[34m[56]#011train-error:0.1284#011validation-error:0.1766\u001b[0m\n",
      "\u001b[34m[08:50:56] src/tree/updater_prune.cc:74: tree pruning end, 1 roots, 18 extra nodes, 6 pruned nodes, max_depth=5\u001b[0m\n",
      "\u001b[34m[57]#011train-error:0.1276#011validation-error:0.1751\u001b[0m\n",
      "\u001b[34m[08:50:57] src/tree/updater_prune.cc:74: tree pruning end, 1 roots, 28 extra nodes, 8 pruned nodes, max_depth=5\u001b[0m\n",
      "\u001b[34m[58]#011train-error:0.127333#011validation-error:0.1745\u001b[0m\n",
      "\u001b[34m[08:50:59] src/tree/updater_prune.cc:74: tree pruning end, 1 roots, 20 extra nodes, 8 pruned nodes, max_depth=5\u001b[0m\n",
      "\u001b[34m[59]#011train-error:0.127#011validation-error:0.1736\u001b[0m\n",
      "\u001b[34m[08:51:00] src/tree/updater_prune.cc:74: tree pruning end, 1 roots, 14 extra nodes, 4 pruned nodes, max_depth=5\u001b[0m\n",
      "\u001b[34m[60]#011train-error:0.1266#011validation-error:0.1723\u001b[0m\n",
      "\u001b[34m[08:51:01] src/tree/updater_prune.cc:74: tree pruning end, 1 roots, 20 extra nodes, 10 pruned nodes, max_depth=5\u001b[0m\n",
      "\u001b[34m[61]#011train-error:0.125933#011validation-error:0.1727\u001b[0m\n",
      "\u001b[34m[08:51:02] src/tree/updater_prune.cc:74: tree pruning end, 1 roots, 18 extra nodes, 16 pruned nodes, max_depth=5\u001b[0m\n",
      "\u001b[34m[62]#011train-error:0.1258#011validation-error:0.1733\u001b[0m\n",
      "\u001b[34m[08:51:04] src/tree/updater_prune.cc:74: tree pruning end, 1 roots, 16 extra nodes, 8 pruned nodes, max_depth=5\u001b[0m\n",
      "\u001b[34m[63]#011train-error:0.124867#011validation-error:0.1727\u001b[0m\n",
      "\u001b[34m[08:51:05] src/tree/updater_prune.cc:74: tree pruning end, 1 roots, 22 extra nodes, 16 pruned nodes, max_depth=5\u001b[0m\n",
      "\u001b[34m[64]#011train-error:0.123733#011validation-error:0.1715\u001b[0m\n",
      "\u001b[34m[08:51:06] src/tree/updater_prune.cc:74: tree pruning end, 1 roots, 20 extra nodes, 2 pruned nodes, max_depth=5\u001b[0m\n",
      "\u001b[34m[65]#011train-error:0.123733#011validation-error:0.1722\u001b[0m\n",
      "\u001b[34m[08:51:07] src/tree/updater_prune.cc:74: tree pruning end, 1 roots, 20 extra nodes, 10 pruned nodes, max_depth=5\u001b[0m\n",
      "\u001b[34m[66]#011train-error:0.1228#011validation-error:0.1711\u001b[0m\n",
      "\u001b[34m[08:51:09] src/tree/updater_prune.cc:74: tree pruning end, 1 roots, 24 extra nodes, 2 pruned nodes, max_depth=5\u001b[0m\n",
      "\u001b[34m[67]#011train-error:0.1214#011validation-error:0.1711\u001b[0m\n",
      "\u001b[34m[08:51:10] src/tree/updater_prune.cc:74: tree pruning end, 1 roots, 18 extra nodes, 6 pruned nodes, max_depth=5\u001b[0m\n",
      "\u001b[34m[68]#011train-error:0.120533#011validation-error:0.1703\u001b[0m\n",
      "\u001b[34m[08:51:11] src/tree/updater_prune.cc:74: tree pruning end, 1 roots, 14 extra nodes, 10 pruned nodes, max_depth=5\u001b[0m\n",
      "\u001b[34m[69]#011train-error:0.119733#011validation-error:0.1683\u001b[0m\n",
      "\u001b[34m[08:51:12] src/tree/updater_prune.cc:74: tree pruning end, 1 roots, 16 extra nodes, 12 pruned nodes, max_depth=5\u001b[0m\n",
      "\u001b[34m[70]#011train-error:0.1192#011validation-error:0.1667\u001b[0m\n",
      "\u001b[34m[08:51:14] src/tree/updater_prune.cc:74: tree pruning end, 1 roots, 22 extra nodes, 8 pruned nodes, max_depth=5\u001b[0m\n",
      "\u001b[34m[71]#011train-error:0.118467#011validation-error:0.167\u001b[0m\n",
      "\u001b[34m[08:51:15] src/tree/updater_prune.cc:74: tree pruning end, 1 roots, 26 extra nodes, 4 pruned nodes, max_depth=5\u001b[0m\n",
      "\u001b[34m[72]#011train-error:0.1174#011validation-error:0.1674\u001b[0m\n",
      "\u001b[34m[08:51:16] src/tree/updater_prune.cc:74: tree pruning end, 1 roots, 26 extra nodes, 18 pruned nodes, max_depth=5\u001b[0m\n",
      "\u001b[34m[73]#011train-error:0.1172#011validation-error:0.1665\u001b[0m\n",
      "\u001b[34m[08:51:17] src/tree/updater_prune.cc:74: tree pruning end, 1 roots, 26 extra nodes, 6 pruned nodes, max_depth=5\u001b[0m\n",
      "\u001b[34m[74]#011train-error:0.1166#011validation-error:0.1666\u001b[0m\n",
      "\u001b[34m[08:51:19] src/tree/updater_prune.cc:74: tree pruning end, 1 roots, 18 extra nodes, 6 pruned nodes, max_depth=5\u001b[0m\n",
      "\u001b[34m[75]#011train-error:0.115133#011validation-error:0.1667\u001b[0m\n",
      "\u001b[34m[08:51:20] src/tree/updater_prune.cc:74: tree pruning end, 1 roots, 16 extra nodes, 2 pruned nodes, max_depth=5\u001b[0m\n",
      "\u001b[34m[76]#011train-error:0.114867#011validation-error:0.1654\u001b[0m\n",
      "\u001b[34m[08:51:21] src/tree/updater_prune.cc:74: tree pruning end, 1 roots, 24 extra nodes, 6 pruned nodes, max_depth=5\u001b[0m\n",
      "\u001b[34m[77]#011train-error:0.113533#011validation-error:0.1654\u001b[0m\n",
      "\u001b[34m[08:51:22] src/tree/updater_prune.cc:74: tree pruning end, 1 roots, 18 extra nodes, 4 pruned nodes, max_depth=5\u001b[0m\n",
      "\u001b[34m[78]#011train-error:0.113067#011validation-error:0.1643\u001b[0m\n",
      "\u001b[34m[08:51:24] src/tree/updater_prune.cc:74: tree pruning end, 1 roots, 16 extra nodes, 10 pruned nodes, max_depth=5\u001b[0m\n",
      "\u001b[34m[79]#011train-error:0.113#011validation-error:0.1645\u001b[0m\n",
      "\u001b[34m[08:51:25] src/tree/updater_prune.cc:74: tree pruning end, 1 roots, 22 extra nodes, 8 pruned nodes, max_depth=5\u001b[0m\n",
      "\u001b[34m[80]#011train-error:0.111933#011validation-error:0.1648\u001b[0m\n",
      "\u001b[34m[08:51:26] src/tree/updater_prune.cc:74: tree pruning end, 1 roots, 20 extra nodes, 10 pruned nodes, max_depth=5\u001b[0m\n",
      "\u001b[34m[81]#011train-error:0.111#011validation-error:0.165\u001b[0m\n",
      "\u001b[34m[08:51:27] src/tree/updater_prune.cc:74: tree pruning end, 1 roots, 26 extra nodes, 12 pruned nodes, max_depth=5\u001b[0m\n",
      "\u001b[34m[82]#011train-error:0.1106#011validation-error:0.1667\u001b[0m\n",
      "\u001b[34m[08:51:29] src/tree/updater_prune.cc:74: tree pruning end, 1 roots, 12 extra nodes, 4 pruned nodes, max_depth=5\u001b[0m\n",
      "\u001b[34m[83]#011train-error:0.11#011validation-error:0.166\u001b[0m\n",
      "\u001b[34m[08:51:30] src/tree/updater_prune.cc:74: tree pruning end, 1 roots, 26 extra nodes, 10 pruned nodes, max_depth=5\u001b[0m\n",
      "\u001b[34m[84]#011train-error:0.109133#011validation-error:0.1658\u001b[0m\n",
      "\u001b[34m[08:51:31] src/tree/updater_prune.cc:74: tree pruning end, 1 roots, 22 extra nodes, 6 pruned nodes, max_depth=5\u001b[0m\n",
      "\u001b[34m[85]#011train-error:0.107333#011validation-error:0.1643\u001b[0m\n",
      "\u001b[34m[08:51:32] src/tree/updater_prune.cc:74: tree pruning end, 1 roots, 14 extra nodes, 12 pruned nodes, max_depth=5\u001b[0m\n",
      "\u001b[34m[86]#011train-error:0.1074#011validation-error:0.1633\u001b[0m\n",
      "\u001b[34m[08:51:34] src/tree/updater_prune.cc:74: tree pruning end, 1 roots, 12 extra nodes, 8 pruned nodes, max_depth=5\u001b[0m\n",
      "\u001b[34m[87]#011train-error:0.107333#011validation-error:0.1627\u001b[0m\n",
      "\u001b[34m[08:51:35] src/tree/updater_prune.cc:74: tree pruning end, 1 roots, 24 extra nodes, 12 pruned nodes, max_depth=5\u001b[0m\n",
      "\u001b[34m[88]#011train-error:0.107#011validation-error:0.1624\u001b[0m\n",
      "\u001b[34m[08:51:36] src/tree/updater_prune.cc:74: tree pruning end, 1 roots, 28 extra nodes, 12 pruned nodes, max_depth=5\u001b[0m\n",
      "\u001b[34m[89]#011train-error:0.106933#011validation-error:0.1623\u001b[0m\n",
      "\u001b[34m[08:51:37] src/tree/updater_prune.cc:74: tree pruning end, 1 roots, 12 extra nodes, 12 pruned nodes, max_depth=5\u001b[0m\n",
      "\u001b[34m[90]#011train-error:0.1058#011validation-error:0.1617\u001b[0m\n",
      "\u001b[34m[08:51:39] src/tree/updater_prune.cc:74: tree pruning end, 1 roots, 12 extra nodes, 10 pruned nodes, max_depth=5\u001b[0m\n",
      "\u001b[34m[91]#011train-error:0.1048#011validation-error:0.1617\u001b[0m\n"
     ]
    },
    {
     "name": "stdout",
     "output_type": "stream",
     "text": [
      "\u001b[34m[08:51:40] src/tree/updater_prune.cc:74: tree pruning end, 1 roots, 12 extra nodes, 6 pruned nodes, max_depth=5\u001b[0m\n",
      "\u001b[34m[92]#011train-error:0.104533#011validation-error:0.1609\u001b[0m\n",
      "\u001b[34m[08:51:41] src/tree/updater_prune.cc:74: tree pruning end, 1 roots, 32 extra nodes, 10 pruned nodes, max_depth=5\u001b[0m\n",
      "\u001b[34m[93]#011train-error:0.103333#011validation-error:0.1605\u001b[0m\n",
      "\u001b[34m[08:51:43] src/tree/updater_prune.cc:74: tree pruning end, 1 roots, 12 extra nodes, 6 pruned nodes, max_depth=5\u001b[0m\n",
      "\u001b[34m[94]#011train-error:0.102467#011validation-error:0.1594\u001b[0m\n",
      "\u001b[34m[08:51:44] src/tree/updater_prune.cc:74: tree pruning end, 1 roots, 20 extra nodes, 8 pruned nodes, max_depth=5\u001b[0m\n",
      "\u001b[34m[95]#011train-error:0.1022#011validation-error:0.1591\u001b[0m\n",
      "\u001b[34m[08:51:45] src/tree/updater_prune.cc:74: tree pruning end, 1 roots, 16 extra nodes, 14 pruned nodes, max_depth=5\u001b[0m\n",
      "\u001b[34m[96]#011train-error:0.101867#011validation-error:0.159\u001b[0m\n",
      "\u001b[34m[08:51:46] src/tree/updater_prune.cc:74: tree pruning end, 1 roots, 16 extra nodes, 4 pruned nodes, max_depth=5\u001b[0m\n",
      "\u001b[34m[97]#011train-error:0.100867#011validation-error:0.1587\u001b[0m\n",
      "\u001b[34m[08:51:48] src/tree/updater_prune.cc:74: tree pruning end, 1 roots, 16 extra nodes, 8 pruned nodes, max_depth=5\u001b[0m\n",
      "\u001b[34m[98]#011train-error:0.1006#011validation-error:0.1585\u001b[0m\n",
      "\u001b[34m[08:51:49] src/tree/updater_prune.cc:74: tree pruning end, 1 roots, 12 extra nodes, 8 pruned nodes, max_depth=5\u001b[0m\n",
      "\u001b[34m[99]#011train-error:0.1008#011validation-error:0.1595\u001b[0m\n",
      "\u001b[34m[08:51:50] src/tree/updater_prune.cc:74: tree pruning end, 1 roots, 22 extra nodes, 6 pruned nodes, max_depth=5\u001b[0m\n",
      "\u001b[34m[100]#011train-error:0.100933#011validation-error:0.1595\u001b[0m\n",
      "\u001b[34m[08:51:51] src/tree/updater_prune.cc:74: tree pruning end, 1 roots, 18 extra nodes, 20 pruned nodes, max_depth=5\u001b[0m\n",
      "\u001b[34m[101]#011train-error:0.100533#011validation-error:0.1589\u001b[0m\n",
      "\u001b[34m[08:51:53] src/tree/updater_prune.cc:74: tree pruning end, 1 roots, 18 extra nodes, 20 pruned nodes, max_depth=5\u001b[0m\n",
      "\u001b[34m[102]#011train-error:0.099867#011validation-error:0.1589\u001b[0m\n",
      "\u001b[34m[08:51:54] src/tree/updater_prune.cc:74: tree pruning end, 1 roots, 28 extra nodes, 12 pruned nodes, max_depth=5\u001b[0m\n",
      "\u001b[34m[103]#011train-error:0.098#011validation-error:0.1584\u001b[0m\n",
      "\u001b[34m[08:51:55] src/tree/updater_prune.cc:74: tree pruning end, 1 roots, 12 extra nodes, 6 pruned nodes, max_depth=5\u001b[0m\n",
      "\u001b[34m[104]#011train-error:0.097867#011validation-error:0.1571\u001b[0m\n",
      "\u001b[34m[08:51:56] src/tree/updater_prune.cc:74: tree pruning end, 1 roots, 16 extra nodes, 6 pruned nodes, max_depth=5\u001b[0m\n",
      "\u001b[34m[105]#011train-error:0.097467#011validation-error:0.1573\u001b[0m\n",
      "\u001b[34m[08:51:58] src/tree/updater_prune.cc:74: tree pruning end, 1 roots, 36 extra nodes, 4 pruned nodes, max_depth=5\u001b[0m\n",
      "\u001b[34m[106]#011train-error:0.097333#011validation-error:0.1568\u001b[0m\n",
      "\u001b[34m[08:51:59] src/tree/updater_prune.cc:74: tree pruning end, 1 roots, 12 extra nodes, 12 pruned nodes, max_depth=5\u001b[0m\n",
      "\u001b[34m[107]#011train-error:0.0976#011validation-error:0.1564\u001b[0m\n",
      "\u001b[34m[08:52:00] src/tree/updater_prune.cc:74: tree pruning end, 1 roots, 16 extra nodes, 8 pruned nodes, max_depth=5\u001b[0m\n",
      "\u001b[34m[108]#011train-error:0.097333#011validation-error:0.1552\u001b[0m\n",
      "\u001b[34m[08:52:01] src/tree/updater_prune.cc:74: tree pruning end, 1 roots, 10 extra nodes, 4 pruned nodes, max_depth=5\u001b[0m\n",
      "\u001b[34m[109]#011train-error:0.097133#011validation-error:0.1548\u001b[0m\n",
      "\u001b[34m[08:52:03] src/tree/updater_prune.cc:74: tree pruning end, 1 roots, 22 extra nodes, 14 pruned nodes, max_depth=5\u001b[0m\n",
      "\u001b[34m[110]#011train-error:0.0962#011validation-error:0.1553\u001b[0m\n",
      "\u001b[34m[08:52:04] src/tree/updater_prune.cc:74: tree pruning end, 1 roots, 14 extra nodes, 14 pruned nodes, max_depth=5\u001b[0m\n",
      "\u001b[34m[111]#011train-error:0.095267#011validation-error:0.1545\u001b[0m\n",
      "\u001b[34m[08:52:05] src/tree/updater_prune.cc:74: tree pruning end, 1 roots, 12 extra nodes, 8 pruned nodes, max_depth=5\u001b[0m\n",
      "\u001b[34m[112]#011train-error:0.095267#011validation-error:0.1535\u001b[0m\n",
      "\u001b[34m[08:52:06] src/tree/updater_prune.cc:74: tree pruning end, 1 roots, 16 extra nodes, 4 pruned nodes, max_depth=5\u001b[0m\n",
      "\u001b[34m[113]#011train-error:0.094533#011validation-error:0.1541\u001b[0m\n",
      "\u001b[34m[08:52:08] src/tree/updater_prune.cc:74: tree pruning end, 1 roots, 18 extra nodes, 4 pruned nodes, max_depth=5\u001b[0m\n",
      "\u001b[34m[114]#011train-error:0.0946#011validation-error:0.1544\u001b[0m\n",
      "\u001b[34m[08:52:09] src/tree/updater_prune.cc:74: tree pruning end, 1 roots, 16 extra nodes, 10 pruned nodes, max_depth=5\u001b[0m\n",
      "\u001b[34m[115]#011train-error:0.0944#011validation-error:0.1537\u001b[0m\n",
      "\u001b[34m[08:52:10] src/tree/updater_prune.cc:74: tree pruning end, 1 roots, 26 extra nodes, 6 pruned nodes, max_depth=5\u001b[0m\n",
      "\u001b[34m[116]#011train-error:0.093#011validation-error:0.1533\u001b[0m\n",
      "\u001b[34m[08:52:12] src/tree/updater_prune.cc:74: tree pruning end, 1 roots, 16 extra nodes, 8 pruned nodes, max_depth=5\u001b[0m\n",
      "\u001b[34m[117]#011train-error:0.092533#011validation-error:0.1529\u001b[0m\n",
      "\u001b[34m[08:52:13] src/tree/updater_prune.cc:74: tree pruning end, 1 roots, 14 extra nodes, 14 pruned nodes, max_depth=5\u001b[0m\n",
      "\u001b[34m[118]#011train-error:0.092333#011validation-error:0.153\u001b[0m\n",
      "\u001b[34m[08:52:14] src/tree/updater_prune.cc:74: tree pruning end, 1 roots, 12 extra nodes, 12 pruned nodes, max_depth=5\u001b[0m\n",
      "\u001b[34m[119]#011train-error:0.092067#011validation-error:0.1524\u001b[0m\n",
      "\u001b[34m[08:52:15] src/tree/updater_prune.cc:74: tree pruning end, 1 roots, 10 extra nodes, 6 pruned nodes, max_depth=5\u001b[0m\n",
      "\u001b[34m[120]#011train-error:0.091667#011validation-error:0.1525\u001b[0m\n",
      "\u001b[34m[08:52:17] src/tree/updater_prune.cc:74: tree pruning end, 1 roots, 22 extra nodes, 12 pruned nodes, max_depth=5\u001b[0m\n",
      "\u001b[34m[121]#011train-error:0.0918#011validation-error:0.1532\u001b[0m\n",
      "\u001b[34m[08:52:18] src/tree/updater_prune.cc:74: tree pruning end, 1 roots, 28 extra nodes, 4 pruned nodes, max_depth=5\u001b[0m\n",
      "\u001b[34m[122]#011train-error:0.091067#011validation-error:0.152\u001b[0m\n",
      "\u001b[34m[08:52:19] src/tree/updater_prune.cc:74: tree pruning end, 1 roots, 16 extra nodes, 8 pruned nodes, max_depth=5\u001b[0m\n",
      "\u001b[34m[123]#011train-error:0.090933#011validation-error:0.1521\u001b[0m\n",
      "\u001b[34m[08:52:20] src/tree/updater_prune.cc:74: tree pruning end, 1 roots, 12 extra nodes, 8 pruned nodes, max_depth=5\u001b[0m\n",
      "\u001b[34m[124]#011train-error:0.0912#011validation-error:0.1517\u001b[0m\n",
      "\u001b[34m[08:52:22] src/tree/updater_prune.cc:74: tree pruning end, 1 roots, 18 extra nodes, 10 pruned nodes, max_depth=5\u001b[0m\n",
      "\u001b[34m[125]#011train-error:0.09#011validation-error:0.1512\u001b[0m\n",
      "\u001b[34m[08:52:23] src/tree/updater_prune.cc:74: tree pruning end, 1 roots, 10 extra nodes, 2 pruned nodes, max_depth=5\u001b[0m\n",
      "\u001b[34m[126]#011train-error:0.0898#011validation-error:0.1512\u001b[0m\n",
      "\u001b[34m[08:52:24] src/tree/updater_prune.cc:74: tree pruning end, 1 roots, 14 extra nodes, 10 pruned nodes, max_depth=5\u001b[0m\n",
      "\u001b[34m[127]#011train-error:0.0896#011validation-error:0.1512\u001b[0m\n",
      "\u001b[34m[08:52:26] src/tree/updater_prune.cc:74: tree pruning end, 1 roots, 14 extra nodes, 4 pruned nodes, max_depth=5\u001b[0m\n",
      "\u001b[34m[128]#011train-error:0.0894#011validation-error:0.1513\u001b[0m\n",
      "\u001b[34m[08:52:27] src/tree/updater_prune.cc:74: tree pruning end, 1 roots, 20 extra nodes, 4 pruned nodes, max_depth=5\u001b[0m\n",
      "\u001b[34m[129]#011train-error:0.089467#011validation-error:0.1511\u001b[0m\n",
      "\u001b[34m[08:52:28] src/tree/updater_prune.cc:74: tree pruning end, 1 roots, 16 extra nodes, 2 pruned nodes, max_depth=5\u001b[0m\n",
      "\u001b[34m[130]#011train-error:0.089267#011validation-error:0.1508\u001b[0m\n",
      "\u001b[34m[08:52:29] src/tree/updater_prune.cc:74: tree pruning end, 1 roots, 16 extra nodes, 4 pruned nodes, max_depth=5\u001b[0m\n",
      "\u001b[34m[131]#011train-error:0.088867#011validation-error:0.1515\u001b[0m\n",
      "\u001b[34m[08:52:31] src/tree/updater_prune.cc:74: tree pruning end, 1 roots, 20 extra nodes, 16 pruned nodes, max_depth=5\u001b[0m\n",
      "\u001b[34m[132]#011train-error:0.088067#011validation-error:0.1509\u001b[0m\n",
      "\u001b[34m[08:52:32] src/tree/updater_prune.cc:74: tree pruning end, 1 roots, 20 extra nodes, 4 pruned nodes, max_depth=5\u001b[0m\n",
      "\u001b[34m[133]#011train-error:0.088133#011validation-error:0.1507\u001b[0m\n",
      "\u001b[34m[08:52:33] src/tree/updater_prune.cc:74: tree pruning end, 1 roots, 10 extra nodes, 14 pruned nodes, max_depth=5\u001b[0m\n",
      "\u001b[34m[134]#011train-error:0.0878#011validation-error:0.1503\u001b[0m\n",
      "\u001b[34m[08:52:34] src/tree/updater_prune.cc:74: tree pruning end, 1 roots, 14 extra nodes, 2 pruned nodes, max_depth=5\u001b[0m\n",
      "\u001b[34m[135]#011train-error:0.087733#011validation-error:0.1505\u001b[0m\n",
      "\u001b[34m[08:52:36] src/tree/updater_prune.cc:74: tree pruning end, 1 roots, 26 extra nodes, 10 pruned nodes, max_depth=5\u001b[0m\n",
      "\u001b[34m[136]#011train-error:0.087467#011validation-error:0.1509\u001b[0m\n",
      "\u001b[34m[08:52:37] src/tree/updater_prune.cc:74: tree pruning end, 1 roots, 22 extra nodes, 6 pruned nodes, max_depth=5\u001b[0m\n",
      "\u001b[34m[137]#011train-error:0.086133#011validation-error:0.1496\u001b[0m\n",
      "\u001b[34m[08:52:38] src/tree/updater_prune.cc:74: tree pruning end, 1 roots, 18 extra nodes, 8 pruned nodes, max_depth=5\u001b[0m\n",
      "\u001b[34m[138]#011train-error:0.086333#011validation-error:0.1488\u001b[0m\n",
      "\u001b[34m[08:52:39] src/tree/updater_prune.cc:74: tree pruning end, 1 roots, 18 extra nodes, 6 pruned nodes, max_depth=5\u001b[0m\n",
      "\u001b[34m[139]#011train-error:0.086067#011validation-error:0.1491\u001b[0m\n"
     ]
    },
    {
     "name": "stdout",
     "output_type": "stream",
     "text": [
      "\u001b[34m[08:52:41] src/tree/updater_prune.cc:74: tree pruning end, 1 roots, 12 extra nodes, 14 pruned nodes, max_depth=5\u001b[0m\n",
      "\u001b[34m[140]#011train-error:0.0852#011validation-error:0.1485\u001b[0m\n",
      "\u001b[34m[08:52:42] src/tree/updater_prune.cc:74: tree pruning end, 1 roots, 16 extra nodes, 8 pruned nodes, max_depth=5\u001b[0m\n",
      "\u001b[34m[141]#011train-error:0.084467#011validation-error:0.1486\u001b[0m\n",
      "\u001b[34m[08:52:43] src/tree/updater_prune.cc:74: tree pruning end, 1 roots, 14 extra nodes, 4 pruned nodes, max_depth=5\u001b[0m\n",
      "\u001b[34m[142]#011train-error:0.083867#011validation-error:0.1479\u001b[0m\n",
      "\u001b[34m[08:52:44] src/tree/updater_prune.cc:74: tree pruning end, 1 roots, 12 extra nodes, 10 pruned nodes, max_depth=5\u001b[0m\n",
      "\u001b[34m[143]#011train-error:0.0838#011validation-error:0.1479\u001b[0m\n",
      "\u001b[34m[08:52:46] src/tree/updater_prune.cc:74: tree pruning end, 1 roots, 12 extra nodes, 12 pruned nodes, max_depth=5\u001b[0m\n",
      "\u001b[34m[144]#011train-error:0.083867#011validation-error:0.1488\u001b[0m\n",
      "\u001b[34m[08:52:47] src/tree/updater_prune.cc:74: tree pruning end, 1 roots, 12 extra nodes, 4 pruned nodes, max_depth=5\u001b[0m\n",
      "\u001b[34m[145]#011train-error:0.0842#011validation-error:0.1483\u001b[0m\n",
      "\u001b[34m[08:52:48] src/tree/updater_prune.cc:74: tree pruning end, 1 roots, 18 extra nodes, 8 pruned nodes, max_depth=5\u001b[0m\n",
      "\u001b[34m[146]#011train-error:0.0832#011validation-error:0.1483\u001b[0m\n",
      "\u001b[34m[08:52:49] src/tree/updater_prune.cc:74: tree pruning end, 1 roots, 10 extra nodes, 6 pruned nodes, max_depth=5\u001b[0m\n",
      "\u001b[34m[147]#011train-error:0.082933#011validation-error:0.1483\u001b[0m\n",
      "\u001b[34m[08:52:51] src/tree/updater_prune.cc:74: tree pruning end, 1 roots, 10 extra nodes, 14 pruned nodes, max_depth=5\u001b[0m\n",
      "\u001b[34m[148]#011train-error:0.0828#011validation-error:0.1489\u001b[0m\n",
      "\u001b[34m[08:52:52] src/tree/updater_prune.cc:74: tree pruning end, 1 roots, 14 extra nodes, 8 pruned nodes, max_depth=5\u001b[0m\n",
      "\u001b[34m[149]#011train-error:0.0834#011validation-error:0.1481\u001b[0m\n",
      "\u001b[34m[08:52:53] src/tree/updater_prune.cc:74: tree pruning end, 1 roots, 14 extra nodes, 6 pruned nodes, max_depth=5\u001b[0m\n",
      "\u001b[34m[150]#011train-error:0.083133#011validation-error:0.1476\u001b[0m\n",
      "\u001b[34m[08:52:54] src/tree/updater_prune.cc:74: tree pruning end, 1 roots, 14 extra nodes, 8 pruned nodes, max_depth=5\u001b[0m\n",
      "\u001b[34m[151]#011train-error:0.082733#011validation-error:0.1474\u001b[0m\n",
      "\u001b[34m[08:52:56] src/tree/updater_prune.cc:74: tree pruning end, 1 roots, 16 extra nodes, 2 pruned nodes, max_depth=5\u001b[0m\n",
      "\u001b[34m[152]#011train-error:0.0824#011validation-error:0.1472\u001b[0m\n",
      "\u001b[34m[08:52:57] src/tree/updater_prune.cc:74: tree pruning end, 1 roots, 10 extra nodes, 4 pruned nodes, max_depth=5\u001b[0m\n",
      "\u001b[34m[153]#011train-error:0.082533#011validation-error:0.1466\u001b[0m\n",
      "\u001b[34m[08:52:58] src/tree/updater_prune.cc:74: tree pruning end, 1 roots, 12 extra nodes, 4 pruned nodes, max_depth=5\u001b[0m\n",
      "\u001b[34m[154]#011train-error:0.082067#011validation-error:0.1467\u001b[0m\n",
      "\u001b[34m[08:52:59] src/tree/updater_prune.cc:74: tree pruning end, 1 roots, 20 extra nodes, 8 pruned nodes, max_depth=5\u001b[0m\n",
      "\u001b[34m[155]#011train-error:0.0816#011validation-error:0.1463\u001b[0m\n",
      "\u001b[34m[08:53:01] src/tree/updater_prune.cc:74: tree pruning end, 1 roots, 12 extra nodes, 6 pruned nodes, max_depth=5\u001b[0m\n",
      "\u001b[34m[156]#011train-error:0.0812#011validation-error:0.1462\u001b[0m\n",
      "\u001b[34m[08:53:02] src/tree/updater_prune.cc:74: tree pruning end, 1 roots, 10 extra nodes, 10 pruned nodes, max_depth=5\u001b[0m\n",
      "\u001b[34m[157]#011train-error:0.081533#011validation-error:0.1461\u001b[0m\n",
      "\u001b[34m[08:53:03] src/tree/updater_prune.cc:74: tree pruning end, 1 roots, 18 extra nodes, 6 pruned nodes, max_depth=5\u001b[0m\n",
      "\u001b[34m[158]#011train-error:0.081467#011validation-error:0.1459\u001b[0m\n",
      "\u001b[34m[08:53:05] src/tree/updater_prune.cc:74: tree pruning end, 1 roots, 24 extra nodes, 10 pruned nodes, max_depth=5\u001b[0m\n",
      "\u001b[34m[159]#011train-error:0.081#011validation-error:0.1463\u001b[0m\n",
      "\u001b[34m[08:53:06] src/tree/updater_prune.cc:74: tree pruning end, 1 roots, 12 extra nodes, 2 pruned nodes, max_depth=5\u001b[0m\n",
      "\u001b[34m[160]#011train-error:0.080933#011validation-error:0.1455\u001b[0m\n",
      "\u001b[34m[08:53:07] src/tree/updater_prune.cc:74: tree pruning end, 1 roots, 24 extra nodes, 10 pruned nodes, max_depth=5\u001b[0m\n",
      "\u001b[34m[161]#011train-error:0.079867#011validation-error:0.1452\u001b[0m\n",
      "\u001b[34m[08:53:08] src/tree/updater_prune.cc:74: tree pruning end, 1 roots, 16 extra nodes, 10 pruned nodes, max_depth=5\u001b[0m\n",
      "\u001b[34m[162]#011train-error:0.079867#011validation-error:0.1442\u001b[0m\n",
      "\u001b[34m[08:53:10] src/tree/updater_prune.cc:74: tree pruning end, 1 roots, 18 extra nodes, 2 pruned nodes, max_depth=5\u001b[0m\n",
      "\u001b[34m[163]#011train-error:0.079067#011validation-error:0.1443\u001b[0m\n",
      "\u001b[34m[08:53:11] src/tree/updater_prune.cc:74: tree pruning end, 1 roots, 12 extra nodes, 8 pruned nodes, max_depth=5\u001b[0m\n",
      "\u001b[34m[164]#011train-error:0.078733#011validation-error:0.1446\u001b[0m\n",
      "\u001b[34m[08:53:12] src/tree/updater_prune.cc:74: tree pruning end, 1 roots, 12 extra nodes, 12 pruned nodes, max_depth=5\u001b[0m\n",
      "\u001b[34m[165]#011train-error:0.0782#011validation-error:0.1448\u001b[0m\n",
      "\u001b[34m[08:53:13] src/tree/updater_prune.cc:74: tree pruning end, 1 roots, 10 extra nodes, 2 pruned nodes, max_depth=5\u001b[0m\n",
      "\u001b[34m[166]#011train-error:0.0782#011validation-error:0.1447\u001b[0m\n",
      "\u001b[34m[08:53:15] src/tree/updater_prune.cc:74: tree pruning end, 1 roots, 14 extra nodes, 0 pruned nodes, max_depth=5\u001b[0m\n",
      "\u001b[34m[167]#011train-error:0.078067#011validation-error:0.1451\u001b[0m\n",
      "\u001b[34m[08:53:16] src/tree/updater_prune.cc:74: tree pruning end, 1 roots, 20 extra nodes, 12 pruned nodes, max_depth=5\u001b[0m\n",
      "\u001b[34m[168]#011train-error:0.077867#011validation-error:0.1449\u001b[0m\n",
      "\u001b[34m[08:53:17] src/tree/updater_prune.cc:74: tree pruning end, 1 roots, 26 extra nodes, 14 pruned nodes, max_depth=5\u001b[0m\n",
      "\u001b[34m[169]#011train-error:0.0776#011validation-error:0.1443\u001b[0m\n",
      "\u001b[34m[08:53:18] src/tree/updater_prune.cc:74: tree pruning end, 1 roots, 22 extra nodes, 8 pruned nodes, max_depth=5\u001b[0m\n",
      "\u001b[34m[170]#011train-error:0.078067#011validation-error:0.1444\u001b[0m\n",
      "\u001b[34m[08:53:20] src/tree/updater_prune.cc:74: tree pruning end, 1 roots, 14 extra nodes, 8 pruned nodes, max_depth=5\u001b[0m\n",
      "\u001b[34m[171]#011train-error:0.0774#011validation-error:0.1442\u001b[0m\n",
      "\u001b[34m[08:53:21] src/tree/updater_prune.cc:74: tree pruning end, 1 roots, 18 extra nodes, 8 pruned nodes, max_depth=5\u001b[0m\n",
      "\u001b[34m[172]#011train-error:0.077467#011validation-error:0.1438\u001b[0m\n",
      "\u001b[34m[08:53:22] src/tree/updater_prune.cc:74: tree pruning end, 1 roots, 16 extra nodes, 10 pruned nodes, max_depth=5\u001b[0m\n",
      "\u001b[34m[173]#011train-error:0.0768#011validation-error:0.1436\u001b[0m\n",
      "\u001b[34m[08:53:23] src/tree/updater_prune.cc:74: tree pruning end, 1 roots, 18 extra nodes, 18 pruned nodes, max_depth=5\u001b[0m\n",
      "\u001b[34m[174]#011train-error:0.076533#011validation-error:0.1428\u001b[0m\n",
      "\u001b[34m[08:53:25] src/tree/updater_prune.cc:74: tree pruning end, 1 roots, 12 extra nodes, 4 pruned nodes, max_depth=5\u001b[0m\n",
      "\u001b[34m[175]#011train-error:0.076667#011validation-error:0.1424\u001b[0m\n",
      "\u001b[34m[08:53:26] src/tree/updater_prune.cc:74: tree pruning end, 1 roots, 18 extra nodes, 8 pruned nodes, max_depth=5\u001b[0m\n",
      "\u001b[34m[176]#011train-error:0.076267#011validation-error:0.1425\u001b[0m\n",
      "\u001b[34m[08:53:27] src/tree/updater_prune.cc:74: tree pruning end, 1 roots, 10 extra nodes, 10 pruned nodes, max_depth=5\u001b[0m\n",
      "\u001b[34m[177]#011train-error:0.076333#011validation-error:0.1424\u001b[0m\n",
      "\u001b[34m[08:53:29] src/tree/updater_prune.cc:74: tree pruning end, 1 roots, 10 extra nodes, 6 pruned nodes, max_depth=5\u001b[0m\n",
      "\u001b[34m[178]#011train-error:0.076267#011validation-error:0.1424\u001b[0m\n",
      "\u001b[34m[08:53:30] src/tree/updater_prune.cc:74: tree pruning end, 1 roots, 16 extra nodes, 12 pruned nodes, max_depth=5\u001b[0m\n",
      "\u001b[34m[179]#011train-error:0.075867#011validation-error:0.1417\u001b[0m\n",
      "\u001b[34m[08:53:31] src/tree/updater_prune.cc:74: tree pruning end, 1 roots, 12 extra nodes, 2 pruned nodes, max_depth=5\u001b[0m\n",
      "\u001b[34m[180]#011train-error:0.075733#011validation-error:0.1423\u001b[0m\n",
      "\u001b[34m[08:53:32] src/tree/updater_prune.cc:74: tree pruning end, 1 roots, 22 extra nodes, 16 pruned nodes, max_depth=5\u001b[0m\n",
      "\u001b[34m[181]#011train-error:0.075133#011validation-error:0.1415\u001b[0m\n",
      "\u001b[34m[08:53:34] src/tree/updater_prune.cc:74: tree pruning end, 1 roots, 16 extra nodes, 6 pruned nodes, max_depth=5\u001b[0m\n",
      "\u001b[34m[182]#011train-error:0.075067#011validation-error:0.1416\u001b[0m\n",
      "\u001b[34m[08:53:35] src/tree/updater_prune.cc:74: tree pruning end, 1 roots, 14 extra nodes, 6 pruned nodes, max_depth=5\u001b[0m\n",
      "\u001b[34m[183]#011train-error:0.0748#011validation-error:0.141\u001b[0m\n",
      "\u001b[34m[08:53:36] src/tree/updater_prune.cc:74: tree pruning end, 1 roots, 28 extra nodes, 8 pruned nodes, max_depth=5\u001b[0m\n",
      "\u001b[34m[184]#011train-error:0.074133#011validation-error:0.1412\u001b[0m\n",
      "\u001b[34m[08:53:37] src/tree/updater_prune.cc:74: tree pruning end, 1 roots, 28 extra nodes, 10 pruned nodes, max_depth=5\u001b[0m\n",
      "\u001b[34m[185]#011train-error:0.073733#011validation-error:0.1424\u001b[0m\n",
      "\u001b[34m[08:53:39] src/tree/updater_prune.cc:74: tree pruning end, 1 roots, 26 extra nodes, 10 pruned nodes, max_depth=5\u001b[0m\n",
      "\u001b[34m[186]#011train-error:0.073333#011validation-error:0.1419\u001b[0m\n",
      "\u001b[34m[08:53:40] src/tree/updater_prune.cc:74: tree pruning end, 1 roots, 10 extra nodes, 6 pruned nodes, max_depth=5\u001b[0m\n",
      "\u001b[34m[187]#011train-error:0.073267#011validation-error:0.1415\u001b[0m\n",
      "\u001b[34m[08:53:41] src/tree/updater_prune.cc:74: tree pruning end, 1 roots, 16 extra nodes, 8 pruned nodes, max_depth=5\u001b[0m\n"
     ]
    },
    {
     "name": "stdout",
     "output_type": "stream",
     "text": [
      "\u001b[34m[188]#011train-error:0.0732#011validation-error:0.1418\u001b[0m\n",
      "\u001b[34m[08:53:42] src/tree/updater_prune.cc:74: tree pruning end, 1 roots, 14 extra nodes, 14 pruned nodes, max_depth=5\u001b[0m\n",
      "\u001b[34m[189]#011train-error:0.073333#011validation-error:0.142\u001b[0m\n",
      "\u001b[34m[08:53:44] src/tree/updater_prune.cc:74: tree pruning end, 1 roots, 14 extra nodes, 10 pruned nodes, max_depth=5\u001b[0m\n",
      "\u001b[34m[190]#011train-error:0.073#011validation-error:0.1416\u001b[0m\n",
      "\u001b[34m[08:53:45] src/tree/updater_prune.cc:74: tree pruning end, 1 roots, 12 extra nodes, 10 pruned nodes, max_depth=5\u001b[0m\n",
      "\u001b[34m[191]#011train-error:0.0726#011validation-error:0.1417\u001b[0m\n",
      "\u001b[34m[08:53:46] src/tree/updater_prune.cc:74: tree pruning end, 1 roots, 18 extra nodes, 12 pruned nodes, max_depth=5\u001b[0m\n",
      "\u001b[34m[192]#011train-error:0.0722#011validation-error:0.1418\u001b[0m\n",
      "\u001b[34m[08:53:47] src/tree/updater_prune.cc:74: tree pruning end, 1 roots, 12 extra nodes, 6 pruned nodes, max_depth=5\u001b[0m\n",
      "\u001b[34m[193]#011train-error:0.072267#011validation-error:0.1412\u001b[0m\n",
      "\u001b[34mStopping. Best iteration:\u001b[0m\n",
      "\u001b[34m[183]#011train-error:0.0748#011validation-error:0.141\n",
      "\u001b[0m\n",
      "\n",
      "2020-06-23 08:54:41 Uploading - Uploading generated training model\n",
      "2020-06-23 08:54:48 Completed - Training job completed\n",
      "Training seconds: 354\n",
      "Billable seconds: 354\n"
     ]
    }
   ],
   "source": [
    "xgb.fit({'train': s3_input_train, 'validation': s3_input_validation})"
   ]
  },
  {
   "cell_type": "markdown",
   "metadata": {},
   "source": [
    "## Step 5: Testing the model\n",
    "\n",
    "Now that we've fit our XGBoost model, it's time to see how well it performs. To do this we will use SageMakers Batch Transform functionality. Batch Transform is a convenient way to perform inference on a large dataset in a way that is not realtime. That is, we don't necessarily need to use our model's results immediately and instead we can perform inference on a large number of samples. An example of this in industry might be performing an end of month report. This method of inference can also be useful to us as it means that we can perform inference on our entire test set. \n",
    "\n",
    "To perform a Batch Transformation we need to first create a transformer objects from our trained estimator object."
   ]
  },
  {
   "cell_type": "code",
   "execution_count": 24,
   "metadata": {},
   "outputs": [],
   "source": [
    "xgb_transformer = xgb.transformer(instance_count = 1, instance_type = 'ml.m4.xlarge')"
   ]
  },
  {
   "cell_type": "markdown",
   "metadata": {},
   "source": [
    "Next we actually perform the transform job. When doing so we need to make sure to specify the type of data we are sending so that it is serialized correctly in the background. In our case we are providing our model with csv data so we specify `text/csv`. Also, if the test data that we have provided is too large to process all at once then we need to specify how the data file should be split up. Since each line is a single entry in our data set we tell SageMaker that it can split the input on each line."
   ]
  },
  {
   "cell_type": "code",
   "execution_count": 25,
   "metadata": {},
   "outputs": [],
   "source": [
    "xgb_transformer.transform(test_location, content_type='text/csv', split_type='Line')"
   ]
  },
  {
   "cell_type": "markdown",
   "metadata": {},
   "source": [
    "Currently the transform job is running but it is doing so in the background. Since we wish to wait until the transform job is done and we would like a bit of feedback we can run the `wait()` method."
   ]
  },
  {
   "cell_type": "code",
   "execution_count": 26,
   "metadata": {},
   "outputs": [
    {
     "name": "stdout",
     "output_type": "stream",
     "text": [
      ".......................\u001b[34mArguments: serve\u001b[0m\n",
      "\u001b[34m[2020-06-22 15:04:38 +0000] [1] [INFO] Starting gunicorn 19.7.1\u001b[0m\n",
      "\u001b[34m[2020-06-22 15:04:38 +0000] [1] [INFO] Listening at: http://0.0.0.0:8080 (1)\u001b[0m\n",
      "\u001b[34m[2020-06-22 15:04:38 +0000] [1] [INFO] Using worker: gevent\u001b[0m\n",
      "\u001b[34m[2020-06-22 15:04:38 +0000] [37] [INFO] Booting worker with pid: 37\u001b[0m\n",
      "\u001b[34m[2020-06-22 15:04:38 +0000] [38] [INFO] Booting worker with pid: 38\u001b[0m\n",
      "\u001b[34m[2020-06-22 15:04:38 +0000] [39] [INFO] Booting worker with pid: 39\u001b[0m\n",
      "\u001b[34m[2020-06-22 15:04:38 +0000] [40] [INFO] Booting worker with pid: 40\u001b[0m\n",
      "\u001b[34m[2020-06-22:15:04:38:INFO] Model loaded successfully for worker : 38\u001b[0m\n",
      "\u001b[34m[2020-06-22:15:04:38:INFO] Model loaded successfully for worker : 37\u001b[0m\n",
      "\u001b[34m[2020-06-22:15:04:38:INFO] Model loaded successfully for worker : 39\u001b[0m\n",
      "\u001b[34m[2020-06-22:15:04:38:INFO] Model loaded successfully for worker : 40\u001b[0m\n",
      "\u001b[32m2020-06-22T15:05:07.280:[sagemaker logs]: MaxConcurrentTransforms=4, MaxPayloadInMB=6, BatchStrategy=MULTI_RECORD\u001b[0m\n",
      "\u001b[34m[2020-06-22:15:05:10:INFO] Sniff delimiter as ','\u001b[0m\n",
      "\u001b[34m[2020-06-22:15:05:10:INFO] Determined delimiter of CSV input is ','\u001b[0m\n",
      "\u001b[34m[2020-06-22:15:05:10:INFO] Sniff delimiter as ','\u001b[0m\n",
      "\u001b[34m[2020-06-22:15:05:10:INFO] Determined delimiter of CSV input is ','\u001b[0m\n",
      "\u001b[34m[2020-06-22:15:05:10:INFO] Sniff delimiter as ','\u001b[0m\n",
      "\u001b[34m[2020-06-22:15:05:10:INFO] Determined delimiter of CSV input is ','\u001b[0m\n",
      "\u001b[34m[2020-06-22:15:05:10:INFO] Sniff delimiter as ','\u001b[0m\n",
      "\u001b[35m[2020-06-22:15:05:10:INFO] Sniff delimiter as ','\u001b[0m\n",
      "\u001b[35m[2020-06-22:15:05:10:INFO] Determined delimiter of CSV input is ','\u001b[0m\n",
      "\u001b[35m[2020-06-22:15:05:10:INFO] Sniff delimiter as ','\u001b[0m\n",
      "\u001b[35m[2020-06-22:15:05:10:INFO] Determined delimiter of CSV input is ','\u001b[0m\n",
      "\u001b[35m[2020-06-22:15:05:10:INFO] Sniff delimiter as ','\u001b[0m\n",
      "\u001b[35m[2020-06-22:15:05:10:INFO] Determined delimiter of CSV input is ','\u001b[0m\n",
      "\u001b[35m[2020-06-22:15:05:10:INFO] Sniff delimiter as ','\u001b[0m\n",
      "\u001b[34m[2020-06-22:15:05:10:INFO] Determined delimiter of CSV input is ','\u001b[0m\n",
      "\u001b[35m[2020-06-22:15:05:10:INFO] Determined delimiter of CSV input is ','\u001b[0m\n",
      "\u001b[34m[2020-06-22:15:05:12:INFO] Sniff delimiter as ','\u001b[0m\n",
      "\u001b[34m[2020-06-22:15:05:12:INFO] Determined delimiter of CSV input is ','\u001b[0m\n",
      "\u001b[34m[2020-06-22:15:05:12:INFO] Sniff delimiter as ','\u001b[0m\n",
      "\u001b[34m[2020-06-22:15:05:12:INFO] Determined delimiter of CSV input is ','\u001b[0m\n",
      "\u001b[35m[2020-06-22:15:05:12:INFO] Sniff delimiter as ','\u001b[0m\n",
      "\u001b[35m[2020-06-22:15:05:12:INFO] Determined delimiter of CSV input is ','\u001b[0m\n",
      "\u001b[35m[2020-06-22:15:05:12:INFO] Sniff delimiter as ','\u001b[0m\n",
      "\u001b[35m[2020-06-22:15:05:12:INFO] Determined delimiter of CSV input is ','\u001b[0m\n",
      "\u001b[34m[2020-06-22:15:05:12:INFO] Sniff delimiter as ','\u001b[0m\n",
      "\u001b[34m[2020-06-22:15:05:12:INFO] Determined delimiter of CSV input is ','\u001b[0m\n",
      "\u001b[35m[2020-06-22:15:05:12:INFO] Sniff delimiter as ','\u001b[0m\n",
      "\u001b[35m[2020-06-22:15:05:12:INFO] Determined delimiter of CSV input is ','\u001b[0m\n",
      "\u001b[34m[2020-06-22:15:05:13:INFO] Sniff delimiter as ','\u001b[0m\n",
      "\u001b[34m[2020-06-22:15:05:13:INFO] Determined delimiter of CSV input is ','\u001b[0m\n",
      "\u001b[35m[2020-06-22:15:05:13:INFO] Sniff delimiter as ','\u001b[0m\n",
      "\u001b[35m[2020-06-22:15:05:13:INFO] Determined delimiter of CSV input is ','\u001b[0m\n",
      "\u001b[34m[2020-06-22:15:05:15:INFO] Sniff delimiter as ','\u001b[0m\n",
      "\u001b[34m[2020-06-22:15:05:15:INFO] Determined delimiter of CSV input is ','\u001b[0m\n",
      "\u001b[34m[2020-06-22:15:05:15:INFO] Sniff delimiter as ','\u001b[0m\n",
      "\u001b[34m[2020-06-22:15:05:15:INFO] Determined delimiter of CSV input is ','\u001b[0m\n",
      "\u001b[34m[2020-06-22:15:05:15:INFO] Sniff delimiter as ','\u001b[0m\n",
      "\u001b[34m[2020-06-22:15:05:15:INFO] Determined delimiter of CSV input is ','\u001b[0m\n",
      "\u001b[34m[2020-06-22:15:05:15:INFO] Sniff delimiter as ','\u001b[0m\n",
      "\u001b[34m[2020-06-22:15:05:15:INFO] Determined delimiter of CSV input is ','\u001b[0m\n",
      "\u001b[35m[2020-06-22:15:05:15:INFO] Sniff delimiter as ','\u001b[0m\n",
      "\u001b[35m[2020-06-22:15:05:15:INFO] Determined delimiter of CSV input is ','\u001b[0m\n",
      "\u001b[35m[2020-06-22:15:05:15:INFO] Sniff delimiter as ','\u001b[0m\n",
      "\u001b[35m[2020-06-22:15:05:15:INFO] Determined delimiter of CSV input is ','\u001b[0m\n",
      "\u001b[35m[2020-06-22:15:05:15:INFO] Sniff delimiter as ','\u001b[0m\n",
      "\u001b[35m[2020-06-22:15:05:15:INFO] Determined delimiter of CSV input is ','\u001b[0m\n",
      "\u001b[35m[2020-06-22:15:05:15:INFO] Sniff delimiter as ','\u001b[0m\n",
      "\u001b[35m[2020-06-22:15:05:15:INFO] Determined delimiter of CSV input is ','\u001b[0m\n",
      "\u001b[34m[2020-06-22:15:05:17:INFO] Sniff delimiter as ','\u001b[0m\n",
      "\u001b[34m[2020-06-22:15:05:17:INFO] Determined delimiter of CSV input is ','\u001b[0m\n",
      "\u001b[34m[2020-06-22:15:05:17:INFO] Sniff delimiter as ','\u001b[0m\n",
      "\u001b[34m[2020-06-22:15:05:17:INFO] Determined delimiter of CSV input is ','\u001b[0m\n",
      "\u001b[34m[2020-06-22:15:05:17:INFO] Sniff delimiter as ','\u001b[0m\n",
      "\u001b[34m[2020-06-22:15:05:17:INFO] Determined delimiter of CSV input is ','\u001b[0m\n",
      "\u001b[34m[2020-06-22:15:05:18:INFO] Sniff delimiter as ','\u001b[0m\n",
      "\u001b[34m[2020-06-22:15:05:18:INFO] Determined delimiter of CSV input is ','\u001b[0m\n",
      "\u001b[35m[2020-06-22:15:05:17:INFO] Sniff delimiter as ','\u001b[0m\n",
      "\u001b[35m[2020-06-22:15:05:17:INFO] Determined delimiter of CSV input is ','\u001b[0m\n",
      "\u001b[35m[2020-06-22:15:05:17:INFO] Sniff delimiter as ','\u001b[0m\n",
      "\u001b[35m[2020-06-22:15:05:17:INFO] Determined delimiter of CSV input is ','\u001b[0m\n",
      "\u001b[35m[2020-06-22:15:05:17:INFO] Sniff delimiter as ','\u001b[0m\n",
      "\u001b[35m[2020-06-22:15:05:17:INFO] Determined delimiter of CSV input is ','\u001b[0m\n",
      "\u001b[35m[2020-06-22:15:05:18:INFO] Sniff delimiter as ','\u001b[0m\n",
      "\u001b[35m[2020-06-22:15:05:18:INFO] Determined delimiter of CSV input is ','\u001b[0m\n",
      "\u001b[34m[2020-06-22:15:05:19:INFO] Sniff delimiter as ','\u001b[0m\n",
      "\u001b[34m[2020-06-22:15:05:19:INFO] Determined delimiter of CSV input is ','\u001b[0m\n",
      "\u001b[34m[2020-06-22:15:05:20:INFO] Sniff delimiter as ','\u001b[0m\n",
      "\u001b[34m[2020-06-22:15:05:20:INFO] Determined delimiter of CSV input is ','\u001b[0m\n",
      "\u001b[35m[2020-06-22:15:05:19:INFO] Sniff delimiter as ','\u001b[0m\n",
      "\u001b[35m[2020-06-22:15:05:19:INFO] Determined delimiter of CSV input is ','\u001b[0m\n",
      "\u001b[35m[2020-06-22:15:05:20:INFO] Sniff delimiter as ','\u001b[0m\n",
      "\u001b[35m[2020-06-22:15:05:20:INFO] Determined delimiter of CSV input is ','\u001b[0m\n",
      "\u001b[34m[2020-06-22:15:05:22:INFO] Sniff delimiter as ','\u001b[0m\n",
      "\u001b[34m[2020-06-22:15:05:22:INFO] Determined delimiter of CSV input is ','\u001b[0m\n",
      "\u001b[34m[2020-06-22:15:05:22:INFO] Sniff delimiter as ','\u001b[0m\n",
      "\u001b[34m[2020-06-22:15:05:22:INFO] Determined delimiter of CSV input is ','\u001b[0m\n",
      "\u001b[34m[2020-06-22:15:05:22:INFO] Sniff delimiter as ','\u001b[0m\n",
      "\u001b[34m[2020-06-22:15:05:22:INFO] Determined delimiter of CSV input is ','\u001b[0m\n",
      "\u001b[35m[2020-06-22:15:05:22:INFO] Sniff delimiter as ','\u001b[0m\n",
      "\u001b[35m[2020-06-22:15:05:22:INFO] Determined delimiter of CSV input is ','\u001b[0m\n",
      "\u001b[35m[2020-06-22:15:05:22:INFO] Sniff delimiter as ','\u001b[0m\n",
      "\u001b[35m[2020-06-22:15:05:22:INFO] Determined delimiter of CSV input is ','\u001b[0m\n",
      "\u001b[35m[2020-06-22:15:05:22:INFO] Sniff delimiter as ','\u001b[0m\n",
      "\u001b[35m[2020-06-22:15:05:22:INFO] Determined delimiter of CSV input is ','\u001b[0m\n",
      "\u001b[34m[2020-06-22:15:05:22:INFO] Sniff delimiter as ','\u001b[0m\n",
      "\u001b[34m[2020-06-22:15:05:22:INFO] Determined delimiter of CSV input is ','\u001b[0m\n",
      "\u001b[35m[2020-06-22:15:05:22:INFO] Sniff delimiter as ','\u001b[0m\n",
      "\u001b[35m[2020-06-22:15:05:22:INFO] Determined delimiter of CSV input is ','\u001b[0m\n",
      "\u001b[34m[2020-06-22:15:05:24:INFO] Sniff delimiter as ','\u001b[0m\n",
      "\u001b[34m[2020-06-22:15:05:24:INFO] Determined delimiter of CSV input is ','\u001b[0m\n",
      "\u001b[35m[2020-06-22:15:05:24:INFO] Sniff delimiter as ','\u001b[0m\n",
      "\u001b[35m[2020-06-22:15:05:24:INFO] Determined delimiter of CSV input is ','\u001b[0m\n",
      "\u001b[34m[2020-06-22:15:05:24:INFO] Sniff delimiter as ','\u001b[0m\n",
      "\u001b[34m[2020-06-22:15:05:24:INFO] Determined delimiter of CSV input is ','\u001b[0m\n",
      "\u001b[35m[2020-06-22:15:05:24:INFO] Sniff delimiter as ','\u001b[0m\n",
      "\u001b[35m[2020-06-22:15:05:24:INFO] Determined delimiter of CSV input is ','\u001b[0m\n",
      "\u001b[34m[2020-06-22:15:05:25:INFO] Sniff delimiter as ','\u001b[0m\n",
      "\u001b[34m[2020-06-22:15:05:25:INFO] Determined delimiter of CSV input is ','\u001b[0m\n",
      "\u001b[34m[2020-06-22:15:05:25:INFO] Sniff delimiter as ','\u001b[0m\n",
      "\u001b[34m[2020-06-22:15:05:25:INFO] Determined delimiter of CSV input is ','\u001b[0m\n",
      "\u001b[35m[2020-06-22:15:05:25:INFO] Sniff delimiter as ','\u001b[0m\n",
      "\u001b[35m[2020-06-22:15:05:25:INFO] Determined delimiter of CSV input is ','\u001b[0m\n",
      "\u001b[35m[2020-06-22:15:05:25:INFO] Sniff delimiter as ','\u001b[0m\n",
      "\u001b[35m[2020-06-22:15:05:25:INFO] Determined delimiter of CSV input is ','\u001b[0m\n",
      "\u001b[34m[2020-06-22:15:05:27:INFO] Sniff delimiter as ','\u001b[0m\n",
      "\u001b[34m[2020-06-22:15:05:27:INFO] Determined delimiter of CSV input is ','\u001b[0m\n",
      "\u001b[34m[2020-06-22:15:05:27:INFO] Sniff delimiter as ','\u001b[0m\n",
      "\u001b[34m[2020-06-22:15:05:27:INFO] Determined delimiter of CSV input is ','\u001b[0m\n",
      "\u001b[34m[2020-06-22:15:05:27:INFO] Sniff delimiter as ','\u001b[0m\n",
      "\u001b[34m[2020-06-22:15:05:27:INFO] Determined delimiter of CSV input is ','\u001b[0m\n",
      "\u001b[34m[2020-06-22:15:05:27:INFO] Sniff delimiter as ','\u001b[0m\n",
      "\u001b[34m[2020-06-22:15:05:27:INFO] Determined delimiter of CSV input is ','\u001b[0m\n",
      "\u001b[35m[2020-06-22:15:05:27:INFO] Sniff delimiter as ','\u001b[0m\n",
      "\u001b[35m[2020-06-22:15:05:27:INFO] Determined delimiter of CSV input is ','\u001b[0m\n",
      "\u001b[35m[2020-06-22:15:05:27:INFO] Sniff delimiter as ','\u001b[0m\n",
      "\u001b[35m[2020-06-22:15:05:27:INFO] Determined delimiter of CSV input is ','\u001b[0m\n",
      "\u001b[35m[2020-06-22:15:05:27:INFO] Sniff delimiter as ','\u001b[0m\n",
      "\u001b[35m[2020-06-22:15:05:27:INFO] Determined delimiter of CSV input is ','\u001b[0m\n",
      "\u001b[35m[2020-06-22:15:05:27:INFO] Sniff delimiter as ','\u001b[0m\n",
      "\u001b[35m[2020-06-22:15:05:27:INFO] Determined delimiter of CSV input is ','\u001b[0m\n",
      "\u001b[34m[2020-06-22:15:05:29:INFO] Sniff delimiter as ','\u001b[0m\n",
      "\u001b[34m[2020-06-22:15:05:29:INFO] Determined delimiter of CSV input is ','\u001b[0m\n",
      "\u001b[34m[2020-06-22:15:05:29:INFO] Sniff delimiter as ','\u001b[0m\n",
      "\u001b[34m[2020-06-22:15:05:29:INFO] Determined delimiter of CSV input is ','\u001b[0m\n",
      "\u001b[34m[2020-06-22:15:05:30:INFO] Sniff delimiter as ','\u001b[0m\n",
      "\u001b[34m[2020-06-22:15:05:30:INFO] Determined delimiter of CSV input is ','\u001b[0m\n",
      "\u001b[35m[2020-06-22:15:05:29:INFO] Sniff delimiter as ','\u001b[0m\n",
      "\u001b[35m[2020-06-22:15:05:29:INFO] Determined delimiter of CSV input is ','\u001b[0m\n",
      "\u001b[35m[2020-06-22:15:05:29:INFO] Sniff delimiter as ','\u001b[0m\n",
      "\u001b[35m[2020-06-22:15:05:29:INFO] Determined delimiter of CSV input is ','\u001b[0m\n",
      "\u001b[35m[2020-06-22:15:05:30:INFO] Sniff delimiter as ','\u001b[0m\n",
      "\u001b[35m[2020-06-22:15:05:30:INFO] Determined delimiter of CSV input is ','\u001b[0m\n"
     ]
    },
    {
     "name": "stdout",
     "output_type": "stream",
     "text": [
      "\u001b[34m[2020-06-22:15:05:32:INFO] Sniff delimiter as ','\u001b[0m\n",
      "\u001b[34m[2020-06-22:15:05:32:INFO] Determined delimiter of CSV input is ','\u001b[0m\n",
      "\u001b[34m[2020-06-22:15:05:32:INFO] Sniff delimiter as ','\u001b[0m\n",
      "\u001b[34m[2020-06-22:15:05:32:INFO] Determined delimiter of CSV input is ','\u001b[0m\n",
      "\u001b[35m[2020-06-22:15:05:32:INFO] Sniff delimiter as ','\u001b[0m\n",
      "\u001b[35m[2020-06-22:15:05:32:INFO] Determined delimiter of CSV input is ','\u001b[0m\n",
      "\u001b[35m[2020-06-22:15:05:32:INFO] Sniff delimiter as ','\u001b[0m\n",
      "\u001b[35m[2020-06-22:15:05:32:INFO] Determined delimiter of CSV input is ','\u001b[0m\n",
      "\n"
     ]
    }
   ],
   "source": [
    "xgb_transformer.wait()"
   ]
  },
  {
   "cell_type": "markdown",
   "metadata": {},
   "source": [
    "Now the transform job has executed and the result, the estimated sentiment of each review, has been saved on S3. Since we would rather work on this file locally we can perform a bit of notebook magic to copy the file to the `data_dir`."
   ]
  },
  {
   "cell_type": "code",
   "execution_count": 27,
   "metadata": {},
   "outputs": [
    {
     "name": "stdout",
     "output_type": "stream",
     "text": [
      "Completed 256.0 KiB/370.3 KiB (3.8 MiB/s) with 1 file(s) remaining\r",
      "Completed 370.3 KiB/370.3 KiB (5.3 MiB/s) with 1 file(s) remaining\r",
      "download: s3://sagemaker-eu-central-1-245452871727/xgboost-2020-06-22-15-01-00-012/test.csv.out to ../data/sentiment_web_app/test.csv.out\r\n"
     ]
    }
   ],
   "source": [
    "!aws s3 cp --recursive $xgb_transformer.output_path $data_dir"
   ]
  },
  {
   "cell_type": "markdown",
   "metadata": {},
   "source": [
    "The last step is now to read in the output from our model, convert the output to something a little more usable, in this case we want the sentiment to be either `1` (positive) or `0` (negative), and then compare to the ground truth labels."
   ]
  },
  {
   "cell_type": "code",
   "execution_count": 28,
   "metadata": {},
   "outputs": [],
   "source": [
    "predictions = pd.read_csv(os.path.join(data_dir, 'test.csv.out'), header=None)\n",
    "predictions = [round(num) for num in predictions.squeeze().values]"
   ]
  },
  {
   "cell_type": "code",
   "execution_count": 29,
   "metadata": {},
   "outputs": [
    {
     "data": {
      "text/plain": [
       "0.86152"
      ]
     },
     "execution_count": 29,
     "metadata": {},
     "output_type": "execute_result"
    }
   ],
   "source": [
    "from sklearn.metrics import accuracy_score\n",
    "accuracy_score(test_y, predictions)"
   ]
  },
  {
   "cell_type": "markdown",
   "metadata": {},
   "source": [
    "## Step 6: Deploying the model\n",
    "\n",
    "Once we construct and fit our model, SageMaker stores the resulting model artifacts and we can use those to deploy an endpoint (inference code). To see this, look in the SageMaker console and you should see that a model has been created along with a link to the S3 location where the model artifacts have been stored.\n",
    "\n",
    "Deploying an endpoint is a lot like training the model with a few important differences. The first is that a deployed model doesn't change the model artifacts, so as you send it various testing instances the model won't change. Another difference is that since we aren't performing a fixed computation, as we were in the training step or while performing a batch transform, the compute instance that gets started stays running until we tell it to stop. This is important to note as if we forget and leave it running we will be charged the entire time.\n",
    "\n",
    "In other words **If you are no longer using a deployed endpoint, shut it down!**"
   ]
  },
  {
   "cell_type": "code",
   "execution_count": 24,
   "metadata": {},
   "outputs": [
    {
     "name": "stdout",
     "output_type": "stream",
     "text": [
      "-------------!"
     ]
    }
   ],
   "source": [
    "xgb_predictor = xgb.deploy(initial_instance_count = 1, instance_type = 'ml.m4.xlarge')"
   ]
  },
  {
   "cell_type": "markdown",
   "metadata": {},
   "source": [
    "### Testing the model (again)\n",
    "\n",
    "Now that we have deployed our endpoint, we can send the testing data to it and get back the inference results. We already did this earlier using the batch transform functionality of SageMaker, however, we will test our model again using the newly deployed endpoint so that we can make sure that it works properly and to get a bit of a feel for how the endpoint works.\n",
    "\n",
    "When using the created endpoint it is important to know that we are limited in the amount of information we can send in each call so we need to break the testing data up into chunks and then send each chunk. Also, we need to serialize our data before we send it to the endpoint to ensure that our data is transmitted properly. Fortunately, SageMaker can do the serialization part for us provided we tell it the format of our data."
   ]
  },
  {
   "cell_type": "code",
   "execution_count": 25,
   "metadata": {},
   "outputs": [],
   "source": [
    "from sagemaker.predictor import csv_serializer\n",
    "\n",
    "# We need to tell the endpoint what format the data we are sending is in so that SageMaker can perform the serialization.\n",
    "xgb_predictor.content_type = 'text/csv'\n",
    "xgb_predictor.serializer = csv_serializer"
   ]
  },
  {
   "cell_type": "code",
   "execution_count": 26,
   "metadata": {},
   "outputs": [],
   "source": [
    "# We split the data into chunks and send each chunk seperately, accumulating the results.\n",
    "\n",
    "def predict(data, rows=512):\n",
    "    split_array = np.array_split(data, int(data.shape[0] / float(rows) + 1))\n",
    "    predictions = ''\n",
    "    for array in split_array:\n",
    "        predictions = ','.join([predictions, xgb_predictor.predict(array).decode('utf-8')])\n",
    "    \n",
    "    return np.fromstring(predictions[1:], sep=',')"
   ]
  },
  {
   "cell_type": "code",
   "execution_count": 27,
   "metadata": {},
   "outputs": [],
   "source": [
    "test_X = pd.read_csv(os.path.join(data_dir, 'test.csv'), header=None).values\n",
    "\n",
    "predictions = predict(test_X)\n",
    "predictions = [round(num) for num in predictions]"
   ]
  },
  {
   "cell_type": "markdown",
   "metadata": {},
   "source": [
    "Lastly, we check to see what the accuracy of our model is."
   ]
  },
  {
   "cell_type": "code",
   "execution_count": 28,
   "metadata": {},
   "outputs": [
    {
     "data": {
      "text/plain": [
       "0.86152"
      ]
     },
     "execution_count": 28,
     "metadata": {},
     "output_type": "execute_result"
    }
   ],
   "source": [
    "from sklearn.metrics import accuracy_score\n",
    "accuracy_score(test_y, predictions)"
   ]
  },
  {
   "cell_type": "markdown",
   "metadata": {},
   "source": [
    "And the results here should agree with the model testing that we did earlier using the batch transform job.\n",
    "\n",
    "### Cleaning up\n",
    "\n",
    "Now that we've determined that deploying our model works as expected, we are going to shut it down. Remember that the longer the endpoint is left running, the greater the cost and since we have a bit more work to do before we are able to use our endpoint with our simple web app, we should shut everything down."
   ]
  },
  {
   "cell_type": "code",
   "execution_count": 35,
   "metadata": {},
   "outputs": [],
   "source": [
    "xgb_predictor.delete_endpoint()"
   ]
  },
  {
   "cell_type": "markdown",
   "metadata": {},
   "source": [
    "## Step 7: Putting our model to work\n",
    "\n",
    "As we've mentioned a few times now, our goal is to have our model deployed and then access it using a very simple web app. The intent is for this web app to take some user submitted data (a review), send it off to our endpoint (the model) and then display the result.\n",
    "\n",
    "However, there is a small catch. Currently the only way we can access the endpoint to send it data is using the SageMaker API. We can, if we wish, expose the actual URL that our model's endpoint is receiving data from, however, if we just send it data ourselves we will not get anything in return. This is because the endpoint created by SageMaker requires the entity accessing it have the correct permissions. So, we would need to somehow authenticate our web app with AWS.\n",
    "\n",
    "Having a website that authenticates to AWS seems a bit beyond the scope of this lesson so we will opt for an alternative approach. Namely, we will create a new endpoint which does not require authentication and which acts as a proxy for the SageMaker endpoint.\n",
    "\n",
    "As an additional constraint, we will try to avoid doing any data processing in the web app itself. Remember that when we constructed and tested our model we started with a movie review, then we simplified it by removing any html formatting and punctuation, then we constructed a bag of words embedding and the resulting vector is what we sent to our model. All of this needs to be done to our user input as well.\n",
    "\n",
    "Fortunately we can do all of this data processing in the backend, using Amazon's Lambda service.\n",
    "\n",
    "<img src=\"Web App Diagram.svg\">\n",
    "\n",
    "The diagram above gives an overview of how the various services will work together. On the far right is the model which we trained above and which will be deployed using SageMaker. On the far left is our web app that collects a user's movie review, sends it off and expects a positive or negative sentiment in return.\n",
    "\n",
    "In the middle is where some of the magic happens. We will construct a Lambda function, which you can think of as a straightforward Python function that can be executed whenever a specified event occurs. This Python function will do the data processing we need to perform on a user submitted review. In addition, we will give this function permission to send and recieve data from a SageMaker endpoint.\n",
    "\n",
    "Lastly, the method we will use to execute the Lambda function is a new endpoint that we will create using API Gateway. This endpoint will be a url that listens for data to be sent to it. Once it gets some data it will pass that data on to the Lambda function and then return whatever the Lambda function returns. Essentially it will act as an interface that lets our web app communicate with the Lambda function.\n",
    "\n",
    "### Processing a single review\n",
    "\n",
    "For now, suppose we are given a movie review by our user in the form of a string, like so:"
   ]
  },
  {
   "cell_type": "code",
   "execution_count": 29,
   "metadata": {},
   "outputs": [],
   "source": [
    "test_review = \"Nothing but a disgusting materialistic pageant of glistening abed remote control greed zombies, totally devoid of any heart or heat. A romantic comedy that has zero romantic chemestry and zero laughs!\""
   ]
  },
  {
   "cell_type": "markdown",
   "metadata": {},
   "source": [
    "How do we go from this string to the bag of words feature vector that is expected by our model?\n",
    "\n",
    "If we recall at the beginning of this notebook, the first step is to remove any unnecessary characters using the `review_to_words` method. Remember that we intentionally did this in a very simplistic way. This is because we are going to have to copy this method to our (eventual) Lambda function (we will go into more detail later) and this means it needs to be rather simplistic."
   ]
  },
  {
   "cell_type": "code",
   "execution_count": 30,
   "metadata": {},
   "outputs": [
    {
     "name": "stdout",
     "output_type": "stream",
     "text": [
      "nothing but a disgusting materialistic pageant of glistening abed remote control greed zombies totally devoid of any heart or heat a romantic comedy that has zero romantic chemestry and zero laughs\n"
     ]
    }
   ],
   "source": [
    "test_words = review_to_words(test_review)\n",
    "print(test_words)"
   ]
  },
  {
   "cell_type": "markdown",
   "metadata": {},
   "source": [
    "Next, we need to construct a bag of words embedding of the `test_words` string. To do this, remember that a bag of words embedding uses a `vocabulary` consisting of the most frequently appearing words in a set of documents. Then, for each word in the vocabulary we record the number of times that word appears in `test_words`. We constructed the `vocabulary` earlier using the training set for our problem so encoding `test_words` is relatively straightforward."
   ]
  },
  {
   "cell_type": "code",
   "execution_count": 37,
   "metadata": {},
   "outputs": [],
   "source": [
    "def bow_encoding(words, vocabulary):\n",
    "    bow = [0] * len(vocabulary) # Start by setting the count for each word in the vocabulary to zero.\n",
    "    for word in words.split():  # For each word in the string\n",
    "        if word in vocabulary:  # If the word is one that occurs in the vocabulary, increase its count.\n",
    "            bow[vocabulary[word]] += 1\n",
    "    return bow"
   ]
  },
  {
   "cell_type": "code",
   "execution_count": 38,
   "metadata": {},
   "outputs": [
    {
     "name": "stdout",
     "output_type": "stream",
     "text": [
      "[0, 0, 0, 0, 0, 0, 0, 0, 0, 0, 0, 0, 0, 0, 0, 0, 0, 0, 0, 0, 0, 0, 0, 0, 0, 0, 0, 0, 0, 0, 0, 0, 0, 0, 0, 0, 0, 0, 0, 0, 0, 0, 0, 0, 0, 0, 0, 0, 0, 0, 0, 0, 0, 0, 0, 0, 0, 0, 0, 0, 0, 0, 0, 0, 0, 0, 0, 0, 0, 0, 0, 0, 0, 0, 0, 0, 0, 0, 0, 0, 0, 0, 0, 0, 0, 0, 0, 0, 0, 0, 0, 0, 0, 0, 0, 0, 0, 0, 0, 0, 0, 0, 0, 0, 0, 0, 0, 0, 0, 0, 0, 0, 0, 0, 0, 0, 0, 0, 0, 0, 0, 0, 0, 0, 0, 0, 0, 0, 0, 0, 0, 0, 0, 0, 0, 0, 0, 0, 0, 0, 0, 0, 0, 0, 0, 0, 0, 0, 0, 0, 0, 0, 0, 0, 0, 0, 0, 0, 0, 0, 0, 0, 0, 0, 0, 0, 0, 0, 0, 0, 0, 0, 0, 0, 0, 0, 0, 0, 0, 0, 0, 0, 0, 0, 0, 0, 0, 0, 0, 0, 0, 0, 0, 0, 0, 0, 0, 0, 0, 0, 0, 0, 0, 0, 0, 0, 0, 0, 0, 0, 0, 0, 0, 0, 0, 0, 0, 0, 0, 0, 0, 0, 0, 0, 0, 0, 1, 0, 0, 0, 0, 0, 0, 0, 0, 0, 0, 0, 0, 0, 0, 0, 0, 0, 0, 0, 0, 0, 0, 0, 0, 0, 0, 0, 0, 0, 1, 0, 0, 0, 0, 0, 0, 0, 0, 0, 0, 0, 0, 0, 0, 0, 0, 0, 0, 0, 0, 0, 0, 0, 0, 0, 0, 0, 0, 0, 0, 0, 0, 0, 0, 0, 0, 0, 0, 0, 0, 0, 0, 0, 0, 0, 0, 0, 0, 0, 0, 0, 0, 0, 0, 0, 0, 0, 0, 0, 0, 0, 0, 0, 0, 0, 0, 0, 0, 0, 0, 0, 0, 0, 0, 0, 0, 0, 0, 0, 0, 0, 0, 0, 0, 0, 0, 0, 0, 0, 0, 0, 0, 0, 0, 0, 0, 0, 0, 0, 0, 0, 0, 0, 0, 0, 0, 0, 0, 0, 0, 0, 0, 0, 0, 0, 0, 0, 0, 0, 0, 0, 0, 0, 0, 0, 0, 0, 0, 0, 0, 0, 0, 0, 0, 0, 0, 0, 0, 0, 0, 0, 0, 0, 0, 0, 0, 0, 0, 0, 0, 0, 0, 0, 0, 0, 0, 0, 0, 0, 0, 0, 0, 0, 0, 0, 0, 0, 0, 0, 0, 0, 0, 0, 0, 0, 0, 0, 0, 0, 0, 0, 0, 0, 0, 0, 0, 0, 0, 0, 0, 0, 0, 0, 0, 0, 0, 0, 0, 0, 0, 0, 0, 0, 0, 0, 0, 0, 0, 0, 0, 0, 0, 0, 0, 0, 0, 0, 0, 0, 0, 0, 0, 0, 0, 0, 0, 0, 0, 0, 0, 0, 0, 0, 0, 0, 0, 0, 0, 0, 0, 0, 0, 0, 0, 0, 0, 0, 0, 0, 0, 0, 0, 0, 0, 0, 0, 0, 0, 0, 0, 0, 0, 0, 0, 0, 0, 0, 0, 0, 0, 0, 0, 0, 0, 0, 0, 0, 0, 0, 0, 0, 0, 0, 0, 0, 0, 0, 0, 0, 0, 0, 0, 0, 0, 0, 0, 0, 0, 0, 0, 0, 0, 0, 0, 0, 0, 0, 0, 0, 0, 0, 0, 0, 0, 0, 0, 0, 0, 0, 0, 0, 0, 0, 0, 0, 0, 0, 0, 0, 0, 0, 0, 0, 0, 0, 0, 0, 0, 0, 0, 0, 0, 0, 0, 0, 0, 0, 0, 0, 0, 0, 0, 0, 0, 0, 0, 0, 0, 0, 0, 0, 0, 0, 0, 0, 0, 0, 0, 0, 0, 0, 0, 0, 0, 0, 0, 0, 0, 0, 1, 0, 0, 0, 0, 0, 0, 0, 0, 0, 0, 0, 0, 0, 0, 0, 0, 0, 0, 0, 0, 0, 0, 0, 0, 0, 0, 0, 0, 0, 0, 0, 0, 0, 0, 0, 0, 0, 0, 0, 0, 0, 0, 0, 0, 0, 0, 0, 0, 0, 0, 0, 0, 0, 0, 0, 0, 0, 0, 0, 0, 0, 0, 0, 0, 0, 0, 0, 0, 0, 0, 0, 0, 0, 0, 0, 0, 0, 0, 0, 0, 0, 0, 0, 0, 0, 0, 0, 0, 0, 0, 0, 0, 0, 0, 0, 0, 0, 0, 0, 0, 0, 0, 0, 0, 0, 0, 0, 0, 0, 0, 0, 0, 0, 0, 0, 0, 0, 0, 0, 0, 0, 0, 0, 0, 0, 0, 0, 0, 0, 0, 0, 0, 0, 0, 0, 0, 0, 0, 0, 0, 0, 0, 0, 0, 0, 0, 0, 0, 0, 0, 0, 0, 0, 0, 0, 0, 0, 0, 0, 0, 0, 0, 0, 0, 0, 0, 0, 0, 0, 0, 0, 0, 0, 0, 0, 0, 0, 0, 0, 0, 0, 0, 0, 0, 0, 0, 0, 0, 0, 0, 0, 0, 0, 0, 0, 0, 0, 0, 0, 0, 0, 0, 0, 0, 0, 0, 0, 0, 0, 0, 0, 0, 0, 0, 0, 0, 0, 0, 0, 0, 0, 0, 0, 0, 0, 0, 0, 0, 0, 0, 0, 0, 0, 0, 0, 0, 0, 0, 0, 0, 0, 0, 0, 0, 0, 0, 0, 0, 0, 0, 0, 0, 0, 1, 0, 0, 0, 0, 0, 0, 0, 0, 0, 0, 0, 0, 0, 0, 0, 0, 0, 0, 0, 0, 0, 0, 0, 0, 0, 0, 0, 0, 0, 0, 0, 0, 0, 0, 0, 0, 0, 0, 0, 0, 0, 0, 0, 0, 0, 0, 0, 0, 0, 0, 0, 0, 0, 0, 0, 0, 0, 0, 0, 0, 0, 0, 0, 0, 0, 0, 0, 0, 0, 0, 0, 0, 0, 0, 0, 0, 0, 0, 0, 0, 0, 0, 0, 0, 0, 0, 1, 0, 0, 0, 0, 0, 0, 0, 0, 0, 0, 0, 0, 0, 0, 0, 0, 0, 0, 0, 0, 0, 0, 0, 0, 0, 0, 0, 0, 0, 0, 0, 0, 0, 0, 0, 0, 0, 0, 0, 0, 0, 0, 0, 0, 0, 0, 0, 0, 0, 0, 0, 0, 0, 0, 0, 0, 0, 0, 0, 0, 0, 0, 0, 0, 0, 0, 0, 0, 0, 0, 0, 0, 0, 0, 0, 0, 0, 0, 0, 0, 0, 0, 0, 0, 0, 0, 0, 0, 0, 0, 0, 0, 0, 0, 0, 0, 0, 0, 0, 0, 0, 0, 0, 0, 0, 0, 0, 0, 0, 0, 0, 0, 0, 0, 0, 0, 0, 0, 0, 0, 0, 0, 0, 0, 0, 0, 0, 0, 0, 0, 0, 0, 0, 0, 0, 0, 0, 0, 0, 0, 0, 0, 0, 0, 0, 0, 0, 0, 0, 0, 0, 0, 0, 0, 0, 0, 0, 0, 0, 0, 0, 0, 0, 0, 0, 0, 0, 0, 0, 0, 0, 0, 0, 0, 0, 0, 0, 0, 0, 0, 0, 0, 0, 0, 0, 0, 0, 0, 0, 0, 0, 0, 0, 0, 0, 0, 0, 0, 0, 0, 0, 0, 0, 0, 0, 0, 0, 0, 0, 0, 0, 0, 0, 0, 0, 0, 0, 0, 0, 0, 0, 0, 0, 0, 0, 0, 0, 0, 0, 0, 0, 0, 0, 0, 0, 0, 0, 0, 0, 0, 0, 0, 0, 0, 0, 0, 0, 0, 0, 0, 0, 0, 1, 0, 0, 0, 0, 0, 0, 0, 0, 0, 0, 0, 0, 0, 0, 0, 0, 0, 0, 0, 0, 0, 0, 0, 0, 0, 0, 0, 0, 0, 0, 0, 0, 0, 0, 0, 0, 0, 0, 0, 0, 0, 0, 0, 0, 0, 0, 0, 0, 0, 0, 0, 0, 0, 0, 0, 1, 0, 0, 0, 0, 0, 0, 0, 0, 0, 0, 0, 0, 0, 0, 0, 0, 0, 0, 0, 0, 0, 0, 0, 0, 0, 0, 0, 0, 0, 0, 0, 0, 0, 0, 0, 0, 0, 0, 0, 0, 0, 0, 0, 0, 0, 0, 0, 0, 0, 0, 0, 0, 0, 0, 0, 0, 0, 0, 0, 0, 0, 0, 0, 0, 0, 0, 0, 0, 0, 0, 0, 0, 0, 0, 0, 0, 0, 0, 0, 0, 0, 0, 0, 0, 0, 0, 0, 0, 0, 0, 0, 0, 0, 0, 0, 0, 0, 0, 0, 0, 0, 0, 0, 0, 0, 0, 0, 0, 0, 0, 0, 0, 0, 0, 0, 0, 0, 0, 0, 0, 0, 0, 0, 0, 0, 0, 0, 0, 0, 0, 0, 0, 0, 0, 0, 0, 0, 0, 0, 0, 0, 0, 0, 0, 0, 0, 0, 0, 0, 0, 0, 0, 0, 0, 0, 0, 0, 0, 0, 0, 0, 0, 0, 0, 0, 0, 0, 0, 0, 0, 0, 0, 0, 0, 0, 0, 0, 0, 0, 0, 0, 0, 0, 0, 0, 0, 0, 0, 0, 0, 0, 0, 0, 0, 0, 0, 0, 0, 0, 0, 0, 0, 0, 0, 0, 0, 0, 0, 0, 0, 0, 0, 0, 0, 0, 0, 0, 0, 0, 0, 0, 0, 0, 0, 0, 0, 0, 0, 0, 0, 0, 0, 0, 0, 0, 0, 0, 0, 0, 0, 0, 0, 0, 0, 0, 0, 0, 0, 0, 0, 0, 0, 0, 0, 0, 0, 0, 0, 0, 0, 0, 0, 0, 0, 0, 0, 0, 0, 0, 0, 0, 0, 0, 0, 0, 0, 0, 0, 0, 0, 0, 0, 0, 0, 0, 0, 0, 0, 0, 0, 0, 0, 0, 0, 0, 0, 0, 0, 0, 0, 0, 0, 0, 0, 0, 0, 0, 0, 0, 0, 0, 0, 0, 0, 0, 0, 0, 0, 0, 0, 0, 0, 0, 0, 0, 0, 0, 0, 0, 0, 0, 0, 0, 0, 0, 0, 0, 0, 0, 0, 0, 0, 0, 0, 0, 0, 0, 0, 0, 0, 0, 0, 0, 0, 0, 0, 0, 0, 0, 0, 0, 0, 0, 0, 0, 0, 0, 0, 0, 0, 0, 0, 0, 0, 0, 0, 0, 0, 0, 0, 0, 0, 0, 0, 0, 0, 0, 0, 0, 0, 0, 0, 0, 0, 0, 0, 0, 0, 0, 0, 0, 0, 0, 0, 0, 0, 0, 0, 0, 0, 0, 0, 0, 0, 0, 0, 0, 0, 0, 0, 0, 0, 0, 0, 0, 0, 0, 0, 0, 0, 0, 0, 0, 0, 0, 0, 0, 0, 0, 0, 0, 0, 0, 0, 0, 0, 0, 0, 0, 0, 0, 0, 0, 0, 0, 0, 0, 0, 0, 0, 0, 0, 0, 0, 0, 0, 0, 0, 0, 0, 0, 0, 0, 0, 0, 0, 0, 0, 0, 0, 0, 0, 0, 0, 0, 0, 0, 0, 0, 0, 0, 0, 0, 0, 0, 0, 0, 0, 0, 0, 0, 0, 0, 0, 0, 0, 0, 0, 0, 0, 0, 0, 0, 0, 0, 0, 0, 0, 0, 0, 0, 0, 0, 0, 0, 0, 0, 0, 0, 0, 0, 0, 0, 0, 0, 0, 0, 0, 0, 0, 0, 0, 0, 0, 0, 0, 0, 0, 0, 0, 0, 0, 0, 0, 0, 0, 0, 0, 0, 0, 0, 0, 0, 0, 0, 0, 0, 0, 0, 0, 0, 0, 0, 0, 0, 0, 0, 0, 0, 0, 0, 0, 0, 0, 0, 0, 0, 0, 0, 0, 0, 0, 0, 0, 0, 0, 0, 0, 0, 0, 0, 0, 0, 0, 0, 0, 0, 0, 0, 0, 0, 0, 0, 0, 0, 0, 0, 0, 0, 0, 0, 0, 0, 0, 0, 0, 0, 0, 0, 0, 0, 0, 0, 0, 0, 0, 0, 0, 0, 0, 0, 0, 0, 0, 0, 0, 0, 0, 0, 0, 0, 0, 0, 0, 0, 0, 0, 0, 0, 0, 0, 0, 0, 0, 0, 0, 0, 0, 0, 0, 0, 0, 0, 0, 0, 0, 0, 0, 0, 0, 0, 1, 0, 0, 0, 0, 0, 0, 0, 0, 0, 0, 0, 0, 0, 0, 0, 0, 0, 0, 0, 0, 0, 0, 0, 0, 0, 0, 0, 0, 0, 0, 0, 0, 0, 0, 0, 0, 0, 0, 0, 0, 0, 0, 0, 0, 0, 0, 0, 0, 0, 0, 0, 0, 0, 0, 0, 0, 0, 0, 0, 0, 0, 0, 0, 0, 0, 0, 0, 0, 0, 0, 0, 0, 0, 0, 1, 0, 0, 0, 0, 0, 0, 0, 0, 0, 0, 0, 0, 0, 0, 0, 0, 0, 0, 0, 0, 1, 0, 0, 1, 0, 0, 0, 0, 0, 0, 0, 0, 0, 0, 0, 0, 0, 0, 0, 0, 0, 0, 0, 0, 0, 0, 0, 0, 0, 0, 0, 0, 0, 0, 0, 0, 0, 0, 0, 0, 0, 0, 0, 0, 0, 0, 0, 0, 0, 0, 0, 0, 0, 0, 0, 0, 0, 0, 0, 0, 0, 0, 0, 0, 0, 0, 0, 0, 0, 0, 0, 0, 0, 0, 0, 0, 0, 0, 0, 0, 0, 0, 0, 0, 0, 0, 0, 0, 0, 0, 0, 0, 0, 0, 0, 0, 0, 0, 0, 0, 0, 0, 0, 0, 0, 0, 0, 0, 0, 0, 0, 0, 0, 0, 0, 0, 0, 0, 0, 0, 0, 0, 0, 0, 0, 0, 0, 0, 0, 0, 0, 0, 0, 0, 0, 0, 0, 0, 0, 0, 0, 0, 0, 0, 0, 0, 0, 0, 0, 0, 0, 0, 0, 0, 0, 0, 0, 0, 0, 0, 0, 0, 0, 0, 0, 0, 0, 0, 0, 0, 0, 0, 0, 0, 0, 0, 0, 0, 0, 0, 0, 0, 0, 0, 0, 0, 0, 0, 0, 0, 0, 0, 0, 0, 0, 0, 0, 0, 0, 0, 0, 0, 0, 0, 0, 0, 0, 0, 0, 0, 0, 0, 0, 0, 0, 0, 0, 0, 0, 0, 0, 0, 0, 0, 0, 0, 0, 0, 0, 0, 0, 0, 0, 0, 0, 0, 0, 0, 0, 0, 0, 0, 0, 0, 0, 0, 0, 0, 0, 0, 0, 0, 0, 0, 0, 0, 0, 0, 0, 0, 0, 0, 0, 0, 0, 0, 0, 0, 0, 0, 0, 0, 0, 0, 0, 0, 0, 0, 0, 0, 0, 0, 0, 0, 0, 0, 0, 0, 0, 0, 0, 0, 0, 0, 0, 0, 0, 0, 0, 0, 0, 0, 0, 0, 0, 0, 0, 0, 0, 0, 0, 0, 0, 0, 0, 0, 0, 0, 0, 0, 0, 0, 0, 0, 0, 0, 0, 0, 0, 0, 0, 0, 0, 0, 0, 0, 0, 0, 0, 0, 0, 0, 0, 0, 0, 0, 0, 0, 0, 0, 0, 0, 0, 0, 0, 0, 0, 0, 0, 0, 0, 0, 0, 0, 0, 0, 0, 0, 0, 0, 0, 0, 0, 0, 0, 0, 0, 0, 0, 0, 0, 0, 0, 0, 0, 0, 0, 0, 0, 0, 0, 0, 0, 0, 0, 0, 0, 0, 0, 0, 0, 0, 0, 0, 0, 0, 0, 0, 0, 0, 0, 0, 0, 0, 0, 0, 0, 0, 0, 0, 0, 0, 0, 0, 0, 0, 0, 0, 0, 0, 0, 0, 0, 0, 0, 0, 0, 0, 0, 0, 0, 0, 0, 0, 0, 0, 0, 0, 0, 0, 0, 0, 0, 0, 0, 0, 0, 0, 0, 0, 0, 0, 0, 0, 0, 0, 0, 0, 0, 0, 1, 0, 0, 0, 0, 0, 0, 0, 0, 0, 0, 0, 0, 0, 0, 0, 0, 0, 0, 0, 0, 0, 0, 0, 0, 0, 0, 0, 0, 0, 0, 0, 0, 0, 0, 0, 0, 0, 0, 0, 0, 0, 0, 0, 0, 0, 0, 0, 0, 0, 0, 0, 0, 0, 0, 0, 0, 0, 0, 0, 0, 0, 0, 0, 0, 0, 0, 0, 0, 0, 0, 0, 0, 0, 0, 0, 0, 0, 0, 0, 0, 0, 0, 0, 0, 0, 0, 0, 0, 0, 0, 0, 0, 0, 0, 0, 0, 0, 0, 0, 0, 0, 0, 0, 0, 0, 0, 0, 0, 0, 0, 0, 0, 0, 0, 0, 0, 0, 0, 0, 0, 0, 0, 0, 0, 0, 0, 0, 0, 0, 0, 0, 0, 0, 0, 0, 0, 0, 0, 0, 0, 0, 0, 0, 0, 0, 0, 0, 0, 0, 0, 0, 0, 0, 0, 0, 0, 0, 0, 0, 0, 0, 0, 0, 0, 0, 0, 0, 0, 0, 0, 0, 0, 0, 0, 0, 0, 0, 0, 0, 0, 0, 0, 0, 0, 0, 0, 0, 0, 0, 0, 0, 0, 0, 0, 0, 0, 0, 0, 0, 0, 0, 0, 0, 0, 0, 0, 0, 0, 0, 0, 0, 0, 0, 0, 0, 0, 0, 0, 0, 0, 0, 0, 0, 0, 0, 0, 0, 0, 0, 0, 0, 0, 0, 0, 0, 0, 0, 0, 0, 0, 0, 0, 0, 0, 0, 0, 0, 0, 0, 0, 0, 0, 0, 0, 0, 0, 0, 0, 0, 0, 0, 0, 0, 0, 0, 0, 0, 0, 0, 0, 0, 0, 0, 0, 0, 0, 0, 0, 0, 0, 0, 0, 0, 0, 0, 0, 0, 0, 0, 0, 0, 0, 0, 0, 0, 0, 0, 0, 0, 0, 0, 0, 0, 0, 0, 0, 0, 0, 0, 0, 0, 0, 0, 0, 0, 0, 0, 0, 0, 0, 0, 0, 0, 0, 0, 0, 0, 0, 0, 0, 0, 0, 0, 0, 0, 0, 0, 0, 0, 0, 0, 0, 0, 0, 0, 0, 0, 0, 0, 0, 0, 0, 0, 0, 0, 0, 0, 0, 0, 0, 0, 0, 0, 0, 0, 0, 0, 0, 0, 0, 0, 0, 0, 0, 0, 0, 0, 0, 0, 0, 0, 0, 0, 0, 0, 0, 0, 0, 0, 0, 0, 0, 0, 0, 0, 0, 0, 0, 0, 0, 0, 0, 0, 0, 0, 0, 0, 0, 0, 0, 0, 0, 0, 0, 0, 0, 0, 0, 0, 0, 0, 0, 0, 0, 0, 0, 0, 0, 0, 0, 0, 0, 0, 0, 0, 0, 0, 0, 0, 0, 0, 0, 0, 0, 0, 0, 0, 0, 0, 0, 0, 0, 0, 0, 0, 0, 0, 0, 0, 0, 0, 0, 0, 0, 0, 0, 0, 0, 0, 0, 0, 0, 0, 0, 0, 0, 0, 0, 0, 0, 0, 0, 0, 0, 0, 0, 0, 0, 0, 0, 0, 0, 0, 0, 0, 0, 0, 0, 0, 0, 0, 0, 0, 0, 0, 0, 0, 0, 0, 0, 0, 0, 1, 0, 0, 0, 0, 0, 0, 0, 0, 0, 0, 0, 0, 0, 0, 0, 0, 0, 0, 0, 0, 0, 0, 0, 0, 0, 0, 0, 0, 0, 0, 0, 0, 0, 0, 0, 2, 0, 0, 0, 0, 0, 0, 0, 0, 0, 0, 0, 0, 0, 0, 0, 0, 0, 0, 0, 0, 0, 0, 0, 0, 0, 0, 0, 0, 0, 0, 0, 0, 0, 0, 0, 0, 0, 0, 0, 0, 1, 0, 0, 0, 0, 0, 0, 0, 0, 0, 0, 0, 0, 0, 0, 0, 0, 0, 0, 0, 0, 0, 0, 0, 0, 0, 0, 0, 0, 0, 0, 0, 0, 0, 0, 0, 0, 0, 0, 0, 0, 0, 0, 0, 0, 0, 0, 0, 0, 0, 0, 0, 0, 0, 0, 0, 0, 0, 0, 0, 0, 0, 0, 0, 0, 0, 0, 0, 0, 0, 0, 0, 0, 0, 0, 0, 0, 0, 0, 0, 0, 0, 0, 0, 0, 0, 0, 0, 0, 0, 0, 0, 0, 0, 0, 0, 0, 0, 0, 0, 0, 0, 0, 0, 0, 0, 0, 0, 0, 0, 0, 0, 0, 0, 0, 0, 0, 0, 0, 0, 0, 0, 0, 0, 0, 0, 0, 0, 0, 0, 0, 0, 0, 0, 0, 0, 0, 0, 0, 0, 0, 0, 0, 0, 0, 0, 0, 0, 0, 0, 0, 0, 0, 0, 0, 0, 0, 0, 0, 0, 0, 0, 0, 0, 0, 0, 0, 0, 0, 0, 0, 0, 0, 0, 0, 0, 0, 0, 0, 0, 0, 0, 0, 0, 0, 0, 0, 0, 0, 0, 0, 0, 0, 0, 0, 0, 0, 0, 0, 0, 0, 0, 0, 0, 0, 0, 0, 0, 0, 0, 0, 0, 0, 0, 0, 0, 0, 0, 0, 0, 0, 0, 0, 0, 0, 0, 0, 0, 0, 0, 0, 0, 0, 0, 0, 0, 0, 0, 0, 0, 0, 0, 0, 0, 0, 0, 0, 0, 0, 0, 0, 0, 0, 0, 0, 0, 0, 0, 0, 0, 0, 0, 0, 0, 0, 0, 0, 0, 0, 0, 0, 0, 0, 0, 0, 0, 0, 0, 0, 0, 0, 0, 0, 0, 0, 0, 0, 0, 0, 0, 0, 0, 0, 0, 0, 0, 0, 0, 0, 0, 0, 0, 0, 0, 0, 0, 0, 0, 0, 0, 0, 0, 0, 0, 0, 0, 0, 0, 0, 0, 0, 0, 0, 0, 0, 0, 0, 0, 0, 0, 0, 0, 0, 0, 0, 0, 0, 0, 0, 0, 0, 0, 0, 0, 0, 0, 0, 0, 0, 0, 0, 0, 0, 0, 0, 0, 0, 0, 0, 0, 0, 0, 0, 0, 0, 0, 0, 0, 0, 0, 0, 0, 0, 0, 0, 0, 0, 0, 0, 0, 0, 0, 0, 0, 0, 0, 0, 0, 0, 0, 0, 0, 0, 0, 0, 0, 0, 0, 0, 0, 0, 0, 0, 0, 0, 0, 0, 0, 0, 0, 0, 0, 0, 0, 0, 0, 0, 0, 0, 0, 0, 0, 0, 0, 0, 0, 0, 0, 0, 0, 0, 0, 0, 0, 0, 0, 0, 0, 0, 0, 0, 0, 0, 0, 0, 0, 0, 0, 0, 0, 0, 0, 0, 0, 0, 0, 0, 0, 0, 0, 0, 0, 0, 0, 0, 0, 0, 0, 0, 0, 0, 0, 0, 0, 0, 0, 0, 0, 0, 0, 0, 0, 0, 0, 0, 0, 0, 0, 0, 0, 0, 0, 0, 0, 0, 0, 0, 0, 1, 0, 0, 0, 0, 0, 0, 0, 0, 0, 0, 0, 0, 0, 0, 0, 0, 0, 0, 0, 0, 0, 0, 0, 0, 0, 0, 0, 0, 0, 0, 0, 0, 0, 0, 0, 0, 0, 0, 0, 0, 0, 0, 0, 0, 0, 0, 0, 0, 0, 0, 0, 0, 0, 0, 0, 0, 0, 0, 0, 0, 0, 0, 0, 0, 0, 0, 0, 0, 0, 0, 0, 0, 0, 0, 0, 0, 0, 0, 0, 0, 0, 0, 0, 0, 0, 0, 0, 0, 0, 0, 0, 0, 0, 0, 0, 0, 0, 0, 0, 0, 0, 0, 0, 0, 0, 0, 0, 0, 0, 0, 2, 0, 0, 0, 0, 0, 0, 0, 0, 0, 0, 0, 0, 0, 0, 0, 0, 0, 0, 0, 0, 0, 0, 0, 0, 0, 0, 0, 0, 0, 0, 0, 0, 0, 0, 0, 0, 0, 0, 0, 0, 0, 0, 0, 0, 0, 0, 0, 0, 0, 0, 0, 0, 0, 0, 0, 0, 0, 0, 0, 0, 0, 0, 0, 0, 0, 0, 0, 0, 0, 0, 0, 0, 0, 0, 0, 0, 0, 0, 0, 0, 0, 0, 0, 0, 0, 0, 0, 0, 0, 0, 0, 0, 0, 0, 0, 0, 0, 0, 0, 0, 0, 0, 0, 0, 0, 0, 0, 0, 0, 0, 0, 0, 0, 0, 0, 0, 0, 0, 0, 0, 0, 0, 0, 0, 0, 0, 0, 0, 0, 0, 0, 0, 0, 0, 0, 0, 0, 0, 0, 0, 0, 0, 0, 0, 0, 0, 0, 0, 0, 0, 0, 0, 0, 0, 0, 0, 0, 0, 0, 0, 0, 0, 0, 0, 0, 0, 0, 0, 0, 0, 0, 0, 0, 0, 0, 0, 0, 0, 0, 0, 0, 0, 0, 0, 0, 0, 0, 0, 0, 0, 0, 0, 0, 0, 0, 0, 0, 0, 0, 0, 0, 0, 0, 0, 0, 0, 0, 0, 0, 0, 0, 0, 0, 0, 0, 0, 0, 0, 0, 0, 0, 0, 0, 0, 0, 0, 0, 0, 0, 0, 0, 0, 0, 0, 0, 0, 0, 0, 0, 0, 0, 0, 0, 0, 0, 0, 0, 0, 0, 0, 0, 0, 0, 0, 0, 0, 0, 0, 0, 0, 0, 0, 0, 0, 0, 0, 0, 0, 0, 0, 0, 0, 0, 0, 0, 0, 0, 0, 0, 0, 0, 0, 0, 0, 0, 0, 0, 0, 0, 0, 0, 0, 0, 0, 0, 0, 0, 0, 0, 0, 0, 0, 0, 0, 0, 0, 0, 0, 0, 0, 0, 0, 0, 0, 0, 0, 0, 0, 0, 0, 0, 0, 0, 0, 0, 0, 0, 0, 0, 0, 0, 0, 0, 0, 0, 0, 0, 0, 0, 0, 0, 0, 0, 0, 0, 0, 0, 0, 0, 0, 0, 0, 0, 0, 0, 0, 0, 0, 0, 0, 0, 0, 0, 0, 0, 0, 0, 0, 0, 0, 0, 0, 0, 0, 0, 0, 0, 0, 0, 0, 0, 0, 0, 0, 0, 0, 0, 0, 0, 0, 0, 0, 0, 0, 0, 0, 0, 0, 0, 0, 0, 0, 0, 0, 0, 0, 0, 0, 0, 0, 0, 0, 0, 0, 0, 0, 0, 0, 0, 0, 0, 0, 0, 0, 0, 0, 0, 0, 0, 0, 0, 0, 0, 0, 0, 0, 0, 0, 0, 0, 0, 0, 0, 0, 0, 0, 0, 0, 0, 0, 0, 0, 0, 0, 0, 0, 0, 0, 0, 0, 0, 0, 0, 0, 0, 0, 0, 0, 0, 0, 0, 0, 0, 0, 0, 0, 0, 0, 0, 0, 0, 0, 0, 0, 0, 0, 0, 0, 0, 0, 0, 0, 0, 0, 0, 0, 0, 0, 0, 0, 0, 0, 0, 0, 0, 0, 0, 0, 0, 0, 0, 0, 0, 0, 0, 0, 0, 0, 0, 0, 0, 0, 0, 0, 0, 0, 0, 0, 0, 0, 0, 0, 0, 0, 0, 0, 0, 0, 0, 0, 0, 0, 0, 0, 0, 0, 0, 0, 0, 0, 0, 0, 0, 0, 0, 0, 0, 0, 0, 0, 0, 0, 0, 0, 0, 0, 0, 0, 0, 0, 0, 0, 0, 0, 0, 0, 0, 0, 0, 0, 0, 0, 0, 0, 0, 0, 0, 0, 0, 0, 0, 0, 0, 0, 0, 0, 0, 0, 0, 0, 0, 0, 0, 0, 0, 0, 0, 0, 0, 0, 0, 0, 0, 0, 0, 0, 0, 0, 0, 0, 0, 0, 0, 0, 0, 0, 0, 0, 0, 0, 0, 0, 0, 0, 0, 0, 0, 0, 0, 0, 0, 0, 0, 0, 0, 0, 0, 0, 0, 0, 0, 0, 0, 0, 0, 0, 0, 0, 0, 0, 0, 0, 0, 0, 0, 0, 0, 0, 0, 0, 0, 0, 0, 0, 0, 0, 0, 0, 0, 0, 0, 0, 0, 0, 0, 0, 0, 0, 0, 0, 1, 0, 0, 0, 0, 0, 0, 0, 0, 0, 0, 0, 0, 0, 0, 0, 0, 0, 0, 0, 0, 0, 0, 0, 0, 0, 0, 0, 0, 0, 0, 0, 0, 0, 0, 0, 0, 0, 0, 0, 0, 0, 0, 0, 0, 0, 0, 0, 0, 0, 0, 0, 0, 0, 0, 0, 0, 0, 0, 0, 0, 0, 0, 0, 0, 0, 0, 0, 0, 0, 0, 0, 0, 0, 0, 0, 0, 0, 0, 0, 0, 0, 0, 0, 0, 0, 0, 0, 0, 0, 0, 0, 0, 0, 0, 0, 0, 0, 0, 0, 0, 0, 0, 0, 0, 0, 0, 0, 1, 0, 0, 0, 0, 0, 0, 0, 0, 0, 0, 0, 0, 0, 0, 0, 0, 0, 0, 0, 0, 0, 0, 0, 0, 0, 0, 0, 0, 0, 0, 0, 0, 0, 0, 0, 0, 0, 0, 0, 0, 0, 0, 0, 0, 0, 0, 0, 0, 0, 0, 0, 0, 0, 0, 0, 0, 0, 0, 0, 0, 0, 0, 0, 0, 0, 0, 0, 0, 0, 0, 0, 0, 0, 0, 0, 0, 0, 0, 0, 0, 0, 0, 0, 0, 0, 0, 0, 0, 0, 0, 0, 0, 0, 0, 0, 0, 0, 0, 0, 0, 0, 0, 0, 0, 0, 0, 0, 0, 0, 0, 0, 0, 0, 0, 0, 0, 0, 0, 0, 0, 0, 0, 0, 0, 0, 0, 0, 0, 0, 0, 0, 0, 0, 0, 0, 0, 0, 0, 0, 0, 0, 0, 0, 0, 0, 0, 0, 0, 0, 0, 0, 0, 0, 0, 0, 0, 0, 0, 0, 0, 0, 0, 0, 0, 0, 0, 0, 0, 0, 0, 0, 0, 0, 0, 0, 0, 0, 0, 0, 0, 0, 0, 0, 0, 0, 0, 0, 0, 0, 0, 0, 0, 0, 0, 0, 0, 0, 0, 0, 0, 0, 0, 0, 0, 0, 0, 0, 0, 0, 0, 0, 0, 0, 0, 0, 0, 0, 0, 0, 0, 0, 0, 0, 0, 0, 0, 0, 0, 0, 0, 0, 0, 0, 0, 0, 0, 0, 0, 0, 0, 0, 0, 0, 0, 0, 0, 0, 0, 0, 0, 0, 0, 0, 0, 0, 0, 0, 0, 0, 0, 0, 0, 0, 0, 0, 0, 0, 0, 0, 0, 0, 0, 0, 0, 0, 0, 0, 0, 0, 0, 0, 0, 0, 0, 0, 0, 0, 0, 0, 0, 0, 0, 0, 0, 0, 0, 0, 0, 0, 0, 0, 0, 0, 0, 0, 0, 0, 0, 0, 0, 0, 0, 0, 0, 0, 0, 0, 0, 0, 0, 0, 0, 0, 0, 0, 0, 0, 0, 0, 0, 0, 0, 0, 0, 0, 0, 0, 0, 0, 0, 0, 0, 0, 0, 0, 0, 0, 0, 0, 0, 0, 0, 0, 0, 0, 0, 0, 0, 0, 0, 0, 0, 0, 0, 0, 0, 0, 0, 0, 0, 0, 0, 0, 0, 0, 0, 0, 0, 0, 0, 0, 0, 0, 0, 0, 0, 0, 0, 0, 0, 0, 0, 0, 0, 0, 0, 0, 0, 0, 0, 0, 0, 0, 0, 0, 0, 0, 0, 0, 0, 0, 0, 0, 0, 0, 0, 0, 0, 0, 0, 0, 0, 0, 0, 0, 0, 0, 0, 0, 0, 0, 0, 0, 0, 0, 0, 0, 0, 0, 0, 0, 0, 0, 0, 0, 0, 0, 0, 0, 0, 0, 0, 0, 0, 0, 0, 0, 0, 0, 0, 0, 0, 0, 2, 0, 1, 0]\n"
     ]
    }
   ],
   "source": [
    "test_bow = bow_encoding(test_words, vocabulary)\n",
    "print(test_bow)"
   ]
  },
  {
   "cell_type": "code",
   "execution_count": 40,
   "metadata": {},
   "outputs": [
    {
     "data": {
      "text/plain": [
       "5000"
      ]
     },
     "execution_count": 40,
     "metadata": {},
     "output_type": "execute_result"
    }
   ],
   "source": [
    "len(test_bow)"
   ]
  },
  {
   "cell_type": "markdown",
   "metadata": {},
   "source": [
    "So now we know how to construct a bag of words encoding of a user provided review, how to we send it to our endpoint? First, we need to start the endpoint back up."
   ]
  },
  {
   "cell_type": "code",
   "execution_count": null,
   "metadata": {},
   "outputs": [
    {
     "name": "stderr",
     "output_type": "stream",
     "text": [
      "WARNING:sagemaker:Using already existing model: xgboost-2020-06-22-14-52-43-526\n"
     ]
    },
    {
     "name": "stdout",
     "output_type": "stream",
     "text": [
      "-----"
     ]
    }
   ],
   "source": [
    "xgb_predictor = xgb.deploy(initial_instance_count = 1, instance_type = 'ml.m4.xlarge')"
   ]
  },
  {
   "cell_type": "markdown",
   "metadata": {},
   "source": [
    "At this point we could just do the same thing that we did earlier when we tested our deployed model and send `test_bow` to our endpoint using the `xgb_predictor` object. However, when we eventually construct our Lambda function we won't have access to this object, so how do we call a SageMaker endpoint?\n",
    "\n",
    "It turns out that Python functions that are used in Lambda have access to another Amazon library called `boto3`. This library provides an API for working with Amazon services, including SageMaker. To start with, we need to get a handle to the SageMaker runtime."
   ]
  },
  {
   "cell_type": "code",
   "execution_count": 34,
   "metadata": {},
   "outputs": [],
   "source": [
    "import boto3\n",
    "\n",
    "runtime = boto3.Session().client('sagemaker-runtime')"
   ]
  },
  {
   "cell_type": "markdown",
   "metadata": {},
   "source": [
    "And now that we have access to the SageMaker runtime, we can ask it to make use of (invoke) an endpoint that has already been created. However, we need to provide SageMaker with the name of the deployed endpoint. To find this out we can print it out using the `xgb_predictor` object."
   ]
  },
  {
   "cell_type": "code",
   "execution_count": 35,
   "metadata": {},
   "outputs": [
    {
     "data": {
      "text/plain": [
       "'xgboost-2020-06-23-08-46-10-640'"
      ]
     },
     "execution_count": 35,
     "metadata": {},
     "output_type": "execute_result"
    }
   ],
   "source": [
    "xgb_predictor.endpoint"
   ]
  },
  {
   "cell_type": "markdown",
   "metadata": {},
   "source": [
    "Using the SageMaker runtime and the name of our endpoint, we can invoke the endpoint and send it the `test_bow` data."
   ]
  },
  {
   "cell_type": "code",
   "execution_count": 39,
   "metadata": {},
   "outputs": [
    {
     "ename": "ParamValidationError",
     "evalue": "Parameter validation failed:\nInvalid type for parameter Body, value: [0, 0, 0, 0, 0, 0, 0, 0, 0, 0, 0, 0, 0, 0, 0, 0, 0, 0, 0, 0, 0, 0, 0, 0, 0, 0, 0, 0, 0, 0, 0, 0, 0, 0, 0, 0, 0, 0, 0, 0, 0, 0, 0, 0, 0, 0, 0, 0, 0, 0, 0, 0, 0, 0, 0, 0, 0, 0, 0, 0, 0, 0, 0, 0, 0, 0, 0, 0, 0, 0, 0, 0, 0, 0, 0, 0, 0, 0, 0, 0, 0, 0, 0, 0, 0, 0, 0, 0, 0, 0, 0, 0, 0, 0, 0, 0, 0, 0, 0, 0, 0, 0, 0, 0, 0, 0, 0, 0, 0, 0, 0, 0, 0, 0, 0, 0, 0, 0, 0, 0, 0, 0, 0, 0, 0, 0, 0, 0, 0, 0, 0, 0, 0, 0, 0, 0, 0, 0, 0, 0, 0, 0, 0, 0, 0, 0, 0, 0, 0, 0, 0, 0, 0, 0, 0, 0, 0, 0, 0, 0, 0, 0, 0, 0, 0, 0, 0, 0, 0, 0, 0, 0, 0, 0, 0, 0, 0, 0, 0, 0, 0, 0, 0, 0, 0, 0, 0, 0, 0, 0, 0, 0, 0, 0, 0, 0, 0, 0, 0, 0, 0, 0, 0, 0, 0, 0, 0, 0, 0, 0, 0, 0, 0, 0, 0, 0, 0, 0, 0, 0, 0, 0, 0, 0, 0, 0, 1, 0, 0, 0, 0, 0, 0, 0, 0, 0, 0, 0, 0, 0, 0, 0, 0, 0, 0, 0, 0, 0, 0, 0, 0, 0, 0, 0, 0, 0, 1, 0, 0, 0, 0, 0, 0, 0, 0, 0, 0, 0, 0, 0, 0, 0, 0, 0, 0, 0, 0, 0, 0, 0, 0, 0, 0, 0, 0, 0, 0, 0, 0, 0, 0, 0, 0, 0, 0, 0, 0, 0, 0, 0, 0, 0, 0, 0, 0, 0, 0, 0, 0, 0, 0, 0, 0, 0, 0, 0, 0, 0, 0, 0, 0, 0, 0, 0, 0, 0, 0, 0, 0, 0, 0, 0, 0, 0, 0, 0, 0, 0, 0, 0, 0, 0, 0, 0, 0, 0, 0, 0, 0, 0, 0, 0, 0, 0, 0, 0, 0, 0, 0, 0, 0, 0, 0, 0, 0, 0, 0, 0, 0, 0, 0, 0, 0, 0, 0, 0, 0, 0, 0, 0, 0, 0, 0, 0, 0, 0, 0, 0, 0, 0, 0, 0, 0, 0, 0, 0, 0, 0, 0, 0, 0, 0, 0, 0, 0, 0, 0, 0, 0, 0, 0, 0, 0, 0, 0, 0, 0, 0, 0, 0, 0, 0, 0, 0, 0, 0, 0, 0, 0, 0, 0, 0, 0, 0, 0, 0, 0, 0, 0, 0, 0, 0, 0, 0, 0, 0, 0, 0, 0, 0, 0, 0, 0, 0, 0, 0, 0, 0, 0, 0, 0, 0, 0, 0, 0, 0, 0, 0, 0, 0, 0, 0, 0, 0, 0, 0, 0, 0, 0, 0, 0, 0, 0, 0, 0, 0, 0, 0, 0, 0, 0, 0, 0, 0, 0, 0, 0, 0, 0, 0, 0, 0, 0, 0, 0, 0, 0, 0, 0, 0, 0, 0, 0, 0, 0, 0, 0, 0, 0, 0, 0, 0, 0, 0, 0, 0, 0, 0, 0, 0, 0, 0, 0, 0, 0, 0, 0, 0, 0, 0, 0, 0, 0, 0, 0, 0, 0, 0, 0, 0, 0, 0, 0, 0, 0, 0, 0, 0, 0, 0, 0, 0, 0, 0, 0, 0, 0, 0, 0, 0, 0, 0, 0, 0, 0, 0, 0, 0, 0, 0, 0, 0, 0, 0, 0, 0, 0, 0, 0, 0, 0, 0, 0, 0, 0, 0, 0, 0, 0, 0, 0, 0, 0, 0, 0, 0, 0, 0, 0, 0, 0, 0, 0, 0, 0, 0, 0, 0, 0, 0, 0, 0, 0, 0, 0, 0, 0, 0, 0, 0, 0, 0, 0, 0, 0, 0, 1, 0, 0, 0, 0, 0, 0, 0, 0, 0, 0, 0, 0, 0, 0, 0, 0, 0, 0, 0, 0, 0, 0, 0, 0, 0, 0, 0, 0, 0, 0, 0, 0, 0, 0, 0, 0, 0, 0, 0, 0, 0, 0, 0, 0, 0, 0, 0, 0, 0, 0, 0, 0, 0, 0, 0, 0, 0, 0, 0, 0, 0, 0, 0, 0, 0, 0, 0, 0, 0, 0, 0, 0, 0, 0, 0, 0, 0, 0, 0, 0, 0, 0, 0, 0, 0, 0, 0, 0, 0, 0, 0, 0, 0, 0, 0, 0, 0, 0, 0, 0, 0, 0, 0, 0, 0, 0, 0, 0, 0, 0, 0, 0, 0, 0, 0, 0, 0, 0, 0, 0, 0, 0, 0, 0, 0, 0, 0, 0, 0, 0, 0, 0, 0, 0, 0, 0, 0, 0, 0, 0, 0, 0, 0, 0, 0, 0, 0, 0, 0, 0, 0, 0, 0, 0, 0, 0, 0, 0, 0, 0, 0, 0, 0, 0, 0, 0, 0, 0, 0, 0, 0, 0, 0, 0, 0, 0, 0, 0, 0, 0, 0, 0, 0, 0, 0, 0, 0, 0, 0, 0, 0, 0, 0, 0, 0, 0, 0, 0, 0, 0, 0, 0, 0, 0, 0, 0, 0, 0, 0, 0, 0, 0, 0, 0, 0, 0, 0, 0, 0, 0, 0, 0, 0, 0, 0, 0, 0, 0, 0, 0, 0, 0, 0, 0, 0, 0, 0, 0, 0, 0, 0, 0, 0, 0, 0, 0, 0, 0, 0, 0, 0, 0, 0, 1, 0, 0, 0, 0, 0, 0, 0, 0, 0, 0, 0, 0, 0, 0, 0, 0, 0, 0, 0, 0, 0, 0, 0, 0, 0, 0, 0, 0, 0, 0, 0, 0, 0, 0, 0, 0, 0, 0, 0, 0, 0, 0, 0, 0, 0, 0, 0, 0, 0, 0, 0, 0, 0, 0, 0, 0, 0, 0, 0, 0, 0, 0, 0, 0, 0, 0, 0, 0, 0, 0, 0, 0, 0, 0, 0, 0, 0, 0, 0, 0, 0, 0, 0, 0, 0, 0, 1, 0, 0, 0, 0, 0, 0, 0, 0, 0, 0, 0, 0, 0, 0, 0, 0, 0, 0, 0, 0, 0, 0, 0, 0, 0, 0, 0, 0, 0, 0, 0, 0, 0, 0, 0, 0, 0, 0, 0, 0, 0, 0, 0, 0, 0, 0, 0, 0, 0, 0, 0, 0, 0, 0, 0, 0, 0, 0, 0, 0, 0, 0, 0, 0, 0, 0, 0, 0, 0, 0, 0, 0, 0, 0, 0, 0, 0, 0, 0, 0, 0, 0, 0, 0, 0, 0, 0, 0, 0, 0, 0, 0, 0, 0, 0, 0, 0, 0, 0, 0, 0, 0, 0, 0, 0, 0, 0, 0, 0, 0, 0, 0, 0, 0, 0, 0, 0, 0, 0, 0, 0, 0, 0, 0, 0, 0, 0, 0, 0, 0, 0, 0, 0, 0, 0, 0, 0, 0, 0, 0, 0, 0, 0, 0, 0, 0, 0, 0, 0, 0, 0, 0, 0, 0, 0, 0, 0, 0, 0, 0, 0, 0, 0, 0, 0, 0, 0, 0, 0, 0, 0, 0, 0, 0, 0, 0, 0, 0, 0, 0, 0, 0, 0, 0, 0, 0, 0, 0, 0, 0, 0, 0, 0, 0, 0, 0, 0, 0, 0, 0, 0, 0, 0, 0, 0, 0, 0, 0, 0, 0, 0, 0, 0, 0, 0, 0, 0, 0, 0, 0, 0, 0, 0, 0, 0, 0, 0, 0, 0, 0, 0, 0, 0, 0, 0, 0, 0, 0, 0, 0, 0, 0, 0, 0, 0, 0, 0, 0, 0, 0, 0, 0, 1, 0, 0, 0, 0, 0, 0, 0, 0, 0, 0, 0, 0, 0, 0, 0, 0, 0, 0, 0, 0, 0, 0, 0, 0, 0, 0, 0, 0, 0, 0, 0, 0, 0, 0, 0, 0, 0, 0, 0, 0, 0, 0, 0, 0, 0, 0, 0, 0, 0, 0, 0, 0, 0, 0, 0, 1, 0, 0, 0, 0, 0, 0, 0, 0, 0, 0, 0, 0, 0, 0, 0, 0, 0, 0, 0, 0, 0, 0, 0, 0, 0, 0, 0, 0, 0, 0, 0, 0, 0, 0, 0, 0, 0, 0, 0, 0, 0, 0, 0, 0, 0, 0, 0, 0, 0, 0, 0, 0, 0, 0, 0, 0, 0, 0, 0, 0, 0, 0, 0, 0, 0, 0, 0, 0, 0, 0, 0, 0, 0, 0, 0, 0, 0, 0, 0, 0, 0, 0, 0, 0, 0, 0, 0, 0, 0, 0, 0, 0, 0, 0, 0, 0, 0, 0, 0, 0, 0, 0, 0, 0, 0, 0, 0, 0, 0, 0, 0, 0, 0, 0, 0, 0, 0, 0, 0, 0, 0, 0, 0, 0, 0, 0, 0, 0, 0, 0, 0, 0, 0, 0, 0, 0, 0, 0, 0, 0, 0, 0, 0, 0, 0, 0, 0, 0, 0, 0, 0, 0, 0, 0, 0, 0, 0, 0, 0, 0, 0, 0, 0, 0, 0, 0, 0, 0, 0, 0, 0, 0, 0, 0, 0, 0, 0, 0, 0, 0, 0, 0, 0, 0, 0, 0, 0, 0, 0, 0, 0, 0, 0, 0, 0, 0, 0, 0, 0, 0, 0, 0, 0, 0, 0, 0, 0, 0, 0, 0, 0, 0, 0, 0, 0, 0, 0, 0, 0, 0, 0, 0, 0, 0, 0, 0, 0, 0, 0, 0, 0, 0, 0, 0, 0, 0, 0, 0, 0, 0, 0, 0, 0, 0, 0, 0, 0, 0, 0, 0, 0, 0, 0, 0, 0, 0, 0, 0, 0, 0, 0, 0, 0, 0, 0, 0, 0, 0, 0, 0, 0, 0, 0, 0, 0, 0, 0, 0, 0, 0, 0, 0, 0, 0, 0, 0, 0, 0, 0, 0, 0, 0, 0, 0, 0, 0, 0, 0, 0, 0, 0, 0, 0, 0, 0, 0, 0, 0, 0, 0, 0, 0, 0, 0, 0, 0, 0, 0, 0, 0, 0, 0, 0, 0, 0, 0, 0, 0, 0, 0, 0, 0, 0, 0, 0, 0, 0, 0, 0, 0, 0, 0, 0, 0, 0, 0, 0, 0, 0, 0, 0, 0, 0, 0, 0, 0, 0, 0, 0, 0, 0, 0, 0, 0, 0, 0, 0, 0, 0, 0, 0, 0, 0, 0, 0, 0, 0, 0, 0, 0, 0, 0, 0, 0, 0, 0, 0, 0, 0, 0, 0, 0, 0, 0, 0, 0, 0, 0, 0, 0, 0, 0, 0, 0, 0, 0, 0, 0, 0, 0, 0, 0, 0, 0, 0, 0, 0, 0, 0, 0, 0, 0, 0, 0, 0, 0, 0, 0, 0, 0, 0, 0, 0, 0, 0, 0, 0, 0, 0, 0, 0, 0, 0, 0, 0, 0, 0, 0, 0, 0, 0, 0, 0, 0, 0, 0, 0, 0, 0, 0, 0, 0, 0, 0, 0, 0, 0, 0, 0, 0, 0, 0, 0, 0, 0, 0, 0, 0, 0, 0, 0, 0, 0, 0, 0, 0, 0, 0, 0, 0, 0, 0, 0, 0, 0, 0, 0, 0, 0, 0, 0, 0, 0, 0, 0, 0, 0, 0, 0, 0, 0, 0, 0, 0, 0, 0, 0, 0, 0, 0, 0, 0, 0, 0, 0, 0, 0, 0, 0, 0, 0, 0, 0, 0, 0, 0, 0, 0, 0, 0, 0, 0, 0, 0, 0, 0, 0, 0, 0, 0, 0, 0, 0, 0, 0, 0, 0, 0, 0, 0, 0, 0, 0, 0, 0, 0, 0, 0, 0, 0, 0, 0, 0, 0, 0, 0, 0, 0, 0, 0, 0, 0, 0, 0, 0, 0, 0, 0, 0, 0, 0, 0, 0, 0, 0, 0, 0, 0, 0, 0, 0, 0, 0, 0, 0, 0, 0, 0, 0, 0, 0, 0, 0, 0, 0, 0, 0, 0, 0, 0, 0, 0, 0, 0, 0, 0, 0, 0, 0, 0, 0, 0, 0, 0, 0, 0, 0, 0, 0, 0, 0, 0, 0, 0, 0, 0, 0, 0, 0, 0, 0, 0, 0, 0, 0, 0, 0, 0, 0, 0, 0, 0, 0, 0, 0, 0, 0, 0, 0, 0, 0, 0, 0, 0, 0, 0, 0, 0, 0, 0, 0, 1, 0, 0, 0, 0, 0, 0, 0, 0, 0, 0, 0, 0, 0, 0, 0, 0, 0, 0, 0, 0, 0, 0, 0, 0, 0, 0, 0, 0, 0, 0, 0, 0, 0, 0, 0, 0, 0, 0, 0, 0, 0, 0, 0, 0, 0, 0, 0, 0, 0, 0, 0, 0, 0, 0, 0, 0, 0, 0, 0, 0, 0, 0, 0, 0, 0, 0, 0, 0, 0, 0, 0, 0, 0, 0, 1, 0, 0, 0, 0, 0, 0, 0, 0, 0, 0, 0, 0, 0, 0, 0, 0, 0, 0, 0, 0, 1, 0, 0, 1, 0, 0, 0, 0, 0, 0, 0, 0, 0, 0, 0, 0, 0, 0, 0, 0, 0, 0, 0, 0, 0, 0, 0, 0, 0, 0, 0, 0, 0, 0, 0, 0, 0, 0, 0, 0, 0, 0, 0, 0, 0, 0, 0, 0, 0, 0, 0, 0, 0, 0, 0, 0, 0, 0, 0, 0, 0, 0, 0, 0, 0, 0, 0, 0, 0, 0, 0, 0, 0, 0, 0, 0, 0, 0, 0, 0, 0, 0, 0, 0, 0, 0, 0, 0, 0, 0, 0, 0, 0, 0, 0, 0, 0, 0, 0, 0, 0, 0, 0, 0, 0, 0, 0, 0, 0, 0, 0, 0, 0, 0, 0, 0, 0, 0, 0, 0, 0, 0, 0, 0, 0, 0, 0, 0, 0, 0, 0, 0, 0, 0, 0, 0, 0, 0, 0, 0, 0, 0, 0, 0, 0, 0, 0, 0, 0, 0, 0, 0, 0, 0, 0, 0, 0, 0, 0, 0, 0, 0, 0, 0, 0, 0, 0, 0, 0, 0, 0, 0, 0, 0, 0, 0, 0, 0, 0, 0, 0, 0, 0, 0, 0, 0, 0, 0, 0, 0, 0, 0, 0, 0, 0, 0, 0, 0, 0, 0, 0, 0, 0, 0, 0, 0, 0, 0, 0, 0, 0, 0, 0, 0, 0, 0, 0, 0, 0, 0, 0, 0, 0, 0, 0, 0, 0, 0, 0, 0, 0, 0, 0, 0, 0, 0, 0, 0, 0, 0, 0, 0, 0, 0, 0, 0, 0, 0, 0, 0, 0, 0, 0, 0, 0, 0, 0, 0, 0, 0, 0, 0, 0, 0, 0, 0, 0, 0, 0, 0, 0, 0, 0, 0, 0, 0, 0, 0, 0, 0, 0, 0, 0, 0, 0, 0, 0, 0, 0, 0, 0, 0, 0, 0, 0, 0, 0, 0, 0, 0, 0, 0, 0, 0, 0, 0, 0, 0, 0, 0, 0, 0, 0, 0, 0, 0, 0, 0, 0, 0, 0, 0, 0, 0, 0, 0, 0, 0, 0, 0, 0, 0, 0, 0, 0, 0, 0, 0, 0, 0, 0, 0, 0, 0, 0, 0, 0, 0, 0, 0, 0, 0, 0, 0, 0, 0, 0, 0, 0, 0, 0, 0, 0, 0, 0, 0, 0, 0, 0, 0, 0, 0, 0, 0, 0, 0, 0, 0, 0, 0, 0, 0, 0, 0, 0, 0, 0, 0, 0, 0, 0, 0, 0, 0, 0, 0, 0, 0, 0, 0, 0, 0, 0, 0, 0, 0, 0, 0, 0, 0, 0, 0, 0, 0, 0, 0, 0, 0, 0, 0, 0, 0, 0, 0, 0, 0, 0, 0, 0, 0, 0, 0, 0, 0, 0, 0, 0, 0, 0, 0, 0, 0, 0, 0, 0, 0, 0, 0, 0, 0, 0, 0, 0, 0, 0, 0, 0, 0, 0, 0, 0, 0, 0, 0, 0, 0, 0, 0, 0, 0, 1, 0, 0, 0, 0, 0, 0, 0, 0, 0, 0, 0, 0, 0, 0, 0, 0, 0, 0, 0, 0, 0, 0, 0, 0, 0, 0, 0, 0, 0, 0, 0, 0, 0, 0, 0, 0, 0, 0, 0, 0, 0, 0, 0, 0, 0, 0, 0, 0, 0, 0, 0, 0, 0, 0, 0, 0, 0, 0, 0, 0, 0, 0, 0, 0, 0, 0, 0, 0, 0, 0, 0, 0, 0, 0, 0, 0, 0, 0, 0, 0, 0, 0, 0, 0, 0, 0, 0, 0, 0, 0, 0, 0, 0, 0, 0, 0, 0, 0, 0, 0, 0, 0, 0, 0, 0, 0, 0, 0, 0, 0, 0, 0, 0, 0, 0, 0, 0, 0, 0, 0, 0, 0, 0, 0, 0, 0, 0, 0, 0, 0, 0, 0, 0, 0, 0, 0, 0, 0, 0, 0, 0, 0, 0, 0, 0, 0, 0, 0, 0, 0, 0, 0, 0, 0, 0, 0, 0, 0, 0, 0, 0, 0, 0, 0, 0, 0, 0, 0, 0, 0, 0, 0, 0, 0, 0, 0, 0, 0, 0, 0, 0, 0, 0, 0, 0, 0, 0, 0, 0, 0, 0, 0, 0, 0, 0, 0, 0, 0, 0, 0, 0, 0, 0, 0, 0, 0, 0, 0, 0, 0, 0, 0, 0, 0, 0, 0, 0, 0, 0, 0, 0, 0, 0, 0, 0, 0, 0, 0, 0, 0, 0, 0, 0, 0, 0, 0, 0, 0, 0, 0, 0, 0, 0, 0, 0, 0, 0, 0, 0, 0, 0, 0, 0, 0, 0, 0, 0, 0, 0, 0, 0, 0, 0, 0, 0, 0, 0, 0, 0, 0, 0, 0, 0, 0, 0, 0, 0, 0, 0, 0, 0, 0, 0, 0, 0, 0, 0, 0, 0, 0, 0, 0, 0, 0, 0, 0, 0, 0, 0, 0, 0, 0, 0, 0, 0, 0, 0, 0, 0, 0, 0, 0, 0, 0, 0, 0, 0, 0, 0, 0, 0, 0, 0, 0, 0, 0, 0, 0, 0, 0, 0, 0, 0, 0, 0, 0, 0, 0, 0, 0, 0, 0, 0, 0, 0, 0, 0, 0, 0, 0, 0, 0, 0, 0, 0, 0, 0, 0, 0, 0, 0, 0, 0, 0, 0, 0, 0, 0, 0, 0, 0, 0, 0, 0, 0, 0, 0, 0, 0, 0, 0, 0, 0, 0, 0, 0, 0, 0, 0, 0, 0, 0, 0, 0, 0, 0, 0, 0, 0, 0, 0, 0, 0, 0, 0, 0, 0, 0, 0, 0, 0, 0, 0, 0, 0, 0, 0, 0, 0, 0, 0, 0, 0, 0, 0, 0, 0, 0, 0, 0, 0, 0, 0, 0, 0, 0, 0, 0, 0, 0, 0, 0, 0, 0, 0, 0, 0, 0, 0, 0, 0, 0, 0, 0, 0, 0, 0, 0, 0, 0, 0, 0, 0, 0, 0, 0, 0, 0, 0, 0, 0, 0, 0, 0, 0, 0, 0, 0, 0, 0, 0, 0, 0, 0, 0, 0, 0, 0, 0, 0, 0, 0, 0, 0, 0, 0, 0, 0, 0, 0, 0, 0, 0, 0, 0, 0, 0, 0, 0, 0, 0, 0, 1, 0, 0, 0, 0, 0, 0, 0, 0, 0, 0, 0, 0, 0, 0, 0, 0, 0, 0, 0, 0, 0, 0, 0, 0, 0, 0, 0, 0, 0, 0, 0, 0, 0, 0, 0, 2, 0, 0, 0, 0, 0, 0, 0, 0, 0, 0, 0, 0, 0, 0, 0, 0, 0, 0, 0, 0, 0, 0, 0, 0, 0, 0, 0, 0, 0, 0, 0, 0, 0, 0, 0, 0, 0, 0, 0, 0, 1, 0, 0, 0, 0, 0, 0, 0, 0, 0, 0, 0, 0, 0, 0, 0, 0, 0, 0, 0, 0, 0, 0, 0, 0, 0, 0, 0, 0, 0, 0, 0, 0, 0, 0, 0, 0, 0, 0, 0, 0, 0, 0, 0, 0, 0, 0, 0, 0, 0, 0, 0, 0, 0, 0, 0, 0, 0, 0, 0, 0, 0, 0, 0, 0, 0, 0, 0, 0, 0, 0, 0, 0, 0, 0, 0, 0, 0, 0, 0, 0, 0, 0, 0, 0, 0, 0, 0, 0, 0, 0, 0, 0, 0, 0, 0, 0, 0, 0, 0, 0, 0, 0, 0, 0, 0, 0, 0, 0, 0, 0, 0, 0, 0, 0, 0, 0, 0, 0, 0, 0, 0, 0, 0, 0, 0, 0, 0, 0, 0, 0, 0, 0, 0, 0, 0, 0, 0, 0, 0, 0, 0, 0, 0, 0, 0, 0, 0, 0, 0, 0, 0, 0, 0, 0, 0, 0, 0, 0, 0, 0, 0, 0, 0, 0, 0, 0, 0, 0, 0, 0, 0, 0, 0, 0, 0, 0, 0, 0, 0, 0, 0, 0, 0, 0, 0, 0, 0, 0, 0, 0, 0, 0, 0, 0, 0, 0, 0, 0, 0, 0, 0, 0, 0, 0, 0, 0, 0, 0, 0, 0, 0, 0, 0, 0, 0, 0, 0, 0, 0, 0, 0, 0, 0, 0, 0, 0, 0, 0, 0, 0, 0, 0, 0, 0, 0, 0, 0, 0, 0, 0, 0, 0, 0, 0, 0, 0, 0, 0, 0, 0, 0, 0, 0, 0, 0, 0, 0, 0, 0, 0, 0, 0, 0, 0, 0, 0, 0, 0, 0, 0, 0, 0, 0, 0, 0, 0, 0, 0, 0, 0, 0, 0, 0, 0, 0, 0, 0, 0, 0, 0, 0, 0, 0, 0, 0, 0, 0, 0, 0, 0, 0, 0, 0, 0, 0, 0, 0, 0, 0, 0, 0, 0, 0, 0, 0, 0, 0, 0, 0, 0, 0, 0, 0, 0, 0, 0, 0, 0, 0, 0, 0, 0, 0, 0, 0, 0, 0, 0, 0, 0, 0, 0, 0, 0, 0, 0, 0, 0, 0, 0, 0, 0, 0, 0, 0, 0, 0, 0, 0, 0, 0, 0, 0, 0, 0, 0, 0, 0, 0, 0, 0, 0, 0, 0, 0, 0, 0, 0, 0, 0, 0, 0, 0, 0, 0, 0, 0, 0, 0, 0, 0, 0, 0, 0, 0, 0, 0, 0, 0, 0, 0, 0, 0, 0, 0, 0, 0, 0, 0, 0, 0, 0, 0, 0, 0, 0, 0, 0, 0, 0, 0, 0, 0, 0, 0, 0, 0, 0, 0, 0, 0, 0, 0, 0, 0, 0, 0, 0, 0, 0, 0, 0, 0, 0, 0, 0, 0, 0, 0, 0, 0, 0, 0, 0, 0, 0, 0, 0, 0, 0, 0, 0, 0, 0, 0, 0, 0, 0, 0, 0, 0, 0, 0, 0, 0, 0, 0, 0, 0, 0, 0, 0, 0, 0, 0, 0, 0, 0, 0, 0, 0, 0, 0, 0, 0, 0, 0, 1, 0, 0, 0, 0, 0, 0, 0, 0, 0, 0, 0, 0, 0, 0, 0, 0, 0, 0, 0, 0, 0, 0, 0, 0, 0, 0, 0, 0, 0, 0, 0, 0, 0, 0, 0, 0, 0, 0, 0, 0, 0, 0, 0, 0, 0, 0, 0, 0, 0, 0, 0, 0, 0, 0, 0, 0, 0, 0, 0, 0, 0, 0, 0, 0, 0, 0, 0, 0, 0, 0, 0, 0, 0, 0, 0, 0, 0, 0, 0, 0, 0, 0, 0, 0, 0, 0, 0, 0, 0, 0, 0, 0, 0, 0, 0, 0, 0, 0, 0, 0, 0, 0, 0, 0, 0, 0, 0, 0, 0, 0, 2, 0, 0, 0, 0, 0, 0, 0, 0, 0, 0, 0, 0, 0, 0, 0, 0, 0, 0, 0, 0, 0, 0, 0, 0, 0, 0, 0, 0, 0, 0, 0, 0, 0, 0, 0, 0, 0, 0, 0, 0, 0, 0, 0, 0, 0, 0, 0, 0, 0, 0, 0, 0, 0, 0, 0, 0, 0, 0, 0, 0, 0, 0, 0, 0, 0, 0, 0, 0, 0, 0, 0, 0, 0, 0, 0, 0, 0, 0, 0, 0, 0, 0, 0, 0, 0, 0, 0, 0, 0, 0, 0, 0, 0, 0, 0, 0, 0, 0, 0, 0, 0, 0, 0, 0, 0, 0, 0, 0, 0, 0, 0, 0, 0, 0, 0, 0, 0, 0, 0, 0, 0, 0, 0, 0, 0, 0, 0, 0, 0, 0, 0, 0, 0, 0, 0, 0, 0, 0, 0, 0, 0, 0, 0, 0, 0, 0, 0, 0, 0, 0, 0, 0, 0, 0, 0, 0, 0, 0, 0, 0, 0, 0, 0, 0, 0, 0, 0, 0, 0, 0, 0, 0, 0, 0, 0, 0, 0, 0, 0, 0, 0, 0, 0, 0, 0, 0, 0, 0, 0, 0, 0, 0, 0, 0, 0, 0, 0, 0, 0, 0, 0, 0, 0, 0, 0, 0, 0, 0, 0, 0, 0, 0, 0, 0, 0, 0, 0, 0, 0, 0, 0, 0, 0, 0, 0, 0, 0, 0, 0, 0, 0, 0, 0, 0, 0, 0, 0, 0, 0, 0, 0, 0, 0, 0, 0, 0, 0, 0, 0, 0, 0, 0, 0, 0, 0, 0, 0, 0, 0, 0, 0, 0, 0, 0, 0, 0, 0, 0, 0, 0, 0, 0, 0, 0, 0, 0, 0, 0, 0, 0, 0, 0, 0, 0, 0, 0, 0, 0, 0, 0, 0, 0, 0, 0, 0, 0, 0, 0, 0, 0, 0, 0, 0, 0, 0, 0, 0, 0, 0, 0, 0, 0, 0, 0, 0, 0, 0, 0, 0, 0, 0, 0, 0, 0, 0, 0, 0, 0, 0, 0, 0, 0, 0, 0, 0, 0, 0, 0, 0, 0, 0, 0, 0, 0, 0, 0, 0, 0, 0, 0, 0, 0, 0, 0, 0, 0, 0, 0, 0, 0, 0, 0, 0, 0, 0, 0, 0, 0, 0, 0, 0, 0, 0, 0, 0, 0, 0, 0, 0, 0, 0, 0, 0, 0, 0, 0, 0, 0, 0, 0, 0, 0, 0, 0, 0, 0, 0, 0, 0, 0, 0, 0, 0, 0, 0, 0, 0, 0, 0, 0, 0, 0, 0, 0, 0, 0, 0, 0, 0, 0, 0, 0, 0, 0, 0, 0, 0, 0, 0, 0, 0, 0, 0, 0, 0, 0, 0, 0, 0, 0, 0, 0, 0, 0, 0, 0, 0, 0, 0, 0, 0, 0, 0, 0, 0, 0, 0, 0, 0, 0, 0, 0, 0, 0, 0, 0, 0, 0, 0, 0, 0, 0, 0, 0, 0, 0, 0, 0, 0, 0, 0, 0, 0, 0, 0, 0, 0, 0, 0, 0, 0, 0, 0, 0, 0, 0, 0, 0, 0, 0, 0, 0, 0, 0, 0, 0, 0, 0, 0, 0, 0, 0, 0, 0, 0, 0, 0, 0, 0, 0, 0, 0, 0, 0, 0, 0, 0, 0, 0, 0, 0, 0, 0, 0, 0, 0, 0, 0, 0, 0, 0, 0, 0, 0, 0, 0, 0, 0, 0, 0, 0, 0, 0, 0, 0, 0, 0, 0, 0, 0, 0, 0, 0, 0, 0, 0, 0, 0, 0, 0, 0, 0, 0, 0, 0, 0, 0, 0, 0, 0, 0, 0, 0, 0, 0, 0, 0, 0, 0, 0, 0, 0, 0, 0, 0, 0, 0, 0, 0, 0, 0, 0, 0, 0, 0, 0, 0, 0, 0, 0, 0, 0, 0, 0, 0, 0, 0, 0, 0, 0, 0, 0, 0, 0, 0, 0, 0, 0, 0, 0, 0, 0, 0, 0, 0, 0, 0, 0, 0, 0, 0, 0, 0, 0, 0, 0, 0, 0, 0, 0, 0, 0, 0, 0, 0, 0, 0, 0, 0, 0, 0, 0, 0, 0, 0, 0, 0, 0, 0, 0, 0, 0, 0, 0, 0, 0, 0, 0, 0, 0, 0, 0, 0, 0, 0, 0, 0, 0, 0, 0, 1, 0, 0, 0, 0, 0, 0, 0, 0, 0, 0, 0, 0, 0, 0, 0, 0, 0, 0, 0, 0, 0, 0, 0, 0, 0, 0, 0, 0, 0, 0, 0, 0, 0, 0, 0, 0, 0, 0, 0, 0, 0, 0, 0, 0, 0, 0, 0, 0, 0, 0, 0, 0, 0, 0, 0, 0, 0, 0, 0, 0, 0, 0, 0, 0, 0, 0, 0, 0, 0, 0, 0, 0, 0, 0, 0, 0, 0, 0, 0, 0, 0, 0, 0, 0, 0, 0, 0, 0, 0, 0, 0, 0, 0, 0, 0, 0, 0, 0, 0, 0, 0, 0, 0, 0, 0, 0, 0, 1, 0, 0, 0, 0, 0, 0, 0, 0, 0, 0, 0, 0, 0, 0, 0, 0, 0, 0, 0, 0, 0, 0, 0, 0, 0, 0, 0, 0, 0, 0, 0, 0, 0, 0, 0, 0, 0, 0, 0, 0, 0, 0, 0, 0, 0, 0, 0, 0, 0, 0, 0, 0, 0, 0, 0, 0, 0, 0, 0, 0, 0, 0, 0, 0, 0, 0, 0, 0, 0, 0, 0, 0, 0, 0, 0, 0, 0, 0, 0, 0, 0, 0, 0, 0, 0, 0, 0, 0, 0, 0, 0, 0, 0, 0, 0, 0, 0, 0, 0, 0, 0, 0, 0, 0, 0, 0, 0, 0, 0, 0, 0, 0, 0, 0, 0, 0, 0, 0, 0, 0, 0, 0, 0, 0, 0, 0, 0, 0, 0, 0, 0, 0, 0, 0, 0, 0, 0, 0, 0, 0, 0, 0, 0, 0, 0, 0, 0, 0, 0, 0, 0, 0, 0, 0, 0, 0, 0, 0, 0, 0, 0, 0, 0, 0, 0, 0, 0, 0, 0, 0, 0, 0, 0, 0, 0, 0, 0, 0, 0, 0, 0, 0, 0, 0, 0, 0, 0, 0, 0, 0, 0, 0, 0, 0, 0, 0, 0, 0, 0, 0, 0, 0, 0, 0, 0, 0, 0, 0, 0, 0, 0, 0, 0, 0, 0, 0, 0, 0, 0, 0, 0, 0, 0, 0, 0, 0, 0, 0, 0, 0, 0, 0, 0, 0, 0, 0, 0, 0, 0, 0, 0, 0, 0, 0, 0, 0, 0, 0, 0, 0, 0, 0, 0, 0, 0, 0, 0, 0, 0, 0, 0, 0, 0, 0, 0, 0, 0, 0, 0, 0, 0, 0, 0, 0, 0, 0, 0, 0, 0, 0, 0, 0, 0, 0, 0, 0, 0, 0, 0, 0, 0, 0, 0, 0, 0, 0, 0, 0, 0, 0, 0, 0, 0, 0, 0, 0, 0, 0, 0, 0, 0, 0, 0, 0, 0, 0, 0, 0, 0, 0, 0, 0, 0, 0, 0, 0, 0, 0, 0, 0, 0, 0, 0, 0, 0, 0, 0, 0, 0, 0, 0, 0, 0, 0, 0, 0, 0, 0, 0, 0, 0, 0, 0, 0, 0, 0, 0, 0, 0, 0, 0, 0, 0, 0, 0, 0, 0, 0, 0, 0, 0, 0, 0, 0, 0, 0, 0, 0, 0, 0, 0, 0, 0, 0, 0, 0, 0, 0, 0, 0, 0, 0, 0, 0, 0, 0, 0, 0, 0, 0, 0, 0, 0, 0, 0, 0, 0, 0, 0, 0, 0, 0, 0, 0, 0, 0, 0, 0, 0, 0, 0, 0, 0, 0, 0, 0, 0, 0, 0, 0, 0, 0, 0, 0, 0, 0, 0, 0, 0, 0, 0, 0, 0, 0, 0, 0, 0, 0, 0, 0, 0, 0, 0, 0, 0, 0, 0, 0, 0, 0, 0, 0, 0, 2, 0, 1, 0], type: <class 'list'>, valid types: <class 'bytes'>, <class 'bytearray'>, file-like object",
     "output_type": "error",
     "traceback": [
      "\u001b[0;31m---------------------------------------------------------------------------\u001b[0m",
      "\u001b[0;31mParamValidationError\u001b[0m                      Traceback (most recent call last)",
      "\u001b[0;32m<ipython-input-39-c9ab54ae3a48>\u001b[0m in \u001b[0;36m<module>\u001b[0;34m()\u001b[0m\n\u001b[1;32m      1\u001b[0m response = runtime.invoke_endpoint(EndpointName = xgb_predictor.endpoint, # The name of the endpoint we created\n\u001b[1;32m      2\u001b[0m                                        \u001b[0mContentType\u001b[0m \u001b[0;34m=\u001b[0m \u001b[0;34m'text/csv'\u001b[0m\u001b[0;34m,\u001b[0m                     \u001b[0;31m# The data format that is expected\u001b[0m\u001b[0;34m\u001b[0m\u001b[0m\n\u001b[0;32m----> 3\u001b[0;31m                                        Body = test_bow)\n\u001b[0m",
      "\u001b[0;32m~/anaconda3/envs/python3/lib/python3.6/site-packages/botocore/client.py\u001b[0m in \u001b[0;36m_api_call\u001b[0;34m(self, *args, **kwargs)\u001b[0m\n\u001b[1;32m    314\u001b[0m                     \"%s() only accepts keyword arguments.\" % py_operation_name)\n\u001b[1;32m    315\u001b[0m             \u001b[0;31m# The \"self\" in this scope is referring to the BaseClient.\u001b[0m\u001b[0;34m\u001b[0m\u001b[0;34m\u001b[0m\u001b[0m\n\u001b[0;32m--> 316\u001b[0;31m             \u001b[0;32mreturn\u001b[0m \u001b[0mself\u001b[0m\u001b[0;34m.\u001b[0m\u001b[0m_make_api_call\u001b[0m\u001b[0;34m(\u001b[0m\u001b[0moperation_name\u001b[0m\u001b[0;34m,\u001b[0m \u001b[0mkwargs\u001b[0m\u001b[0;34m)\u001b[0m\u001b[0;34m\u001b[0m\u001b[0m\n\u001b[0m\u001b[1;32m    317\u001b[0m \u001b[0;34m\u001b[0m\u001b[0m\n\u001b[1;32m    318\u001b[0m         \u001b[0m_api_call\u001b[0m\u001b[0;34m.\u001b[0m\u001b[0m__name__\u001b[0m \u001b[0;34m=\u001b[0m \u001b[0mstr\u001b[0m\u001b[0;34m(\u001b[0m\u001b[0mpy_operation_name\u001b[0m\u001b[0;34m)\u001b[0m\u001b[0;34m\u001b[0m\u001b[0m\n",
      "\u001b[0;32m~/anaconda3/envs/python3/lib/python3.6/site-packages/botocore/client.py\u001b[0m in \u001b[0;36m_make_api_call\u001b[0;34m(self, operation_name, api_params)\u001b[0m\n\u001b[1;32m    597\u001b[0m         }\n\u001b[1;32m    598\u001b[0m         request_dict = self._convert_to_request_dict(\n\u001b[0;32m--> 599\u001b[0;31m             api_params, operation_model, context=request_context)\n\u001b[0m\u001b[1;32m    600\u001b[0m \u001b[0;34m\u001b[0m\u001b[0m\n\u001b[1;32m    601\u001b[0m         \u001b[0mservice_id\u001b[0m \u001b[0;34m=\u001b[0m \u001b[0mself\u001b[0m\u001b[0;34m.\u001b[0m\u001b[0m_service_model\u001b[0m\u001b[0;34m.\u001b[0m\u001b[0mservice_id\u001b[0m\u001b[0;34m.\u001b[0m\u001b[0mhyphenize\u001b[0m\u001b[0;34m(\u001b[0m\u001b[0;34m)\u001b[0m\u001b[0;34m\u001b[0m\u001b[0m\n",
      "\u001b[0;32m~/anaconda3/envs/python3/lib/python3.6/site-packages/botocore/client.py\u001b[0m in \u001b[0;36m_convert_to_request_dict\u001b[0;34m(self, api_params, operation_model, context)\u001b[0m\n\u001b[1;32m    645\u001b[0m             api_params, operation_model, context)\n\u001b[1;32m    646\u001b[0m         request_dict = self._serializer.serialize_to_request(\n\u001b[0;32m--> 647\u001b[0;31m             api_params, operation_model)\n\u001b[0m\u001b[1;32m    648\u001b[0m         \u001b[0;32mif\u001b[0m \u001b[0;32mnot\u001b[0m \u001b[0mself\u001b[0m\u001b[0;34m.\u001b[0m\u001b[0m_client_config\u001b[0m\u001b[0;34m.\u001b[0m\u001b[0minject_host_prefix\u001b[0m\u001b[0;34m:\u001b[0m\u001b[0;34m\u001b[0m\u001b[0m\n\u001b[1;32m    649\u001b[0m             \u001b[0mrequest_dict\u001b[0m\u001b[0;34m.\u001b[0m\u001b[0mpop\u001b[0m\u001b[0;34m(\u001b[0m\u001b[0;34m'host_prefix'\u001b[0m\u001b[0;34m,\u001b[0m \u001b[0;32mNone\u001b[0m\u001b[0;34m)\u001b[0m\u001b[0;34m\u001b[0m\u001b[0m\n",
      "\u001b[0;32m~/anaconda3/envs/python3/lib/python3.6/site-packages/botocore/validate.py\u001b[0m in \u001b[0;36mserialize_to_request\u001b[0;34m(self, parameters, operation_model)\u001b[0m\n\u001b[1;32m    295\u001b[0m                                                     operation_model.input_shape)\n\u001b[1;32m    296\u001b[0m             \u001b[0;32mif\u001b[0m \u001b[0mreport\u001b[0m\u001b[0;34m.\u001b[0m\u001b[0mhas_errors\u001b[0m\u001b[0;34m(\u001b[0m\u001b[0;34m)\u001b[0m\u001b[0;34m:\u001b[0m\u001b[0;34m\u001b[0m\u001b[0m\n\u001b[0;32m--> 297\u001b[0;31m                 \u001b[0;32mraise\u001b[0m \u001b[0mParamValidationError\u001b[0m\u001b[0;34m(\u001b[0m\u001b[0mreport\u001b[0m\u001b[0;34m=\u001b[0m\u001b[0mreport\u001b[0m\u001b[0;34m.\u001b[0m\u001b[0mgenerate_report\u001b[0m\u001b[0;34m(\u001b[0m\u001b[0;34m)\u001b[0m\u001b[0;34m)\u001b[0m\u001b[0;34m\u001b[0m\u001b[0m\n\u001b[0m\u001b[1;32m    298\u001b[0m         return self._serializer.serialize_to_request(parameters,\n\u001b[1;32m    299\u001b[0m                                                      operation_model)\n",
      "\u001b[0;31mParamValidationError\u001b[0m: Parameter validation failed:\nInvalid type for parameter Body, value: [0, 0, 0, 0, 0, 0, 0, 0, 0, 0, 0, 0, 0, 0, 0, 0, 0, 0, 0, 0, 0, 0, 0, 0, 0, 0, 0, 0, 0, 0, 0, 0, 0, 0, 0, 0, 0, 0, 0, 0, 0, 0, 0, 0, 0, 0, 0, 0, 0, 0, 0, 0, 0, 0, 0, 0, 0, 0, 0, 0, 0, 0, 0, 0, 0, 0, 0, 0, 0, 0, 0, 0, 0, 0, 0, 0, 0, 0, 0, 0, 0, 0, 0, 0, 0, 0, 0, 0, 0, 0, 0, 0, 0, 0, 0, 0, 0, 0, 0, 0, 0, 0, 0, 0, 0, 0, 0, 0, 0, 0, 0, 0, 0, 0, 0, 0, 0, 0, 0, 0, 0, 0, 0, 0, 0, 0, 0, 0, 0, 0, 0, 0, 0, 0, 0, 0, 0, 0, 0, 0, 0, 0, 0, 0, 0, 0, 0, 0, 0, 0, 0, 0, 0, 0, 0, 0, 0, 0, 0, 0, 0, 0, 0, 0, 0, 0, 0, 0, 0, 0, 0, 0, 0, 0, 0, 0, 0, 0, 0, 0, 0, 0, 0, 0, 0, 0, 0, 0, 0, 0, 0, 0, 0, 0, 0, 0, 0, 0, 0, 0, 0, 0, 0, 0, 0, 0, 0, 0, 0, 0, 0, 0, 0, 0, 0, 0, 0, 0, 0, 0, 0, 0, 0, 0, 0, 0, 1, 0, 0, 0, 0, 0, 0, 0, 0, 0, 0, 0, 0, 0, 0, 0, 0, 0, 0, 0, 0, 0, 0, 0, 0, 0, 0, 0, 0, 0, 1, 0, 0, 0, 0, 0, 0, 0, 0, 0, 0, 0, 0, 0, 0, 0, 0, 0, 0, 0, 0, 0, 0, 0, 0, 0, 0, 0, 0, 0, 0, 0, 0, 0, 0, 0, 0, 0, 0, 0, 0, 0, 0, 0, 0, 0, 0, 0, 0, 0, 0, 0, 0, 0, 0, 0, 0, 0, 0, 0, 0, 0, 0, 0, 0, 0, 0, 0, 0, 0, 0, 0, 0, 0, 0, 0, 0, 0, 0, 0, 0, 0, 0, 0, 0, 0, 0, 0, 0, 0, 0, 0, 0, 0, 0, 0, 0, 0, 0, 0, 0, 0, 0, 0, 0, 0, 0, 0, 0, 0, 0, 0, 0, 0, 0, 0, 0, 0, 0, 0, 0, 0, 0, 0, 0, 0, 0, 0, 0, 0, 0, 0, 0, 0, 0, 0, 0, 0, 0, 0, 0, 0, 0, 0, 0, 0, 0, 0, 0, 0, 0, 0, 0, 0, 0, 0, 0, 0, 0, 0, 0, 0, 0, 0, 0, 0, 0, 0, 0, 0, 0, 0, 0, 0, 0, 0, 0, 0, 0, 0, 0, 0, 0, 0, 0, 0, 0, 0, 0, 0, 0, 0, 0, 0, 0, 0, 0, 0, 0, 0, 0, 0, 0, 0, 0, 0, 0, 0, 0, 0, 0, 0, 0, 0, 0, 0, 0, 0, 0, 0, 0, 0, 0, 0, 0, 0, 0, 0, 0, 0, 0, 0, 0, 0, 0, 0, 0, 0, 0, 0, 0, 0, 0, 0, 0, 0, 0, 0, 0, 0, 0, 0, 0, 0, 0, 0, 0, 0, 0, 0, 0, 0, 0, 0, 0, 0, 0, 0, 0, 0, 0, 0, 0, 0, 0, 0, 0, 0, 0, 0, 0, 0, 0, 0, 0, 0, 0, 0, 0, 0, 0, 0, 0, 0, 0, 0, 0, 0, 0, 0, 0, 0, 0, 0, 0, 0, 0, 0, 0, 0, 0, 0, 0, 0, 0, 0, 0, 0, 0, 0, 0, 0, 0, 0, 0, 0, 0, 0, 0, 0, 0, 0, 0, 0, 0, 0, 0, 0, 0, 0, 0, 0, 0, 0, 0, 0, 0, 0, 0, 0, 0, 0, 0, 0, 0, 0, 0, 0, 0, 0, 0, 0, 0, 0, 0, 0, 0, 0, 0, 0, 0, 0, 0, 0, 0, 0, 0, 0, 0, 0, 1, 0, 0, 0, 0, 0, 0, 0, 0, 0, 0, 0, 0, 0, 0, 0, 0, 0, 0, 0, 0, 0, 0, 0, 0, 0, 0, 0, 0, 0, 0, 0, 0, 0, 0, 0, 0, 0, 0, 0, 0, 0, 0, 0, 0, 0, 0, 0, 0, 0, 0, 0, 0, 0, 0, 0, 0, 0, 0, 0, 0, 0, 0, 0, 0, 0, 0, 0, 0, 0, 0, 0, 0, 0, 0, 0, 0, 0, 0, 0, 0, 0, 0, 0, 0, 0, 0, 0, 0, 0, 0, 0, 0, 0, 0, 0, 0, 0, 0, 0, 0, 0, 0, 0, 0, 0, 0, 0, 0, 0, 0, 0, 0, 0, 0, 0, 0, 0, 0, 0, 0, 0, 0, 0, 0, 0, 0, 0, 0, 0, 0, 0, 0, 0, 0, 0, 0, 0, 0, 0, 0, 0, 0, 0, 0, 0, 0, 0, 0, 0, 0, 0, 0, 0, 0, 0, 0, 0, 0, 0, 0, 0, 0, 0, 0, 0, 0, 0, 0, 0, 0, 0, 0, 0, 0, 0, 0, 0, 0, 0, 0, 0, 0, 0, 0, 0, 0, 0, 0, 0, 0, 0, 0, 0, 0, 0, 0, 0, 0, 0, 0, 0, 0, 0, 0, 0, 0, 0, 0, 0, 0, 0, 0, 0, 0, 0, 0, 0, 0, 0, 0, 0, 0, 0, 0, 0, 0, 0, 0, 0, 0, 0, 0, 0, 0, 0, 0, 0, 0, 0, 0, 0, 0, 0, 0, 0, 0, 0, 0, 0, 0, 0, 0, 0, 1, 0, 0, 0, 0, 0, 0, 0, 0, 0, 0, 0, 0, 0, 0, 0, 0, 0, 0, 0, 0, 0, 0, 0, 0, 0, 0, 0, 0, 0, 0, 0, 0, 0, 0, 0, 0, 0, 0, 0, 0, 0, 0, 0, 0, 0, 0, 0, 0, 0, 0, 0, 0, 0, 0, 0, 0, 0, 0, 0, 0, 0, 0, 0, 0, 0, 0, 0, 0, 0, 0, 0, 0, 0, 0, 0, 0, 0, 0, 0, 0, 0, 0, 0, 0, 0, 0, 1, 0, 0, 0, 0, 0, 0, 0, 0, 0, 0, 0, 0, 0, 0, 0, 0, 0, 0, 0, 0, 0, 0, 0, 0, 0, 0, 0, 0, 0, 0, 0, 0, 0, 0, 0, 0, 0, 0, 0, 0, 0, 0, 0, 0, 0, 0, 0, 0, 0, 0, 0, 0, 0, 0, 0, 0, 0, 0, 0, 0, 0, 0, 0, 0, 0, 0, 0, 0, 0, 0, 0, 0, 0, 0, 0, 0, 0, 0, 0, 0, 0, 0, 0, 0, 0, 0, 0, 0, 0, 0, 0, 0, 0, 0, 0, 0, 0, 0, 0, 0, 0, 0, 0, 0, 0, 0, 0, 0, 0, 0, 0, 0, 0, 0, 0, 0, 0, 0, 0, 0, 0, 0, 0, 0, 0, 0, 0, 0, 0, 0, 0, 0, 0, 0, 0, 0, 0, 0, 0, 0, 0, 0, 0, 0, 0, 0, 0, 0, 0, 0, 0, 0, 0, 0, 0, 0, 0, 0, 0, 0, 0, 0, 0, 0, 0, 0, 0, 0, 0, 0, 0, 0, 0, 0, 0, 0, 0, 0, 0, 0, 0, 0, 0, 0, 0, 0, 0, 0, 0, 0, 0, 0, 0, 0, 0, 0, 0, 0, 0, 0, 0, 0, 0, 0, 0, 0, 0, 0, 0, 0, 0, 0, 0, 0, 0, 0, 0, 0, 0, 0, 0, 0, 0, 0, 0, 0, 0, 0, 0, 0, 0, 0, 0, 0, 0, 0, 0, 0, 0, 0, 0, 0, 0, 0, 0, 0, 0, 0, 0, 0, 0, 0, 1, 0, 0, 0, 0, 0, 0, 0, 0, 0, 0, 0, 0, 0, 0, 0, 0, 0, 0, 0, 0, 0, 0, 0, 0, 0, 0, 0, 0, 0, 0, 0, 0, 0, 0, 0, 0, 0, 0, 0, 0, 0, 0, 0, 0, 0, 0, 0, 0, 0, 0, 0, 0, 0, 0, 0, 1, 0, 0, 0, 0, 0, 0, 0, 0, 0, 0, 0, 0, 0, 0, 0, 0, 0, 0, 0, 0, 0, 0, 0, 0, 0, 0, 0, 0, 0, 0, 0, 0, 0, 0, 0, 0, 0, 0, 0, 0, 0, 0, 0, 0, 0, 0, 0, 0, 0, 0, 0, 0, 0, 0, 0, 0, 0, 0, 0, 0, 0, 0, 0, 0, 0, 0, 0, 0, 0, 0, 0, 0, 0, 0, 0, 0, 0, 0, 0, 0, 0, 0, 0, 0, 0, 0, 0, 0, 0, 0, 0, 0, 0, 0, 0, 0, 0, 0, 0, 0, 0, 0, 0, 0, 0, 0, 0, 0, 0, 0, 0, 0, 0, 0, 0, 0, 0, 0, 0, 0, 0, 0, 0, 0, 0, 0, 0, 0, 0, 0, 0, 0, 0, 0, 0, 0, 0, 0, 0, 0, 0, 0, 0, 0, 0, 0, 0, 0, 0, 0, 0, 0, 0, 0, 0, 0, 0, 0, 0, 0, 0, 0, 0, 0, 0, 0, 0, 0, 0, 0, 0, 0, 0, 0, 0, 0, 0, 0, 0, 0, 0, 0, 0, 0, 0, 0, 0, 0, 0, 0, 0, 0, 0, 0, 0, 0, 0, 0, 0, 0, 0, 0, 0, 0, 0, 0, 0, 0, 0, 0, 0, 0, 0, 0, 0, 0, 0, 0, 0, 0, 0, 0, 0, 0, 0, 0, 0, 0, 0, 0, 0, 0, 0, 0, 0, 0, 0, 0, 0, 0, 0, 0, 0, 0, 0, 0, 0, 0, 0, 0, 0, 0, 0, 0, 0, 0, 0, 0, 0, 0, 0, 0, 0, 0, 0, 0, 0, 0, 0, 0, 0, 0, 0, 0, 0, 0, 0, 0, 0, 0, 0, 0, 0, 0, 0, 0, 0, 0, 0, 0, 0, 0, 0, 0, 0, 0, 0, 0, 0, 0, 0, 0, 0, 0, 0, 0, 0, 0, 0, 0, 0, 0, 0, 0, 0, 0, 0, 0, 0, 0, 0, 0, 0, 0, 0, 0, 0, 0, 0, 0, 0, 0, 0, 0, 0, 0, 0, 0, 0, 0, 0, 0, 0, 0, 0, 0, 0, 0, 0, 0, 0, 0, 0, 0, 0, 0, 0, 0, 0, 0, 0, 0, 0, 0, 0, 0, 0, 0, 0, 0, 0, 0, 0, 0, 0, 0, 0, 0, 0, 0, 0, 0, 0, 0, 0, 0, 0, 0, 0, 0, 0, 0, 0, 0, 0, 0, 0, 0, 0, 0, 0, 0, 0, 0, 0, 0, 0, 0, 0, 0, 0, 0, 0, 0, 0, 0, 0, 0, 0, 0, 0, 0, 0, 0, 0, 0, 0, 0, 0, 0, 0, 0, 0, 0, 0, 0, 0, 0, 0, 0, 0, 0, 0, 0, 0, 0, 0, 0, 0, 0, 0, 0, 0, 0, 0, 0, 0, 0, 0, 0, 0, 0, 0, 0, 0, 0, 0, 0, 0, 0, 0, 0, 0, 0, 0, 0, 0, 0, 0, 0, 0, 0, 0, 0, 0, 0, 0, 0, 0, 0, 0, 0, 0, 0, 0, 0, 0, 0, 0, 0, 0, 0, 0, 0, 0, 0, 0, 0, 0, 0, 0, 0, 0, 0, 0, 0, 0, 0, 0, 0, 0, 0, 0, 0, 0, 0, 0, 0, 0, 0, 0, 0, 0, 0, 0, 0, 0, 0, 0, 0, 0, 0, 0, 0, 0, 0, 0, 0, 0, 0, 0, 0, 0, 0, 0, 0, 0, 0, 0, 0, 0, 0, 0, 0, 0, 0, 0, 0, 0, 0, 0, 0, 0, 0, 0, 0, 0, 0, 0, 0, 0, 0, 0, 0, 0, 0, 0, 0, 0, 0, 0, 0, 0, 0, 0, 0, 0, 0, 0, 0, 0, 0, 0, 0, 0, 0, 0, 0, 0, 0, 0, 0, 0, 0, 0, 0, 0, 0, 0, 0, 0, 0, 0, 0, 0, 0, 0, 0, 0, 0, 0, 0, 0, 0, 0, 0, 0, 0, 0, 0, 0, 0, 0, 0, 0, 0, 0, 0, 0, 0, 0, 0, 0, 0, 0, 0, 0, 0, 0, 0, 0, 0, 0, 0, 0, 0, 0, 0, 0, 0, 0, 0, 0, 0, 0, 0, 0, 0, 0, 0, 0, 1, 0, 0, 0, 0, 0, 0, 0, 0, 0, 0, 0, 0, 0, 0, 0, 0, 0, 0, 0, 0, 0, 0, 0, 0, 0, 0, 0, 0, 0, 0, 0, 0, 0, 0, 0, 0, 0, 0, 0, 0, 0, 0, 0, 0, 0, 0, 0, 0, 0, 0, 0, 0, 0, 0, 0, 0, 0, 0, 0, 0, 0, 0, 0, 0, 0, 0, 0, 0, 0, 0, 0, 0, 0, 0, 1, 0, 0, 0, 0, 0, 0, 0, 0, 0, 0, 0, 0, 0, 0, 0, 0, 0, 0, 0, 0, 1, 0, 0, 1, 0, 0, 0, 0, 0, 0, 0, 0, 0, 0, 0, 0, 0, 0, 0, 0, 0, 0, 0, 0, 0, 0, 0, 0, 0, 0, 0, 0, 0, 0, 0, 0, 0, 0, 0, 0, 0, 0, 0, 0, 0, 0, 0, 0, 0, 0, 0, 0, 0, 0, 0, 0, 0, 0, 0, 0, 0, 0, 0, 0, 0, 0, 0, 0, 0, 0, 0, 0, 0, 0, 0, 0, 0, 0, 0, 0, 0, 0, 0, 0, 0, 0, 0, 0, 0, 0, 0, 0, 0, 0, 0, 0, 0, 0, 0, 0, 0, 0, 0, 0, 0, 0, 0, 0, 0, 0, 0, 0, 0, 0, 0, 0, 0, 0, 0, 0, 0, 0, 0, 0, 0, 0, 0, 0, 0, 0, 0, 0, 0, 0, 0, 0, 0, 0, 0, 0, 0, 0, 0, 0, 0, 0, 0, 0, 0, 0, 0, 0, 0, 0, 0, 0, 0, 0, 0, 0, 0, 0, 0, 0, 0, 0, 0, 0, 0, 0, 0, 0, 0, 0, 0, 0, 0, 0, 0, 0, 0, 0, 0, 0, 0, 0, 0, 0, 0, 0, 0, 0, 0, 0, 0, 0, 0, 0, 0, 0, 0, 0, 0, 0, 0, 0, 0, 0, 0, 0, 0, 0, 0, 0, 0, 0, 0, 0, 0, 0, 0, 0, 0, 0, 0, 0, 0, 0, 0, 0, 0, 0, 0, 0, 0, 0, 0, 0, 0, 0, 0, 0, 0, 0, 0, 0, 0, 0, 0, 0, 0, 0, 0, 0, 0, 0, 0, 0, 0, 0, 0, 0, 0, 0, 0, 0, 0, 0, 0, 0, 0, 0, 0, 0, 0, 0, 0, 0, 0, 0, 0, 0, 0, 0, 0, 0, 0, 0, 0, 0, 0, 0, 0, 0, 0, 0, 0, 0, 0, 0, 0, 0, 0, 0, 0, 0, 0, 0, 0, 0, 0, 0, 0, 0, 0, 0, 0, 0, 0, 0, 0, 0, 0, 0, 0, 0, 0, 0, 0, 0, 0, 0, 0, 0, 0, 0, 0, 0, 0, 0, 0, 0, 0, 0, 0, 0, 0, 0, 0, 0, 0, 0, 0, 0, 0, 0, 0, 0, 0, 0, 0, 0, 0, 0, 0, 0, 0, 0, 0, 0, 0, 0, 0, 0, 0, 0, 0, 0, 0, 0, 0, 0, 0, 0, 0, 0, 0, 0, 0, 0, 0, 0, 0, 0, 0, 0, 0, 0, 0, 0, 0, 0, 0, 0, 0, 0, 0, 0, 0, 0, 0, 0, 0, 0, 0, 0, 0, 0, 0, 0, 0, 0, 0, 0, 0, 0, 0, 0, 0, 0, 0, 0, 0, 0, 0, 0, 0, 0, 0, 0, 0, 0, 0, 0, 0, 0, 0, 0, 0, 0, 0, 0, 0, 0, 0, 0, 0, 0, 0, 0, 0, 0, 0, 0, 0, 0, 0, 0, 0, 0, 1, 0, 0, 0, 0, 0, 0, 0, 0, 0, 0, 0, 0, 0, 0, 0, 0, 0, 0, 0, 0, 0, 0, 0, 0, 0, 0, 0, 0, 0, 0, 0, 0, 0, 0, 0, 0, 0, 0, 0, 0, 0, 0, 0, 0, 0, 0, 0, 0, 0, 0, 0, 0, 0, 0, 0, 0, 0, 0, 0, 0, 0, 0, 0, 0, 0, 0, 0, 0, 0, 0, 0, 0, 0, 0, 0, 0, 0, 0, 0, 0, 0, 0, 0, 0, 0, 0, 0, 0, 0, 0, 0, 0, 0, 0, 0, 0, 0, 0, 0, 0, 0, 0, 0, 0, 0, 0, 0, 0, 0, 0, 0, 0, 0, 0, 0, 0, 0, 0, 0, 0, 0, 0, 0, 0, 0, 0, 0, 0, 0, 0, 0, 0, 0, 0, 0, 0, 0, 0, 0, 0, 0, 0, 0, 0, 0, 0, 0, 0, 0, 0, 0, 0, 0, 0, 0, 0, 0, 0, 0, 0, 0, 0, 0, 0, 0, 0, 0, 0, 0, 0, 0, 0, 0, 0, 0, 0, 0, 0, 0, 0, 0, 0, 0, 0, 0, 0, 0, 0, 0, 0, 0, 0, 0, 0, 0, 0, 0, 0, 0, 0, 0, 0, 0, 0, 0, 0, 0, 0, 0, 0, 0, 0, 0, 0, 0, 0, 0, 0, 0, 0, 0, 0, 0, 0, 0, 0, 0, 0, 0, 0, 0, 0, 0, 0, 0, 0, 0, 0, 0, 0, 0, 0, 0, 0, 0, 0, 0, 0, 0, 0, 0, 0, 0, 0, 0, 0, 0, 0, 0, 0, 0, 0, 0, 0, 0, 0, 0, 0, 0, 0, 0, 0, 0, 0, 0, 0, 0, 0, 0, 0, 0, 0, 0, 0, 0, 0, 0, 0, 0, 0, 0, 0, 0, 0, 0, 0, 0, 0, 0, 0, 0, 0, 0, 0, 0, 0, 0, 0, 0, 0, 0, 0, 0, 0, 0, 0, 0, 0, 0, 0, 0, 0, 0, 0, 0, 0, 0, 0, 0, 0, 0, 0, 0, 0, 0, 0, 0, 0, 0, 0, 0, 0, 0, 0, 0, 0, 0, 0, 0, 0, 0, 0, 0, 0, 0, 0, 0, 0, 0, 0, 0, 0, 0, 0, 0, 0, 0, 0, 0, 0, 0, 0, 0, 0, 0, 0, 0, 0, 0, 0, 0, 0, 0, 0, 0, 0, 0, 0, 0, 0, 0, 0, 0, 0, 0, 0, 0, 0, 0, 0, 0, 0, 0, 0, 0, 0, 0, 0, 0, 0, 0, 0, 0, 0, 0, 0, 0, 0, 0, 0, 0, 0, 0, 0, 0, 0, 0, 0, 0, 0, 0, 0, 0, 0, 0, 0, 0, 0, 0, 0, 0, 0, 0, 0, 0, 0, 0, 0, 0, 0, 0, 0, 0, 0, 0, 0, 0, 0, 0, 0, 0, 0, 0, 0, 0, 0, 0, 0, 0, 0, 0, 0, 0, 0, 0, 0, 0, 0, 0, 0, 0, 0, 0, 0, 0, 0, 0, 0, 0, 0, 0, 0, 0, 0, 0, 0, 0, 0, 0, 0, 0, 0, 0, 0, 0, 0, 0, 0, 0, 0, 0, 0, 1, 0, 0, 0, 0, 0, 0, 0, 0, 0, 0, 0, 0, 0, 0, 0, 0, 0, 0, 0, 0, 0, 0, 0, 0, 0, 0, 0, 0, 0, 0, 0, 0, 0, 0, 0, 2, 0, 0, 0, 0, 0, 0, 0, 0, 0, 0, 0, 0, 0, 0, 0, 0, 0, 0, 0, 0, 0, 0, 0, 0, 0, 0, 0, 0, 0, 0, 0, 0, 0, 0, 0, 0, 0, 0, 0, 0, 1, 0, 0, 0, 0, 0, 0, 0, 0, 0, 0, 0, 0, 0, 0, 0, 0, 0, 0, 0, 0, 0, 0, 0, 0, 0, 0, 0, 0, 0, 0, 0, 0, 0, 0, 0, 0, 0, 0, 0, 0, 0, 0, 0, 0, 0, 0, 0, 0, 0, 0, 0, 0, 0, 0, 0, 0, 0, 0, 0, 0, 0, 0, 0, 0, 0, 0, 0, 0, 0, 0, 0, 0, 0, 0, 0, 0, 0, 0, 0, 0, 0, 0, 0, 0, 0, 0, 0, 0, 0, 0, 0, 0, 0, 0, 0, 0, 0, 0, 0, 0, 0, 0, 0, 0, 0, 0, 0, 0, 0, 0, 0, 0, 0, 0, 0, 0, 0, 0, 0, 0, 0, 0, 0, 0, 0, 0, 0, 0, 0, 0, 0, 0, 0, 0, 0, 0, 0, 0, 0, 0, 0, 0, 0, 0, 0, 0, 0, 0, 0, 0, 0, 0, 0, 0, 0, 0, 0, 0, 0, 0, 0, 0, 0, 0, 0, 0, 0, 0, 0, 0, 0, 0, 0, 0, 0, 0, 0, 0, 0, 0, 0, 0, 0, 0, 0, 0, 0, 0, 0, 0, 0, 0, 0, 0, 0, 0, 0, 0, 0, 0, 0, 0, 0, 0, 0, 0, 0, 0, 0, 0, 0, 0, 0, 0, 0, 0, 0, 0, 0, 0, 0, 0, 0, 0, 0, 0, 0, 0, 0, 0, 0, 0, 0, 0, 0, 0, 0, 0, 0, 0, 0, 0, 0, 0, 0, 0, 0, 0, 0, 0, 0, 0, 0, 0, 0, 0, 0, 0, 0, 0, 0, 0, 0, 0, 0, 0, 0, 0, 0, 0, 0, 0, 0, 0, 0, 0, 0, 0, 0, 0, 0, 0, 0, 0, 0, 0, 0, 0, 0, 0, 0, 0, 0, 0, 0, 0, 0, 0, 0, 0, 0, 0, 0, 0, 0, 0, 0, 0, 0, 0, 0, 0, 0, 0, 0, 0, 0, 0, 0, 0, 0, 0, 0, 0, 0, 0, 0, 0, 0, 0, 0, 0, 0, 0, 0, 0, 0, 0, 0, 0, 0, 0, 0, 0, 0, 0, 0, 0, 0, 0, 0, 0, 0, 0, 0, 0, 0, 0, 0, 0, 0, 0, 0, 0, 0, 0, 0, 0, 0, 0, 0, 0, 0, 0, 0, 0, 0, 0, 0, 0, 0, 0, 0, 0, 0, 0, 0, 0, 0, 0, 0, 0, 0, 0, 0, 0, 0, 0, 0, 0, 0, 0, 0, 0, 0, 0, 0, 0, 0, 0, 0, 0, 0, 0, 0, 0, 0, 0, 0, 0, 0, 0, 0, 0, 0, 0, 0, 0, 0, 0, 0, 0, 0, 0, 0, 0, 0, 0, 0, 0, 0, 0, 0, 0, 0, 0, 0, 0, 0, 0, 0, 0, 0, 0, 0, 0, 0, 0, 0, 0, 0, 0, 0, 0, 0, 0, 0, 0, 0, 0, 0, 0, 0, 0, 0, 0, 0, 0, 0, 0, 0, 0, 0, 0, 0, 0, 0, 0, 0, 0, 0, 0, 0, 0, 0, 0, 0, 1, 0, 0, 0, 0, 0, 0, 0, 0, 0, 0, 0, 0, 0, 0, 0, 0, 0, 0, 0, 0, 0, 0, 0, 0, 0, 0, 0, 0, 0, 0, 0, 0, 0, 0, 0, 0, 0, 0, 0, 0, 0, 0, 0, 0, 0, 0, 0, 0, 0, 0, 0, 0, 0, 0, 0, 0, 0, 0, 0, 0, 0, 0, 0, 0, 0, 0, 0, 0, 0, 0, 0, 0, 0, 0, 0, 0, 0, 0, 0, 0, 0, 0, 0, 0, 0, 0, 0, 0, 0, 0, 0, 0, 0, 0, 0, 0, 0, 0, 0, 0, 0, 0, 0, 0, 0, 0, 0, 0, 0, 0, 2, 0, 0, 0, 0, 0, 0, 0, 0, 0, 0, 0, 0, 0, 0, 0, 0, 0, 0, 0, 0, 0, 0, 0, 0, 0, 0, 0, 0, 0, 0, 0, 0, 0, 0, 0, 0, 0, 0, 0, 0, 0, 0, 0, 0, 0, 0, 0, 0, 0, 0, 0, 0, 0, 0, 0, 0, 0, 0, 0, 0, 0, 0, 0, 0, 0, 0, 0, 0, 0, 0, 0, 0, 0, 0, 0, 0, 0, 0, 0, 0, 0, 0, 0, 0, 0, 0, 0, 0, 0, 0, 0, 0, 0, 0, 0, 0, 0, 0, 0, 0, 0, 0, 0, 0, 0, 0, 0, 0, 0, 0, 0, 0, 0, 0, 0, 0, 0, 0, 0, 0, 0, 0, 0, 0, 0, 0, 0, 0, 0, 0, 0, 0, 0, 0, 0, 0, 0, 0, 0, 0, 0, 0, 0, 0, 0, 0, 0, 0, 0, 0, 0, 0, 0, 0, 0, 0, 0, 0, 0, 0, 0, 0, 0, 0, 0, 0, 0, 0, 0, 0, 0, 0, 0, 0, 0, 0, 0, 0, 0, 0, 0, 0, 0, 0, 0, 0, 0, 0, 0, 0, 0, 0, 0, 0, 0, 0, 0, 0, 0, 0, 0, 0, 0, 0, 0, 0, 0, 0, 0, 0, 0, 0, 0, 0, 0, 0, 0, 0, 0, 0, 0, 0, 0, 0, 0, 0, 0, 0, 0, 0, 0, 0, 0, 0, 0, 0, 0, 0, 0, 0, 0, 0, 0, 0, 0, 0, 0, 0, 0, 0, 0, 0, 0, 0, 0, 0, 0, 0, 0, 0, 0, 0, 0, 0, 0, 0, 0, 0, 0, 0, 0, 0, 0, 0, 0, 0, 0, 0, 0, 0, 0, 0, 0, 0, 0, 0, 0, 0, 0, 0, 0, 0, 0, 0, 0, 0, 0, 0, 0, 0, 0, 0, 0, 0, 0, 0, 0, 0, 0, 0, 0, 0, 0, 0, 0, 0, 0, 0, 0, 0, 0, 0, 0, 0, 0, 0, 0, 0, 0, 0, 0, 0, 0, 0, 0, 0, 0, 0, 0, 0, 0, 0, 0, 0, 0, 0, 0, 0, 0, 0, 0, 0, 0, 0, 0, 0, 0, 0, 0, 0, 0, 0, 0, 0, 0, 0, 0, 0, 0, 0, 0, 0, 0, 0, 0, 0, 0, 0, 0, 0, 0, 0, 0, 0, 0, 0, 0, 0, 0, 0, 0, 0, 0, 0, 0, 0, 0, 0, 0, 0, 0, 0, 0, 0, 0, 0, 0, 0, 0, 0, 0, 0, 0, 0, 0, 0, 0, 0, 0, 0, 0, 0, 0, 0, 0, 0, 0, 0, 0, 0, 0, 0, 0, 0, 0, 0, 0, 0, 0, 0, 0, 0, 0, 0, 0, 0, 0, 0, 0, 0, 0, 0, 0, 0, 0, 0, 0, 0, 0, 0, 0, 0, 0, 0, 0, 0, 0, 0, 0, 0, 0, 0, 0, 0, 0, 0, 0, 0, 0, 0, 0, 0, 0, 0, 0, 0, 0, 0, 0, 0, 0, 0, 0, 0, 0, 0, 0, 0, 0, 0, 0, 0, 0, 0, 0, 0, 0, 0, 0, 0, 0, 0, 0, 0, 0, 0, 0, 0, 0, 0, 0, 0, 0, 0, 0, 0, 0, 0, 0, 0, 0, 0, 0, 0, 0, 0, 0, 0, 0, 0, 0, 0, 0, 0, 0, 0, 0, 0, 0, 0, 0, 0, 0, 0, 0, 0, 0, 0, 0, 0, 0, 0, 0, 0, 0, 0, 0, 0, 0, 0, 0, 0, 0, 0, 0, 0, 0, 0, 0, 0, 0, 0, 0, 0, 0, 0, 0, 0, 0, 0, 0, 0, 0, 0, 0, 0, 0, 0, 0, 0, 0, 0, 0, 0, 0, 0, 0, 0, 0, 0, 0, 0, 0, 0, 0, 0, 0, 0, 0, 0, 0, 0, 0, 0, 0, 0, 0, 0, 0, 0, 0, 0, 0, 0, 0, 0, 0, 0, 0, 0, 0, 0, 0, 0, 0, 0, 0, 0, 0, 0, 0, 0, 0, 0, 0, 0, 0, 0, 0, 0, 0, 0, 0, 0, 0, 0, 0, 0, 0, 0, 0, 0, 0, 0, 0, 0, 0, 0, 0, 0, 0, 0, 0, 0, 0, 0, 0, 0, 0, 0, 1, 0, 0, 0, 0, 0, 0, 0, 0, 0, 0, 0, 0, 0, 0, 0, 0, 0, 0, 0, 0, 0, 0, 0, 0, 0, 0, 0, 0, 0, 0, 0, 0, 0, 0, 0, 0, 0, 0, 0, 0, 0, 0, 0, 0, 0, 0, 0, 0, 0, 0, 0, 0, 0, 0, 0, 0, 0, 0, 0, 0, 0, 0, 0, 0, 0, 0, 0, 0, 0, 0, 0, 0, 0, 0, 0, 0, 0, 0, 0, 0, 0, 0, 0, 0, 0, 0, 0, 0, 0, 0, 0, 0, 0, 0, 0, 0, 0, 0, 0, 0, 0, 0, 0, 0, 0, 0, 0, 1, 0, 0, 0, 0, 0, 0, 0, 0, 0, 0, 0, 0, 0, 0, 0, 0, 0, 0, 0, 0, 0, 0, 0, 0, 0, 0, 0, 0, 0, 0, 0, 0, 0, 0, 0, 0, 0, 0, 0, 0, 0, 0, 0, 0, 0, 0, 0, 0, 0, 0, 0, 0, 0, 0, 0, 0, 0, 0, 0, 0, 0, 0, 0, 0, 0, 0, 0, 0, 0, 0, 0, 0, 0, 0, 0, 0, 0, 0, 0, 0, 0, 0, 0, 0, 0, 0, 0, 0, 0, 0, 0, 0, 0, 0, 0, 0, 0, 0, 0, 0, 0, 0, 0, 0, 0, 0, 0, 0, 0, 0, 0, 0, 0, 0, 0, 0, 0, 0, 0, 0, 0, 0, 0, 0, 0, 0, 0, 0, 0, 0, 0, 0, 0, 0, 0, 0, 0, 0, 0, 0, 0, 0, 0, 0, 0, 0, 0, 0, 0, 0, 0, 0, 0, 0, 0, 0, 0, 0, 0, 0, 0, 0, 0, 0, 0, 0, 0, 0, 0, 0, 0, 0, 0, 0, 0, 0, 0, 0, 0, 0, 0, 0, 0, 0, 0, 0, 0, 0, 0, 0, 0, 0, 0, 0, 0, 0, 0, 0, 0, 0, 0, 0, 0, 0, 0, 0, 0, 0, 0, 0, 0, 0, 0, 0, 0, 0, 0, 0, 0, 0, 0, 0, 0, 0, 0, 0, 0, 0, 0, 0, 0, 0, 0, 0, 0, 0, 0, 0, 0, 0, 0, 0, 0, 0, 0, 0, 0, 0, 0, 0, 0, 0, 0, 0, 0, 0, 0, 0, 0, 0, 0, 0, 0, 0, 0, 0, 0, 0, 0, 0, 0, 0, 0, 0, 0, 0, 0, 0, 0, 0, 0, 0, 0, 0, 0, 0, 0, 0, 0, 0, 0, 0, 0, 0, 0, 0, 0, 0, 0, 0, 0, 0, 0, 0, 0, 0, 0, 0, 0, 0, 0, 0, 0, 0, 0, 0, 0, 0, 0, 0, 0, 0, 0, 0, 0, 0, 0, 0, 0, 0, 0, 0, 0, 0, 0, 0, 0, 0, 0, 0, 0, 0, 0, 0, 0, 0, 0, 0, 0, 0, 0, 0, 0, 0, 0, 0, 0, 0, 0, 0, 0, 0, 0, 0, 0, 0, 0, 0, 0, 0, 0, 0, 0, 0, 0, 0, 0, 0, 0, 0, 0, 0, 0, 0, 0, 0, 0, 0, 0, 0, 0, 0, 0, 0, 0, 0, 0, 0, 0, 0, 0, 0, 0, 0, 0, 0, 0, 0, 0, 0, 0, 0, 0, 0, 0, 0, 0, 0, 0, 0, 0, 0, 0, 0, 0, 0, 0, 0, 0, 0, 0, 0, 0, 0, 0, 0, 0, 0, 0, 0, 0, 0, 0, 0, 0, 0, 0, 0, 0, 0, 0, 0, 0, 0, 0, 0, 0, 0, 0, 0, 0, 0, 0, 2, 0, 1, 0], type: <class 'list'>, valid types: <class 'bytes'>, <class 'bytearray'>, file-like object"
     ]
    }
   ],
   "source": [
    "response = runtime.invoke_endpoint(EndpointName = xgb_predictor.endpoint, # The name of the endpoint we created\n",
    "                                       ContentType = 'text/csv',                     # The data format that is expected\n",
    "                                       Body = test_bow)"
   ]
  },
  {
   "cell_type": "markdown",
   "metadata": {},
   "source": [
    "So why did we get an error?\n",
    "\n",
    "Because we tried to send the endpoint a list of integers but it expected us to send data of type `text/csv`. So, we need to convert it."
   ]
  },
  {
   "cell_type": "code",
   "execution_count": 41,
   "metadata": {},
   "outputs": [],
   "source": [
    "response = runtime.invoke_endpoint(EndpointName = xgb_predictor.endpoint, # The name of the endpoint we created\n",
    "                                       ContentType = 'text/csv',                     # The data format that is expected\n",
    "                                       Body = ','.join([str(val) for val in test_bow]).encode('utf-8'))"
   ]
  },
  {
   "cell_type": "code",
   "execution_count": 42,
   "metadata": {},
   "outputs": [
    {
     "name": "stdout",
     "output_type": "stream",
     "text": [
      "{'ResponseMetadata': {'RequestId': 'db87a5bd-96dd-4f9e-9f3d-55cfd253bae6', 'HTTPStatusCode': 200, 'HTTPHeaders': {'x-amzn-requestid': 'db87a5bd-96dd-4f9e-9f3d-55cfd253bae6', 'x-amzn-invoked-production-variant': 'AllTraffic', 'date': 'Tue, 23 Jun 2020 09:09:45 GMT', 'content-type': 'text/csv; charset=utf-8', 'content-length': '14'}, 'RetryAttempts': 0}, 'ContentType': 'text/csv; charset=utf-8', 'InvokedProductionVariant': 'AllTraffic', 'Body': <botocore.response.StreamingBody object at 0x7fd8477a68d0>}\n"
     ]
    }
   ],
   "source": [
    "print(response)"
   ]
  },
  {
   "cell_type": "markdown",
   "metadata": {},
   "source": [
    "As we can see, the response from our model is a somewhat complicated looking dict that contains a bunch of information. The bit that we are most interested in is `'Body'` object which is a streaming object that we need to `read` in order to make use of."
   ]
  },
  {
   "cell_type": "code",
   "execution_count": 43,
   "metadata": {},
   "outputs": [
    {
     "name": "stdout",
     "output_type": "stream",
     "text": [
      "0.416707009077\n"
     ]
    }
   ],
   "source": [
    "response = response['Body'].read().decode('utf-8')\n",
    "print(response)"
   ]
  },
  {
   "cell_type": "markdown",
   "metadata": {},
   "source": [
    "Now that we know how to process the incoming user data we can start setting up the infrastructure to make our simple web app work. To do this we will make use of two different services. Amazon's Lambda and API Gateway services.\n",
    "\n",
    "Lambda is a service which allows someone to write some relatively simple code and have it executed whenever a chosen trigger occurs. For example, you may want to update a database whenever new data is uploaded to a folder stored on S3.\n",
    "\n",
    "API Gateway is a service that allows you to create HTTP endpoints (url addresses) which are connected to other AWS services. One of the benefits to this is that you get to decide what credentials, if any, are required to access these endpoints.\n",
    "\n",
    "In our case we are going to set up an HTTP endpoint through API Gateway which is open to the public. Then, whenever anyone sends data to our public endpoint we will trigger a Lambda function which will send the input (in our case a review) to our model's endpoint and then return the result."
   ]
  },
  {
   "cell_type": "markdown",
   "metadata": {},
   "source": [
    "### Setting up a Lambda function\n",
    "\n",
    "The first thing we are going to do is set up a Lambda function. This Lambda function will be executed whenever our public API has data sent to it. When it is executed it will receive the data, perform any sort of processing that is required, send the data (the review) to the SageMaker endpoint we've created and then return the result.\n",
    "\n",
    "#### Part A: Create an IAM Role for the Lambda function\n",
    "\n",
    "Since we want the Lambda function to call a SageMaker endpoint, we need to make sure that it has permission to do so. To do this, we will construct a role that we can later give the Lambda function.\n",
    "\n",
    "Using the AWS Console, navigate to the **IAM** page and click on **Roles**. Then, click on **Create role**. Make sure that the **AWS service** is the type of trusted entity selected and choose **Lambda** as the service that will use this role, then click **Next: Permissions**.\n",
    "\n",
    "In the search box type `sagemaker` and select the check box next to the **AmazonSageMakerFullAccess** policy. Then, click on **Next: Review**.\n",
    "\n",
    "Lastly, give this role a name. Make sure you use a name that you will remember later on, for example `LambdaSageMakerRole`. Then, click on **Create role**."
   ]
  },
  {
   "cell_type": "markdown",
   "metadata": {},
   "source": [
    "#### Part B: Create a Lambda function\n",
    "\n",
    "Now it is time to actually create the Lambda function. Remember from earlier that in order to process the user provided input and send it to our endpoint we need to gather two pieces of information:\n",
    "\n",
    " - The name of the endpoint, and\n",
    " - the vocabulary object.\n",
    "\n",
    "We will copy these pieces of information to our Lambda function after we create it.\n",
    "\n",
    "To start, using the AWS Console, navigate to the AWS Lambda page and click on **Create a function**. When you get to the next page, make sure that **Author from scratch** is selected. Now, name your Lambda function, using a name that you will remember later on, for example `sentiment_analysis_xgboost_func`. Make sure that the **Python 3.6** runtime is selected and then choose the role that you created in the previous part. Then, click on **Create Function**.\n",
    "\n",
    "On the next page you will see some information about the Lambda function you've just created. If you scroll down you should see an editor in which you can write the code that will be executed when your Lambda function is triggered. Collecting the code we wrote above to process a single review and adding it to the provided example `lambda_handler` we arrive at the following.\n",
    "\n",
    "```python\n",
    "# We need to use the low-level library to interact with SageMaker since the SageMaker API\n",
    "# is not available natively through Lambda.\n",
    "import boto3\n",
    "\n",
    "# And we need the regular expression library to do some of the data processing\n",
    "import re\n",
    "\n",
    "REPLACE_NO_SPACE = re.compile(\"(\\.)|(\\;)|(\\:)|(\\!)|(\\')|(\\?)|(\\,)|(\\\")|(\\()|(\\))|(\\[)|(\\])\")\n",
    "REPLACE_WITH_SPACE = re.compile(\"(<br\\s*/><br\\s*/>)|(\\-)|(\\/)\")\n",
    "\n",
    "def review_to_words(review):\n",
    "    words = REPLACE_NO_SPACE.sub(\"\", review.lower())\n",
    "    words = REPLACE_WITH_SPACE.sub(\" \", words)\n",
    "    return words\n",
    "    \n",
    "def bow_encoding(words, vocabulary):\n",
    "    bow = [0] * len(vocabulary) # Start by setting the count for each word in the vocabulary to zero.\n",
    "    for word in words.split():  # For each word in the string\n",
    "        if word in vocabulary:  # If the word is one that occurs in the vocabulary, increase its count.\n",
    "            bow[vocabulary[word]] += 1\n",
    "    return bow\n",
    "\n",
    "\n",
    "def lambda_handler(event, context):\n",
    "    \n",
    "    vocab = \"*** ACTUAL VOCABULARY GOES HERE ***\"\n",
    "    \n",
    "    words = review_to_words(event['body'])\n",
    "    bow = bow_encoding(words, vocab)\n",
    "\n",
    "    # The SageMaker runtime is what allows us to invoke the endpoint that we've created.\n",
    "    runtime = boto3.Session().client('sagemaker-runtime')\n",
    "\n",
    "    # Now we use the SageMaker runtime to invoke our endpoint, sending the review we were given\n",
    "    response = runtime.invoke_endpoint(EndpointName = '***ENDPOINT NAME HERE***',# The name of the endpoint we created\n",
    "                                       ContentType = 'text/csv',                 # The data format that is expected\n",
    "                                       Body = ','.join([str(val) for val in bow]).encode('utf-8')) # The actual review\n",
    "\n",
    "    # The response is an HTTP response whose body contains the result of our inference\n",
    "    result = response['Body'].read().decode('utf-8')\n",
    "    \n",
    "    # Round the result so that our web app only gets '1' or '0' as a response.\n",
    "    result = round(float(result))\n",
    "\n",
    "    return {\n",
    "        'statusCode' : 200,\n",
    "        'headers' : { 'Content-Type' : 'text/plain', 'Access-Control-Allow-Origin' : '*' },\n",
    "        'body' : str(result)\n",
    "    }\n",
    "```"
   ]
  },
  {
   "cell_type": "markdown",
   "metadata": {},
   "source": [
    "Once you have copy and pasted the code above into the Lambda code editor, replace the `**ENDPOINT NAME HERE**` portion with the name of the endpoint that we deployed earlier. You can determine the name of the endpoint using the code cell below."
   ]
  },
  {
   "cell_type": "code",
   "execution_count": 44,
   "metadata": {},
   "outputs": [
    {
     "data": {
      "text/plain": [
       "'xgboost-2020-06-23-08-46-10-640'"
      ]
     },
     "execution_count": 44,
     "metadata": {},
     "output_type": "execute_result"
    }
   ],
   "source": [
    "xgb_predictor.endpoint"
   ]
  },
  {
   "cell_type": "markdown",
   "metadata": {},
   "source": [
    "In addition, you will need to copy the vocabulary dict to the appropriate place in the code at the beginning of the `lambda_handler` method. The cell below prints out the vocabulary dict in a way that is easy to copy and paste."
   ]
  },
  {
   "cell_type": "code",
   "execution_count": 45,
   "metadata": {},
   "outputs": [
    {
     "name": "stdout",
     "output_type": "stream",
     "text": [
      "{'sure': 4308, 'years': 4979, 'have': 2052, 'passed': 3202, 'since': 3990, 'last': 2521, 'production': 3419, 'was': 4805, 'filmed': 1717, 'but': 636, 'fellow': 1691, 'imdb': 2240, 'members': 2801, 'come': 886, 'on': 3105, 'this': 4457, 'movie': 2926, 'is': 2360, 'surely': 4309, 'one': 3107, 'of': 3083, 'the': 4426, 'masterpieces': 2760, '30s': 44, 'it': 2366, '10': 0, 'first': 1736, 'saw': 3798, 'at': 331, 'new': 3003, 'museum': 2945, 'modern': 2882, 'art': 304, 'around': 297, 'teenager': 4390, 'expensive': 1579, 'looking': 2648, 'yet': 4984, 'with': 4911, 'scenes': 3811, 'such': 4268, 'poverty': 3357, 'photographed': 3258, 'often': 3095, 'thrilling': 4474, 'and': 226, 'always': 203, 'engaging': 1481, 'to': 4507, 'me': 2778, 'mgm': 2828, 'making': 2718, 'its': 2370, 'best': 469, 'what': 4858, 'did': 1241, 'audiences': 353, 'feel': 1684, 'when': 4862, 'they': 4442, 'attack': 337, 'person': 3238, 'by': 642, 'destruction': 1216, 'mansion': 2731, 'horrific': 2166, 'then': 4436, 'wealth': 4826, 'week': 4837, 'those': 4460, 'watching': 4815, 'academy': 77, 'awards': 367, 'had': 2003, 'glimpse': 1919, 'oscar': 3133, 'winner': 4897, 'in': 2257, 'how': 2181, 'grand': 1953, 'see': 3855, 'an': 223, 'actress': 105, 'who': 4871, 'arguably': 289, 'delivered': 1170, 'most': 2909, 'masterful': 2758, 'haunting': 2051, 'performances': 3229, 'history': 2121, 'return': 3665, 'for': 1784, 'ok': 3098, 'so': 4046, 'she': 3923, 'should': 3951, 'not': 3040, 'won': 4925, 'year': 4978, 'before': 440, 'great': 1964, 'dont': 1324, 'blame': 499, 'were': 4848, 'only': 3110, 'decade': 1144, 'old': 3100, 'released': 3603, 'her': 2085, 'dialogue': 1234, 'limited': 2606, 'as': 311, 'use': 4692, 'visual': 4757, 'memorable': 2802, 'large': 2517, 'scale': 3802, 'touching': 4536, 'more': 2904, 'could': 1007, 'lover': 2672, 'want': 4788, 'favorite': 1671, 'my': 2951, 'childhood': 790, 'can': 665, 'remember': 3616, 'seeing': 3857, 'television': 4394, 'each': 1395, 'time': 4495, 'now': 3054, 'that': 4424, 'im': 2232, 'grown': 1984, 'up': 4683, 'kid': 2464, 'own': 3158, 'wanted': 4789, 'introduce': 2336, 'him': 2110, 'classic': 835, 'we': 4823, 'watched': 4813, 'friday': 1834, 'he': 2056, 'liked': 2600, 'during': 1387, 'fight': 1707, 'giant': 1905, 'spider': 4109, 'sons': 4073, 'hand': 2015, 'over': 3148, 'took': 4523, 'hold': 2129, 'mine': 2853, 'genuinely': 1892, 'scared': 3805, 'gonna': 1936, 'beat': 423, 'just': 2437, 'watch': 4811, 'youll': 4988, 'has': 2043, 'no': 3020, 'historical': 2119, 'frame': 1815, 'reference': 3582, 'speak': 4094, 'eight': 1436, 'under': 4639, 'al': 170, 'might': 2835, 'well': 4843, 'be': 418, 'oz': 3160, 'think': 4452, 'especially': 1520, 'much': 2934, 'do': 1302, 'boy': 557, 'thief': 4448, 'king': 2479, 'fact': 1621, 'if': 2222, 'you': 4986, 'films': 1721, 'narrative': 2966, 'bit': 488, 'sidekick': 3966, 'hero': 2088, 'all': 187, 'which': 4867, 'must': 2950, 'very': 4723, 'satisfying': 3791, 'imaginative': 2237, 'young': 4989, 'boys': 559, 'definitely': 1162, 'period': 3236, 'piece': 3272, 'suspect': 4327, 'hes': 2093, 'or': 3124, 'twelve': 4611, 'son': 4070, 'will': 4886, 'find': 1726, 'corny': 997, 'whatever': 4859, 'word': 4937, 'next': 3007, 'generation': 1883, 'using': 4698, 'love': 2669, 'story': 4207, 'barely': 399, 'dimensional': 1253, 'cynical': 1093, 'friend': 1835, 'commented': 900, 'why': 4878, 'does': 1308, 'princess': 3397, 'because': 432, 'demands': 1175, 'put': 3480, 'himself': 2111, 'repeatedly': 3632, 'struck': 4232, 'equally': 1510, 'about': 67, 'things': 4451, 'while': 4868, 'flying': 1764, 'mechanical': 2788, 'horses': 2171, 'foot': 1781, 'temple': 4398, 'eye': 1611, 'would': 4957, 'extreme': 1609, 'movies': 2927, 'climax': 849, 'tremendous': 4579, 'final': 1722, 'shot': 3949, 'away': 369, 'his': 2118, 'stolen': 4195, 'magic': 2703, 'seeking': 3859, 'some': 4061, 'fun': 1848, 'adventure': 130, 'better': 472, 'spoil': 4121, 'work': 4940, 'awesome': 371, 'written': 4972, 'likes': 2602, 'depicted': 1183, 'performance': 3228, 'christopher': 811, 'career': 686, 'simply': 3986, 'excellent': 1555, 'wish': 4904, 'catch': 714, 'staged': 4140, 'version': 4720, 'hope': 2155, 'underrated': 4642, 'overlooked': 3154, 'film': 1716, 'become': 433, 'too': 4522, 'difficult': 1249, 'any': 256, 'few': 1700, 'couldnt': 1008, 'instantly': 2306, 'solve': 4060, 'worth': 4953, 'second': 3846, 'even': 1533, 'third': 4455, 'viewing': 4740, 'gets': 1900, 'every': 1539, 'need': 2987, 'deserve': 1199, 'like': 2599, 'extraordinary': 1607, 'cast': 710, 'acting': 99, 'disappointed': 1273, 'didnt': 1242, 'get': 1899, 'goldberg': 1933, 'certainly': 738, 'deserved': 1200, 'case': 707, 'take': 4349, 'look': 2646, 'am': 204, 'enjoy': 1484, 'once': 3106, 'college': 875, 'international': 2326, 'fair': 1630, 'russian': 3762, 'section': 3853, 'soviet': 4089, 'era': 1513, 'poster': 3353, 'saying': 3800, 'meaning': 2780, 'tv': 4610, 'neighbor': 2992, 'however': 2183, 'result': 3660, 'short': 3946, 'quite': 3495, 'laughing': 2533, 'matter': 2769, 'soldier': 4053, 'something': 4066, 'immediately': 2242, 'powers': 3361, 'attacked': 338, 'united': 4664, 'states': 4163, 'tells': 4397, 'someone': 4064, 'else': 1448, 'continues': 971, 'are': 285, 'coming': 896, 'blown': 516, 'out': 3141, 'back': 378, 'know': 2489, 'mean': 2779, 'yes': 4982, 'mostly': 2910, 'wwii': 4975, 'propaganda': 3435, 'complete': 921, 'term': 4405, 'japanese': 2382, 'say': 3799, 'shorts': 3948, 'actually': 109, 'funny': 1852, 'course': 1019, 'dr': 1340, 'writing': 4971, 'mel': 2796, 'providing': 3451, 'voices': 4763, 'surprise': 4312, 'these': 4441, 'came': 656, 'rather': 3528, 'cool': 989, 'possible': 3350, 'spoilers': 4124, 'asked': 317, 'rights': 3697, 'christmas': 810, 'grinch': 1975, 'stole': 4194, 'turned': 4606, 'them': 4432, 'down': 1335, 'than': 4420, 'marvelous': 2750, 'chuck': 812, 'jones': 2418, 'special': 4097, 'from': 1840, 'also': 199, 'mind': 2849, 'perhaps': 3235, 'bitter': 491, 'experience': 1580, 'script': 3834, 'good': 1937, 'died': 1244, 'widow': 4883, 'still': 4188, 'sell': 3871, 'cgi': 740, 'effects': 1431, 'becoming': 435, 'reality': 3551, 'mrs': 2930, 'change': 749, 'heart': 2064, 'universal': 4665, 'made': 2697, 'generous': 1886, 'offer': 3087, 'accepted': 82, 'casting': 711, 'jim': 2402, 'carrey': 696, 'title': 4504, 'character': 758, 'supposedly': 4307, 'satisfied': 3789, 'makes': 2716, 'us': 4690, 'given': 1913, 'budget': 610, 'cost': 1003, 'including': 2264, 'obviously': 3072, 'went': 4847, 'towards': 4540, 'elaborate': 1439, 'makeup': 2717, 'set': 3898, 'design': 1202, 'somewhat': 4068, 'cinematography': 820, 'unfortunately': 4654, 'seems': 3864, 'none': 3028, 'money': 2888, 'aside': 315, 'jeffrey': 2391, 'price': 3389, 'peter': 3247, 'roger': 3724, 'rabbit': 3498, 'high': 2100, 'whereas': 4865, 'minutes': 2859, 'without': 4913, 'commercials': 903, 'tries': 4585, 'fill': 1714, 'running': 3756, 'background': 380, 'information': 2288, 'turns': 4609, 'child': 789, 'subject': 4253, 'age': 148, 'everything': 1544, 'our': 3139, 'poor': 3328, 'mr': 2929, 'directly': 1263, 'whos': 4876, 'trouble': 4592, 'long': 2644, 'dead': 1132, 'wood': 4933, 'seem': 3861, 'bad': 382, 'little': 2624, 'wrote': 4974, 'later': 2525, 'animated': 241, 'fox': 1814, 'whose': 4877, 'slick': 4026, 'attempts': 343, 'holiday': 2134, 'season': 3843, 'sudden': 4272, 'loud': 2664, 'times': 4497, 'town': 4541, 'square': 4136, 'anger': 235, 'hopefully': 2157, 'scenery': 3810, 'looked': 2647, 'scripts': 3836, 'attempt': 340, 'make': 2713, 'sympathetic': 4342, 'least': 2554, 'interpretation': 2328, 'vision': 4754, 'small': 4033, 'honest': 2146, 'folk': 1770, 'knew': 2486, 'their': 4431, 'hearts': 2066, 'true': 4596, 'place': 3282, 'spoiled': 4122, 'selfish': 3870, 'obvious': 3071, 'comment': 898, 'american': 213, 'industry': 2280, 'greatly': 1967, 'huge': 2185, 'lou': 2663, 'crucial': 1068, 'original': 3129, 'innocent': 2294, 'two': 4620, 'walked': 4776, 'santa': 3783, 'older': 3101, 'constantly': 958, 'false': 1641, 'values': 4710, 'trying': 4601, 'understand': 4643, 'point': 3316, 'view': 4736, 'major': 2711, 'scene': 3809, 're': 3535, 'ever': 1538, 'thus': 4486, 'completely': 922, 'different': 1248, 'annoying': 249, 'accept': 80, 'morning': 2906, '25': 40, 'copy': 994, 'tedious': 4387, 'ham': 2011, 'handed': 2016, 'crude': 1069, 'turn': 4605, 'childrens': 793, 'into': 2332, 'feature': 1678, 'proves': 3447, 'darkness': 1117, 'heavy': 2070, 'charm': 767, 'wit': 4908, 'folks': 1771, 'thank': 4421, 'god': 1926, 'truly': 4597, 'million': 2847, 'bomb': 531, 'theyd': 4443, 'here': 2086, 'today': 4508, 'furthermore': 1854, 'mike': 2838, 'myers': 2952, 'cat': 713, 'hat': 2045, 'shows': 3960, 'nothing': 3047, 'idea': 2213, 'action': 100, 'found': 1811, 'many': 2732, 'previously': 3388, 'fabulous': 1615, 'nick': 3012, 'plain': 3286, 'calm': 655, 'evil': 1548, 'nor': 3032, 'part': 3193, 'newly': 3004, 'overall': 3150, 'there': 4438, 'characters': 760, 'nobody': 3022, 'detailed': 1218, 'easy': 1410, 'forget': 1793, 'off': 3084, 'consider': 949, 'nearly': 2981, 'stands': 4147, 'wonder': 4926, 'todays': 4509, 'celluloid': 731, 'productions': 3420, 'talked': 4359, 'simple': 3983, 'solid': 4057, 'enough': 1491, 'day': 1129, 'recall': 3562, 'monster': 2892, 'enters': 1496, 'force': 1786, 'field': 1704, 'ship': 3934, 'got': 1944, 'fear': 1676, 'tell': 4395, 'looks': 2649, 'dated': 1119, 'effective': 1429, 'tiger': 4491, 'show': 3953, 'where': 4864, 'shots': 3950, 'visible': 4753, 'likewise': 2603, 'effect': 1428, 'creature': 1045, 'way': 4820, 'through': 4477, 'doors': 1329, 'wonderfully': 4929, 'done': 1322, 'amazing': 209, 'leslie': 2574, 'remembered': 3617, 'airplane': 166, 'naked': 2959, 'gun': 1996, 'mature': 2773, 'man': 2721, '30': 42, '80': 58, 'continue': 969, 'being': 448, 'favourite': 1673, 'timeless': 4496, 'go': 1924, 'sleep': 4024, 'other': 3135, 'night': 3013, 'makers': 2715, 'ambitious': 211, 'scope': 3821, 'read': 3543, 'fairy': 1632, 'tale': 4353, 'lucky': 2683, 'relies': 3606, 'tired': 4501, 'clichés': 846, 'almost': 193, 'broadway': 592, 'musical': 2947, 'actors': 104, 'purpose': 3474, 'silly': 3976, '60s': 54, 'introduced': 2337, 'black': 493, 'picture': 3269, 'talk': 4358, 'give': 1912, 'shirt': 3937, 'people': 3221, 'sunshine': 4294, 'isnt': 2362, 'free': 1827, 'oh': 3096, 'mary': 2751, 'excuse': 1564, 'la': 2500, 'unique': 4662, 'hear': 2061, 'going': 1931, 'cant': 671, 'kids': 2467, 'name': 2960, 'used': 4693, 'thing': 4450, 'pieces': 3273, 'cheesy': 781, 'confused': 941, 'football': 1783, 'never': 3001, 'play': 3296, 'class': 833, 'buddies': 608, 'party': 3200, 'product': 3418, 'chick': 786, 'getting': 1901, 'serious': 3891, 'ladies': 2506, 'room': 3735, 'discussion': 1284, 'island': 2361, 'ideas': 2215, 'grow': 1982, 'mundane': 2938, 'settings': 3901, 'real': 3547, 'life': 2592, 'warm': 4794, 'comments': 901, 'note': 3044, 'themes': 4434, 'relevant': 3604, 'agree': 155, 'baby': 376, 'premise': 3370, 'elderly': 1440, 'muslim': 2949, 'teenage': 4389, 'drive': 1363, 'similarly': 3980, 'station': 4164, 'france': 1816, 'holy': 2140, 'dies': 1245, 'father': 1666, 'clearly': 840, 'religious': 3608, 'religion': 3607, 'hed': 2072, 'non': 3027, 'girlfriend': 1910, 'lot': 2661, 'doesnt': 1309, 'between': 475, 'device': 1227, 'drama': 1346, 'although': 201, 'road': 3709, 'along': 195, 'example': 1553, 'woman': 4921, 'upon': 4684, 'directions': 1262, 'points': 3319, 'assume': 328, 'map': 2733, 'another': 250, 'ask': 316, 'french': 1830, 'provides': 3450, 'commentary': 899, 'occasional': 3074, 'humor': 2192, 'country': 1014, 'eating': 1413, 'wants': 4791, 'meat': 2787, 'fortunately': 1805, 'viewer': 4738, 'runs': 3757, 'perform': 3227, 'eventually': 1537, 'equivalent': 1512, 'bizarre': 492, 'fascinating': 1658, 'sophisticated': 4075, 'charming': 768, 'kind': 2476, 'national': 2970, 'soul': 4079, 'follows': 1775, 'events': 1536, 'novel': 3052, 'beloved': 461, 'among': 217, 'humans': 2190, 'controversial': 978, 'book': 535, 'became': 431, 'bible': 477, 'hamlet': 2013, 'popular': 3333, 'hard': 2033, 'due': 1382, 'communist': 907, 'represents': 3639, 'intellectual': 2312, 'red': 3576, 'world': 4946, 'filled': 1715, 'passion': 3205, 'sexuality': 3909, 'ingredients': 2289, 'greatest': 1966, 'psychological': 3458, 'european': 1530, 'far': 1653, 'worst': 4952, 'seen': 3865, 'cinema': 816, 'wait': 4770, 'end': 1468, 'matters': 2770, 'worse': 4951, 'anyone': 259, 'bodies': 526, 'ground': 1979, 'killed': 2469, 'cut': 1089, 'bring': 585, 'younger': 4990, 'viewers': 4739, 'flop': 1760, 'wannabe': 4787, 'idiot': 2218, 'plays': 3301, 'mate': 2765, 'act': 97, 'wasted': 4809, 'again': 146, 'advise': 134, 'others': 3136, 'same': 3778, 'been': 438, 'warned': 4798, 'rest': 3657, 'ive': 2372, 'imagine': 2238, 'pay': 3216, 'taking': 4352, 'role': 3726, 'lead': 2545, 'played': 3297, 'unknown': 4668, 'disappeared': 1271, 'right': 3696, 'after': 143, 'turkey': 4604, 'bruce': 602, 'lee': 2559, 'led': 2558, 'martial': 2747, 'arts': 310, 'charge': 761, 'early': 1400, '70s': 56, 'either': 1438, 'based': 404, 'brutal': 603, 'street': 4216, 'fighting': 1709, 'techniques': 4384, 'uses': 4697, 'fast': 1661, 'cuts': 1091, 'lady': 2507, 'throw': 4479, 'punch': 3466, 'average': 362, 'apart': 264, 'showing': 3958, 'sorry': 4076, 'mystery': 2956, 'win': 4892, 'golden': 1934, 'list': 2617, 'expected': 1577, 'spent': 4108, 'majority': 2712, 'lying': 2690, 'bed': 436, 'actresses': 106, 'cannot': 670, 'anything': 260, 'interesting': 2325, 'falling': 1639, 'asleep': 320, 'throughout': 4478, 'entire': 1502, 'plot': 3309, 'summary': 4290, 'says': 3801, 'secret': 3849, 'revealed': 3671, 'daughters': 1122, 'mother': 2911, 'comes': 891, 'closer': 856, 'death': 1141, 'except': 1556, 'advice': 133, 'happy': 2032, 'relationships': 3598, 'felt': 1692, 'forth': 1804, 'past': 3207, 'present': 3374, 'unnecessary': 4672, 'seemed': 3862, 'da': 1094, 'code': 869, 'suspense': 4330, 'create': 1036, 'ending': 1471, 'romance': 3732, 'main': 2707, 'cheap': 774, 'left': 2561, 'wondering': 4930, 'women': 4923, 'really': 3556, 'disappointment': 1275, 'stay': 4166, 'van': 4713, 'breaking': 570, 'waves': 4819, 'less': 2575, 'masterpiece': 2759, 'loved': 2670, 'dancer': 1104, 'exercise': 1568, 'dry': 1377, 'theatrical': 4430, 'famous': 1647, 'succeeded': 4263, 'relative': 3599, 'success': 4265, 'foreign': 1790, 'language': 2516, 'survive': 4321, 'opinion': 3118, 'explicit': 1591, 'taste': 4369, 'level': 2584, 'escape': 1517, 'followed': 1773, 'war': 4792, 'white': 4870, 'colors': 879, 'victims': 4730, 'both': 547, 'sides': 3967, 'survival': 4320, 'event': 1535, 'lives': 2628, 'nations': 2971, 'individuals': 2278, 'forever': 1792, 'source': 4086, 'decades': 1145, 'ago': 154, 'means': 2783, 'expression': 1602, 'appear': 273, 'fit': 1740, 'task': 4368, 'include': 2261, 'quotes': 3497, 'hitchcock': 2123, 'pre': 3365, 'europe': 1529, 'brave': 567, 'british': 589, 'german': 1896, 'speed': 4103, 'dark': 1115, 'conflicts': 940, 'intensity': 2317, 'train': 4556, 'becomes': 434, 'birth': 486, 'germany': 1898, 'obsession': 3070, 'order': 3126, 'classical': 836, 'spy': 4135, 'stories': 4205, 'guys': 2001, 'principal': 3398, 'post': 3352, 'willing': 4889, 'process': 3412, 'help': 2079, 'finds': 1728, 'corruption': 1002, 'fate': 1665, 'path': 3209, 'self': 3869, 'mixed': 2877, 'treatment': 4574, 'director': 1264, 'actions': 101, 'jean': 2389, 'lack': 2502, 'credibility': 1047, 'imitation': 2241, 'late': 2523, 'color': 877, 'moments': 2887, 'emotional': 1459, 'master': 2757, 'artistic': 308, 'try': 4600, 'filmmaker': 1719, 'decide': 1148, 'alone': 194, 'jake': 2377, 'begins': 444, 'margaret': 2735, 'karen': 2444, 'sister': 4001, 'kidnapped': 2466, 'paris': 3189, 'family': 1645, 'heard': 2062, 'wayne': 4821, 'telling': 4396, 'exactly': 1551, 'partner': 3198, 'dennis': 1179, 'writes': 4970, 'adventures': 131, 'novels': 3053, 'hilarious': 2106, 'packed': 3166, 'guess': 1989, 'cult': 1077, 'following': 1774, 'perfect': 3224, 'throws': 4482, 'liners': 2611, 'girl': 1909, 'john': 2409, 'hurt': 2202, 'guy': 2000, 'stomach': 4196, 'blew': 505, 'alien': 183, 'adds': 119, 'ways': 4822, 'similar': 3978, 'james': 2378, 'bond': 532, 'maybe': 2776, 'called': 652, 'enjoyable': 1485, 'potential': 3355, 'decent': 1147, 'concept': 930, 'military': 2844, 'types': 4622, 'vampires': 4712, 'space': 4090, 'universe': 4666, 'full': 1846, 'various': 4715, 'vampire': 4711, 'outside': 3146, 'earth': 1403, 'meant': 2784, 'nature': 2975, 'hell': 2077, 'everyone': 1542, 'across': 96, 'low': 2676, 'mix': 2876, 'aliens': 184, 'parts': 3199, 'pretty': 3384, 'particularly': 3195, 'reasonably': 3559, 'executed': 1565, 'gore': 1941, 'flick': 1754, 'comical': 894, 'blood': 512, 'variety': 4714, 'stuff': 4243, 'primarily': 3393, 'cowboy': 1025, 'dude': 1381, 'asian': 314, 'badly': 383, 'nice': 3008, 'development': 1225, 'okay': 3099, 'michael': 2829, 'couple': 1016, 'hot': 2174, 'arent': 288, 'said': 3774, 'created': 1037, 'pilot': 3276, 'series': 3890, 'explored': 1595, 'etc': 1527, 'highlights': 2104, 'head': 2057, 'watchable': 4812, 'heroes': 2089, 'talking': 4360, 'type': 4621, 'sex': 3907, 'indeed': 2271, 'credit': 1049, 'aspect': 321, 'though': 4461, 'awful': 372, 'usually': 4700, 'inappropriate': 2259, 'pop': 3330, 'music': 2946, 'playing': 3300, 'half': 2007, 'painful': 3171, 'listen': 2619, 'basically': 407, 'youre': 4992, 'tend': 4400, 'slave': 4022, 'context': 968, 'groups': 1981, 'group': 1980, 'caught': 722, 'middle': 2833, 'resulting': 3661, 'female': 1693, 'children': 792, 'de': 1131, 'colour': 880, 'able': 66, 'certain': 737, 'extent': 1605, 'property': 3438, 'raise': 3507, 'themselves': 4435, 'dignity': 1252, 'werent': 4849, 'lived': 2626, 'masters': 2761, 'men': 2805, 'houses': 2180, 'paid': 3169, 'chose': 804, 'families': 1644, 'essence': 1521, 'beautifully': 429, 'local': 2634, 'touched': 4534, 'negative': 2991, 'positive': 3346, 'lines': 2612, 'let': 2579, 'grey': 1973, 'area': 286, 'three': 4469, 'anne': 246, 'costumes': 1006, 'wonderful': 4928, 'drawn': 1351, 'areas': 287, 'distinct': 1296, 'protagonists': 3442, 'marry': 2745, 'ones': 3108, 'bear': 420, 'face': 1616, 'doing': 1312, 'recommend': 3571, 'handle': 2018, 'truth': 4599, 'cringe': 1059, 'learn': 2550, 'may': 2775, 'sound': 4081, 'entertained': 1498, 'despite': 1211, 'mouth': 2920, 'thoroughly': 4459, 'enjoyed': 1486, 'theres': 4440, 'lesson': 2577, 'learned': 2551, 'expect': 1575, 'chris': 806, 'rock': 3720, 'feeling': 1685, 'romantic': 3733, 'involved': 2346, 'having': 2054, 'single': 3996, 'smile': 4036, 'gave': 1875, 'ten': 4399, 'laugh': 2529, 'open': 3112, 'grasp': 1960, 'lost': 2660, 'translation': 4562, 'simplicity': 3984, 'intelligence': 2313, 'boring': 543, 'thought': 4462, 'typical': 4623, 'longer': 2645, 'thinking': 4453, 'society': 4050, 'racism': 3502, 'south': 4087, 'park': 3190, 'moves': 2925, 'emotion': 1458, 'closest': 857, 'experienced': 1581, 'five': 1743, 'rate': 3526, 'seven': 3903, 'above': 68, 'gritty': 1977, 'western': 4853, 'richard': 3686, 'brooks': 596, 'genre': 1888, 'keeping': 2450, 'usual': 4699, 'horse': 2170, 'race': 3499, 'gene': 1879, 'vincent': 4746, 'surprisingly': 4316, 'game': 1864, 'predictable': 3367, 'whether': 4866, 'fairly': 1631, 'entry': 1504, 'breaks': 571, 'instead': 2307, 'resembles': 3646, 'gary': 1873, 'fine': 1729, 'tiresome': 4502, 'quickly': 3491, 'decided': 1149, 'starring': 4154, 'twin': 4615, 'david': 1124, 'paul': 3214, 'directed': 1259, 'reputation': 3640, 'creating': 1039, 'sleazy': 4023, 'remarkably': 3614, 'trashy': 4566, 'fails': 1628, 'wrong': 4973, 'tone': 4517, 'clothes': 860, 'hair': 2005, 'sense': 3877, 'whatsoever': 4861, 'lynch': 2691, 'ridiculous': 3693, 'costume': 1005, 'supposed': 4306, 'menacing': 2807, 'eva': 1531, 'stars': 4155, 'walking': 4779, 'disappear': 1270, 'twins': 4616, 'bound': 553, 'impossible': 2249, 'proper': 3436, 'roles': 3727, 'mess': 2818, 'ill': 2228, 'conceived': 929, 'wear': 4830, 'covers': 1024, 'ass': 323, 'butt': 638, 'kidding': 2465, 'desperate': 1208, 'desperation': 1210, 'perfectly': 3226, 'dozen': 1338, 'fifteen': 1706, 'bought': 552, 'dvd': 1391, 'teach': 4374, 'school': 3813, 'explains': 1589, 'critical': 1062, '20th': 38, 'century': 736, 'explaining': 1588, 'words': 4938, 'details': 1219, 'actual': 108, 'buy': 640, 'your': 4991, 'america': 212, 'glad': 1916, 'dying': 1393, 'till': 4493, 'rent': 3626, 'beginning': 443, 'close': 853, 'ie': 2221, 'teens': 4392, 'pass': 3201, 'care': 684, 'jack': 2373, 'murdered': 2940, 'characterization': 759, 'convincing': 985, 'results': 3662, 'stephen': 4176, 'against': 147, 'donald': 1321, 'sutherland': 4333, 'empathy': 1462, 'account': 89, 'supporting': 4304, 'max': 2774, 'von': 4765, 'carried': 698, 'directing': 1260, 'photography': 3260, 'needless': 2989, 'produce': 3413, 'frankly': 1823, 'depth': 1190, 'hbo': 2055, 'recommended': 3572, 'add': 115, 'exaggerated': 1552, 'higher': 2101, 'rating': 3529, 'easily': 1406, 'comedy': 890, 'itself': 2371, 'setting': 3900, 'granted': 1957, '1980s': 21, 'rare': 3523, 'inside': 2297, 'media': 2789, 'widely': 4881, 'official': 3094, 'news': 3005, 'pants': 3182, 'deserves': 1201, 'fake': 1635, 'leading': 2547, 'questions': 3489, 'filmmakers': 1720, 'keep': 2449, 'track': 4544, 'cameras': 660, 'rolling': 3730, 'president': 3378, 'biggest': 480, 'theyre': 4445, 'via': 4726, 'cable': 644, 'highly': 2105, 'doubt': 1332, 'george': 1893, 'attempted': 341, 'worry': 4950, 'shoot': 3942, 'repeated': 3631, 'reveals': 3673, 'established': 1524, 'important': 2247, 'interested': 2324, 'goes': 1930, 'challenge': 743, 'dare': 1113, 'mainstream': 2709, 'reveal': 3670, 'facts': 1624, 'iraq': 2351, 'according': 88, '13': 4, 'mention': 2810, '2003': 33, 'mentioned': 2811, 'ready': 3546, 'curious': 1083, 'trial': 4580, 'involvement': 2347, 'training': 4558, '80s': 59, 'largely': 2518, 'probably': 3407, 'reason': 3557, 'independent': 2272, 'balance': 387, 'exposure': 1599, 'humour': 2194, 'light': 2595, 'clean': 838, 'storyline': 4208, 'involving': 2349, 'mistaken': 2872, 'identity': 2217, 'common': 906, 'myself': 2953, 'forward': 1808, 'flesh': 1753, 'portrayal': 3341, 'naive': 2958, 'lies': 2591, 'dancing': 1107, 'stage': 4139, 'ben': 463, 'arthur': 305, 'sam': 3777, 'produced': 3414, 'writer': 4968, 'somebody': 4062, 'whole': 4873, 'jamie': 2379, 'tied': 4489, 'chair': 742, 'twice': 4613, 'direction': 1261, 'places': 3284, 'date': 1118, 'quit': 3494, 'attention': 345, 'sisters': 4002, 'meets': 2795, 'drug': 1373, 'whom': 4875, 'believes': 456, 'big': 478, 'accused': 91, 'killing': 2472, 'kills': 2474, 'spirit': 4113, 'live': 2625, 'ultimately': 4628, 'italian': 2367, 'overcome': 3151, 'portrayed': 3342, 'song': 4071, 'style': 4249, 'discovered': 1280, 'havent': 2053, '1990': 24, 'run': 3755, 'started': 4157, 'styles': 4250, 'attitudes': 347, 'references': 3583, 'contains': 964, 'witty': 4917, 'confidence': 938, 'humorous': 2193, 'keeps': 2451, 'sitcom': 4004, 'favor': 1670, 'gives': 1914, 'focus': 1766, 'issues': 2365, 'problems': 3409, 'teen': 4388, 'dealing': 1136, 'comic': 893, 'mass': 2753, 'appeal': 271, 'center': 732, 'eric': 1514, 'absolute': 71, 'perfection': 3225, 'future': 1856, 'grace': 1950, 'super': 4295, 'brilliant': 583, 'friends': 1837, 'donna': 1323, 'hyde': 2206, 'jackie': 2374, 'fashion': 1659, 'laura': 2536, 'danny': 1112, 'eyes': 1613, 'feminist': 1695, 'object': 3066, 'core': 995, 'relationship': 3597, 'soon': 4074, 'starts': 4159, 'meaningful': 2781, 'conversation': 980, 'works': 4945, 'counter': 1011, 'prior': 3400, 'sits': 4006, 'dumb': 1385, 'physical': 3262, 'manages': 2725, 'herself': 2092, 'finally': 1724, 'student': 4238, 'accent': 78, 'hasnt': 2044, 'creates': 1038, 'stealing': 4171, 'takes': 4351, 'minds': 2852, 'thoughts': 4464, 'fantasy': 1652, 'gang': 1867, 'gags': 1862, 'hang': 2022, 'basement': 405, 'parents': 3188, 'lovable': 2668, 'smith': 4038, 'adults': 126, 'needed': 2988, 'wells': 4845, 'bob': 524, 'don': 1320, 'blonde': 511, 'sexy': 3911, 'roberts': 3714, 'seasons': 3844, 'brilliantly': 584, 'lisa': 2616, 'robin': 3715, 'kelly': 2452, 'refreshing': 3586, 'relief': 3605, 'guest': 1992, 'personal': 3240, 'replaced': 3634, 'terrible': 4407, 'thankfully': 4422, 'gone': 1935, 'sadly': 3769, 'returned': 3666, 'finale': 1723, 'giving': 1915, 'cameo': 657, 'fresh': 1833, 'added': 116, 'nostalgia': 3038, 'top': 4525, 'notch': 3043, 'players': 3299, 'leo': 2571, 'tommy': 4516, 'dave': 1123, 'roy': 3745, 'terrific': 4409, 'earl': 1398, 'days': 1130, 'betty': 474, 'moore': 2901, 'mothers': 2912, 'celebrity': 729, 'cameos': 658, 'appearances': 275, 'shirley': 3936, 'pamela': 3179, 'sue': 4274, 'martin': 2748, 'nancy': 2964, 'drew': 1360, 'ted': 4386, 'kiss': 2483, 'nostalgic': 3039, 'delivery': 1173, 'nonsensical': 3031, 'prisoners': 3403, 'comedic': 888, 'storytelling': 4209, 'ruin': 3750, 'names': 2963, 'bears': 421, 'resemblance': 3645, 'strong': 4229, 'represent': 3637, 'hate': 2046, 'powerful': 3360, 'treated': 4573, 'rise': 3702, 'power': 3359, 'sixties': 4011, 'mid': 2832, 'seventies': 3904, 'realistic': 3550, 'sign': 3970, 'ann': 244, 'miller': 2846, 'ran': 3513, 'hey': 2095, 'primary': 3394, 'believe': 454, 'met': 2822, 'ends': 1474, 'beach': 419, 'whats': 4860, 'happen': 2026, 'spends': 4107, 'prison': 3401, 'round': 3742, 'hole': 2132, 'bucks': 606, 'gangster': 1868, 'throwing': 4480, 'leaving': 2557, 'stand': 4143, 'prequel': 3372, 'determined': 1221, 'westerns': 4854, 'clint': 850, 'necessarily': 2983, 'connected': 945, 'acts': 107, 'laughs': 2534, 'peoples': 3222, 'misery': 2865, 'start': 4156, 'surprising': 4315, 'gem': 1877, 'deliver': 1169, 'beautiful': 428, 'trick': 4582, 'alcohol': 176, 'legal': 2563, 'illegal': 2229, 'racial': 3501, 'side': 3965, 'laws': 2540, 'extra': 1606, 'thru': 4483, 'writers': 4969, 'kept': 2456, 'realizing': 3555, 'miss': 2866, 'subtle': 4260, 'painted': 3174, 'hated': 2047, 'travel': 4567, 'existence': 1571, 'technology': 4385, 'paper': 3183, 'food': 1778, 'doctor': 1304, 'tooth': 4524, 'choice': 797, 'sad': 3767, 'jon': 2416, 'girls': 1911, 'model': 2880, 'sort': 4077, 'charisma': 762, 'smiling': 4037, 'wet': 4855, 'stop': 4201, 'hunter': 2199, 'sucks': 4271, 'erotic': 1515, 'moment': 2886, 'total': 4531, 'male': 2719, 'actor': 103, 'mildly': 2840, 'move': 2921, 'happening': 2028, 'concerned': 932, 'heads': 2059, 'ripped': 3701, 'build': 614, 'horror': 2168, 'member': 2800, 'audience': 352, 'wow': 4962, 'paint': 3173, 'walls': 4783, 'hunters': 2200, 'kill': 2468, 'reaching': 3539, 'abandoned': 62, 'church': 813, 'huh': 2187, 'jumps': 2432, 'hello': 2078, 'sticks': 4186, '1970s': 17, 'hit': 2122, 'theme': 4433, 'sequence': 3887, 'removed': 3624, 'line': 2610, 'decides': 1150, 'apparently': 270, 'human': 2188, 'body': 527, 'crime': 1055, 'begin': 442, 'step': 4175, 'gothic': 1945, 'taken': 4350, 'seriously': 3892, 'concern': 931, 'leave': 2555, 'consequences': 947, 'follow': 1772, 'protagonist': 3441, 'reminded': 3619, 'fay': 1674, 'kong': 2494, 'struggling': 4236, 'unbelievable': 4634, 'dialog': 1232, 'welles': 4844, 'tongue': 4518, 'cheek': 779, 'ed': 1415, 'enormous': 1490, 'waste': 4808, 'poorly': 3329, 'accomplished': 87, 'warner': 4799, 'cartoon': 704, 'factory': 1623, '1940s': 13, 'job': 2405, 'minute': 2858, 'yellow': 4981, 'comics': 895, 'loss': 2659, 'exist': 1569, 'utterly': 4702, 'horrors': 2169, 'shape': 3919, 'drunken': 1376, 'students': 4239, 'senseless': 3878, 'drivel': 1364, 'suffered': 4276, 'eastern': 1408, 'fantastic': 1651, 'planet': 3289, 'thirty': 4456, 'dull': 1384, 'strangers': 4214, 'sat': 3786, 'near': 2979, 'screen': 3829, 'cards': 683, 'already': 197, 'lighting': 2596, 'apartment': 265, 'avoid': 363, 'steal': 4170, 'burn': 625, 'wisdom': 4902, 'odd': 3080, 'unusual': 4681, 'vegas': 4717, 'whenever': 4863, 'asks': 319, 'youve': 4995, 'camera': 659, 'images': 2235, 'flash': 1745, 'randomly': 3515, 'violent': 4748, 'explain': 1586, 'trip': 4588, 'johnny': 2410, 'difference': 1246, 'entertaining': 1499, 'honestly': 2147, 'brain': 562, 'buff': 611, 'claim': 828, 'cinematic': 818, 'blah': 496, 'hurts': 2203, 'remotely': 3623, 'closing': 859, 'heck': 2071, 'ahead': 159, 'hour': 2176, 'check': 777, 'known': 2492, 'lone': 2642, 'wolf': 4920, 'saga': 3773, 'ghosts': 1903, 'kinda': 2477, 'stale': 4141, 'repetitive': 3633, 'thanks': 4423, 'choose': 799, 'trilogy': 4586, 'lucas': 2680, 'grade': 1951, 'extras': 1608, 'merely': 2815, 'trailers': 4555, 'candy': 668, 'tarzan': 4367, 'aged': 149, 'spite': 4117, 'tried': 4584, 'shooting': 3943, 'star': 4150, 'multiple': 2936, 'award': 366, 'winning': 4898, 'cinematographer': 819, 'gabriel': 1859, 'bringing': 586, 'score': 3822, 'filming': 1718, 'advantage': 129, 'impressive': 2253, 'related': 3594, 'built': 618, 'rocks': 3722, 'kurt': 2499, 'stayed': 4167, 'robert': 3713, 'slow': 4031, 'pace': 3161, 'finished': 1733, 'fly': 1763, 'remarkable': 3613, 'obnoxious': 3067, 'sings': 3997, 'horrendous': 2162, 'songs': 4072, 'air': 164, 'location': 2635, 'africa': 141, 'anna': 245, 'charlotte': 766, 'develops': 1226, 'strange': 4211, 'fever': 1699, 'causes': 725, 'creation': 1040, 'bleak': 503, 'house': 2178, 'lonely': 2643, 'lacking': 2504, 'detail': 1217, 'drawing': 1350, 'walk': 4775, 'draw': 1349, 'legs': 2566, 'frequently': 1832, 'figure': 1711, 'save': 3794, 'harder': 2035, 'wake': 4774, 'trap': 4563, 'sum': 4289, 'poetic': 3313, 'damn': 1100, 'exceptionally': 1559, 'acted': 98, 'particular': 3194, 'memories': 2803, 'rose': 3739, 'rich': 3685, 'moody': 2899, 'backdrop': 379, 'stays': 4169, 'qualities': 3483, 'leaves': 2556, 'imagination': 2236, 'symbolism': 4341, 'sink': 3999, 'teeth': 4393, 'enjoys': 1489, 'games': 1865, 'impressed': 2251, 'managed': 2723, 'tear': 4379, 'visuals': 4759, 'atmosphere': 333, 'appears': 278, 'surface': 4310, 'greater': 1965, 'debut': 1143, 'shes': 3930, 'central': 735, 'toward': 4539, 'overlook': 3153, 'wished': 4905, 'darker': 1116, 'proved': 3446, 'riveting': 3708, 'books': 536, 'ride': 3692, 'told': 4513, 'crap': 1031, 'howard': 2182, 'deep': 1154, 'episodes': 1508, 'four': 1812, 'jokes': 2415, 'ups': 4686, 'fail': 1625, 'amusing': 221, '12': 3, 'reminds': 3620, 'york': 4985, 'calls': 654, 'kitchen': 2485, 'stick': 4185, 'wall': 4781, 'effort': 1432, 'lacks': 2505, 'comedian': 887, 'needs': 2990, 'succeed': 4262, 'enterprise': 1495, 'bunch': 623, 'annoyed': 248, 'schools': 3814, 'below': 462, '50': 51, 'editing': 1421, 'torn': 4528, 'teachers': 4376, 'footage': 1782, 'freak': 1824, 'accident': 84, 'stock': 4193, 'destroyed': 1214, 'bits': 490, 'six': 4010, 'angles': 237, 'montage': 2894, 'dog': 1310, 'nicely': 3009, 'matched': 2763, 'content': 966, 'flaw': 1749, 'wasnt': 4807, 'fatal': 1664, 'mistake': 2871, 'situations': 4009, 'clever': 841, 'thats': 4425, 'cheating': 776, 'likable': 2598, 'holes': 2133, 'villain': 4744, 'peace': 3219, 'plus': 3311, 'cause': 723, 'animal': 239, 'farm': 1656, 'committed': 905, 'call': 651, 'bill': 481, 'sin': 3988, 'lets': 2580, 'unless': 4669, 'teacher': 4375, 'english': 1483, 'sea': 3838, 'science': 3816, '100': 1, 'everyday': 1541, 'torture': 4529, 'study': 4242, 'hall': 2009, 'block': 508, 'pathetic': 3210, 'cops': 993, 'joke': 2414, 'homage': 2141, 'underground': 4640, 'happened': 2027, 'quality': 3484, 'amongst': 218, 'bored': 541, 'otherwise': 3137, 'killings': 2473, 'zombie': 4997, 'satan': 3787, 'dick': 1239, 'twenty': 4612, 'learns': 2553, 'texas': 4418, 'value': 4709, 'beer': 439, 'signs': 3973, 'native': 2972, 'adapted': 114, 'talents': 4356, 'mickey': 2831, 'charlie': 765, 'band': 391, 'olivier': 3103, 'bergman': 466, 'urban': 4688, 'technically': 4382, 'generally': 1881, 'worthy': 4956, 'barry': 401, 'support': 4303, 'weak': 4824, 'orange': 3125, 'noticed': 3049, 'social': 4049, 'political': 3324, 'message': 2819, 'argue': 290, '1980': 20, 'kinds': 2478, 'held': 2074, 'iran': 2350, 'pushed': 3478, 'offered': 3088, 'americans': 214, 'tough': 4537, 'anti': 254, 'vehicle': 4718, 'cultural': 1078, 'several': 3905, 'literally': 2622, 'crew': 1053, '20': 29, 'travels': 4569, 'hundreds': 2196, 'millions': 2848, 'forbidden': 1785, 'robot': 3717, 'advanced': 128, 'totally': 4532, 'inept': 2281, 'haunted': 2050, 'demons': 1178, 'ancient': 225, 'civilization': 827, 'pulp': 3465, 'murder': 2939, 'compare': 911, 'stretch': 4221, 'insult': 2309, 'progress': 3425, 'necessary': 2984, 'appropriate': 283, 'safe': 3771, 'proceeds': 3411, 'trek': 4578, 'francis': 1818, 'described': 1195, 'uninspired': 4657, 'uneven': 4649, 'goofy': 1939, '1950s': 14, 'sci': 3815, 'fi': 1701, 'props': 3439, '1960s': 15, 'sub': 4252, 'anybody': 257, 'trite': 4589, 'paying': 3217, 'interest': 2323, 'fans': 1650, 'aspects': 322, 'inspired': 2301, 'aired': 165, 'relatively': 3600, 'mild': 2839, 'problem': 3408, 'walter': 4784, 'ms': 2931, 'crowd': 1067, 'ensemble': 1492, 'featured': 1679, 'fault': 1668, 'editor': 1423, 'state': 4160, 'literature': 2623, 'whilst': 4869, '1984': 23, 'available': 361, 'form': 1798, 'depressed': 1187, 'mans': 2730, 'reach': 3536, 'cinderella': 815, '2000': 30, 'beyond': 476, 'laid': 2508, 'question': 3487, 'gain': 1863, 'tape': 4365, 'copies': 992, 'redemption': 3578, 'appearing': 277, 'dvds': 1392, 'happens': 2029, 'happily': 2030, 'iron': 2354, 'incredible': 2269, 'maker': 2714, 'silent': 3975, 'digital': 1251, 'witness': 4914, 'kings': 2481, 'execution': 1566, 'striking': 4226, 'strangely': 4212, 'amateurish': 207, 'home': 2142, 'video': 4733, 'failing': 1627, 'sheer': 3925, 'frank': 1821, 'duke': 1383, 'regret': 3591, 'lucy': 2684, 'russell': 3761, 'virtually': 4751, 'speaking': 4095, 'caused': 724, 'embarrassed': 1453, 'laughter': 2535, 'hands': 2020, 'disappointing': 1274, 'reviews': 3679, 'site': 4005, 'horrid': 2165, 'sean': 3840, 'wooden': 4934, 'uninteresting': 4660, 'banned': 395, 'england': 1482, 'tom': 4514, 'fulci': 1845, 'continued': 970, 'basic': 406, 'elements': 1443, 'storm': 4206, 'crazy': 1035, 'brother': 598, 'wandering': 4785, 'estate': 1525, 'twist': 4617, 'laughed': 2532, 'devoted': 1231, 'violence': 4747, 'nudity': 3059, 'absolutely': 72, 'ex': 1549, 'rental': 3627, 'chance': 747, 'within': 4912, 'turning': 4608, 'id': 2212, 'until': 4680, 'winter': 4900, 'thrown': 4481, 'fire': 1734, 'meet': 2793, 'hamilton': 2012, 'rubbish': 3748, 'vhs': 4725, 'condition': 937, 'please': 3304, 'everywhere': 1545, 'thinks': 4454, 'mountain': 2917, 'reviewers': 3678, 'spot': 4131, 'beats': 426, 'genuine': 1891, 'yourself': 4993, 'spell': 4104, 'disbelief': 1277, 'sets': 3899, 'co': 867, 'wars': 4804, 'swear': 4334, 'kingdom': 2480, 'aware': 368, 'originally': 3131, 'suffering': 4277, 'weeks': 4839, 'laughable': 2530, 'citizen': 824, 'kane': 2442, 'trash': 4565, 'redeeming': 3577, 'moved': 2922, 'implausible': 2245, 'downright': 1337, 'absurd': 73, 'tense': 4403, 'par': 3184, 'robinson': 3716, 'closely': 855, 'idiotic': 2219, 'laughably': 2531, 'stupid': 4247, 'straight': 4210, 'release': 3602, '1999': 27, 'ignored': 2225, 'regular': 3592, 'surreal': 4317, 'journey': 2421, 'visit': 4755, 'direct': 1258, 'trademark': 4548, 'previous': 3387, 'efforts': 1433, 'blue': 518, 'notable': 3041, 'features': 1680, 'incredibly': 2270, 'significant': 3972, 'evidence': 1546, 'overly': 3155, 'review': 3676, 'focused': 1767, 'criticism': 1063, 'rated': 3527, 'claims': 830, 'fan': 1648, 'separate': 3883, 'thoughtful': 4463, 'wife': 4884, 'flashbacks': 1747, 'conversations': 981, 'conclusion': 936, 'arrives': 302, 'boat': 523, 'river': 3707, 'natural': 2973, 'landscapes': 2514, 'together': 4511, 'soundtrack': 4085, 'believable': 453, 'nomination': 3026, 'shame': 3918, 'regardless': 3590, 'finest': 1730, 'complex': 923, 'contrary': 974, 'belief': 451, 'regard': 3588, 'differences': 1247, 'remain': 3609, 'consistently': 954, 'audio': 354, 'correct': 1000, 'suit': 4284, 'dub': 1378, 'forgive': 1795, 'rarely': 3524, 'anime': 243, 'stronger': 4230, 'collection': 874, 'knowledge': 2491, 'personally': 3243, 'shown': 3959, 'allow': 189, 'notice': 3048, 'evident': 1547, 'wouldnt': 4958, 'animation': 242, 'uk': 4626, 'access': 83, 'carl': 692, 'balls': 390, 'push': 3477, 'cash': 709, 'faults': 1669, 'eighties': 1437, 'crisis': 1060, 'eve': 1532, 'popularity': 3334, 'nowadays': 3055, 'likely': 2601, 'market': 2740, 'shake': 3914, 'birthday': 487, 'amazed': 208, 'length': 2569, 'share': 3920, '90': 60, 'lose': 2654, 'prime': 3395, 'couldve': 1009, 'edited': 1420, 'mediocre': 2791, 'remaining': 3610, 'spend': 4105, 'enjoying': 1487, 'anderson': 227, 'blind': 506, 'research': 3644, 'staff': 4138, 'cake': 648, 'dear': 1140, 'slowly': 4032, 'tad': 4347, '24': 39, 'deaths': 1142, 'occur': 3076, 'seconds': 3848, 'sexual': 3908, 'losing': 2658, 'creepy': 1052, 'mouse': 2919, 'rat': 3525, 'virginia': 4750, 'trailer': 4554, 'murders': 2943, '13th': 5, 'months': 2897, 'secrets': 3852, 'trust': 4598, 'incoherent': 2265, 'motives': 2916, 'subtitles': 4259, 'victim': 4729, 'killers': 2471, 'unbelievably': 4635, 'outrageous': 3145, 'drinking': 1362, 'avoided': 364, 'horrible': 2163, 'illogical': 2231, 'unrealistic': 4677, 'react': 3540, 'circumstances': 822, '11': 2, 'oddly': 3081, 'definite': 1161, 'guilty': 1995, 'network': 3000, 'versions': 4721, 'killer': 2470, 'clips': 852, 'wound': 4960, 'credits': 1050, 'influence': 2286, 'futuristic': 1857, 'respect': 3652, 'witnessed': 4915, 'changes': 751, 'behave': 445, 'priest': 3392, 'polished': 3323, 'dealt': 1138, 'expectations': 1576, 'amount': 219, 'surprised': 4313, 'minimal': 2855, 'cry': 1073, 'recently': 3567, 'continuity': 972, 'smart': 4035, 'fooled': 1780, 'fitting': 1742, 'sunday': 4293, 'sing': 3992, 'defined': 1160, 'roll': 3728, 'provide': 3448, 'wilson': 4891, 'alan': 171, 'struggle': 4234, 'battle': 414, 'voice': 4761, 'shallow': 3917, 'blank': 501, 'moronic': 2907, 'criminal': 1057, 'purchase': 3469, 'dollars': 1315, 'bumbling': 622, 'idiots': 2220, 'reminiscent': 3621, 'stooges': 4200, 'blake': 498, 'stranger': 4213, 'situation': 4008, 'bank': 394, 'walks': 4780, 'capable': 672, 'driving': 1368, 'jumped': 2430, 'row': 3744, 'cars': 702, 'heroine': 2091, 'fbi': 1675, 'agent': 150, 'promises': 3432, '17': 9, 'sloppy': 4030, 'pick': 3265, 'realize': 3552, 'random': 3514, 'failed': 1626, 'sorts': 4078, 'intriguing': 2335, 'sends': 3876, 'scream': 3826, 'fall': 1637, 'treat': 4572, 'water': 4816, 'behind': 447, 'driver': 1366, '3rd': 47, 'blatant': 502, 'advertising': 132, 'internet': 2327, 'slap': 4018, 'sick': 3963, 'image': 2233, 'express': 1600, 'alex': 179, 'frustration': 1843, 'jealous': 2388, 'realized': 3553, 'theatre': 4429, 'complicated': 925, 'impression': 2252, 'door': 1328, 'neighborhood': 2993, 'reasons': 3560, 'firstly': 1737, 'sounds': 4084, 'building': 615, 'living': 2629, 'connect': 944, 'secondly': 3847, 'waiting': 4772, 'ear': 1397, 'suffer': 4275, 'pain': 3170, 'appreciate': 279, 'soccer': 4048, 'loves': 2674, 'passionate': 3206, 'sit': 4003, 'front': 1841, 'write': 4967, 'theyll': 4444, 'singing': 3995, 'sentence': 3881, '1990s': 25, 'grave': 1962, 'explore': 1594, 'revolution': 3680, 'confusion': 943, 'sweet': 4336, 'slightly': 4029, 'sometimes': 4067, 'contemporary': 965, '90s': 61, 'neighbors': 2994, 'spin': 4112, 'mildred': 2841, 'creators': 1044, 'scripted': 3835, 'luckily': 2682, 'choices': 798, 'screenplay': 3831, 'cares': 690, 'linda': 2609, 'blair': 497, 'portrays': 3344, 'possessed': 3347, 'depicts': 1186, 'photographer': 3259, 'bloody': 513, 'shut': 3961, 'lips': 2615, 'vicious': 4728, 'tune': 4602, 'vacation': 4704, 'resort': 3650, 'investigate': 2342, 'pregnant': 3369, 'bother': 548, 'opening': 3114, 'hotel': 2175, 'forced': 1787, 'suddenly': 4273, 'aging': 153, 'somehow': 4063, 'jump': 2429, 'window': 4894, 'anyway': 261, 'minor': 2857, 'importance': 2246, 'franchise': 1817, 'occasionally': 3075, 'unsettling': 4679, 'undoubtedly': 4648, 'superior': 4300, 'element': 1442, 'staring': 4152, 'hanging': 2023, 'listed': 2618, 'reads': 3545, 'cuba': 1075, 'jr': 2423, 'car': 680, 'chase': 769, 'em': 1452, 'blow': 514, 'exists': 1573, 'motivations': 2915, 'andy': 230, 'foul': 1810, 'project': 3427, 'fiction': 1702, 'godfather': 1927, 'fits': 1741, 'finish': 1732, 'episode': 1507, 'format': 1799, 'dinner': 1254, 'break': 569, 'argument': 291, 'splendid': 4119, 'reading': 3544, 'contain': 962, 'nude': 3058, 'dire': 1257, 'countryside': 1015, 'explanation': 1590, 'anywhere': 263, 'anthony': 253, 'disjointed': 1287, 'pull': 3461, 'talent': 4354, 'directors': 1266, 'falls': 1640, 'category': 718, 'talented': 4355, 'journalist': 2420, 'critic': 1061, 'relation': 3595, 'taxi': 4371, 'singer': 3993, 'flaws': 1752, 'wind': 4893, 'blows': 517, 'ice': 2210, 'putting': 3482, 'delivers': 1172, 'experiment': 1583, 'missed': 2867, 'gift': 1906, 'le': 2544, 'yesterday': 4983, 'sun': 4292, 'cheated': 775, 'deeply': 1156, 'strength': 4219, 'introduction': 2339, 'realism': 3549, 'viewed': 4737, 'apparent': 269, 'transition': 4561, 'carefully': 689, 'exploration': 1593, 'eager': 1396, 'pleasure': 3306, 'initially': 2291, 'control': 977, 'obsessed': 3069, 'graphic': 1958, 'clear': 839, 'frequent': 1831, 'normal': 3033, 'exciting': 1563, 'alas': 172, 'ignore': 2224, 'closed': 854, 'changing': 752, 'moving': 2928, 'leads': 2548, 'issue': 2364, 'resolution': 3649, 'focusing': 1769, 'strongly': 4231, 'un': 4630, 'worked': 4941, 'remote': 3622, 'emotions': 1461, 'beings': 449, 'technical': 4381, 'missing': 2869, 'desire': 1205, 'threw': 4470, 'understood': 4647, 'larry': 2520, 'clark': 832, 'further': 1853, 'develop': 1222, 'smaller': 4034, 'rushed': 3760, 'capture': 676, 'miserably': 2864, 'compelling': 916, 'taylor': 4372, '14': 6, 'edge': 1418, 'wild': 4885, 'eyed': 1612, 'stunning': 4244, 'dislike': 1288, 'behavior': 446, 'stewart': 4184, 'hunt': 2198, 'failure': 1629, 'indians': 2275, 'captures': 678, 'sees': 3866, 'fed': 1682, 'lloyd': 2630, 'wise': 4903, 'quest': 3486, 'snow': 4045, 'shocking': 3940, 'cup': 1080, 'tea': 4373, 'claire': 831, 'danes': 1108, 'shines': 3932, 'michelle': 2830, 'witch': 4909, 'capturing': 679, 'youth': 4994, 'beauty': 430, 'niro': 3019, 'alike': 185, 'pulled': 3462, 'stops': 4203, 'adaptation': 113, 'chan': 746, 'cutting': 1092, 'number': 3060, 'aint': 163, 'featuring': 1681, 'topless': 4527, 'chorus': 803, 'considering': 952, 'wing': 4896, 'bland': 500, 'competent': 917, 'reaches': 3538, 'stereotypical': 4180, 'detective': 1220, '70': 55, 'curiosity': 1082, 'numbers': 3061, 'studio': 4240, 'faced': 1617, 'search': 3841, 'buffs': 612, '50s': 52, 'draws': 1352, 'theaters': 4428, 'crappy': 1032, 'stood': 4199, 'eerie': 1427, 'weird': 4841, 'hardly': 2036, 'material': 2766, 'captain': 674, 'mad': 2696, 'scientist': 3818, 'babe': 375, 'computer': 927, 'besides': 468, 'awe': 370, 'imagery': 2234, 'machine': 2693, 'successfully': 4267, 'vaguely': 4706, 'scary': 3807, 'worried': 4949, 'invisible': 2344, 'brief': 579, 'touches': 4535, 'laurel': 2537, 'hardy': 2037, 'producers': 3416, 'offended': 3085, 'daughter': 1121, 'parent': 3187, 'comedies': 889, 'starting': 4158, 'opposed': 3122, 'depressing': 1188, 'critics': 1064, 'loads': 2633, 'neither': 2996, 'awkward': 374, 'overacting': 3149, 'ridiculously': 3694, 'coach': 868, 'namely': 2962, 'presented': 3376, 'everybody': 1540, 'surprises': 4314, 'maria': 2736, '2005': 35, 'husband': 2204, 'painfully': 3172, 'stuck': 4237, 'suffers': 4278, 'unwatchable': 4682, 'normally': 3034, 'wasting': 4810, 'energy': 1478, 'beating': 425, 'warning': 4800, 'womans': 4922, 'tribute': 4581, 'perspective': 3245, 'sadness': 3770, 'cure': 1081, 'hugh': 2186, 'theater': 4427, 'hours': 2177, 'depiction': 1185, 'soldiers': 4054, 'brought': 600, 'shocked': 3939, 'sensitive': 3879, 'achieve': 92, 'emotionally': 1460, 'sheriff': 3929, 'shortly': 3947, 'compared': 912, 'standards': 4145, 'quiet': 3492, 'sky': 4017, 'transfer': 4559, 'screens': 3832, 'sports': 4130, 'battles': 415, 'suggest': 4280, 'brown': 601, 'weakest': 4825, 'lifetime': 2594, 'presence': 3373, 'ray': 3533, 'johnson': 2411, 'simon': 3982, 'ward': 4793, 'skills': 4014, 'drags': 1345, 'alive': 186, 'mission': 2870, 'die': 1243, 'receive': 3563, 'bare': 398, 'guns': 1998, 'silence': 3974, 'lights': 2597, 'standing': 4146, 'dragged': 1343, 'judge': 2424, 'adding': 117, 'outer': 3143, 'slaughter': 4021, 'fields': 1705, 'strictly': 4223, 'tiny': 4500, 'tony': 4521, 'inspiring': 2302, 'birds': 485, 'paulie': 3215, 'speech': 4102, 'unlike': 4670, 'bird': 484, 'sent': 3880, 'shop': 3945, 'artist': 307, 'traveling': 4568, 'owner': 3159, 'twists': 4619, 'hidden': 2096, 'curse': 1086, 'mixture': 2878, 'base': 402, 'pure': 3471, 'breathtaking': 574, 'entirely': 1503, 'thumbs': 4485, 'empty': 1465, 'prostitute': 3440, 'helps': 2082, 'dialogues': 1235, 'saves': 3796, 'nevertheless': 3002, 'lots': 2662, 'disturbing': 1300, 'surrounding': 4319, 'bridge': 578, 'earlier': 1399, 'sinister': 3998, 'tension': 4404, 'ned': 2986, 'beatty': 427, 'voight': 4764, 'burt': 629, 'reynolds': 3684, 'territory': 4411, 'carter': 703, 'handful': 2017, 'depression': 1189, 'comparison': 914, 'adequate': 120, 'shed': 3924, 'skill': 4013, 'lesser': 2576, 'tight': 4492, 'gorgeous': 1942, 'cd': 728, 'mood': 2898, 'complaint': 920, 'dropping': 1371, 'hints': 2113, 'player': 3298, 'london': 2641, 'rescue': 3643, 'funniest': 1851, 'jet': 2400, 'pack': 3165, 'rocket': 3721, 'faces': 1618, 'enemies': 1476, 'levels': 2585, 'mini': 2854, 'bonus': 534, 'multi': 2935, 'challenging': 744, 'load': 2631, 'improved': 2255, 'graphics': 1959, 'extremely': 1610, 'improvement': 2256, 'public': 3460, 'sequel': 3885, 'pseudo': 3454, 'documentary': 1307, 'legend': 2564, 'dawn': 1127, 'hoping': 2160, 'admit': 122, 'accurate': 90, 'fetched': 1698, 'timing': 4498, 'holding': 2130, 'whoever': 4872, 'fully': 1847, 'developing': 1224, 'satire': 3788, 'seek': 3858, 'unfortunate': 4653, 'household': 2179, '15': 7, 'exploitation': 1592, 'growing': 1983, 'illness': 2230, 'substance': 4258, 'abuse': 74, 'occurred': 3077, 'received': 3564, 'recent': 3566, 'mental': 2808, 'recorded': 3574, 'recognize': 3569, 'believed': 455, 'magazine': 2701, '2006': 36, 'weve': 4856, 'worthwhile': 4955, 'author': 359, 'discovery': 1282, 'roots': 3738, 'southern': 4088, 'forgotten': 1797, 'bright': 581, 'discovers': 1281, 'suitable': 4285, 'screening': 3830, 'commercial': 902, 'picked': 3266, 'studios': 4241, 'irrelevant': 2358, 'costs': 1004, 'upset': 4687, 'hitting': 2126, 'allows': 192, 'twisted': 4618, 'individual': 2277, 'appeared': 276, 'steve': 4181, 'extended': 1604, 'nuclear': 3057, 'business': 633, 'conflict': 939, 'fathers': 1667, 'affair': 135, 'wide': 4880, 'guard': 1988, 'mail': 2706, 'visits': 4756, 'dad': 1095, 'spoiler': 4123, 'youd': 4987, 'hollywood': 2137, 'dance': 1103, 'lessons': 2578, '75': 57, 'showed': 3956, 'sequences': 3888, 'chemistry': 782, 'loving': 2675, 'married': 2744, 'shy': 3962, 'theory': 4437, 'existed': 1570, 'wrap': 4963, 'barbara': 397, '1930s': 11, 'promise': 3430, 'grew': 1972, 'involve': 2345, 'twilight': 4614, 'zone': 4999, 'trade': 4547, 'versus': 4722, 'exact': 1550, 'mirror': 2861, 'considered': 951, 'butler': 637, 'showcase': 3954, 'pops': 3332, 'mark': 2739, 'began': 441, 'combined': 885, 'program': 3424, 'manage': 2722, 'entertain': 1497, 'scott': 3824, '1st': 28, 'league': 2549, 'baseball': 403, 'team': 4378, 'manager': 2724, 'bat': 410, 'possibly': 3351, 'legendary': 2565, 'gods': 1928, 'university': 4667, 'awfully': 373, 'dialogs': 1233, 'successful': 4266, 'classics': 837, 'neil': 2995, 'shoes': 3941, 'performs': 3234, 'experiments': 1584, 'ordinary': 3128, 'rats': 3531, 'tradition': 4549, 'jaws': 2385, 'dean': 1139, 'refuses': 3587, 'sport': 4129, 'terribly': 4408, 'therefore': 4439, 'atrocious': 335, 'atmospheric': 334, 'junk': 2436, 'terror': 4412, 'lame': 2510, 'remake': 3612, 'glover': 1923, 'nuts': 3064, 'irritating': 2359, 'knows': 2493, 'cube': 1076, 'importantly': 2248, 'thrills': 4475, 'monsters': 2893, 'achieved': 93, 'equipment': 1511, 'yeah': 4977, 'embarrassment': 1455, 'ended': 1470, 'plausible': 3295, 'somewhere': 4069, 'loses': 2657, 'excitement': 1562, 'brings': 587, 'dreadful': 1353, 'kate': 2446, 'sitting': 4007, 'numerous': 3062, 'facial': 1619, 'expressions': 1603, 'marty': 2749, 'jerk': 2395, '2nd': 41, 'rip': 3700, 'bold': 528, 'statement': 4162, 'deal': 1135, 'urge': 4689, 'nelson': 2997, 'educational': 1425, 'pro': 3406, 'notes': 3046, 'holds': 2131, 'web': 4833, 'cute': 1090, 'performed': 3230, 'glory': 1922, 'outstanding': 3147, 'assigned': 325, 'happiness': 2031, 'seeks': 3860, 'tragedy': 4551, 'convince': 983, 'deals': 1137, 'builds': 617, 'endearing': 1469, 'hideous': 2098, 'portray': 3340, 'disgusting': 1286, 'manner': 2729, 'nasty': 2968, 'burning': 627, 'heres': 2087, 'answer': 251, 'worthless': 4954, 'garbage': 1870, 'wed': 4835, 'landing': 2512, 'belongs': 460, 'pity': 3281, 'describes': 1196, 'selling': 3873, 'philosophical': 3253, 'spiritual': 4116, 'mysterious': 2955, 'village': 4743, 'fare': 1655, 'dan': 1102, 'slight': 4027, 'library': 2589, 'west': 4852, 'entertainment': 1500, 'month': 2896, 'daring': 1114, 'loose': 2650, 'opportunity': 3121, 'practice': 3363, 'st': 4137, 'washington': 4806, 'civil': 826, 'rebel': 3561, 'catches': 715, 'halloween': 2010, 'contract': 973, 'miracle': 2860, 'worker': 4942, 'robots': 3718, 'grim': 1974, 'blockbuster': 509, 'funeral': 1849, 'trapped': 4564, 'unable': 4631, 'wont': 4932, 'fascinated': 1657, 'distribution': 1298, 'someones': 4065, 'phone': 3255, 'screaming': 3827, 'scenario': 3808, 'distance': 1294, 'angle': 236, 'reunion': 3669, 'green': 1971, 'eddie': 1416, 'albert': 174, 'repeat': 3630, 'cases': 708, 'knowing': 2490, 'brady': 561, 'raised': 3508, 'bar': 396, 'adam': 111, 'demented': 1176, 'jerry': 2396, 'alfred': 181, 'opens': 3115, 'shakespeare': 3915, 'fighter': 1708, 'duty': 1390, 'assistant': 326, 'pursuit': 3476, 'broken': 594, 'wacky': 4769, 'spoke': 4125, 'bus': 631, 'clues': 865, 'flashback': 1746, 'julie': 2428, 'bottle': 550, 'eat': 1411, 'bothered': 549, 'waitress': 4773, 'rex': 3683, 'steps': 4177, 'allen': 188, 'maggie': 2702, 'reporter': 3636, 'broadcast': 591, 'winds': 4895, 'calling': 653, 'cop': 991, 'gentle': 1890, 'touch': 4533, 'occurs': 3078, 'irony': 2357, 'louis': 2665, 'pearl': 3220, 'useless': 4695, 'proud': 3444, 'ignorant': 2223, 'rape': 3521, 'practically': 3362, 'warrior': 4802, 'woods': 4935, 'feet': 1688, 'lewis': 2586, 'guide': 1993, '1972': 18, 'speaks': 4096, 'feels': 1687, 'pacing': 3163, 'danger': 1109, 'encounter': 1466, 'amounts': 220, 'convey': 982, 'blade': 495, 'store': 4204, 'suggested': 4281, 'dinosaur': 1255, 'army': 295, 'britain': 588, 'remains': 3611, 'subtlety': 4261, 'cliff': 847, 'simpson': 3987, 'endless': 1473, 'ron': 3734, 'thick': 4447, 'seemingly': 3863, '1973': 19, 'beaten': 424, 'club': 863, 'partly': 3197, 'rising': 3703, 'gold': 1932, 'essential': 1522, 'lazy': 2543, 'allowed': 190, 'forest': 1791, 'daniel': 1111, 'molly': 2884, 'petty': 3249, 'andrew': 228, 'hood': 2151, 'nowhere': 3056, 'finding': 1727, 'liking': 2604, 'joseph': 2419, 'slasher': 4020, 'massacre': 2754, 'fallen': 1638, 'angels': 234, 'explained': 1587, 'reasonable': 3558, 'stylish': 4251, 'throat': 4476, 'catching': 716, 'embarrassing': 1454, 'cia': 814, 'terrorist': 4413, 'contact': 961, 'court': 1020, 'jail': 2376, 'arrested': 298, 'logical': 2639, 'security': 3854, 'police': 3322, 'bullet': 620, 'crash': 1033, 'inspector': 2299, 'airport': 167, 'surrounded': 4318, 'armed': 293, 'includes': 2263, 'emily': 1456, 'thriller': 4472, 'charles': 764, 'lena': 2568, 'addition': 118, 'adult': 125, 'treats': 4575, 'thomas': 4458, 'cats': 721, 'chaos': 755, '2001': 31, 'flat': 1748, 'doubts': 1333, 'initial': 2290, 'hooked': 2153, 'picking': 3267, 'jaw': 2384, 'floor': 1759, 'wrapped': 4964, 'noir': 3023, 'motion': 2913, 'wishing': 4907, 'helped': 2080, 'dubbing': 1380, 'respected': 3653, 'hong': 2149, 'racist': 3503, 'stereotypes': 4179, 'terms': 4406, 'courage': 1018, 'feelings': 1686, 'unexpected': 4650, 'colorful': 878, 'creative': 1041, 'useful': 4694, 'prince': 3396, 'semi': 3874, 'stellar': 4174, 'desired': 1206, 'morris': 2908, 'williams': 4888, 'pitch': 3279, 'concert': 935, '2004': 34, 'expert': 1585, 'disc': 1278, 'producer': 3415, 'moon': 2900, 'purple': 3473, 'rain': 3506, 'page': 3167, 'impact': 2244, 'mtv': 2933, 'suck': 4269, 'videos': 4734, 'jungle': 2434, 'excited': 1561, 'animals': 240, 'returning': 3667, 'rachel': 3500, 'alert': 178, 'named': 2961, 'warren': 4801, 'report': 3635, 'fortune': 1806, 'devil': 1228, 'clown': 862, 'pile': 3275, 'guilt': 1994, 'wreck': 4965, 'marriage': 2743, 'authority': 360, 'turner': 4607, 'feed': 1683, 'aka': 168, 'china': 795, 'dogs': 1311, 'sexually': 3910, 'porno': 3337, 'boyfriend': 558, 'supernatural': 4302, 'flicks': 1755, 'focuses': 1768, 'murderer': 2941, 'mere': 2814, 'magical': 2704, 'generations': 1884, 'magnificent': 2705, 'carry': 700, 'latin': 2527, 'directorial': 1265, 'uncomfortable': 4637, 'skin': 4015, 'streep': 4215, 'jeremy': 2394, 'glenn': 1918, 'stiff': 4187, 'lovely': 2671, 'spirits': 4115, 'faithful': 1634, 'vague': 4705, 'represented': 3638, 'hysterical': 2208, 'narration': 2965, 'unconvincing': 4638, 'decision': 1151, 'wouldve': 4959, 'conspiracy': 956, 'suffice': 4279, 'sneak': 4043, 'tie': 4488, 'standard': 4144, 'system': 4345, 'mountains': 2918, 'canada': 666, 'accents': 79, 'gotten': 1947, '40s': 49, 'struggles': 4235, 'tim': 4494, 'robbins': 3712, 'forgot': 1796, 'carrie': 697, 'billy': 482, 'chaplin': 756, 'brutally': 604, 'dust': 1388, 'dressed': 1358, 'afterwards': 145, 'pointless': 3318, 'vengeance': 4719, 'unoriginal': 4673, 'australian': 357, 'purely': 3472, 'delight': 1167, 'forgettable': 1794, 'lasted': 2522, 'helping': 2081, 'structure': 4233, 'screams': 3828, 'send': 3875, 'bite': 489, 'jessica': 2398, 'appearance': 274, 'formula': 1802, 'madness': 2698, 'onto': 3111, 'culture': 1079, 'approach': 282, 'stated': 4161, 'isolated': 2363, 'neat': 2982, 'attitude': 346, 'lacked': 2503, 'matches': 2764, 'lousy': 2667, 'porn': 3336, 'serial': 3889, 'admire': 121, 'indie': 2276, 'hatred': 2049, 'wanting': 4790, 'revenge': 3675, 'utter': 4701, 'stupidity': 4248, 'shock': 3938, 'wore': 4939, 'developed': 1223, 'lesbian': 2573, 'ah': 158, 'evening': 1534, 'dutch': 1389, 'nazi': 2977, 'enemy': 1477, 'escaped': 1518, 'portraying': 3343, 'intelligent': 2314, 'memory': 2804, 'prisoner': 3402, 'batman': 413, 'professor': 3422, 'humanity': 2189, 'glass': 1917, 'letter': 2581, 'intentions': 2321, 'locations': 2636, 'epic': 1506, 'damage': 1099, '40': 48, 'dollar': 1314, 'thin': 4449, 'cover': 1022, 'placed': 3283, 'shelf': 3926, 'highlight': 2103, 'reaction': 3541, 'surviving': 4323, 'lake': 2509, 'godzilla': 1929, 'females': 1694, 'surfing': 4311, 'shark': 3921, 'waters': 4817, 'crocodile': 1065, 'eaten': 1412, 'superb': 4296, 'skip': 4016, 'planned': 3290, '16': 8, 'afternoon': 144, 'channel': 753, 'fancy': 1649, 'vote': 4766, 'incident': 2260, 'helicopter': 2076, 'orders': 3127, 'camp': 662, 'escapes': 1519, 'eg': 1434, 'innovative': 2295, 'pool': 3327, 'falk': 1636, 'elizabeth': 1445, 'portrait': 3339, 'craig': 1030, 'land': 2511, 'tree': 4576, 'hill': 2108, 'general': 1880, 'dramatic': 1348, 'morgan': 2905, 'freeman': 1829, 'starred': 4153, 'interview': 2329, 'introduces': 2338, 'target': 4366, 'acceptable': 81, 'rotten': 3740, 'corpse': 999, 'guessing': 1991, 'workers': 4943, 'trees': 4577, 'contrast': 975, 'cold': 872, 'miserable': 2863, 'homosexual': 2145, 'gay': 1876, 'mindless': 2851, 'latter': 2528, 'ramones': 3512, 'summer': 4291, 'waited': 4771, 'mentioning': 2812, 'edition': 1422, 'ii': 2226, 'describe': 1194, 'pleased': 3305, 'superhero': 4299, 'weapon': 4828, 'pan': 3180, 'joe': 2407, 'et': 1526, 'friendly': 1836, 'ties': 4490, 'poetry': 3314, 'mentions': 2813, 'doc': 1303, 'felix': 1689, 'lemmon': 2567, 'suicide': 4283, 'matthau': 2771, 'heaven': 2068, 'smoking': 4040, 'chicks': 787, 'match': 2762, 'tender': 4401, 'upper': 4685, 'quote': 3496, 'fu': 1844, 'smooth': 4041, 'crimes': 1056, 'villains': 4745, 'ugly': 4625, 'harris': 2038, 'dream': 1354, 'position': 3345, 'limits': 2607, 'delightful': 1168, 'recognition': 3568, 'quirky': 3493, 'competition': 918, 'segment': 3867, 'relate': 3593, 'cooper': 990, 'khan': 2459, 'ethan': 1528, 'expecting': 1578, 'segments': 3868, 'meaningless': 2782, 'appalling': 268, 'brooklyn': 595, 'wedding': 4836, 'consistent': 953, 'saved': 3795, 'experiences': 1582, 'table': 4346, 'crack': 1027, 'zombies': 4998, 'nation': 2969, 'zero': 4996, 'nonetheless': 3029, 'noted': 3045, 'jane': 2380, 'outfit': 3144, 'plenty': 3307, 'overdone': 3152, 'intense': 2316, 'offers': 3090, 'pair': 3176, 'bottom': 551, 'intended': 2315, 'christian': 808, 'couples': 1017, 'cardboard': 682, 'victor': 4731, 'christians': 809, 'kicked': 2461, 'destroy': 1213, 'brando': 566, 'inane': 2258, 'inducing': 2279, 'complain': 919, 'brothers': 599, 'confusing': 942, 'sounding': 4083, 'amateur': 206, 'ability': 65, 'lugosi': 2686, 'karloff': 2445, 'circle': 821, 'douglas': 1334, 'castle': 712, 'stone': 4197, 'hunting': 2201, 'soft': 4051, 'revolves': 3682, 'generic': 1885, 'ho': 2127, 'pictures': 3270, 'african': 142, 'captured': 677, 'officer': 3092, 'incompetent': 2266, 'walker': 4778, 'william': 4887, 'conventional': 979, 'views': 4742, 'agrees': 157, 'border': 539, 'driven': 1365, 'discover': 1279, 'raped': 3522, 'wealthy': 4827, 'corrupt': 1001, 'working': 4944, 'sold': 4052, 'ruins': 3752, 'marks': 2742, 'transformation': 4560, 'caring': 691, 'scrooge': 3837, 'carol': 693, 'abusive': 75, 'deceased': 1146, 'cox': 1026, 'city': 825, 'superficial': 4298, 'judging': 2425, 'professional': 3421, 'catherine': 719, 'sympathy': 4343, 'naturally': 2974, 'drink': 1361, 'notion': 3050, 'portion': 3338, 'bbc': 417, 'raw': 3532, 'fish': 1738, 'asking': 318, 'ourselves': 3140, 'gag': 1861, 'downhill': 1336, 'unlikely': 4671, 'popcorn': 3331, 'mexican': 2826, 'lord': 2652, 'fell': 1690, 'convincingly': 986, 'meeting': 2794, 'dig': 1250, 'che': 773, 'preview': 3386, 'dubbed': 1379, 'branagh': 564, 'yelling': 4980, 'heston': 2094, 'vast': 4716, 'sword': 4340, 'fights': 1710, 'mighty': 2836, 'dress': 1357, 'thousand': 4465, 'henry': 2084, 'born': 544, 'friendship': 1838, 'bigger': 479, 'usa': 4691, 'blend': 504, 'board': 522, 'intrigued': 2334, 'angel': 231, 'paced': 3162, 'marie': 2737, 'deeper': 1155, 'jewish': 2401, 'liberal': 2588, 'daily': 1097, 'personalities': 3241, 'persons': 3244, 'dreams': 1355, 'jimmy': 2403, 'daddy': 1096, 'holmes': 2139, 'current': 1084, 'ruthless': 3764, 'greedy': 1969, 'denzel': 1181, 'walken': 4777, 'authentic': 358, 'familiar': 1643, 'montana': 2895, 'jobs': 2406, 'steven': 4182, 'elvira': 1450, 'threat': 4467, 'luck': 2681, 'abraham': 69, 'oliver': 3102, 'brian': 576, 'restaurant': 3658, 'kick': 2460, 'endings': 1472, 'pacino': 3164, 'grandmother': 1955, 'watches': 4814, 'parody': 3192, 'combination': 883, 'sally': 3776, 'kevin': 2457, 'hadnt': 2004, 'admittedly': 123, 'tall': 4362, 'luke': 2687, 'modesty': 2883, 'strip': 4228, 'quick': 3490, 'dirty': 1268, 'solution': 4059, 'profound': 3423, 'festival': 1697, 'jason': 2383, 'wishes': 4906, 'harsh': 2040, 'cliché': 844, 'pride': 3391, 'private': 3404, 'sight': 3969, 'wounded': 4961, 'troops': 4591, 'parker': 3191, 'union': 4661, 'card': 681, 'exception': 1557, 'responsibility': 3655, 'shouldnt': 3952, 'angry': 238, 'desperately': 1209, 'scientists': 3819, 'unseen': 4678, 'pretentious': 3383, 'pot': 3354, 'plane': 3288, 'clumsy': 866, 'theyve': 4446, 'scientific': 3817, 'ridden': 3691, 'contrived': 976, 'rob': 3710, 'displayed': 1292, 'law': 2538, 'clue': 864, 'steals': 4172, 'justify': 2439, 'lane': 2515, 'rented': 3628, 'los': 2653, 'con': 928, 'executive': 1567, 'tragic': 4552, 'clichéd': 845, 'plague': 3285, 'craft': 1028, 'shower': 3957, 'prove': 3445, 'afraid': 140, 'rough': 3741, 'key': 2458, 'drunk': 1375, 'former': 1800, 'answers': 252, 'hired': 2117, 'mexico': 2827, 'attached': 336, 'responsible': 3656, 'user': 4696, 'emma': 1457, 'minded': 2850, '1933': 12, 'buildings': 616, 'cities': 823, 'berlin': 467, 'designed': 1203, 'intention': 2319, 'americas': 215, 'movement': 2923, 'wondered': 4927, 'brains': 563, 'promised': 3431, 'examples': 1554, 'suspenseful': 4331, 'triumph': 4590, 'kirk': 2482, 'appealing': 272, 'samurai': 3779, 'double': 1331, 'topic': 4526, 'funnier': 1850, 'notably': 3042, 'ironically': 2356, 'definition': 1163, 'gripping': 1976, 'fictional': 1703, 'combine': 884, 'depicting': 1184, 'recording': 3575, 'chicago': 785, 'projects': 3428, 'inner': 2292, 'rural': 3758, 'treasure': 4571, 'agreed': 156, 'antics': 255, 'despair': 1207, 'drugs': 1374, 'bone': 533, 'mom': 2885, 'lawyer': 2541, 'community': 908, 'realizes': 3554, 'arrive': 300, 'aimed': 162, 'swim': 4337, 'shine': 3931, 'nine': 3017, 'method': 2824, 'machines': 2694, 'revolutionary': 3681, 'enthusiasm': 1501, 'opened': 3113, 'abilities': 64, 'ball': 388, 'messed': 2821, 'fonda': 1777, 'planning': 3291, 'hip': 2114, 'saturday': 3792, 'caine': 647, 'hearted': 2065, 'pretending': 3382, 'suggests': 4282, 'parties': 3196, 'hippie': 2115, 'company': 910, 'lab': 2501, 'nights': 3016, 'puts': 3481, 'classes': 834, 'junior': 2435, 'medical': 2790, 'cousin': 1021, 'mob': 2879, 'aids': 161, 'brenda': 575, 'nearby': 2980, 'neo': 2998, 'desert': 1198, 'caliber': 649, 'matthew': 2772, 'perry': 3237, 'jennifer': 2392, 'button': 639, 'adorable': 124, 'disagree': 1269, 'elegant': 1441, 'rolled': 3729, 'range': 3516, 'suspend': 4329, 'sacrifice': 3766, 'rick': 3689, 'baker': 385, 'earned': 1401, 'kung': 2498, 'burton': 630, 'hits': 2125, 'hence': 2083, 'destiny': 1212, 'li': 2587, 'commit': 904, 'superbly': 4297, 'east': 1407, 'eccentric': 1414, 'aunt': 355, 'kennedy': 2454, 'edie': 1419, 'performing': 3233, 'dances': 1106, 'fame': 1642, 'factor': 1622, 'hoped': 2156, 'broad': 590, 'subplots': 4256, 'tame': 4363, 'mafia': 2700, 'moral': 2902, 'politics': 3326, 'altogether': 202, 'matt': 2768, 'lifestyle': 2593, 'join': 2412, 'susan': 4326, 'wives': 4918, 'souls': 4080, 'brazil': 568, 'honesty': 2148, 'guessed': 1990, 'pie': 3271, 'cook': 988, 'apes': 267, 'secretly': 3851, 'prize': 3405, 'attraction': 350, 'hiding': 2099, 'dangerous': 1110, 'photos': 3261, 'mainly': 2708, 'advance': 127, 'stinks': 4192, 'north': 3036, 'anymore': 258, 'subplot': 4255, 'whale': 4857, 'tour': 4538, 'elephant': 1444, 'species': 4098, 'global': 1920, 'warming': 4795, 'resist': 3648, 'politically': 3325, 'fat': 1663, 'insane': 2296, 'brand': 565, 'consists': 955, 'borrowed': 545, 'changed': 750, 'canadian': 667, 'cruel': 1070, 'ryan': 3765, 'sarah': 3785, 'cried': 1054, 'offensive': 3086, '18': 10, 'unfunny': 4655, 'devoid': 1230, 'italy': 2368, 'enter': 1494, 'cheese': 780, 'financial': 1725, 'hint': 2112, 'busy': 635, 'hudson': 2184, 'farce': 1654, 'spanish': 4092, 'narrator': 2967, 'horribly': 2164, 'bugs': 613, 'wearing': 4831, 'associated': 327, 'tricks': 4583, 'climactic': 848, 'cartoons': 705, 'parallel': 3185, 'performers': 3232, 'snl': 4044, 'doctors': 1305, 'fix': 1744, 'nightmares': 3015, 'promising': 3433, 'inventive': 2341, 'splatter': 4118, 'scares': 3806, 'visually': 4758, 'provided': 3449, 'threatening': 4468, 'movements': 2924, 'warn': 4797, 'nonsense': 3030, 'learning': 2552, 'vietnam': 4735, 'gender': 1878, 'spring': 4134, 'displays': 1293, 'bet': 470, 'justice': 2438, 'searching': 3842, 'san': 3780, 'lyrics': 2692, 'ruined': 3751, 'stevens': 4183, 'truck': 4595, 'hearing': 2063, 'kudos': 2497, 'opposite': 3123, 'burns': 628, 'welcome': 4842, 'carpenter': 694, 'talks': 4361, 'ghost': 1902, 'june': 2433, 'ultimate': 4627, 'joy': 2422, 'ages': 152, 'powell': 3358, 'box': 555, 'claimed': 829, 'composed': 926, 'technique': 4383, 'progresses': 3426, 'press': 3379, 'campy': 664, 'reactions': 3542, 'inevitably': 2283, 'chased': 770, 'wanna': 4786, 'uwe': 4703, 'boll': 529, 'shoots': 3944, 'rap': 3520, 'hop': 2154, 'tap': 4364, 'priceless': 3390, 'serve': 3893, 'exceptional': 1558, 'harvey': 2042, 'toilet': 4512, 'hardcore': 2034, 'suppose': 4305, 'alright': 198, 'opinions': 3119, 'september': 3884, 'sharp': 3922, 'typically': 4624, 'sandler': 3781, 'unreal': 4676, 'gradually': 1952, 'opera': 3116, 'identify': 2216, 'swedish': 4335, 'survivors': 4325, 'odds': 3082, 'resources': 3651, 'expressed': 1601, 'landscape': 2513, 'intentionally': 2320, 'instinct': 2308, 'lower': 2677, 'instance': 2304, 'provoking': 3452, 'stones': 4198, 'specific': 4099, 'unintentionally': 4659, 'interaction': 2322, 'goodness': 1938, 'matrix': 2767, 'alcoholic': 177, 'hype': 2207, 'revelation': 3674, '2007': 37, 'contest': 967, 'metal': 2823, 'hopeless': 2158, 'hospital': 2172, 'traditional': 4550, 'ideal': 2214, 'potentially': 3356, 'tales': 4357, 'faith': 1633, 'imagined': 2239, 'streets': 4217, 'bath': 411, 'disaster': 1276, 'radio': 3504, 'jay': 2386, 'foster': 1809, 'gordon': 1940, 'davis': 1126, 'frustrated': 1842, 'causing': 726, 'dorothy': 1330, 'finger': 1731, 'nominated': 3025, 'centered': 733, 'nail': 2957, 'diamond': 1236, 'seat': 3845, 'witches': 4910, 'print': 3399, 'split': 4120, 'easier': 1405, 'comfortable': 892, 'relations': 3596, 'breath': 573, 'convoluted': 987, 'anyways': 262, 'sleeping': 4025, 'plastic': 3294, 'gory': 1943, 'masses': 2755, 'kapoor': 2443, 'veteran': 4724, 'akshay': 169, 'sole': 4055, 'saving': 3797, 'office': 3091, 'valuable': 4708, 'online': 3109, 'reviewer': 3677, 'existent': 1572, 'plight': 3308, 'leg': 2562, 'inferior': 2285, 'delivering': 1171, 'georges': 1894, 'mentally': 2809, 'unforgettable': 4652, 'insight': 2298, 'hills': 2109, 'midnight': 2834, 'tonight': 4519, 'hopes': 2159, 'pit': 3278, 'soap': 4047, 'assumed': 329, 'mall': 2720, 'werewolf': 4850, 'dentist': 1180, 'flow': 1762, 'ken': 2453, 'sounded': 4082, 'dragon': 1344, 'praise': 3364, 'boss': 546, 'sir': 4000, 'flawless': 1751, 'acid': 95, 'instant': 2305, 'childish': 791, 'mistakes': 2873, 'carradine': 695, 'marketing': 2741, 'creatures': 1046, 'spare': 4093, 'properly': 3437, 'belong': 459, 'thrill': 4471, 'pulls': 3464, 'drop': 1369, 'francisco': 1819, 'psychiatrist': 3455, 'harry': 2039, 'loser': 2655, 'hollow': 2135, 'ian': 2209, 'settle': 3902, 'alice': 182, 'garden': 1872, 'assault': 324, 'march': 2734, 'demand': 1174, 'protect': 3443, 'description': 1197, 'logic': 2638, 'rid': 3690, 'lovers': 2673, 'crafted': 1029, 'indian': 2274, 'wears': 4832, 'jackson': 2375, 'mile': 2842, 'prepared': 3371, 'switch': 4339, 'ad': 110, 'documentaries': 1306, 'constant': 957, 'fest': 1696, 'passes': 3203, 'figured': 1712, 'accompanied': 86, 'jumping': 2431, 'attractive': 351, 'jesus': 2399, 'facing': 1620, 'stinker': 4191, 'crying': 1074, 'tons': 4520, 'stereotype': 4178, 'string': 4227, 'spending': 4106, 'generated': 1882, 'kicks': 2463, 'kicking': 2462, 'oil': 3097, 'amazingly': 210, 'boredom': 542, 'dolls': 1316, 'distant': 1295, 'everyones': 1543, 'centers': 734, 'chapter': 757, 'maintain': 2710, '45': 50, 'freddy': 1826, 'host': 2173, 'elm': 1447, 'concerning': 933, 'valley': 4707, 'mst3k': 2932, 'health': 2060, 'ironic': 2355, 'included': 2262, 'albeit': 173, 'briefly': 580, 'involves': 2348, 'dynamic': 1394, 'duo': 1386, 'ensues': 1493, 'stargate': 4151, 'retired': 3664, 'queen': 3485, 'alternate': 200, 'countless': 1012, 'mysteries': 2954, 'cameron': 661, 'mitchell': 2875, 'leader': 2546, 'convinced': 984, 'teaching': 4377, 'toy': 4542, 'personality': 3242, 'oscars': 3134, 'terry': 4415, 'accidentally': 85, 'frightening': 1839, 'miles': 2843, 'joan': 2404, 'charismatic': 763, 'concerns': 934, 'unit': 4663, 'essentially': 1523, 'worlds': 4947, 'lust': 2689, 'bedroom': 437, 'stanley': 4148, 'noise': 3024, 'heavily': 2069, 'emphasis': 1463, 'pleasant': 3302, 'rangers': 3517, 'reached': 3537, 'plans': 3292, 'innocence': 2293, 'hanks': 2025, 'wins': 4899, 'boxing': 556, 'ring': 3698, 'troubles': 4594, 'engaged': 1480, 'suspicious': 4332, 'loaded': 2632, 'arm': 292, 'reflection': 3585, 'disappoint': 1272, 'rambo': 3511, 'test': 4416, 'fourth': 1813, 'presumably': 3380, 'colonel': 876, 'engage': 1479, 'realise': 3548, 'improve': 2254, 'severe': 3906, 'analysis': 224, 'proof': 3434, 'joined': 2413, 'served': 3894, 'worn': 4948, 'bette': 471, 'impress': 2250, 'countries': 1013, 'morality': 2903, 'doll': 1313, 'stretched': 4222, 'cared': 685, 'corporate': 998, 'cliche': 843, 'stiller': 4189, 'annie': 247, 'genius': 1887, 'passing': 3204, 'population': 3335, 'edward': 1426, 'merit': 2816, 'sucked': 4270, 'guts': 1999, 'returns': 3668, 'cannibal': 669, 'attacks': 339, 'franco': 1820, 'lengthy': 2570, 'catholic': 720, 'unfolds': 4651, 'drives': 1367, 'descent': 1193, 'directs': 1267, 'ratings': 3530, 'bourne': 554, 'achievement': 94, 'gandhi': 1866, 'troubled': 4593, 'favorites': 1672, 'crush': 1072, 'fashioned': 1660, 'service': 3896, 'errors': 1516, 'carries': 699, 'lay': 2542, 'appreciation': 281, 'lees': 2560, 'loosely': 2651, 'ears': 1402, 'buck': 605, 'rogers': 3725, 'savage': 3793, 'sid': 3964, 'chief': 788, 'officers': 3093, 'riding': 3695, 'sellers': 3872, 'helen': 2075, 'dropped': 1370, 'kissing': 2484, 'secretary': 3850, 'fired': 1735, 'increasingly': 2268, 'picks': 3268, 'presents': 3377, 'integrity': 2311, 'heat': 2067, 'swimming': 4338, 'raising': 3509, 'messages': 2820, 'specifically': 4100, 'influenced': 2287, 'subsequent': 4257, 'serves': 3895, 'serving': 3897, 'domestic': 1318, 'flawed': 1750, 'ego': 1435, 'wendy': 4846, 'routine': 3743, 'lit': 2621, 'reed': 3580, 'size': 4012, 'clothing': 861, 'stunt': 4245, 'mask': 2752, 'stunts': 4246, 'dozens': 1339, 'edgar': 1417, 'hoffman': 2128, 'raymond': 3534, 'dawson': 1128, 'shelley': 3928, 'winters': 4901, 'pat': 3208, 'encounters': 1467, 'stopped': 4202, 'connection': 946, 'chosen': 805, 'sadistic': 3768, 'offering': 3089, 'tortured': 4530, 'fool': 1779, 'mario': 2738, 'shell': 3927, 'appreciated': 280, 'attempting': 342, 'beneath': 464, 'chances': 748, 'unpredictable': 4675, 'gifted': 1907, 'guarantee': 1987, 'originality': 3130, 'inevitable': 2282, 'excessive': 1560, 'melodrama': 2797, 'sentimental': 3882, 'weapons': 4829, 'ease': 1404, 'unhappy': 4656, 'bag': 384, 'columbo': 881, 'spielberg': 4110, 'investigation': 2343, 'buying': 641, 'victoria': 4732, 'arrived': 301, 'royal': 3746, 'subjects': 4254, 'ashley': 313, 'angeles': 233, 'alexander': 180, 'satisfy': 3790, 'brilliance': 582, 'deadly': 1133, 'choreography': 802, 'receives': 3565, 'greed': 1968, 'shall': 3916, 'remind': 3618, 'ape': 266, 'covered': 1023, 'survived': 4322, 'link': 2613, 'poignant': 3315, 'overwhelming': 3157, 'vulnerable': 4768, 'shadows': 3913, 'shadow': 3912, 'rings': 3699, 'disney': 1289, 'blacks': 494, 'germans': 1897, 'hung': 2197, 'bands': 392, 'homeless': 2143, 'lawrence': 2539, 'taught': 4370, 'warriors': 4803, 'forces': 1788, 'spoken': 4126, 'honor': 2150, 'chest': 784, 'coffee': 870, 'overrated': 3156, 'heroic': 2090, 'virgin': 4749, 'rendition': 3625, 'stress': 4220, 'panic': 3181, 'macy': 2695, 'ritter': 3705, 'campbell': 663, 'environment': 1505, 'understated': 4646, 'awake': 365, 'defense': 1159, 'chilling': 794, 'affected': 137, 'richardson': 3688, 'drag': 1342, 'blunt': 520, 'response': 3654, 'headed': 2058, 'sinatra': 3989, 'kenneth': 2455, 'cary': 706, 'april': 284, 'disneys': 1290, 'chasing': 772, 'teenagers': 4391, 'renting': 3629, 'deliberately': 1166, 'gas': 1874, 'exposed': 1598, 'arrival': 299, 'physically': 3263, 'rules': 3754, 'freedom': 1828, 'goal': 1925, 'plan': 3287, 'arms': 294, 'succeeds': 4264, 'lowest': 2678, 'alongside': 196, 'irish': 2353, 'thrillers': 4473, 'chooses': 800, 'nicholas': 3010, 'cage': 645, 'flynn': 1765, 'hopper': 2161, 'disturbed': 1299, 'cole': 873, 'willis': 4890, 'prevent': 3385, 'brad': 560, 'pitt': 3280, 'careers': 687, 'losers': 2656, 'discuss': 1283, 'understanding': 4645, 'enjoyment': 1488, 'methods': 2825, 'possibility': 3349, 'korean': 2495, 'government': 1948, 'figures': 1713, 'letting': 2583, 'wave': 4818, 'poem': 3312, 'unaware': 4632, 'wes': 4851, 'craven': 1034, 'spoof': 4127, 'purchased': 3470, 'titanic': 4503, 'command': 897, 'absence': 70, 'defend': 1158, 'required': 3641, 'bore': 540, 'slightest': 4028, 'cross': 1066, 'angela': 232, 'meanwhile': 2785, 'operation': 3117, 'genres': 1889, 'burned': 626, 'ashamed': 312, 'itll': 2369, '1983': 22, 'sequels': 3886, 'interviews': 2330, 'latest': 2526, 'cinemas': 817, 'creator': 1043, 'bang': 393, 'simmons': 3981, 'survivor': 4324, 'compelled': 915, 'insulting': 2310, 'gratuitous': 1961, 'paltrow': 3178, 'amitabh': 216, 'staying': 4168, 'ellen': 1446, 'choreographed': 801, 'buried': 624, 'plots': 3310, 'pokemon': 3320, 'pretend': 3381, 'gross': 1978, 'affect': 136, 'channels': 754, 'scare': 3803, 'motivation': 2914, 'regarding': 3589, 'exotic': 1574, 'solely': 4056, 'ralph': 3510, 'bakshi': 386, 'designs': 1204, 'uncle': 4636, 'rush': 3759, 'philip': 3252, 'rule': 3753, 'cabin': 643, 'cell': 730, 'beliefs': 452, 'sake': 3775, 'count': 1010, 'thousands': 4466, 'boot': 538, 'rival': 3706, 'flies': 1756, 'julia': 2427, 'scores': 3823, 'bay': 416, 'reduced': 3579, 'dedicated': 1153, 'peters': 3248, 'risk': 3704, 'album': 175, 'record': 3573, 'beast': 422, 'richards': 3687, 'explosion': 1596, 'eyre': 1614, 'timothy': 4499, 'rochester': 3719, '35': 45, 'dalton': 1098, 'handsome': 2021, 'humble': 2191, 'suits': 4287, 'ought': 3138, 'unpleasant': 4674, 'japan': 2381, 'resident': 3647, 'infamous': 2284, 'spectacular': 4101, 'stan': 4142, 'cave': 727, 'weekend': 4838, 'toys': 4543, 'catchy': 717, 'amanda': 205, 'grandfather': 1954, 'wonders': 4931, 'madonna': 2699, 'artists': 309, 'inspiration': 2300, 'keaton': 2448, 'demon': 1177, 'possibilities': 3348, 'brosnan': 597, 'pays': 3218, '1996': 26, 'currently': 1085, 'eastwood': 1409, 'buddy': 609, 'snake': 4042, 'producing': 3417, 'bathroom': 412, 'tears': 4380, 'intimate': 2331, 'neck': 2985, 'patrick': 3213, 'phony': 3256, 'coherent': 871, 'bin': 483, 'companion': 909, 'jeff': 2390, 'dramas': 1347, 'weight': 4840, 'husbands': 2205, 'fury': 1855, 'handled': 2019, 'pink': 3277, 'contained': 963, 'norman': 3035, 'kim': 2475, 'retarded': 3663, 'thugs': 4484, 'carrying': 701, 'hire': 2116, 'showdown': 3955, 'vivid': 4760, 'lively': 2627, 'intent': 2318, 'pages': 3168, 'sidney': 3968, 'psychic': 3456, 'lumet': 2688, 'mann': 2728, 'suited': 4286, 'ninja': 3018, 'chases': 771, '3000': 43, 'lol': 2640, 'dickens': 1240, 'bull': 619, 'musicals': 2948, 'scooby': 3820, 'doo': 1325, 'drops': 1372, 'reel': 3581, 'hilariously': 2107, 'attracted': 349, 'hates': 2048, 'attend': 344, 'questionable': 3488, 'viewings': 4741, 'pointed': 3317, 'opportunities': 3120, 'effectively': 1430, 'website': 4834, 'obscure': 3068, 'ultra': 4629, 'grows': 1985, 'manhattan': 2726, 'ruth': 3763, 'notorious': 3051, 'backgrounds': 381, 'allowing': 191, 'smoke': 4039, 'restored': 3659, 'wallace': 4782, 'simplistic': 3985, 'hundred': 2195, 'purposes': 3475, 'pig': 3274, 'ludicrous': 2685, 'philosophy': 3254, 'dreary': 1356, 'education': 1424, 'benefit': 465, 'bush': 632, 'defeat': 1157, 'travesty': 4570, 'warmth': 4796, 'spooky': 4128, 'chinese': 796, 'bride': 577, 'titles': 4506, 'painting': 3175, 'highest': 2102, 'shining': 3933, 'joey': 2408, 'gruesome': 1986, 'punk': 3468, 'voiced': 4762, 'degree': 1164, 'ha': 2002, 'pleasantly': 3303, 'considerable': 950, 'destroying': 1215, 'disease': 1285, 'fond': 1776, 'mummy': 2937, 'nazis': 2978, 'grab': 1949, 'manipulative': 2727, 'unbearable': 4633, 'bo': 521, 'breasts': 572, 'rubber': 3747, 'monkeys': 2891, 'ireland': 2352, 'pulling': 3463, 'robbery': 3711, 'incomprehensible': 2267, 'nightmare': 3014, 'scheme': 3812, 'murphy': 2944, 'synopsis': 4344, 'flight': 1757, 'ps': 3453, 'ocean': 3079, 'rooms': 3736, 'trained': 4557, 'plant': 3293, 'agents': 151, 'todd': 4510, 'complexity': 924, 'tracks': 4545, 'cleverly': 842, 'cusack': 1088, 'cruise': 1071, 'solo': 4058, 'dolph': 1317, 'rage': 3505, 'understandable': 4644, 'hide': 2097, 'outcome': 3142, 'kubrick': 2496, 'prefer': 3368, 'basis': 408, 'spots': 4132, 'singers': 3994, 'attorney': 348, 'woody': 4936, 'medium': 2792, 'revealing': 3672, 'vs': 4767, 'fears': 1677, 'ford': 1789, 'titled': 4505, 'careful': 688, 'superman': 4301, 'strike': 4224, 'suspects': 4328, 'measure': 2786, 'massive': 2756, 'explosions': 1597, 'atlantis': 332, '2002': 32, 'comparing': 913, 'divorce': 1301, 'dressing': 1359, 'fisher': 1739, 'credible': 1048, 'department': 1182, 'terrorists': 4414, 'psychotic': 3459, 'heights': 2073, 'models': 2881, 'scarecrow': 3804, 'nose': 3037, 'similarities': 3979, 'melting': 2799, 'frankenstein': 1822, 'text': 4419, 'derek': 1192, 'conservative': 948, 'per': 3223, 'australia': 356, 'lie': 2590, 'lion': 2614, 'hollywoods': 2138, 'lincoln': 2608, 'misses': 2868, 'pushing': 3479, 'monkey': 2890, 'tracy': 4546, 'requires': 3642, 'piano': 3264, 'elsewhere': 1449, 'performer': 3231, 'newspaper': 3006, 'glorious': 1921, 'construction': 960, 'abysmal': 76, 'remarks': 3615, 'hammer': 2014, 'wholly': 4874, 'tunes': 4603, 'jazz': 2387, 'abc': 63, 'vice': 4727, 'virus': 4752, 'lately': 2524, 'psycho': 3457, 'doomed': 1327, 'juvenile': 2441, 'ginger': 1908, 'phantom': 3251, 'trio': 4587, 'broke': 593, 'punishment': 3467, 'miscast': 2862, 'artificial': 306, 'signed': 3971, 'elvis': 1451, 'status': 4165, 'california': 650, 'knock': 2488, 'sullivan': 4288, 'mistress': 2874, 'gadget': 1860, 'adams': 112, 'halfway': 2008, 'checking': 778, 'criminals': 1058, 'occasion': 3073, 'bullets': 621, 'bargain': 400, 'aforementioned': 139, 'cagney': 646, 'homer': 2144, 'noble': 3021, 'letters': 2582, 'prom': 3429, 'curtis': 1087, 'pg': 3250, 'damon': 1101, '3d': 46, 'endure': 1475, 'precious': 3366, 'jenny': 2393, 'basketball': 409, 'merits': 2817, 'der': 1191, 'horrifying': 2167, 'chain': 741, 'unintentional': 4658, 'slapstick': 4019, 'dinosaurs': 1256, 'murderous': 2942, 'bell': 458, 'screenwriter': 3833, 'roman': 3731, 'christ': 807, 'rocky': 3723, 'reflect': 3584, 'equal': 1509, 'faster': 1662, 'greek': 1970, 'invasion': 2340, 'womens': 4924, 'patients': 3212, 'nurse': 3063, 'nervous': 2999, 'patient': 3211, 'proceedings': 3410, 'corner': 996, 'creativity': 1042, 'sappy': 3784, 'spirited': 4114, 'doom': 1326, 'aid': 160, 'larger': 2519, 'monk': 2889, 'giallo': 1904, 'andrews': 229, 'silver': 3977, 'minimum': 2856, 'florida': 1761, 'tends': 4402, 'presentation': 3375, 'seagal': 3839, 'witnesses': 4916, 'stanwyck': 4149, 'lily': 2605, 'hitler': 2124, 'blues': 519, 'gotta': 1946, 'menace': 2806, 'fred': 1825, 'astaire': 330, 'navy': 2976, 'photo': 3257, 'chess': 783, 'jesse': 2397, 'spike': 4111, 'jonathan': 2417, 'blond': 510, 'strikes': 4225, 'capital': 673, 'gray': 1963, 'cg': 739, 'relatives': 3601, 'locked': 2637, 'devils': 1229, 'blowing': 515, 'arrogant': 303, 'ships': 3935, 'terrifying': 4410, 'immensely': 2243, 'diane': 1238, 'iii': 2227, 'root': 3737, 'holly': 2136, 'fx': 1858, 'seed': 3856, 'orson': 3132, 'hal': 2006, 'businessman': 634, 'trail': 4553, '60': 53, 'bud': 607, 'forms': 1801, 'gangsters': 1869, 'championship': 745, 'display': 1291, 'bollywood': 530, 'persona': 3239, 'dancers': 1105, 'boom': 537, 'steel': 4173, 'pet': 3246, 'grant': 1956, 'familys': 1646, 'stilted': 4190, 'distracting': 1297, 'wrestling': 4966, 'tag': 4348, 'activities': 102, 'formulaic': 1803, 'ruby': 3749, 'listening': 2620, 'diana': 1237, 'spain': 4091, 'testament': 4417, 'afford': 138, 'dating': 1120, 'safety': 3772, 'justin': 2440, 'combat': 882, 'bobby': 525, 'kay': 2447, 'ya': 4976, 'omen': 3104, 'sincere': 3991, 'miike': 2837, 'deaf': 1134, 'melodramatic': 2798, 'historically': 2120, 'loyal': 2679, 'underlying': 4641, 'floating': 1758, 'constructed': 959, 'ranks': 3519, 'domino': 1319, 'amy': 222, 'india': 2273, 'knife': 2487, 'creep': 1051, 'davies': 1125, 'believing': 457, 'mars': 2746, 'bela': 450, 'wicked': 4879, 'mill': 2845, 'closet': 858, 'louise': 2666, 'del': 1165, 'icon': 2211, '1968': 16, 'judy': 2426, 'paranoia': 3186, 'decisions': 1152, 'ballet': 389, 'arnold': 296, 'sandra': 3782, 'captivating': 675, 'tomatoes': 4515, 'spread': 4133, 'empire': 1464, 'intrigue': 2333, 'ticket': 4487, 'wizard': 4919, 'mayor': 2777, 'installment': 2303, 'forty': 1807, 'hank': 2024, 'leonard': 2572, 'streisand': 4218, 'scottish': 3825, 'gerard': 1895, 'nicholson': 3011, 'rank': 3518, 'garbo': 1871, 'widmark': 4882, 'recognized': 3570, 'nyc': 3065, 'hook': 2152, 'hart': 2041, 'bacall': 377, 'bettie': 473, 'blob': 507, 'gundam': 1997, 'clip': 851, 'dracula': 1341, 'polanski': 3321, 'pal': 3177}\n"
     ]
    }
   ],
   "source": [
    "print(str(vocabulary))"
   ]
  },
  {
   "cell_type": "markdown",
   "metadata": {},
   "source": [
    "Once you have added the endpoint name to the Lambda function, click on **Save**. Your Lambda function is now up and running. Next we need to create a way for our web app to execute the Lambda function."
   ]
  },
  {
   "cell_type": "markdown",
   "metadata": {},
   "source": [
    "### Setting up API Gateway\n",
    "\n",
    "Now that our Lambda function is set up, it is time to create a new API using API Gateway that will trigger the Lambda function we have just created.\n",
    "\n",
    "Using AWS Console, navigate to **Amazon API Gateway** and then click on **Get started**.\n",
    "\n",
    "On the next page, make sure that **New API** is selected and give the new api a name, for example, `sentiment_analysis_web_app`. Then, click on **Create API**.\n",
    "\n",
    "Now we have created an API, however it doesn't currently do anything. What we want it to do is to trigger the Lambda function that we created earlier.\n",
    "\n",
    "Select the **Actions** dropdown menu and click **Create Method**. A new blank method will be created, select its dropdown menu and select **POST**, then click on the check mark beside it.\n",
    "\n",
    "For the integration point, make sure that **Lambda Function** is selected and click on the **Use Lambda Proxy integration**. This option makes sure that the data that is sent to the API is then sent directly to the Lambda function with no processing. It also means that the return value must be a proper response object as it will also not be processed by API Gateway.\n",
    "\n",
    "Type the name of the Lambda function you created earlier into the **Lambda Function** text entry box and then click on **Save**. Click on **OK** in the pop-up box that then appears, giving permission to API Gateway to invoke the Lambda function you created.\n",
    "\n",
    "The last step in creating the API Gateway is to select the **Actions** dropdown and click on **Deploy API**. You will need to create a new Deployment stage and name it anything you like, for example `prod`.\n",
    "\n",
    "You have now successfully set up a public API to access your SageMaker model. Make sure to copy or write down the URL provided to invoke your newly created public API as this will be needed in the next step. This URL can be found at the top of the page, highlighted in blue next to the text **Invoke URL**."
   ]
  },
  {
   "cell_type": "markdown",
   "metadata": {},
   "source": [
    "## Step 7: Deploying our web app\n",
    "\n",
    "Now that we have a publicly available API, we can start using it in a web app. For our purposes, we have provided a simple static html file which can make use of the public api you created earlier.\n",
    "\n",
    "In the `website` folder there should be a file called `index.html`. Download the file to your computer and open that file up in a text editor of your choice. There should be a line which contains **\\*\\*REPLACE WITH PUBLIC API URL\\*\\***. Replace this string with the url that you wrote down in the last step and then save the file.\n",
    "\n",
    "Now, if you open `index.html` on your local computer, your browser will behave as a local web server and you can use the provided site to interact with your SageMaker model.\n",
    "\n",
    "If you'd like to go further, you can host this html file anywhere you'd like, for example using github or hosting a static site on Amazon's S3. Once you have done this you can share the link with anyone you'd like and have them play with it too!\n",
    "\n",
    "> **Important Note** In order for the web app to communicate with the SageMaker endpoint, the endpoint has to actually be deployed and running. This means that you are paying for it. Make sure that the endpoint is running when you want to use the web app but that you shut it down when you don't need it, otherwise you will end up with a surprisingly large AWS bill."
   ]
  },
  {
   "cell_type": "markdown",
   "metadata": {},
   "source": [
    "### Delete the endpoint\n",
    "\n",
    "Remember to always shut down your endpoint if you are no longer using it. You are charged for the length of time that the endpoint is running so if you forget and leave it on you could end up with an unexpectedly large bill."
   ]
  },
  {
   "cell_type": "code",
   "execution_count": 46,
   "metadata": {},
   "outputs": [],
   "source": [
    "xgb_predictor.delete_endpoint()"
   ]
  },
  {
   "cell_type": "markdown",
   "metadata": {},
   "source": [
    "## Optional: Clean up\n",
    "\n",
    "The default notebook instance on SageMaker doesn't have a lot of excess disk space available. As you continue to complete and execute notebooks you will eventually fill up this disk space, leading to errors which can be difficult to diagnose. Once you are completely finished using a notebook it is a good idea to remove the files that you created along the way. Of course, you can do this from the terminal or from the notebook hub if you would like. The cell below contains some commands to clean up the created files from within the notebook."
   ]
  },
  {
   "cell_type": "code",
   "execution_count": 4,
   "metadata": {},
   "outputs": [
    {
     "name": "stdout",
     "output_type": "stream",
     "text": [
      "rm: cannot remove ‘../data/sentiment_web_app/*’: No such file or directory\n",
      "rm: cannot remove ‘../cache/sentiment_web_app/*data’: No such file or directory\n",
      "rmdir: failed to remove ‘../cache/sentiment_web_app’: Directory not empty\n"
     ]
    }
   ],
   "source": [
    "# First we will remove all of the files contained in the data_dir directory\n",
    "!rm $data_dir/*\n",
    "\n",
    "# And then we delete the directory itself\n",
    "!rmdir $data_dir\n",
    "\n",
    "# Similarly we remove the files in the cache_dir directory and the directory itself\n",
    "!rm $cache_dir/*data\n",
    "!rmdir $cache_dir"
   ]
  },
  {
   "cell_type": "code",
   "execution_count": null,
   "metadata": {},
   "outputs": [],
   "source": []
  }
 ],
 "metadata": {
  "kernelspec": {
   "display_name": "conda_python3",
   "language": "python",
   "name": "conda_python3"
  },
  "language_info": {
   "codemirror_mode": {
    "name": "ipython",
    "version": 3
   },
   "file_extension": ".py",
   "mimetype": "text/x-python",
   "name": "python",
   "nbconvert_exporter": "python",
   "pygments_lexer": "ipython3",
   "version": "3.6.5"
  }
 },
 "nbformat": 4,
 "nbformat_minor": 2
}
